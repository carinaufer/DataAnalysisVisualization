{
 "cells": [
  {
   "cell_type": "markdown",
   "metadata": {},
   "source": [
    "<h2 style=\"color:green\" align=\"center\">Data Analysis and Visualization with scikit learn and plotly</h2>\n",
    "\n"
   ]
  },
  {
   "cell_type": "markdown",
   "metadata": {},
   "source": [
    "**Double click and paste here the name of the path of the CSV file on your computer:**\n",
    "\n",
    "/Users/yourname/documents/master/programming/DataAnalysisVisualization/Dataset_AnaVis.csv"
   ]
  },
  {
   "cell_type": "markdown",
   "metadata": {},
   "source": [
    "**First:** make sure that all necessary libraries are installed in order that you can import them.\n",
    " <ol>\n",
    "  <li>Start Anaconda</li>\n",
    "  <li>Go to Environment</li>\n",
    "  <li>Select 'All' from dropdown top left</li>\n",
    "  <li>Search for pandas, numpy, scikit-learn, plotly (pandas & numpy should alreday be there)</li>\n",
    "  <li>If no ticke --> tick library and click 'Apply'</li>\n",
    "</ol> \n",
    "\n",
    "\n",
    "<h4 style=\"color:green\" >Ready to start importing the libs and our data</h4>\n"
   ]
  },
  {
   "cell_type": "markdown",
   "metadata": {},
   "source": [
    "<img src=\"Explanation1.png\"><img src=\"Explanation3.png\">"
   ]
  },
  {
   "cell_type": "code",
   "execution_count": 25,
   "metadata": {},
   "outputs": [
    {
     "name": "stdout",
     "output_type": "stream",
     "text": [
      "Please enter the path of the CSV fileDataset_AnaVis.csv\n"
     ]
    },
    {
     "data": {
      "text/html": [
       "<div>\n",
       "<style scoped>\n",
       "    .dataframe tbody tr th:only-of-type {\n",
       "        vertical-align: middle;\n",
       "    }\n",
       "\n",
       "    .dataframe tbody tr th {\n",
       "        vertical-align: top;\n",
       "    }\n",
       "\n",
       "    .dataframe thead th {\n",
       "        text-align: right;\n",
       "    }\n",
       "</style>\n",
       "<table border=\"1\" class=\"dataframe\">\n",
       "  <thead>\n",
       "    <tr style=\"text-align: right;\">\n",
       "      <th></th>\n",
       "      <th>Subject</th>\n",
       "      <th>Group</th>\n",
       "      <th>Sex</th>\n",
       "      <th>Age</th>\n",
       "      <th>RelativeAdvantage</th>\n",
       "      <th>Complexity</th>\n",
       "      <th>Compatibility</th>\n",
       "      <th>Attitude</th>\n",
       "      <th>SubjectiveNormPeers</th>\n",
       "      <th>SubjectiveNormSociety</th>\n",
       "      <th>SubjectiveNormMedia</th>\n",
       "      <th>SubjectiveNormTotal</th>\n",
       "      <th>PerceivedBehavioralControl</th>\n",
       "      <th>PerceivedMoralNorm</th>\n",
       "      <th>EnvironmentalAttitude</th>\n",
       "      <th>SelfEfficacy</th>\n",
       "      <th>PurchaseInterest</th>\n",
       "      <th>EVChoice</th>\n",
       "    </tr>\n",
       "  </thead>\n",
       "  <tbody>\n",
       "    <tr>\n",
       "      <td>0</td>\n",
       "      <td>O01</td>\n",
       "      <td>1</td>\n",
       "      <td>2.0</td>\n",
       "      <td>49.0</td>\n",
       "      <td>4.73</td>\n",
       "      <td>1.83</td>\n",
       "      <td>6.00</td>\n",
       "      <td>3.56</td>\n",
       "      <td>2.5</td>\n",
       "      <td>6.0</td>\n",
       "      <td>2.5</td>\n",
       "      <td>3.38</td>\n",
       "      <td>6.25</td>\n",
       "      <td>5.00</td>\n",
       "      <td>5.50</td>\n",
       "      <td>7.0</td>\n",
       "      <td>4.25</td>\n",
       "      <td>0</td>\n",
       "    </tr>\n",
       "    <tr>\n",
       "      <td>1</td>\n",
       "      <td>O02</td>\n",
       "      <td>1</td>\n",
       "      <td>1.0</td>\n",
       "      <td>23.0</td>\n",
       "      <td>NaN</td>\n",
       "      <td>NaN</td>\n",
       "      <td>NaN</td>\n",
       "      <td>NaN</td>\n",
       "      <td>NaN</td>\n",
       "      <td>NaN</td>\n",
       "      <td>NaN</td>\n",
       "      <td>NaN</td>\n",
       "      <td>NaN</td>\n",
       "      <td>NaN</td>\n",
       "      <td>NaN</td>\n",
       "      <td>NaN</td>\n",
       "      <td>NaN</td>\n",
       "      <td>19</td>\n",
       "    </tr>\n",
       "    <tr>\n",
       "      <td>2</td>\n",
       "      <td>O03</td>\n",
       "      <td>1</td>\n",
       "      <td>2.0</td>\n",
       "      <td>24.0</td>\n",
       "      <td>5.33</td>\n",
       "      <td>5.33</td>\n",
       "      <td>5.33</td>\n",
       "      <td>3.78</td>\n",
       "      <td>5.0</td>\n",
       "      <td>5.5</td>\n",
       "      <td>5.0</td>\n",
       "      <td>5.13</td>\n",
       "      <td>2.75</td>\n",
       "      <td>6.33</td>\n",
       "      <td>7.00</td>\n",
       "      <td>7.0</td>\n",
       "      <td>5.00</td>\n",
       "      <td>16</td>\n",
       "    </tr>\n",
       "    <tr>\n",
       "      <td>3</td>\n",
       "      <td>O04</td>\n",
       "      <td>1</td>\n",
       "      <td>2.0</td>\n",
       "      <td>28.0</td>\n",
       "      <td>4.47</td>\n",
       "      <td>4.67</td>\n",
       "      <td>6.83</td>\n",
       "      <td>4.89</td>\n",
       "      <td>4.0</td>\n",
       "      <td>7.0</td>\n",
       "      <td>1.5</td>\n",
       "      <td>4.13</td>\n",
       "      <td>1.50</td>\n",
       "      <td>5.67</td>\n",
       "      <td>6.75</td>\n",
       "      <td>7.0</td>\n",
       "      <td>5.25</td>\n",
       "      <td>19</td>\n",
       "    </tr>\n",
       "    <tr>\n",
       "      <td>4</td>\n",
       "      <td>O05</td>\n",
       "      <td>1</td>\n",
       "      <td>1.0</td>\n",
       "      <td>22.0</td>\n",
       "      <td>5.00</td>\n",
       "      <td>7.00</td>\n",
       "      <td>6.00</td>\n",
       "      <td>4.89</td>\n",
       "      <td>4.0</td>\n",
       "      <td>6.0</td>\n",
       "      <td>4.0</td>\n",
       "      <td>4.50</td>\n",
       "      <td>3.25</td>\n",
       "      <td>6.33</td>\n",
       "      <td>6.75</td>\n",
       "      <td>7.0</td>\n",
       "      <td>5.75</td>\n",
       "      <td>19</td>\n",
       "    </tr>\n",
       "  </tbody>\n",
       "</table>\n",
       "</div>"
      ],
      "text/plain": [
       "  Subject  Group  Sex   Age  RelativeAdvantage  Complexity  Compatibility  \\\n",
       "0     O01      1  2.0  49.0               4.73        1.83           6.00   \n",
       "1     O02      1  1.0  23.0                NaN         NaN            NaN   \n",
       "2     O03      1  2.0  24.0               5.33        5.33           5.33   \n",
       "3     O04      1  2.0  28.0               4.47        4.67           6.83   \n",
       "4     O05      1  1.0  22.0               5.00        7.00           6.00   \n",
       "\n",
       "   Attitude  SubjectiveNormPeers  SubjectiveNormSociety  SubjectiveNormMedia  \\\n",
       "0      3.56                  2.5                    6.0                  2.5   \n",
       "1       NaN                  NaN                    NaN                  NaN   \n",
       "2      3.78                  5.0                    5.5                  5.0   \n",
       "3      4.89                  4.0                    7.0                  1.5   \n",
       "4      4.89                  4.0                    6.0                  4.0   \n",
       "\n",
       "   SubjectiveNormTotal  PerceivedBehavioralControl  PerceivedMoralNorm  \\\n",
       "0                 3.38                        6.25                5.00   \n",
       "1                  NaN                         NaN                 NaN   \n",
       "2                 5.13                        2.75                6.33   \n",
       "3                 4.13                        1.50                5.67   \n",
       "4                 4.50                        3.25                6.33   \n",
       "\n",
       "   EnvironmentalAttitude  SelfEfficacy  PurchaseInterest  EVChoice  \n",
       "0                   5.50           7.0              4.25         0  \n",
       "1                    NaN           NaN               NaN        19  \n",
       "2                   7.00           7.0              5.00        16  \n",
       "3                   6.75           7.0              5.25        19  \n",
       "4                   6.75           7.0              5.75        19  "
      ]
     },
     "execution_count": 25,
     "metadata": {},
     "output_type": "execute_result"
    }
   ],
   "source": [
    "import pandas as pd\n",
    "import numpy as np\n",
    "from sklearn import linear_model\n",
    "import matplotlib.pyplot as plt\n",
    "import plotly.graph_objects as go\n",
    "import plotly.express as px\n",
    "from plotly.offline import iplot\n",
    "\n",
    "\n",
    "# Import CSV file by asking for imput path. \n",
    "# The CSV file should be saved in the same folder as this file and is called Dataset_AnaVis. Please enter 'Dataset_AnaVis.csv' or the whole path of your file when asked\n",
    "pth = input('Please enter the path of the CSV file')\n",
    "\n",
    "# specify structure of CSV  and import it as a pandas dataframe\n",
    "df = pd.read_csv(pth, delimiter=';', decimal=',',engine='python')\n",
    "\n",
    "df.head() # show first 6 lines\n",
    "\n"
   ]
  },
  {
   "cell_type": "markdown",
   "metadata": {},
   "source": [
    "<h4 style='color:green'> Short introduction: meaning of variables</h4>\n",
    "Just to give very short information of the data: Study on adoption of electrical vehicles as an innovation where one group was given additional information about electric vehicles (1) whereas the other group was given no information (2). \n",
    "\n",
    "The empirical data are based on questionnairs on the theorey of planned behavior (Ajzen, 1985) shown below, and the diffusion of innovation theory (Rogers & Shoemaker, 1971) shown below and a behavioral paradigm on vehicle choice was executed.\n",
    "<img src=\"TPB_modified.png\" style='height:198px;width:300px'>\n",
    "<div style='font-size:10px'>Soure: https://www.researchgate.net/figure/Innovation-Diffusion-Theory-IDT-Rogers-1983_fig1_315416994 \\n<div>\n",
    "    <br></br>\n",
    "<img src=\"IDT_Rogers.png\" style='height:198px;width:300px'>\n",
    "<div style='font-size:10px'>Soure: https://www.researchgate.net/figure/A-modified-version-of-the-theory-of-planned-behaviour_fig2_241054757\\n<div>\n"
   ]
  },
  {
   "cell_type": "markdown",
   "metadata": {},
   "source": [
    "We need to delete cells with missing values (NA / NaN) because they are not well handled"
   ]
  },
  {
   "cell_type": "code",
   "execution_count": 26,
   "metadata": {},
   "outputs": [
    {
     "data": {
      "text/html": [
       "<div>\n",
       "<style scoped>\n",
       "    .dataframe tbody tr th:only-of-type {\n",
       "        vertical-align: middle;\n",
       "    }\n",
       "\n",
       "    .dataframe tbody tr th {\n",
       "        vertical-align: top;\n",
       "    }\n",
       "\n",
       "    .dataframe thead th {\n",
       "        text-align: right;\n",
       "    }\n",
       "</style>\n",
       "<table border=\"1\" class=\"dataframe\">\n",
       "  <thead>\n",
       "    <tr style=\"text-align: right;\">\n",
       "      <th></th>\n",
       "      <th>Subject</th>\n",
       "      <th>Group</th>\n",
       "      <th>Sex</th>\n",
       "      <th>Age</th>\n",
       "      <th>RelativeAdvantage</th>\n",
       "      <th>Complexity</th>\n",
       "      <th>Compatibility</th>\n",
       "      <th>Attitude</th>\n",
       "      <th>SubjectiveNormPeers</th>\n",
       "      <th>SubjectiveNormSociety</th>\n",
       "      <th>SubjectiveNormMedia</th>\n",
       "      <th>SubjectiveNormTotal</th>\n",
       "      <th>PerceivedBehavioralControl</th>\n",
       "      <th>PerceivedMoralNorm</th>\n",
       "      <th>EnvironmentalAttitude</th>\n",
       "      <th>SelfEfficacy</th>\n",
       "      <th>PurchaseInterest</th>\n",
       "      <th>EVChoice</th>\n",
       "    </tr>\n",
       "  </thead>\n",
       "  <tbody>\n",
       "    <tr>\n",
       "      <td>0</td>\n",
       "      <td>O01</td>\n",
       "      <td>1</td>\n",
       "      <td>2.0</td>\n",
       "      <td>49.0</td>\n",
       "      <td>4.73</td>\n",
       "      <td>1.83</td>\n",
       "      <td>6.00</td>\n",
       "      <td>3.56</td>\n",
       "      <td>2.5</td>\n",
       "      <td>6.0</td>\n",
       "      <td>2.5</td>\n",
       "      <td>3.38</td>\n",
       "      <td>6.25</td>\n",
       "      <td>5.00</td>\n",
       "      <td>5.50</td>\n",
       "      <td>7.00</td>\n",
       "      <td>4.25</td>\n",
       "      <td>0</td>\n",
       "    </tr>\n",
       "    <tr>\n",
       "      <td>2</td>\n",
       "      <td>O03</td>\n",
       "      <td>1</td>\n",
       "      <td>2.0</td>\n",
       "      <td>24.0</td>\n",
       "      <td>5.33</td>\n",
       "      <td>5.33</td>\n",
       "      <td>5.33</td>\n",
       "      <td>3.78</td>\n",
       "      <td>5.0</td>\n",
       "      <td>5.5</td>\n",
       "      <td>5.0</td>\n",
       "      <td>5.13</td>\n",
       "      <td>2.75</td>\n",
       "      <td>6.33</td>\n",
       "      <td>7.00</td>\n",
       "      <td>7.00</td>\n",
       "      <td>5.00</td>\n",
       "      <td>16</td>\n",
       "    </tr>\n",
       "    <tr>\n",
       "      <td>3</td>\n",
       "      <td>O04</td>\n",
       "      <td>1</td>\n",
       "      <td>2.0</td>\n",
       "      <td>28.0</td>\n",
       "      <td>4.47</td>\n",
       "      <td>4.67</td>\n",
       "      <td>6.83</td>\n",
       "      <td>4.89</td>\n",
       "      <td>4.0</td>\n",
       "      <td>7.0</td>\n",
       "      <td>1.5</td>\n",
       "      <td>4.13</td>\n",
       "      <td>1.50</td>\n",
       "      <td>5.67</td>\n",
       "      <td>6.75</td>\n",
       "      <td>7.00</td>\n",
       "      <td>5.25</td>\n",
       "      <td>19</td>\n",
       "    </tr>\n",
       "    <tr>\n",
       "      <td>4</td>\n",
       "      <td>O05</td>\n",
       "      <td>1</td>\n",
       "      <td>1.0</td>\n",
       "      <td>22.0</td>\n",
       "      <td>5.00</td>\n",
       "      <td>7.00</td>\n",
       "      <td>6.00</td>\n",
       "      <td>4.89</td>\n",
       "      <td>4.0</td>\n",
       "      <td>6.0</td>\n",
       "      <td>4.0</td>\n",
       "      <td>4.50</td>\n",
       "      <td>3.25</td>\n",
       "      <td>6.33</td>\n",
       "      <td>6.75</td>\n",
       "      <td>7.00</td>\n",
       "      <td>5.75</td>\n",
       "      <td>19</td>\n",
       "    </tr>\n",
       "    <tr>\n",
       "      <td>5</td>\n",
       "      <td>O06</td>\n",
       "      <td>1</td>\n",
       "      <td>1.0</td>\n",
       "      <td>57.0</td>\n",
       "      <td>4.87</td>\n",
       "      <td>5.83</td>\n",
       "      <td>6.67</td>\n",
       "      <td>4.89</td>\n",
       "      <td>7.0</td>\n",
       "      <td>5.5</td>\n",
       "      <td>4.0</td>\n",
       "      <td>5.88</td>\n",
       "      <td>3.50</td>\n",
       "      <td>5.33</td>\n",
       "      <td>7.00</td>\n",
       "      <td>5.33</td>\n",
       "      <td>4.25</td>\n",
       "      <td>19</td>\n",
       "    </tr>\n",
       "  </tbody>\n",
       "</table>\n",
       "</div>"
      ],
      "text/plain": [
       "  Subject  Group  Sex   Age  RelativeAdvantage  Complexity  Compatibility  \\\n",
       "0     O01      1  2.0  49.0               4.73        1.83           6.00   \n",
       "2     O03      1  2.0  24.0               5.33        5.33           5.33   \n",
       "3     O04      1  2.0  28.0               4.47        4.67           6.83   \n",
       "4     O05      1  1.0  22.0               5.00        7.00           6.00   \n",
       "5     O06      1  1.0  57.0               4.87        5.83           6.67   \n",
       "\n",
       "   Attitude  SubjectiveNormPeers  SubjectiveNormSociety  SubjectiveNormMedia  \\\n",
       "0      3.56                  2.5                    6.0                  2.5   \n",
       "2      3.78                  5.0                    5.5                  5.0   \n",
       "3      4.89                  4.0                    7.0                  1.5   \n",
       "4      4.89                  4.0                    6.0                  4.0   \n",
       "5      4.89                  7.0                    5.5                  4.0   \n",
       "\n",
       "   SubjectiveNormTotal  PerceivedBehavioralControl  PerceivedMoralNorm  \\\n",
       "0                 3.38                        6.25                5.00   \n",
       "2                 5.13                        2.75                6.33   \n",
       "3                 4.13                        1.50                5.67   \n",
       "4                 4.50                        3.25                6.33   \n",
       "5                 5.88                        3.50                5.33   \n",
       "\n",
       "   EnvironmentalAttitude  SelfEfficacy  PurchaseInterest  EVChoice  \n",
       "0                   5.50          7.00              4.25         0  \n",
       "2                   7.00          7.00              5.00        16  \n",
       "3                   6.75          7.00              5.25        19  \n",
       "4                   6.75          7.00              5.75        19  \n",
       "5                   7.00          5.33              4.25        19  "
      ]
     },
     "execution_count": 26,
     "metadata": {},
     "output_type": "execute_result"
    }
   ],
   "source": [
    "df.dropna(inplace = True) #drop rows with missing values in the set directly\n",
    "df.head()"
   ]
  },
  {
   "cell_type": "markdown",
   "metadata": {},
   "source": [
    "Let's look on the datatypes of the imported variables "
   ]
  },
  {
   "cell_type": "code",
   "execution_count": 3,
   "metadata": {},
   "outputs": [
    {
     "name": "stdout",
     "output_type": "stream",
     "text": [
      "Subject                        object\n",
      "Group                           int64\n",
      "Sex                           float64\n",
      "Age                           float64\n",
      "RelativeAdvantage             float64\n",
      "Complexity                    float64\n",
      "Compatibility                 float64\n",
      "Attitude                      float64\n",
      "SubjectiveNormPeers           float64\n",
      "SubjectiveNormSociety         float64\n",
      "SubjectiveNormMedia           float64\n",
      "SubjectiveNormTotal           float64\n",
      "PerceivedBehavioralControl    float64\n",
      "PerceivedMoralNorm            float64\n",
      "EnvironmentalAttitude         float64\n",
      "SelfEfficacy                  float64\n",
      "PurchaseInterest              float64\n",
      "EVChoice                        int64\n",
      "dtype: object\n"
     ]
    }
   ],
   "source": [
    "dataTypeSeries = df.dtypes #variable for datytpyes\n",
    "print(dataTypeSeries)"
   ]
  },
  {
   "cell_type": "markdown",
   "metadata": {},
   "source": [
    "If not the expected datatype, cast the variables to the right datatype to ensure numeric is treated as numeric / string as object (in case of df)"
   ]
  },
  {
   "cell_type": "code",
   "execution_count": 6,
   "metadata": {
    "scrolled": true
   },
   "outputs": [
    {
     "name": "stdout",
     "output_type": "stream",
     "text": [
      "Subject                        object\n",
      "Group                           Int32\n",
      "Sex                             Int32\n",
      "Age                             Int32\n",
      "RelativeAdvantage             float32\n",
      "Complexity                    float32\n",
      "Compatibility                 float32\n",
      "Attitude                      float32\n",
      "SubjectiveNormPeers           float32\n",
      "SubjectiveNormSociety         float32\n",
      "SubjectiveNormMedia           float32\n",
      "SubjectiveNormTotal           float32\n",
      "PerceivedBehavioralControl    float64\n",
      "PerceivedMoralNorm            float32\n",
      "EnvironmentalAttitude         float32\n",
      "SelfEfficacy                  float32\n",
      "PurchaseInterest              float32\n",
      "EVChoice                        Int32\n",
      "dtype: object\n"
     ]
    }
   ],
   "source": [
    "#cast to correct datatype, as we do not have big numbers Int32 / Float32 will be enough\n",
    "df['Sex'] = df['Sex'].astype('Int32')\n",
    "df['Group'] = df['Group'].astype('Int32')\n",
    "df['Age'] = df['Age'].astype('Int32')\n",
    "df['RelativeAdvantage'] = df['RelativeAdvantage'].astype('Float32')\n",
    "df['Complexity'] = df['Complexity'].astype('Float32')\n",
    "df['Compatibility'] = df['Compatibility'].astype('Float32')\n",
    "df['Attitude'] = df['Attitude'].astype('Float32')\n",
    "df['SubjectiveNormPeers'] = df['SubjectiveNormPeers'].astype('Float32')\n",
    "df['SubjectiveNormSociety'] = df['SubjectiveNormSociety'].astype('Float32')\n",
    "df['SubjectiveNormMedia'] = df['SubjectiveNormMedia'].astype('Float32')\n",
    "df['SubjectiveNormTotal'] = df['SubjectiveNormTotal'].astype('Float32')\n",
    "df['PerceivedMoralNorm'] = df['PerceivedMoralNorm'].astype('Float32')\n",
    "df['EnvironmentalAttitude'] = df['EnvironmentalAttitude'].astype('Float32')\n",
    "df['SelfEfficacy'] = df['SelfEfficacy'].astype('Float32')\n",
    "df['PurchaseInterest'] = df['PurchaseInterest'].astype('Float32')\n",
    "df['EVChoice'] = df['EVChoice'].astype('Int32')\n",
    "\n",
    "dataTypeSeries = df.dtypes #check result\n",
    "print(dataTypeSeries)\n"
   ]
  },
  {
   "cell_type": "markdown",
   "metadata": {},
   "source": [
    "### Let's explore the data a little bit:\n",
    "\n",
    "\n"
   ]
  },
  {
   "cell_type": "code",
   "execution_count": 29,
   "metadata": {},
   "outputs": [
    {
     "data": {
      "application/vnd.plotly.v1+json": {
       "config": {
        "plotlyServerURL": "https://plot.ly"
       },
       "data": [
        {
         "alignmentgroup": "True",
         "bingroup": "x",
         "histfunc": "sum",
         "hoverlabel": {
          "namelength": 0
         },
         "hovertemplate": "Age=%{x}<br>count=%{y}",
         "legendgroup": "",
         "marker": {
          "color": "#636efa"
         },
         "name": "",
         "offsetgroup": "",
         "orientation": "v",
         "showlegend": false,
         "type": "histogram",
         "x": [
          49,
          24,
          28,
          22,
          57,
          54,
          43,
          28,
          33,
          22,
          29,
          25,
          29,
          21,
          25,
          55,
          48,
          25,
          30,
          30,
          23,
          23,
          65,
          61,
          22,
          26,
          19,
          23,
          21,
          35,
          44,
          42,
          22,
          26,
          38,
          29,
          27,
          35,
          27,
          25,
          25,
          37,
          23,
          41,
          22,
          52,
          24,
          25,
          19,
          24,
          24,
          26,
          31,
          54,
          19,
          35,
          35,
          21,
          22,
          25,
          25,
          22,
          23,
          22,
          23,
          41,
          42,
          22,
          24,
          19,
          23,
          28,
          24,
          26,
          36,
          20,
          22,
          37,
          29,
          56,
          36,
          22,
          36,
          36,
          22,
          21,
          25,
          22,
          58,
          43,
          62,
          22,
          23,
          60,
          23,
          55,
          54,
          25,
          35,
          23,
          27,
          27,
          24,
          26,
          52,
          43,
          25,
          28,
          23,
          60,
          25,
          29,
          23,
          31,
          24,
          25,
          25,
          22,
          22,
          23,
          24,
          21,
          20,
          20,
          21,
          57,
          24,
          25,
          20,
          22,
          22,
          19,
          21,
          24,
          23,
          54,
          52,
          24,
          24,
          25,
          24,
          40,
          32,
          51,
          27,
          24,
          25,
          65,
          29,
          59,
          21,
          22,
          42,
          34,
          56,
          53,
          21,
          26,
          24,
          27,
          25,
          57,
          52,
          46,
          24,
          44,
          26,
          23,
          21,
          24,
          22,
          36,
          28,
          28,
          22,
          26,
          71,
          23,
          37,
          21,
          25,
          39,
          21,
          25,
          25,
          22,
          21,
          21,
          21,
          22,
          32,
          23,
          66,
          24,
          21,
          40,
          55,
          53,
          21,
          26,
          22,
          50,
          25,
          53,
          50,
          63,
          24,
          56,
          63,
          22,
          25,
          23,
          55,
          20,
          23,
          20,
          26,
          29,
          58,
          34,
          50,
          52,
          26,
          28,
          22,
          22,
          25,
          56,
          23,
          22
         ],
         "xaxis": "x",
         "yaxis": "y"
        }
       ],
       "layout": {
        "barmode": "relative",
        "legend": {
         "tracegroupgap": 0
        },
        "margin": {
         "t": 60
        },
        "template": {
         "data": {
          "bar": [
           {
            "error_x": {
             "color": "#2a3f5f"
            },
            "error_y": {
             "color": "#2a3f5f"
            },
            "marker": {
             "line": {
              "color": "#E5ECF6",
              "width": 0.5
             }
            },
            "type": "bar"
           }
          ],
          "barpolar": [
           {
            "marker": {
             "line": {
              "color": "#E5ECF6",
              "width": 0.5
             }
            },
            "type": "barpolar"
           }
          ],
          "carpet": [
           {
            "aaxis": {
             "endlinecolor": "#2a3f5f",
             "gridcolor": "white",
             "linecolor": "white",
             "minorgridcolor": "white",
             "startlinecolor": "#2a3f5f"
            },
            "baxis": {
             "endlinecolor": "#2a3f5f",
             "gridcolor": "white",
             "linecolor": "white",
             "minorgridcolor": "white",
             "startlinecolor": "#2a3f5f"
            },
            "type": "carpet"
           }
          ],
          "choropleth": [
           {
            "colorbar": {
             "outlinewidth": 0,
             "ticks": ""
            },
            "type": "choropleth"
           }
          ],
          "contour": [
           {
            "colorbar": {
             "outlinewidth": 0,
             "ticks": ""
            },
            "colorscale": [
             [
              0,
              "#0d0887"
             ],
             [
              0.1111111111111111,
              "#46039f"
             ],
             [
              0.2222222222222222,
              "#7201a8"
             ],
             [
              0.3333333333333333,
              "#9c179e"
             ],
             [
              0.4444444444444444,
              "#bd3786"
             ],
             [
              0.5555555555555556,
              "#d8576b"
             ],
             [
              0.6666666666666666,
              "#ed7953"
             ],
             [
              0.7777777777777778,
              "#fb9f3a"
             ],
             [
              0.8888888888888888,
              "#fdca26"
             ],
             [
              1,
              "#f0f921"
             ]
            ],
            "type": "contour"
           }
          ],
          "contourcarpet": [
           {
            "colorbar": {
             "outlinewidth": 0,
             "ticks": ""
            },
            "type": "contourcarpet"
           }
          ],
          "heatmap": [
           {
            "colorbar": {
             "outlinewidth": 0,
             "ticks": ""
            },
            "colorscale": [
             [
              0,
              "#0d0887"
             ],
             [
              0.1111111111111111,
              "#46039f"
             ],
             [
              0.2222222222222222,
              "#7201a8"
             ],
             [
              0.3333333333333333,
              "#9c179e"
             ],
             [
              0.4444444444444444,
              "#bd3786"
             ],
             [
              0.5555555555555556,
              "#d8576b"
             ],
             [
              0.6666666666666666,
              "#ed7953"
             ],
             [
              0.7777777777777778,
              "#fb9f3a"
             ],
             [
              0.8888888888888888,
              "#fdca26"
             ],
             [
              1,
              "#f0f921"
             ]
            ],
            "type": "heatmap"
           }
          ],
          "heatmapgl": [
           {
            "colorbar": {
             "outlinewidth": 0,
             "ticks": ""
            },
            "colorscale": [
             [
              0,
              "#0d0887"
             ],
             [
              0.1111111111111111,
              "#46039f"
             ],
             [
              0.2222222222222222,
              "#7201a8"
             ],
             [
              0.3333333333333333,
              "#9c179e"
             ],
             [
              0.4444444444444444,
              "#bd3786"
             ],
             [
              0.5555555555555556,
              "#d8576b"
             ],
             [
              0.6666666666666666,
              "#ed7953"
             ],
             [
              0.7777777777777778,
              "#fb9f3a"
             ],
             [
              0.8888888888888888,
              "#fdca26"
             ],
             [
              1,
              "#f0f921"
             ]
            ],
            "type": "heatmapgl"
           }
          ],
          "histogram": [
           {
            "marker": {
             "colorbar": {
              "outlinewidth": 0,
              "ticks": ""
             }
            },
            "type": "histogram"
           }
          ],
          "histogram2d": [
           {
            "colorbar": {
             "outlinewidth": 0,
             "ticks": ""
            },
            "colorscale": [
             [
              0,
              "#0d0887"
             ],
             [
              0.1111111111111111,
              "#46039f"
             ],
             [
              0.2222222222222222,
              "#7201a8"
             ],
             [
              0.3333333333333333,
              "#9c179e"
             ],
             [
              0.4444444444444444,
              "#bd3786"
             ],
             [
              0.5555555555555556,
              "#d8576b"
             ],
             [
              0.6666666666666666,
              "#ed7953"
             ],
             [
              0.7777777777777778,
              "#fb9f3a"
             ],
             [
              0.8888888888888888,
              "#fdca26"
             ],
             [
              1,
              "#f0f921"
             ]
            ],
            "type": "histogram2d"
           }
          ],
          "histogram2dcontour": [
           {
            "colorbar": {
             "outlinewidth": 0,
             "ticks": ""
            },
            "colorscale": [
             [
              0,
              "#0d0887"
             ],
             [
              0.1111111111111111,
              "#46039f"
             ],
             [
              0.2222222222222222,
              "#7201a8"
             ],
             [
              0.3333333333333333,
              "#9c179e"
             ],
             [
              0.4444444444444444,
              "#bd3786"
             ],
             [
              0.5555555555555556,
              "#d8576b"
             ],
             [
              0.6666666666666666,
              "#ed7953"
             ],
             [
              0.7777777777777778,
              "#fb9f3a"
             ],
             [
              0.8888888888888888,
              "#fdca26"
             ],
             [
              1,
              "#f0f921"
             ]
            ],
            "type": "histogram2dcontour"
           }
          ],
          "mesh3d": [
           {
            "colorbar": {
             "outlinewidth": 0,
             "ticks": ""
            },
            "type": "mesh3d"
           }
          ],
          "parcoords": [
           {
            "line": {
             "colorbar": {
              "outlinewidth": 0,
              "ticks": ""
             }
            },
            "type": "parcoords"
           }
          ],
          "pie": [
           {
            "automargin": true,
            "type": "pie"
           }
          ],
          "scatter": [
           {
            "marker": {
             "colorbar": {
              "outlinewidth": 0,
              "ticks": ""
             }
            },
            "type": "scatter"
           }
          ],
          "scatter3d": [
           {
            "line": {
             "colorbar": {
              "outlinewidth": 0,
              "ticks": ""
             }
            },
            "marker": {
             "colorbar": {
              "outlinewidth": 0,
              "ticks": ""
             }
            },
            "type": "scatter3d"
           }
          ],
          "scattercarpet": [
           {
            "marker": {
             "colorbar": {
              "outlinewidth": 0,
              "ticks": ""
             }
            },
            "type": "scattercarpet"
           }
          ],
          "scattergeo": [
           {
            "marker": {
             "colorbar": {
              "outlinewidth": 0,
              "ticks": ""
             }
            },
            "type": "scattergeo"
           }
          ],
          "scattergl": [
           {
            "marker": {
             "colorbar": {
              "outlinewidth": 0,
              "ticks": ""
             }
            },
            "type": "scattergl"
           }
          ],
          "scattermapbox": [
           {
            "marker": {
             "colorbar": {
              "outlinewidth": 0,
              "ticks": ""
             }
            },
            "type": "scattermapbox"
           }
          ],
          "scatterpolar": [
           {
            "marker": {
             "colorbar": {
              "outlinewidth": 0,
              "ticks": ""
             }
            },
            "type": "scatterpolar"
           }
          ],
          "scatterpolargl": [
           {
            "marker": {
             "colorbar": {
              "outlinewidth": 0,
              "ticks": ""
             }
            },
            "type": "scatterpolargl"
           }
          ],
          "scatterternary": [
           {
            "marker": {
             "colorbar": {
              "outlinewidth": 0,
              "ticks": ""
             }
            },
            "type": "scatterternary"
           }
          ],
          "surface": [
           {
            "colorbar": {
             "outlinewidth": 0,
             "ticks": ""
            },
            "colorscale": [
             [
              0,
              "#0d0887"
             ],
             [
              0.1111111111111111,
              "#46039f"
             ],
             [
              0.2222222222222222,
              "#7201a8"
             ],
             [
              0.3333333333333333,
              "#9c179e"
             ],
             [
              0.4444444444444444,
              "#bd3786"
             ],
             [
              0.5555555555555556,
              "#d8576b"
             ],
             [
              0.6666666666666666,
              "#ed7953"
             ],
             [
              0.7777777777777778,
              "#fb9f3a"
             ],
             [
              0.8888888888888888,
              "#fdca26"
             ],
             [
              1,
              "#f0f921"
             ]
            ],
            "type": "surface"
           }
          ],
          "table": [
           {
            "cells": {
             "fill": {
              "color": "#EBF0F8"
             },
             "line": {
              "color": "white"
             }
            },
            "header": {
             "fill": {
              "color": "#C8D4E3"
             },
             "line": {
              "color": "white"
             }
            },
            "type": "table"
           }
          ]
         },
         "layout": {
          "annotationdefaults": {
           "arrowcolor": "#2a3f5f",
           "arrowhead": 0,
           "arrowwidth": 1
          },
          "coloraxis": {
           "colorbar": {
            "outlinewidth": 0,
            "ticks": ""
           }
          },
          "colorscale": {
           "diverging": [
            [
             0,
             "#8e0152"
            ],
            [
             0.1,
             "#c51b7d"
            ],
            [
             0.2,
             "#de77ae"
            ],
            [
             0.3,
             "#f1b6da"
            ],
            [
             0.4,
             "#fde0ef"
            ],
            [
             0.5,
             "#f7f7f7"
            ],
            [
             0.6,
             "#e6f5d0"
            ],
            [
             0.7,
             "#b8e186"
            ],
            [
             0.8,
             "#7fbc41"
            ],
            [
             0.9,
             "#4d9221"
            ],
            [
             1,
             "#276419"
            ]
           ],
           "sequential": [
            [
             0,
             "#0d0887"
            ],
            [
             0.1111111111111111,
             "#46039f"
            ],
            [
             0.2222222222222222,
             "#7201a8"
            ],
            [
             0.3333333333333333,
             "#9c179e"
            ],
            [
             0.4444444444444444,
             "#bd3786"
            ],
            [
             0.5555555555555556,
             "#d8576b"
            ],
            [
             0.6666666666666666,
             "#ed7953"
            ],
            [
             0.7777777777777778,
             "#fb9f3a"
            ],
            [
             0.8888888888888888,
             "#fdca26"
            ],
            [
             1,
             "#f0f921"
            ]
           ],
           "sequentialminus": [
            [
             0,
             "#0d0887"
            ],
            [
             0.1111111111111111,
             "#46039f"
            ],
            [
             0.2222222222222222,
             "#7201a8"
            ],
            [
             0.3333333333333333,
             "#9c179e"
            ],
            [
             0.4444444444444444,
             "#bd3786"
            ],
            [
             0.5555555555555556,
             "#d8576b"
            ],
            [
             0.6666666666666666,
             "#ed7953"
            ],
            [
             0.7777777777777778,
             "#fb9f3a"
            ],
            [
             0.8888888888888888,
             "#fdca26"
            ],
            [
             1,
             "#f0f921"
            ]
           ]
          },
          "colorway": [
           "#636efa",
           "#EF553B",
           "#00cc96",
           "#ab63fa",
           "#FFA15A",
           "#19d3f3",
           "#FF6692",
           "#B6E880",
           "#FF97FF",
           "#FECB52"
          ],
          "font": {
           "color": "#2a3f5f"
          },
          "geo": {
           "bgcolor": "white",
           "lakecolor": "white",
           "landcolor": "#E5ECF6",
           "showlakes": true,
           "showland": true,
           "subunitcolor": "white"
          },
          "hoverlabel": {
           "align": "left"
          },
          "hovermode": "closest",
          "mapbox": {
           "style": "light"
          },
          "paper_bgcolor": "white",
          "plot_bgcolor": "#E5ECF6",
          "polar": {
           "angularaxis": {
            "gridcolor": "white",
            "linecolor": "white",
            "ticks": ""
           },
           "bgcolor": "#E5ECF6",
           "radialaxis": {
            "gridcolor": "white",
            "linecolor": "white",
            "ticks": ""
           }
          },
          "scene": {
           "xaxis": {
            "backgroundcolor": "#E5ECF6",
            "gridcolor": "white",
            "gridwidth": 2,
            "linecolor": "white",
            "showbackground": true,
            "ticks": "",
            "zerolinecolor": "white"
           },
           "yaxis": {
            "backgroundcolor": "#E5ECF6",
            "gridcolor": "white",
            "gridwidth": 2,
            "linecolor": "white",
            "showbackground": true,
            "ticks": "",
            "zerolinecolor": "white"
           },
           "zaxis": {
            "backgroundcolor": "#E5ECF6",
            "gridcolor": "white",
            "gridwidth": 2,
            "linecolor": "white",
            "showbackground": true,
            "ticks": "",
            "zerolinecolor": "white"
           }
          },
          "shapedefaults": {
           "line": {
            "color": "#2a3f5f"
           }
          },
          "ternary": {
           "aaxis": {
            "gridcolor": "white",
            "linecolor": "white",
            "ticks": ""
           },
           "baxis": {
            "gridcolor": "white",
            "linecolor": "white",
            "ticks": ""
           },
           "bgcolor": "#E5ECF6",
           "caxis": {
            "gridcolor": "white",
            "linecolor": "white",
            "ticks": ""
           }
          },
          "title": {
           "x": 0.05
          },
          "xaxis": {
           "automargin": true,
           "gridcolor": "white",
           "linecolor": "white",
           "ticks": "",
           "title": {
            "standoff": 15
           },
           "zerolinecolor": "white",
           "zerolinewidth": 2
          },
          "yaxis": {
           "automargin": true,
           "gridcolor": "white",
           "linecolor": "white",
           "ticks": "",
           "title": {
            "standoff": 15
           },
           "zerolinecolor": "white",
           "zerolinewidth": 2
          }
         }
        },
        "xaxis": {
         "anchor": "y",
         "domain": [
          0,
          1
         ],
         "title": {
          "text": "Age"
         }
        },
        "yaxis": {
         "anchor": "x",
         "domain": [
          0,
          1
         ],
         "title": {
          "text": "count"
         }
        }
       }
      },
      "text/html": [
       "<div>\n",
       "        \n",
       "        \n",
       "            <div id=\"de47a552-b611-431f-8307-5d223860952a\" class=\"plotly-graph-div\" style=\"height:525px; width:100%;\"></div>\n",
       "            <script type=\"text/javascript\">\n",
       "                require([\"plotly\"], function(Plotly) {\n",
       "                    window.PLOTLYENV=window.PLOTLYENV || {};\n",
       "                    \n",
       "                if (document.getElementById(\"de47a552-b611-431f-8307-5d223860952a\")) {\n",
       "                    Plotly.newPlot(\n",
       "                        'de47a552-b611-431f-8307-5d223860952a',\n",
       "                        [{\"alignmentgroup\": \"True\", \"bingroup\": \"x\", \"histfunc\": \"sum\", \"hoverlabel\": {\"namelength\": 0}, \"hovertemplate\": \"Age=%{x}<br>count=%{y}\", \"legendgroup\": \"\", \"marker\": {\"color\": \"#636efa\"}, \"name\": \"\", \"offsetgroup\": \"\", \"orientation\": \"v\", \"showlegend\": false, \"type\": \"histogram\", \"x\": [49.0, 24.0, 28.0, 22.0, 57.0, 54.0, 43.0, 28.0, 33.0, 22.0, 29.0, 25.0, 29.0, 21.0, 25.0, 55.0, 48.0, 25.0, 30.0, 30.0, 23.0, 23.0, 65.0, 61.0, 22.0, 26.0, 19.0, 23.0, 21.0, 35.0, 44.0, 42.0, 22.0, 26.0, 38.0, 29.0, 27.0, 35.0, 27.0, 25.0, 25.0, 37.0, 23.0, 41.0, 22.0, 52.0, 24.0, 25.0, 19.0, 24.0, 24.0, 26.0, 31.0, 54.0, 19.0, 35.0, 35.0, 21.0, 22.0, 25.0, 25.0, 22.0, 23.0, 22.0, 23.0, 41.0, 42.0, 22.0, 24.0, 19.0, 23.0, 28.0, 24.0, 26.0, 36.0, 20.0, 22.0, 37.0, 29.0, 56.0, 36.0, 22.0, 36.0, 36.0, 22.0, 21.0, 25.0, 22.0, 58.0, 43.0, 62.0, 22.0, 23.0, 60.0, 23.0, 55.0, 54.0, 25.0, 35.0, 23.0, 27.0, 27.0, 24.0, 26.0, 52.0, 43.0, 25.0, 28.0, 23.0, 60.0, 25.0, 29.0, 23.0, 31.0, 24.0, 25.0, 25.0, 22.0, 22.0, 23.0, 24.0, 21.0, 20.0, 20.0, 21.0, 57.0, 24.0, 25.0, 20.0, 22.0, 22.0, 19.0, 21.0, 24.0, 23.0, 54.0, 52.0, 24.0, 24.0, 25.0, 24.0, 40.0, 32.0, 51.0, 27.0, 24.0, 25.0, 65.0, 29.0, 59.0, 21.0, 22.0, 42.0, 34.0, 56.0, 53.0, 21.0, 26.0, 24.0, 27.0, 25.0, 57.0, 52.0, 46.0, 24.0, 44.0, 26.0, 23.0, 21.0, 24.0, 22.0, 36.0, 28.0, 28.0, 22.0, 26.0, 71.0, 23.0, 37.0, 21.0, 25.0, 39.0, 21.0, 25.0, 25.0, 22.0, 21.0, 21.0, 21.0, 22.0, 32.0, 23.0, 66.0, 24.0, 21.0, 40.0, 55.0, 53.0, 21.0, 26.0, 22.0, 50.0, 25.0, 53.0, 50.0, 63.0, 24.0, 56.0, 63.0, 22.0, 25.0, 23.0, 55.0, 20.0, 23.0, 20.0, 26.0, 29.0, 58.0, 34.0, 50.0, 52.0, 26.0, 28.0, 22.0, 22.0, 25.0, 56.0, 23.0, 22.0], \"xaxis\": \"x\", \"yaxis\": \"y\"}],\n",
       "                        {\"barmode\": \"relative\", \"legend\": {\"tracegroupgap\": 0}, \"margin\": {\"t\": 60}, \"template\": {\"data\": {\"bar\": [{\"error_x\": {\"color\": \"#2a3f5f\"}, \"error_y\": {\"color\": \"#2a3f5f\"}, \"marker\": {\"line\": {\"color\": \"#E5ECF6\", \"width\": 0.5}}, \"type\": \"bar\"}], \"barpolar\": [{\"marker\": {\"line\": {\"color\": \"#E5ECF6\", \"width\": 0.5}}, \"type\": \"barpolar\"}], \"carpet\": [{\"aaxis\": {\"endlinecolor\": \"#2a3f5f\", \"gridcolor\": \"white\", \"linecolor\": \"white\", \"minorgridcolor\": \"white\", \"startlinecolor\": \"#2a3f5f\"}, \"baxis\": {\"endlinecolor\": \"#2a3f5f\", \"gridcolor\": \"white\", \"linecolor\": \"white\", \"minorgridcolor\": \"white\", \"startlinecolor\": \"#2a3f5f\"}, \"type\": \"carpet\"}], \"choropleth\": [{\"colorbar\": {\"outlinewidth\": 0, \"ticks\": \"\"}, \"type\": \"choropleth\"}], \"contour\": [{\"colorbar\": {\"outlinewidth\": 0, \"ticks\": \"\"}, \"colorscale\": [[0.0, \"#0d0887\"], [0.1111111111111111, \"#46039f\"], [0.2222222222222222, \"#7201a8\"], [0.3333333333333333, \"#9c179e\"], [0.4444444444444444, \"#bd3786\"], [0.5555555555555556, \"#d8576b\"], [0.6666666666666666, \"#ed7953\"], [0.7777777777777778, \"#fb9f3a\"], [0.8888888888888888, \"#fdca26\"], [1.0, \"#f0f921\"]], \"type\": \"contour\"}], \"contourcarpet\": [{\"colorbar\": {\"outlinewidth\": 0, \"ticks\": \"\"}, \"type\": \"contourcarpet\"}], \"heatmap\": [{\"colorbar\": {\"outlinewidth\": 0, \"ticks\": \"\"}, \"colorscale\": [[0.0, \"#0d0887\"], [0.1111111111111111, \"#46039f\"], [0.2222222222222222, \"#7201a8\"], [0.3333333333333333, \"#9c179e\"], [0.4444444444444444, \"#bd3786\"], [0.5555555555555556, \"#d8576b\"], [0.6666666666666666, \"#ed7953\"], [0.7777777777777778, \"#fb9f3a\"], [0.8888888888888888, \"#fdca26\"], [1.0, \"#f0f921\"]], \"type\": \"heatmap\"}], \"heatmapgl\": [{\"colorbar\": {\"outlinewidth\": 0, \"ticks\": \"\"}, \"colorscale\": [[0.0, \"#0d0887\"], [0.1111111111111111, \"#46039f\"], [0.2222222222222222, \"#7201a8\"], [0.3333333333333333, \"#9c179e\"], [0.4444444444444444, \"#bd3786\"], [0.5555555555555556, \"#d8576b\"], [0.6666666666666666, \"#ed7953\"], [0.7777777777777778, \"#fb9f3a\"], [0.8888888888888888, \"#fdca26\"], [1.0, \"#f0f921\"]], \"type\": \"heatmapgl\"}], \"histogram\": [{\"marker\": {\"colorbar\": {\"outlinewidth\": 0, \"ticks\": \"\"}}, \"type\": \"histogram\"}], \"histogram2d\": [{\"colorbar\": {\"outlinewidth\": 0, \"ticks\": \"\"}, \"colorscale\": [[0.0, \"#0d0887\"], [0.1111111111111111, \"#46039f\"], [0.2222222222222222, \"#7201a8\"], [0.3333333333333333, \"#9c179e\"], [0.4444444444444444, \"#bd3786\"], [0.5555555555555556, \"#d8576b\"], [0.6666666666666666, \"#ed7953\"], [0.7777777777777778, \"#fb9f3a\"], [0.8888888888888888, \"#fdca26\"], [1.0, \"#f0f921\"]], \"type\": \"histogram2d\"}], \"histogram2dcontour\": [{\"colorbar\": {\"outlinewidth\": 0, \"ticks\": \"\"}, \"colorscale\": [[0.0, \"#0d0887\"], [0.1111111111111111, \"#46039f\"], [0.2222222222222222, \"#7201a8\"], [0.3333333333333333, \"#9c179e\"], [0.4444444444444444, \"#bd3786\"], [0.5555555555555556, \"#d8576b\"], [0.6666666666666666, \"#ed7953\"], [0.7777777777777778, \"#fb9f3a\"], [0.8888888888888888, \"#fdca26\"], [1.0, \"#f0f921\"]], \"type\": \"histogram2dcontour\"}], \"mesh3d\": [{\"colorbar\": {\"outlinewidth\": 0, \"ticks\": \"\"}, \"type\": \"mesh3d\"}], \"parcoords\": [{\"line\": {\"colorbar\": {\"outlinewidth\": 0, \"ticks\": \"\"}}, \"type\": \"parcoords\"}], \"pie\": [{\"automargin\": true, \"type\": \"pie\"}], \"scatter\": [{\"marker\": {\"colorbar\": {\"outlinewidth\": 0, \"ticks\": \"\"}}, \"type\": \"scatter\"}], \"scatter3d\": [{\"line\": {\"colorbar\": {\"outlinewidth\": 0, \"ticks\": \"\"}}, \"marker\": {\"colorbar\": {\"outlinewidth\": 0, \"ticks\": \"\"}}, \"type\": \"scatter3d\"}], \"scattercarpet\": [{\"marker\": {\"colorbar\": {\"outlinewidth\": 0, \"ticks\": \"\"}}, \"type\": \"scattercarpet\"}], \"scattergeo\": [{\"marker\": {\"colorbar\": {\"outlinewidth\": 0, \"ticks\": \"\"}}, \"type\": \"scattergeo\"}], \"scattergl\": [{\"marker\": {\"colorbar\": {\"outlinewidth\": 0, \"ticks\": \"\"}}, \"type\": \"scattergl\"}], \"scattermapbox\": [{\"marker\": {\"colorbar\": {\"outlinewidth\": 0, \"ticks\": \"\"}}, \"type\": \"scattermapbox\"}], \"scatterpolar\": [{\"marker\": {\"colorbar\": {\"outlinewidth\": 0, \"ticks\": \"\"}}, \"type\": \"scatterpolar\"}], \"scatterpolargl\": [{\"marker\": {\"colorbar\": {\"outlinewidth\": 0, \"ticks\": \"\"}}, \"type\": \"scatterpolargl\"}], \"scatterternary\": [{\"marker\": {\"colorbar\": {\"outlinewidth\": 0, \"ticks\": \"\"}}, \"type\": \"scatterternary\"}], \"surface\": [{\"colorbar\": {\"outlinewidth\": 0, \"ticks\": \"\"}, \"colorscale\": [[0.0, \"#0d0887\"], [0.1111111111111111, \"#46039f\"], [0.2222222222222222, \"#7201a8\"], [0.3333333333333333, \"#9c179e\"], [0.4444444444444444, \"#bd3786\"], [0.5555555555555556, \"#d8576b\"], [0.6666666666666666, \"#ed7953\"], [0.7777777777777778, \"#fb9f3a\"], [0.8888888888888888, \"#fdca26\"], [1.0, \"#f0f921\"]], \"type\": \"surface\"}], \"table\": [{\"cells\": {\"fill\": {\"color\": \"#EBF0F8\"}, \"line\": {\"color\": \"white\"}}, \"header\": {\"fill\": {\"color\": \"#C8D4E3\"}, \"line\": {\"color\": \"white\"}}, \"type\": \"table\"}]}, \"layout\": {\"annotationdefaults\": {\"arrowcolor\": \"#2a3f5f\", \"arrowhead\": 0, \"arrowwidth\": 1}, \"coloraxis\": {\"colorbar\": {\"outlinewidth\": 0, \"ticks\": \"\"}}, \"colorscale\": {\"diverging\": [[0, \"#8e0152\"], [0.1, \"#c51b7d\"], [0.2, \"#de77ae\"], [0.3, \"#f1b6da\"], [0.4, \"#fde0ef\"], [0.5, \"#f7f7f7\"], [0.6, \"#e6f5d0\"], [0.7, \"#b8e186\"], [0.8, \"#7fbc41\"], [0.9, \"#4d9221\"], [1, \"#276419\"]], \"sequential\": [[0.0, \"#0d0887\"], [0.1111111111111111, \"#46039f\"], [0.2222222222222222, \"#7201a8\"], [0.3333333333333333, \"#9c179e\"], [0.4444444444444444, \"#bd3786\"], [0.5555555555555556, \"#d8576b\"], [0.6666666666666666, \"#ed7953\"], [0.7777777777777778, \"#fb9f3a\"], [0.8888888888888888, \"#fdca26\"], [1.0, \"#f0f921\"]], \"sequentialminus\": [[0.0, \"#0d0887\"], [0.1111111111111111, \"#46039f\"], [0.2222222222222222, \"#7201a8\"], [0.3333333333333333, \"#9c179e\"], [0.4444444444444444, \"#bd3786\"], [0.5555555555555556, \"#d8576b\"], [0.6666666666666666, \"#ed7953\"], [0.7777777777777778, \"#fb9f3a\"], [0.8888888888888888, \"#fdca26\"], [1.0, \"#f0f921\"]]}, \"colorway\": [\"#636efa\", \"#EF553B\", \"#00cc96\", \"#ab63fa\", \"#FFA15A\", \"#19d3f3\", \"#FF6692\", \"#B6E880\", \"#FF97FF\", \"#FECB52\"], \"font\": {\"color\": \"#2a3f5f\"}, \"geo\": {\"bgcolor\": \"white\", \"lakecolor\": \"white\", \"landcolor\": \"#E5ECF6\", \"showlakes\": true, \"showland\": true, \"subunitcolor\": \"white\"}, \"hoverlabel\": {\"align\": \"left\"}, \"hovermode\": \"closest\", \"mapbox\": {\"style\": \"light\"}, \"paper_bgcolor\": \"white\", \"plot_bgcolor\": \"#E5ECF6\", \"polar\": {\"angularaxis\": {\"gridcolor\": \"white\", \"linecolor\": \"white\", \"ticks\": \"\"}, \"bgcolor\": \"#E5ECF6\", \"radialaxis\": {\"gridcolor\": \"white\", \"linecolor\": \"white\", \"ticks\": \"\"}}, \"scene\": {\"xaxis\": {\"backgroundcolor\": \"#E5ECF6\", \"gridcolor\": \"white\", \"gridwidth\": 2, \"linecolor\": \"white\", \"showbackground\": true, \"ticks\": \"\", \"zerolinecolor\": \"white\"}, \"yaxis\": {\"backgroundcolor\": \"#E5ECF6\", \"gridcolor\": \"white\", \"gridwidth\": 2, \"linecolor\": \"white\", \"showbackground\": true, \"ticks\": \"\", \"zerolinecolor\": \"white\"}, \"zaxis\": {\"backgroundcolor\": \"#E5ECF6\", \"gridcolor\": \"white\", \"gridwidth\": 2, \"linecolor\": \"white\", \"showbackground\": true, \"ticks\": \"\", \"zerolinecolor\": \"white\"}}, \"shapedefaults\": {\"line\": {\"color\": \"#2a3f5f\"}}, \"ternary\": {\"aaxis\": {\"gridcolor\": \"white\", \"linecolor\": \"white\", \"ticks\": \"\"}, \"baxis\": {\"gridcolor\": \"white\", \"linecolor\": \"white\", \"ticks\": \"\"}, \"bgcolor\": \"#E5ECF6\", \"caxis\": {\"gridcolor\": \"white\", \"linecolor\": \"white\", \"ticks\": \"\"}}, \"title\": {\"x\": 0.05}, \"xaxis\": {\"automargin\": true, \"gridcolor\": \"white\", \"linecolor\": \"white\", \"ticks\": \"\", \"title\": {\"standoff\": 15}, \"zerolinecolor\": \"white\", \"zerolinewidth\": 2}, \"yaxis\": {\"automargin\": true, \"gridcolor\": \"white\", \"linecolor\": \"white\", \"ticks\": \"\", \"title\": {\"standoff\": 15}, \"zerolinecolor\": \"white\", \"zerolinewidth\": 2}}}, \"xaxis\": {\"anchor\": \"y\", \"domain\": [0.0, 1.0], \"title\": {\"text\": \"Age\"}}, \"yaxis\": {\"anchor\": \"x\", \"domain\": [0.0, 1.0], \"title\": {\"text\": \"count\"}}},\n",
       "                        {\"responsive\": true}\n",
       "                    ).then(function(){\n",
       "                            \n",
       "var gd = document.getElementById('de47a552-b611-431f-8307-5d223860952a');\n",
       "var x = new MutationObserver(function (mutations, observer) {{\n",
       "        var display = window.getComputedStyle(gd).display;\n",
       "        if (!display || display === 'none') {{\n",
       "            console.log([gd, 'removed!']);\n",
       "            Plotly.purge(gd);\n",
       "            observer.disconnect();\n",
       "        }}\n",
       "}});\n",
       "\n",
       "// Listen for the removal of the full notebook cells\n",
       "var notebookContainer = gd.closest('#notebook-container');\n",
       "if (notebookContainer) {{\n",
       "    x.observe(notebookContainer, {childList: true});\n",
       "}}\n",
       "\n",
       "// Listen for the clearing of the current output cell\n",
       "var outputEl = gd.closest('.output');\n",
       "if (outputEl) {{\n",
       "    x.observe(outputEl, {childList: true});\n",
       "}}\n",
       "\n",
       "                        })\n",
       "                };\n",
       "                });\n",
       "            </script>\n",
       "        </div>"
      ]
     },
     "metadata": {},
     "output_type": "display_data"
    },
    {
     "data": {
      "application/vnd.plotly.v1+json": {
       "config": {
        "linkText": "Export to plot.ly",
        "plotlyServerURL": "https://plot.ly",
        "showLink": false
       },
       "data": [
        {
         "mode": "lines",
         "type": "scatter",
         "x": [
          4.73,
          5.33,
          4.47,
          5,
          4.87,
          4.67,
          6.8,
          4.87,
          4.93,
          4.6,
          3,
          3.53,
          4.93,
          5.87,
          4.33,
          5.33,
          5.4,
          4.4,
          4.13,
          3.87,
          4.07,
          4.47,
          4.8,
          5.13,
          4.33,
          5.6,
          4.27,
          4.07,
          4.4,
          3.07,
          4.93,
          4.67,
          5.6,
          4.8,
          5.07,
          5.07,
          4.8,
          3.87,
          5.47,
          5.4,
          3.47,
          4.27,
          3.67,
          4.2,
          5.73,
          4,
          3.67,
          4.93,
          4.87,
          4.47,
          4.2,
          4.33,
          4,
          4.67,
          5.53,
          5.13,
          4.6,
          4.2,
          4,
          4.73,
          4.6,
          4.67,
          5.07,
          5,
          3.67,
          3.93,
          6.4,
          4.87,
          5.2,
          5,
          4.4,
          3.73,
          3.87,
          3.73,
          3.6,
          4.07,
          5.4,
          3.6,
          4.6,
          4.67,
          5,
          7,
          2.87,
          5.4,
          4.8,
          5.07,
          4.73,
          3.87,
          4.13,
          4.73,
          3.87,
          4.67,
          4.2,
          3.87,
          5.6,
          3.53,
          4.87,
          5,
          5,
          4.27,
          5.33,
          5.13,
          5.73,
          5.13,
          3.67,
          5.07,
          3.67,
          4.93,
          4.53,
          4.53,
          5,
          4.07,
          7,
          4,
          5.27,
          3.53,
          4.2,
          5.53,
          4.87,
          4.4,
          5.87,
          5.53,
          3.8,
          4.4,
          4.33,
          4.67,
          5.27,
          4.4,
          4.33,
          5.27,
          4.93,
          5.67,
          5.13,
          4.47,
          5.67,
          4.93,
          4.47,
          4.2,
          4.8,
          4,
          5.2,
          4.47,
          4,
          6.07,
          4.47,
          5.8,
          5.2,
          4.67,
          6.07,
          5.93,
          5.6,
          4.93,
          5.4,
          5.07,
          5.53,
          5.47,
          5.2,
          4.93,
          4.8,
          3.8,
          5.2,
          4.33,
          4.53,
          4,
          4,
          4.73,
          5.8,
          5.27,
          4.4,
          4.87,
          5.07,
          5.13,
          5.27,
          3.07,
          5.27,
          3.2,
          6.33,
          3.87,
          4.27,
          4.93,
          5.4,
          4,
          4.67,
          4.53,
          2.8,
          5.07,
          5.53,
          5.47,
          4.47,
          4.93,
          4.47,
          5.2,
          6,
          5.4,
          5.27,
          4.27,
          6.2,
          4.87,
          4.6,
          3.93,
          5.47,
          4.53,
          4.93,
          5.07,
          5,
          4.67,
          5.2,
          5.2,
          4.93,
          4,
          5.2,
          5.33,
          5.67,
          5,
          4.2,
          5.27,
          6.07,
          4.4,
          5.13,
          4.53,
          5.93,
          4.93,
          6.13,
          5.67,
          5.33,
          5.67,
          5.87,
          5.47,
          5.93,
          4.73
         ],
         "y": [
          3.56,
          3.78,
          4.89,
          4.89,
          4.89,
          4.89,
          5,
          3.89,
          3.33,
          4.89,
          3.44,
          2,
          4.67,
          4.78,
          3.44,
          5,
          4.67,
          3.44,
          3.67,
          3.67,
          4.22,
          3.33,
          5,
          5,
          3.67,
          4.22,
          3.44,
          4.22,
          3.89,
          4.33,
          4.33,
          5,
          4,
          3.89,
          4.67,
          4.89,
          4,
          4.56,
          4.56,
          4.33,
          2.89,
          3.56,
          4,
          5,
          4.78,
          3.11,
          4.67,
          4.67,
          3.78,
          4.78,
          3.78,
          4.11,
          2.56,
          4,
          5,
          4.22,
          1.78,
          3.78,
          4.78,
          4.56,
          3.89,
          3.78,
          4.78,
          4.44,
          2.11,
          4.33,
          5,
          4.11,
          4.44,
          4.33,
          4,
          4.67,
          4.11,
          2.11,
          4.22,
          4.56,
          4.67,
          2.89,
          4.33,
          5,
          2.89,
          5,
          1.11,
          4.89,
          3.89,
          4.67,
          4,
          2.33,
          3.22,
          4.67,
          2.44,
          4.33,
          3.89,
          3,
          5,
          4,
          4,
          4.11,
          4.11,
          4.11,
          3.89,
          4.11,
          4.44,
          4.89,
          3.22,
          4.89,
          3.44,
          4.67,
          4.89,
          4.89,
          4.89,
          4.44,
          2.78,
          3.33,
          4.89,
          3.78,
          3.56,
          4.78,
          4.78,
          3.56,
          4.78,
          3.78,
          3.44,
          4.11,
          3.78,
          4.67,
          4.44,
          3.78,
          4.56,
          4.33,
          4,
          4.44,
          4,
          3.33,
          4.78,
          3.67,
          3.78,
          4.67,
          3.67,
          3.56,
          4.22,
          3.56,
          4.11,
          5,
          2.56,
          4.44,
          2.33,
          5,
          5,
          4.56,
          4.89,
          3.56,
          4.44,
          4.78,
          5,
          5,
          3.67,
          3.78,
          3.78,
          4.56,
          4.33,
          3.89,
          3.89,
          3.11,
          4.33,
          3.67,
          3.33,
          3.78,
          5,
          4,
          4.56,
          4.44,
          4.44,
          1.78,
          5,
          3,
          5,
          3.67,
          5,
          4,
          4.11,
          2.78,
          3.67,
          3.33,
          1.89,
          4,
          4.22,
          4.33,
          4.33,
          4.89,
          2.44,
          4.56,
          3,
          3.33,
          4.89,
          2.89,
          5,
          5,
          4.33,
          3.89,
          4.56,
          3.89,
          4.33,
          4.67,
          4.89,
          4.67,
          3.67,
          4.22,
          3.44,
          3.78,
          4,
          4.78,
          4.78,
          3.11,
          3.22,
          4,
          4.33,
          2.22,
          4.33,
          3.44,
          2.56,
          4.67,
          4,
          4.56,
          4.11,
          5,
          4.44,
          4.56,
          5,
          3.33
         ]
        },
        {
         "mode": "markers",
         "type": "scatter",
         "x": [
          6,
          5.33,
          6.83,
          6,
          6.67,
          6,
          6.17,
          6.5,
          4.17,
          4,
          6.67,
          6.5,
          5.33,
          6.17,
          6.5,
          7,
          6.17,
          5.33,
          4.67,
          5.33,
          4.83,
          4.67,
          6.5,
          5.5,
          3.83,
          5.83,
          4.67,
          5,
          5.33,
          6.5,
          5.67,
          6.5,
          5.67,
          5.5,
          6,
          6.17,
          4.83,
          4.17,
          6.17,
          5.17,
          4.67,
          4.17,
          5.67,
          5.33,
          6,
          3.17,
          3.67,
          6.17,
          4.67,
          6.67,
          5.17,
          6.5,
          5.5,
          3.83,
          6,
          6.33,
          2,
          5.67,
          5.33,
          5.83,
          5,
          5.17,
          4.17,
          5.5,
          5.67,
          6.17,
          6.5,
          4.83,
          4.67,
          6.67,
          3.83,
          6,
          5.17,
          5.17,
          4,
          4.83,
          6.67,
          4,
          4.83,
          6.67,
          3.67,
          4.83,
          2,
          5,
          5.5,
          6.17,
          4.67,
          3.67,
          4.33,
          5.5,
          4,
          3.83,
          5.67,
          5.67,
          5.67,
          4.17,
          5.17,
          4.67,
          5.33,
          2.5,
          6.17,
          4.67,
          5.5,
          4.67,
          3.33,
          6.17,
          3.33,
          4.33,
          5.17,
          5.17,
          5.83,
          5.33,
          6,
          4.67,
          5.83,
          3.5,
          4.67,
          6.17,
          4.17,
          4,
          6,
          5.33,
          4.83,
          4.67,
          3.67,
          6,
          5.67,
          6.33,
          5.67,
          4.5,
          5.67,
          5.67,
          6.5,
          6,
          6,
          5.5,
          5.67,
          6,
          6.5,
          5.33,
          4.67,
          3.33,
          3.67,
          6.83,
          3.67,
          6.83,
          4.17,
          4.67,
          6.83,
          7,
          5.5,
          4.5,
          5.67,
          5.33,
          6.83,
          6.67,
          4.17,
          5.5,
          5.67,
          5,
          4.67,
          4.83,
          2,
          6,
          3.83,
          5.17,
          3.83,
          6.33,
          5.33,
          5.17,
          4.83,
          3.83,
          5.67,
          6.83,
          7,
          6,
          6.5,
          6.33,
          5.83,
          5.33,
          5.83,
          5.17,
          4.33,
          6,
          4.17,
          5.67,
          6.67,
          4.5,
          4.33,
          6,
          5.67,
          6.83,
          6.17,
          6,
          5.5,
          4.67,
          6.83,
          7,
          5.83,
          4.83,
          6.5,
          5.33,
          4.67,
          6,
          6,
          4,
          5.33,
          6.5,
          4,
          4.83,
          4.17,
          5.5,
          4.5,
          6.5,
          5.17,
          5.83,
          5,
          6,
          5.67,
          4.83,
          3.67,
          5.5,
          6.33,
          4.83,
          4.83,
          6.33,
          4.67,
          7,
          6.83,
          4.5
         ],
         "y": [
          3.56,
          3.78,
          4.89,
          4.89,
          4.89,
          4.89,
          5,
          3.89,
          3.33,
          4.89,
          3.44,
          2,
          4.67,
          4.78,
          3.44,
          5,
          4.67,
          3.44,
          3.67,
          3.67,
          4.22,
          3.33,
          5,
          5,
          3.67,
          4.22,
          3.44,
          4.22,
          3.89,
          4.33,
          4.33,
          5,
          4,
          3.89,
          4.67,
          4.89,
          4,
          4.56,
          4.56,
          4.33,
          2.89,
          3.56,
          4,
          5,
          4.78,
          3.11,
          4.67,
          4.67,
          3.78,
          4.78,
          3.78,
          4.11,
          2.56,
          4,
          5,
          4.22,
          1.78,
          3.78,
          4.78,
          4.56,
          3.89,
          3.78,
          4.78,
          4.44,
          2.11,
          4.33,
          5,
          4.11,
          4.44,
          4.33,
          4,
          4.67,
          4.11,
          2.11,
          4.22,
          4.56,
          4.67,
          2.89,
          4.33,
          5,
          2.89,
          5,
          1.11,
          4.89,
          3.89,
          4.67,
          4,
          2.33,
          3.22,
          4.67,
          2.44,
          4.33,
          3.89,
          3,
          5,
          4,
          4,
          4.11,
          4.11,
          4.11,
          3.89,
          4.11,
          4.44,
          4.89,
          3.22,
          4.89,
          3.44,
          4.67,
          4.89,
          4.89,
          4.89,
          4.44,
          2.78,
          3.33,
          4.89,
          3.78,
          3.56,
          4.78,
          4.78,
          3.56,
          4.78,
          3.78,
          3.44,
          4.11,
          3.78,
          4.67,
          4.44,
          3.78,
          4.56,
          4.33,
          4,
          4.44,
          4,
          3.33,
          4.78,
          3.67,
          3.78,
          4.67,
          3.67,
          3.56,
          4.22,
          3.56,
          4.11,
          5,
          2.56,
          4.44,
          2.33,
          5,
          5,
          4.56,
          4.89,
          3.56,
          4.44,
          4.78,
          5,
          5,
          3.67,
          3.78,
          3.78,
          4.56,
          4.33,
          3.89,
          3.89,
          3.11,
          4.33,
          3.67,
          3.33,
          3.78,
          5,
          4,
          4.56,
          4.44,
          4.44,
          1.78,
          5,
          3,
          5,
          3.67,
          5,
          4,
          4.11,
          2.78,
          3.67,
          3.33,
          1.89,
          4,
          4.22,
          4.33,
          4.33,
          4.89,
          2.44,
          4.56,
          3,
          3.33,
          4.89,
          2.89,
          5,
          5,
          4.33,
          3.89,
          4.56,
          3.89,
          4.33,
          4.67,
          4.89,
          4.67,
          3.67,
          4.22,
          3.44,
          3.78,
          4,
          4.78,
          4.78,
          3.11,
          3.22,
          4,
          4.33,
          2.22,
          4.33,
          3.44,
          2.56,
          4.67,
          4,
          4.56,
          4.11,
          5,
          4.44,
          4.56,
          5,
          3.33
         ]
        }
       ],
       "layout": {
        "template": {
         "data": {
          "bar": [
           {
            "error_x": {
             "color": "#2a3f5f"
            },
            "error_y": {
             "color": "#2a3f5f"
            },
            "marker": {
             "line": {
              "color": "#E5ECF6",
              "width": 0.5
             }
            },
            "type": "bar"
           }
          ],
          "barpolar": [
           {
            "marker": {
             "line": {
              "color": "#E5ECF6",
              "width": 0.5
             }
            },
            "type": "barpolar"
           }
          ],
          "carpet": [
           {
            "aaxis": {
             "endlinecolor": "#2a3f5f",
             "gridcolor": "white",
             "linecolor": "white",
             "minorgridcolor": "white",
             "startlinecolor": "#2a3f5f"
            },
            "baxis": {
             "endlinecolor": "#2a3f5f",
             "gridcolor": "white",
             "linecolor": "white",
             "minorgridcolor": "white",
             "startlinecolor": "#2a3f5f"
            },
            "type": "carpet"
           }
          ],
          "choropleth": [
           {
            "colorbar": {
             "outlinewidth": 0,
             "ticks": ""
            },
            "type": "choropleth"
           }
          ],
          "contour": [
           {
            "colorbar": {
             "outlinewidth": 0,
             "ticks": ""
            },
            "colorscale": [
             [
              0,
              "#0d0887"
             ],
             [
              0.1111111111111111,
              "#46039f"
             ],
             [
              0.2222222222222222,
              "#7201a8"
             ],
             [
              0.3333333333333333,
              "#9c179e"
             ],
             [
              0.4444444444444444,
              "#bd3786"
             ],
             [
              0.5555555555555556,
              "#d8576b"
             ],
             [
              0.6666666666666666,
              "#ed7953"
             ],
             [
              0.7777777777777778,
              "#fb9f3a"
             ],
             [
              0.8888888888888888,
              "#fdca26"
             ],
             [
              1,
              "#f0f921"
             ]
            ],
            "type": "contour"
           }
          ],
          "contourcarpet": [
           {
            "colorbar": {
             "outlinewidth": 0,
             "ticks": ""
            },
            "type": "contourcarpet"
           }
          ],
          "heatmap": [
           {
            "colorbar": {
             "outlinewidth": 0,
             "ticks": ""
            },
            "colorscale": [
             [
              0,
              "#0d0887"
             ],
             [
              0.1111111111111111,
              "#46039f"
             ],
             [
              0.2222222222222222,
              "#7201a8"
             ],
             [
              0.3333333333333333,
              "#9c179e"
             ],
             [
              0.4444444444444444,
              "#bd3786"
             ],
             [
              0.5555555555555556,
              "#d8576b"
             ],
             [
              0.6666666666666666,
              "#ed7953"
             ],
             [
              0.7777777777777778,
              "#fb9f3a"
             ],
             [
              0.8888888888888888,
              "#fdca26"
             ],
             [
              1,
              "#f0f921"
             ]
            ],
            "type": "heatmap"
           }
          ],
          "heatmapgl": [
           {
            "colorbar": {
             "outlinewidth": 0,
             "ticks": ""
            },
            "colorscale": [
             [
              0,
              "#0d0887"
             ],
             [
              0.1111111111111111,
              "#46039f"
             ],
             [
              0.2222222222222222,
              "#7201a8"
             ],
             [
              0.3333333333333333,
              "#9c179e"
             ],
             [
              0.4444444444444444,
              "#bd3786"
             ],
             [
              0.5555555555555556,
              "#d8576b"
             ],
             [
              0.6666666666666666,
              "#ed7953"
             ],
             [
              0.7777777777777778,
              "#fb9f3a"
             ],
             [
              0.8888888888888888,
              "#fdca26"
             ],
             [
              1,
              "#f0f921"
             ]
            ],
            "type": "heatmapgl"
           }
          ],
          "histogram": [
           {
            "marker": {
             "colorbar": {
              "outlinewidth": 0,
              "ticks": ""
             }
            },
            "type": "histogram"
           }
          ],
          "histogram2d": [
           {
            "colorbar": {
             "outlinewidth": 0,
             "ticks": ""
            },
            "colorscale": [
             [
              0,
              "#0d0887"
             ],
             [
              0.1111111111111111,
              "#46039f"
             ],
             [
              0.2222222222222222,
              "#7201a8"
             ],
             [
              0.3333333333333333,
              "#9c179e"
             ],
             [
              0.4444444444444444,
              "#bd3786"
             ],
             [
              0.5555555555555556,
              "#d8576b"
             ],
             [
              0.6666666666666666,
              "#ed7953"
             ],
             [
              0.7777777777777778,
              "#fb9f3a"
             ],
             [
              0.8888888888888888,
              "#fdca26"
             ],
             [
              1,
              "#f0f921"
             ]
            ],
            "type": "histogram2d"
           }
          ],
          "histogram2dcontour": [
           {
            "colorbar": {
             "outlinewidth": 0,
             "ticks": ""
            },
            "colorscale": [
             [
              0,
              "#0d0887"
             ],
             [
              0.1111111111111111,
              "#46039f"
             ],
             [
              0.2222222222222222,
              "#7201a8"
             ],
             [
              0.3333333333333333,
              "#9c179e"
             ],
             [
              0.4444444444444444,
              "#bd3786"
             ],
             [
              0.5555555555555556,
              "#d8576b"
             ],
             [
              0.6666666666666666,
              "#ed7953"
             ],
             [
              0.7777777777777778,
              "#fb9f3a"
             ],
             [
              0.8888888888888888,
              "#fdca26"
             ],
             [
              1,
              "#f0f921"
             ]
            ],
            "type": "histogram2dcontour"
           }
          ],
          "mesh3d": [
           {
            "colorbar": {
             "outlinewidth": 0,
             "ticks": ""
            },
            "type": "mesh3d"
           }
          ],
          "parcoords": [
           {
            "line": {
             "colorbar": {
              "outlinewidth": 0,
              "ticks": ""
             }
            },
            "type": "parcoords"
           }
          ],
          "pie": [
           {
            "automargin": true,
            "type": "pie"
           }
          ],
          "scatter": [
           {
            "marker": {
             "colorbar": {
              "outlinewidth": 0,
              "ticks": ""
             }
            },
            "type": "scatter"
           }
          ],
          "scatter3d": [
           {
            "line": {
             "colorbar": {
              "outlinewidth": 0,
              "ticks": ""
             }
            },
            "marker": {
             "colorbar": {
              "outlinewidth": 0,
              "ticks": ""
             }
            },
            "type": "scatter3d"
           }
          ],
          "scattercarpet": [
           {
            "marker": {
             "colorbar": {
              "outlinewidth": 0,
              "ticks": ""
             }
            },
            "type": "scattercarpet"
           }
          ],
          "scattergeo": [
           {
            "marker": {
             "colorbar": {
              "outlinewidth": 0,
              "ticks": ""
             }
            },
            "type": "scattergeo"
           }
          ],
          "scattergl": [
           {
            "marker": {
             "colorbar": {
              "outlinewidth": 0,
              "ticks": ""
             }
            },
            "type": "scattergl"
           }
          ],
          "scattermapbox": [
           {
            "marker": {
             "colorbar": {
              "outlinewidth": 0,
              "ticks": ""
             }
            },
            "type": "scattermapbox"
           }
          ],
          "scatterpolar": [
           {
            "marker": {
             "colorbar": {
              "outlinewidth": 0,
              "ticks": ""
             }
            },
            "type": "scatterpolar"
           }
          ],
          "scatterpolargl": [
           {
            "marker": {
             "colorbar": {
              "outlinewidth": 0,
              "ticks": ""
             }
            },
            "type": "scatterpolargl"
           }
          ],
          "scatterternary": [
           {
            "marker": {
             "colorbar": {
              "outlinewidth": 0,
              "ticks": ""
             }
            },
            "type": "scatterternary"
           }
          ],
          "surface": [
           {
            "colorbar": {
             "outlinewidth": 0,
             "ticks": ""
            },
            "colorscale": [
             [
              0,
              "#0d0887"
             ],
             [
              0.1111111111111111,
              "#46039f"
             ],
             [
              0.2222222222222222,
              "#7201a8"
             ],
             [
              0.3333333333333333,
              "#9c179e"
             ],
             [
              0.4444444444444444,
              "#bd3786"
             ],
             [
              0.5555555555555556,
              "#d8576b"
             ],
             [
              0.6666666666666666,
              "#ed7953"
             ],
             [
              0.7777777777777778,
              "#fb9f3a"
             ],
             [
              0.8888888888888888,
              "#fdca26"
             ],
             [
              1,
              "#f0f921"
             ]
            ],
            "type": "surface"
           }
          ],
          "table": [
           {
            "cells": {
             "fill": {
              "color": "#EBF0F8"
             },
             "line": {
              "color": "white"
             }
            },
            "header": {
             "fill": {
              "color": "#C8D4E3"
             },
             "line": {
              "color": "white"
             }
            },
            "type": "table"
           }
          ]
         },
         "layout": {
          "annotationdefaults": {
           "arrowcolor": "#2a3f5f",
           "arrowhead": 0,
           "arrowwidth": 1
          },
          "coloraxis": {
           "colorbar": {
            "outlinewidth": 0,
            "ticks": ""
           }
          },
          "colorscale": {
           "diverging": [
            [
             0,
             "#8e0152"
            ],
            [
             0.1,
             "#c51b7d"
            ],
            [
             0.2,
             "#de77ae"
            ],
            [
             0.3,
             "#f1b6da"
            ],
            [
             0.4,
             "#fde0ef"
            ],
            [
             0.5,
             "#f7f7f7"
            ],
            [
             0.6,
             "#e6f5d0"
            ],
            [
             0.7,
             "#b8e186"
            ],
            [
             0.8,
             "#7fbc41"
            ],
            [
             0.9,
             "#4d9221"
            ],
            [
             1,
             "#276419"
            ]
           ],
           "sequential": [
            [
             0,
             "#0d0887"
            ],
            [
             0.1111111111111111,
             "#46039f"
            ],
            [
             0.2222222222222222,
             "#7201a8"
            ],
            [
             0.3333333333333333,
             "#9c179e"
            ],
            [
             0.4444444444444444,
             "#bd3786"
            ],
            [
             0.5555555555555556,
             "#d8576b"
            ],
            [
             0.6666666666666666,
             "#ed7953"
            ],
            [
             0.7777777777777778,
             "#fb9f3a"
            ],
            [
             0.8888888888888888,
             "#fdca26"
            ],
            [
             1,
             "#f0f921"
            ]
           ],
           "sequentialminus": [
            [
             0,
             "#0d0887"
            ],
            [
             0.1111111111111111,
             "#46039f"
            ],
            [
             0.2222222222222222,
             "#7201a8"
            ],
            [
             0.3333333333333333,
             "#9c179e"
            ],
            [
             0.4444444444444444,
             "#bd3786"
            ],
            [
             0.5555555555555556,
             "#d8576b"
            ],
            [
             0.6666666666666666,
             "#ed7953"
            ],
            [
             0.7777777777777778,
             "#fb9f3a"
            ],
            [
             0.8888888888888888,
             "#fdca26"
            ],
            [
             1,
             "#f0f921"
            ]
           ]
          },
          "colorway": [
           "#636efa",
           "#EF553B",
           "#00cc96",
           "#ab63fa",
           "#FFA15A",
           "#19d3f3",
           "#FF6692",
           "#B6E880",
           "#FF97FF",
           "#FECB52"
          ],
          "font": {
           "color": "#2a3f5f"
          },
          "geo": {
           "bgcolor": "white",
           "lakecolor": "white",
           "landcolor": "#E5ECF6",
           "showlakes": true,
           "showland": true,
           "subunitcolor": "white"
          },
          "hoverlabel": {
           "align": "left"
          },
          "hovermode": "closest",
          "mapbox": {
           "style": "light"
          },
          "paper_bgcolor": "white",
          "plot_bgcolor": "#E5ECF6",
          "polar": {
           "angularaxis": {
            "gridcolor": "white",
            "linecolor": "white",
            "ticks": ""
           },
           "bgcolor": "#E5ECF6",
           "radialaxis": {
            "gridcolor": "white",
            "linecolor": "white",
            "ticks": ""
           }
          },
          "scene": {
           "xaxis": {
            "backgroundcolor": "#E5ECF6",
            "gridcolor": "white",
            "gridwidth": 2,
            "linecolor": "white",
            "showbackground": true,
            "ticks": "",
            "zerolinecolor": "white"
           },
           "yaxis": {
            "backgroundcolor": "#E5ECF6",
            "gridcolor": "white",
            "gridwidth": 2,
            "linecolor": "white",
            "showbackground": true,
            "ticks": "",
            "zerolinecolor": "white"
           },
           "zaxis": {
            "backgroundcolor": "#E5ECF6",
            "gridcolor": "white",
            "gridwidth": 2,
            "linecolor": "white",
            "showbackground": true,
            "ticks": "",
            "zerolinecolor": "white"
           }
          },
          "shapedefaults": {
           "line": {
            "color": "#2a3f5f"
           }
          },
          "ternary": {
           "aaxis": {
            "gridcolor": "white",
            "linecolor": "white",
            "ticks": ""
           },
           "baxis": {
            "gridcolor": "white",
            "linecolor": "white",
            "ticks": ""
           },
           "bgcolor": "#E5ECF6",
           "caxis": {
            "gridcolor": "white",
            "linecolor": "white",
            "ticks": ""
           }
          },
          "title": {
           "x": 0.05
          },
          "xaxis": {
           "automargin": true,
           "gridcolor": "white",
           "linecolor": "white",
           "ticks": "",
           "title": {
            "standoff": 15
           },
           "zerolinecolor": "white",
           "zerolinewidth": 2
          },
          "yaxis": {
           "automargin": true,
           "gridcolor": "white",
           "linecolor": "white",
           "ticks": "",
           "title": {
            "standoff": 15
           },
           "zerolinecolor": "white",
           "zerolinewidth": 2
          }
         }
        }
       }
      },
      "text/html": [
       "<div>\n",
       "        \n",
       "        \n",
       "            <div id=\"cba5058d-e26a-4ffa-9417-1cbde4d3f769\" class=\"plotly-graph-div\" style=\"height:525px; width:100%;\"></div>\n",
       "            <script type=\"text/javascript\">\n",
       "                require([\"plotly\"], function(Plotly) {\n",
       "                    window.PLOTLYENV=window.PLOTLYENV || {};\n",
       "                    \n",
       "                if (document.getElementById(\"cba5058d-e26a-4ffa-9417-1cbde4d3f769\")) {\n",
       "                    Plotly.newPlot(\n",
       "                        'cba5058d-e26a-4ffa-9417-1cbde4d3f769',\n",
       "                        [{\"mode\": \"lines\", \"type\": \"scatter\", \"x\": [4.73, 5.33, 4.47, 5.0, 4.87, 4.67, 6.8, 4.87, 4.93, 4.6, 3.0, 3.53, 4.93, 5.87, 4.33, 5.33, 5.4, 4.4, 4.13, 3.87, 4.07, 4.47, 4.8, 5.13, 4.33, 5.6, 4.27, 4.07, 4.4, 3.07, 4.93, 4.67, 5.6, 4.8, 5.07, 5.07, 4.8, 3.87, 5.47, 5.4, 3.47, 4.27, 3.67, 4.2, 5.73, 4.0, 3.67, 4.93, 4.87, 4.47, 4.2, 4.33, 4.0, 4.67, 5.53, 5.13, 4.6, 4.2, 4.0, 4.73, 4.6, 4.67, 5.07, 5.0, 3.67, 3.93, 6.4, 4.87, 5.2, 5.0, 4.4, 3.73, 3.87, 3.73, 3.6, 4.07, 5.4, 3.6, 4.6, 4.67, 5.0, 7.0, 2.87, 5.4, 4.8, 5.07, 4.73, 3.87, 4.13, 4.73, 3.87, 4.67, 4.2, 3.87, 5.6, 3.53, 4.87, 5.0, 5.0, 4.27, 5.33, 5.13, 5.73, 5.13, 3.67, 5.07, 3.67, 4.93, 4.53, 4.53, 5.0, 4.07, 7.0, 4.0, 5.27, 3.53, 4.2, 5.53, 4.87, 4.4, 5.87, 5.53, 3.8, 4.4, 4.33, 4.67, 5.27, 4.4, 4.33, 5.27, 4.93, 5.67, 5.13, 4.47, 5.67, 4.93, 4.47, 4.2, 4.8, 4.0, 5.2, 4.47, 4.0, 6.07, 4.47, 5.8, 5.2, 4.67, 6.07, 5.93, 5.6, 4.93, 5.4, 5.07, 5.53, 5.47, 5.2, 4.93, 4.8, 3.8, 5.2, 4.33, 4.53, 4.0, 4.0, 4.73, 5.8, 5.27, 4.4, 4.87, 5.07, 5.13, 5.27, 3.07, 5.27, 3.2, 6.33, 3.87, 4.27, 4.93, 5.4, 4.0, 4.67, 4.53, 2.8, 5.07, 5.53, 5.47, 4.47, 4.93, 4.47, 5.2, 6.0, 5.4, 5.27, 4.27, 6.2, 4.87, 4.6, 3.93, 5.47, 4.53, 4.93, 5.07, 5.0, 4.67, 5.2, 5.2, 4.93, 4.0, 5.2, 5.33, 5.67, 5.0, 4.2, 5.27, 6.07, 4.4, 5.13, 4.53, 5.93, 4.93, 6.13, 5.67, 5.33, 5.67, 5.87, 5.47, 5.93, 4.73], \"y\": [3.56, 3.78, 4.89, 4.89, 4.89, 4.89, 5.0, 3.89, 3.33, 4.89, 3.44, 2.0, 4.67, 4.78, 3.44, 5.0, 4.67, 3.44, 3.67, 3.67, 4.22, 3.33, 5.0, 5.0, 3.67, 4.22, 3.44, 4.22, 3.89, 4.33, 4.33, 5.0, 4.0, 3.89, 4.67, 4.89, 4.0, 4.56, 4.56, 4.33, 2.89, 3.56, 4.0, 5.0, 4.78, 3.11, 4.67, 4.67, 3.78, 4.78, 3.78, 4.11, 2.56, 4.0, 5.0, 4.22, 1.78, 3.78, 4.78, 4.56, 3.89, 3.78, 4.78, 4.44, 2.11, 4.33, 5.0, 4.11, 4.44, 4.33, 4.0, 4.67, 4.11, 2.11, 4.22, 4.56, 4.67, 2.89, 4.33, 5.0, 2.89, 5.0, 1.11, 4.89, 3.89, 4.67, 4.0, 2.33, 3.22, 4.67, 2.44, 4.33, 3.89, 3.0, 5.0, 4.0, 4.0, 4.11, 4.11, 4.11, 3.89, 4.11, 4.44, 4.89, 3.22, 4.89, 3.44, 4.67, 4.89, 4.89, 4.89, 4.44, 2.78, 3.33, 4.89, 3.78, 3.56, 4.78, 4.78, 3.56, 4.78, 3.78, 3.44, 4.11, 3.78, 4.67, 4.44, 3.78, 4.56, 4.33, 4.0, 4.44, 4.0, 3.33, 4.78, 3.67, 3.78, 4.67, 3.67, 3.56, 4.22, 3.56, 4.11, 5.0, 2.56, 4.44, 2.33, 5.0, 5.0, 4.56, 4.89, 3.56, 4.44, 4.78, 5.0, 5.0, 3.67, 3.78, 3.78, 4.56, 4.33, 3.89, 3.89, 3.11, 4.33, 3.67, 3.33, 3.78, 5.0, 4.0, 4.56, 4.44, 4.44, 1.78, 5.0, 3.0, 5.0, 3.67, 5.0, 4.0, 4.11, 2.78, 3.67, 3.33, 1.89, 4.0, 4.22, 4.33, 4.33, 4.89, 2.44, 4.56, 3.0, 3.33, 4.89, 2.89, 5.0, 5.0, 4.33, 3.89, 4.56, 3.89, 4.33, 4.67, 4.89, 4.67, 3.67, 4.22, 3.44, 3.78, 4.0, 4.78, 4.78, 3.11, 3.22, 4.0, 4.33, 2.22, 4.33, 3.44, 2.56, 4.67, 4.0, 4.56, 4.11, 5.0, 4.44, 4.56, 5.0, 3.33]}, {\"mode\": \"markers\", \"type\": \"scatter\", \"x\": [6.0, 5.33, 6.83, 6.0, 6.67, 6.0, 6.17, 6.5, 4.17, 4.0, 6.67, 6.5, 5.33, 6.17, 6.5, 7.0, 6.17, 5.33, 4.67, 5.33, 4.83, 4.67, 6.5, 5.5, 3.83, 5.83, 4.67, 5.0, 5.33, 6.5, 5.67, 6.5, 5.67, 5.5, 6.0, 6.17, 4.83, 4.17, 6.17, 5.17, 4.67, 4.17, 5.67, 5.33, 6.0, 3.17, 3.67, 6.17, 4.67, 6.67, 5.17, 6.5, 5.5, 3.83, 6.0, 6.33, 2.0, 5.67, 5.33, 5.83, 5.0, 5.17, 4.17, 5.5, 5.67, 6.17, 6.5, 4.83, 4.67, 6.67, 3.83, 6.0, 5.17, 5.17, 4.0, 4.83, 6.67, 4.0, 4.83, 6.67, 3.67, 4.83, 2.0, 5.0, 5.5, 6.17, 4.67, 3.67, 4.33, 5.5, 4.0, 3.83, 5.67, 5.67, 5.67, 4.17, 5.17, 4.67, 5.33, 2.5, 6.17, 4.67, 5.5, 4.67, 3.33, 6.17, 3.33, 4.33, 5.17, 5.17, 5.83, 5.33, 6.0, 4.67, 5.83, 3.5, 4.67, 6.17, 4.17, 4.0, 6.0, 5.33, 4.83, 4.67, 3.67, 6.0, 5.67, 6.33, 5.67, 4.5, 5.67, 5.67, 6.5, 6.0, 6.0, 5.5, 5.67, 6.0, 6.5, 5.33, 4.67, 3.33, 3.67, 6.83, 3.67, 6.83, 4.17, 4.67, 6.83, 7.0, 5.5, 4.5, 5.67, 5.33, 6.83, 6.67, 4.17, 5.5, 5.67, 5.0, 4.67, 4.83, 2.0, 6.0, 3.83, 5.17, 3.83, 6.33, 5.33, 5.17, 4.83, 3.83, 5.67, 6.83, 7.0, 6.0, 6.5, 6.33, 5.83, 5.33, 5.83, 5.17, 4.33, 6.0, 4.17, 5.67, 6.67, 4.5, 4.33, 6.0, 5.67, 6.83, 6.17, 6.0, 5.5, 4.67, 6.83, 7.0, 5.83, 4.83, 6.5, 5.33, 4.67, 6.0, 6.0, 4.0, 5.33, 6.5, 4.0, 4.83, 4.17, 5.5, 4.5, 6.5, 5.17, 5.83, 5.0, 6.0, 5.67, 4.83, 3.67, 5.5, 6.33, 4.83, 4.83, 6.33, 4.67, 7.0, 6.83, 4.5], \"y\": [3.56, 3.78, 4.89, 4.89, 4.89, 4.89, 5.0, 3.89, 3.33, 4.89, 3.44, 2.0, 4.67, 4.78, 3.44, 5.0, 4.67, 3.44, 3.67, 3.67, 4.22, 3.33, 5.0, 5.0, 3.67, 4.22, 3.44, 4.22, 3.89, 4.33, 4.33, 5.0, 4.0, 3.89, 4.67, 4.89, 4.0, 4.56, 4.56, 4.33, 2.89, 3.56, 4.0, 5.0, 4.78, 3.11, 4.67, 4.67, 3.78, 4.78, 3.78, 4.11, 2.56, 4.0, 5.0, 4.22, 1.78, 3.78, 4.78, 4.56, 3.89, 3.78, 4.78, 4.44, 2.11, 4.33, 5.0, 4.11, 4.44, 4.33, 4.0, 4.67, 4.11, 2.11, 4.22, 4.56, 4.67, 2.89, 4.33, 5.0, 2.89, 5.0, 1.11, 4.89, 3.89, 4.67, 4.0, 2.33, 3.22, 4.67, 2.44, 4.33, 3.89, 3.0, 5.0, 4.0, 4.0, 4.11, 4.11, 4.11, 3.89, 4.11, 4.44, 4.89, 3.22, 4.89, 3.44, 4.67, 4.89, 4.89, 4.89, 4.44, 2.78, 3.33, 4.89, 3.78, 3.56, 4.78, 4.78, 3.56, 4.78, 3.78, 3.44, 4.11, 3.78, 4.67, 4.44, 3.78, 4.56, 4.33, 4.0, 4.44, 4.0, 3.33, 4.78, 3.67, 3.78, 4.67, 3.67, 3.56, 4.22, 3.56, 4.11, 5.0, 2.56, 4.44, 2.33, 5.0, 5.0, 4.56, 4.89, 3.56, 4.44, 4.78, 5.0, 5.0, 3.67, 3.78, 3.78, 4.56, 4.33, 3.89, 3.89, 3.11, 4.33, 3.67, 3.33, 3.78, 5.0, 4.0, 4.56, 4.44, 4.44, 1.78, 5.0, 3.0, 5.0, 3.67, 5.0, 4.0, 4.11, 2.78, 3.67, 3.33, 1.89, 4.0, 4.22, 4.33, 4.33, 4.89, 2.44, 4.56, 3.0, 3.33, 4.89, 2.89, 5.0, 5.0, 4.33, 3.89, 4.56, 3.89, 4.33, 4.67, 4.89, 4.67, 3.67, 4.22, 3.44, 3.78, 4.0, 4.78, 4.78, 3.11, 3.22, 4.0, 4.33, 2.22, 4.33, 3.44, 2.56, 4.67, 4.0, 4.56, 4.11, 5.0, 4.44, 4.56, 5.0, 3.33]}],\n",
       "                        {\"template\": {\"data\": {\"bar\": [{\"error_x\": {\"color\": \"#2a3f5f\"}, \"error_y\": {\"color\": \"#2a3f5f\"}, \"marker\": {\"line\": {\"color\": \"#E5ECF6\", \"width\": 0.5}}, \"type\": \"bar\"}], \"barpolar\": [{\"marker\": {\"line\": {\"color\": \"#E5ECF6\", \"width\": 0.5}}, \"type\": \"barpolar\"}], \"carpet\": [{\"aaxis\": {\"endlinecolor\": \"#2a3f5f\", \"gridcolor\": \"white\", \"linecolor\": \"white\", \"minorgridcolor\": \"white\", \"startlinecolor\": \"#2a3f5f\"}, \"baxis\": {\"endlinecolor\": \"#2a3f5f\", \"gridcolor\": \"white\", \"linecolor\": \"white\", \"minorgridcolor\": \"white\", \"startlinecolor\": \"#2a3f5f\"}, \"type\": \"carpet\"}], \"choropleth\": [{\"colorbar\": {\"outlinewidth\": 0, \"ticks\": \"\"}, \"type\": \"choropleth\"}], \"contour\": [{\"colorbar\": {\"outlinewidth\": 0, \"ticks\": \"\"}, \"colorscale\": [[0.0, \"#0d0887\"], [0.1111111111111111, \"#46039f\"], [0.2222222222222222, \"#7201a8\"], [0.3333333333333333, \"#9c179e\"], [0.4444444444444444, \"#bd3786\"], [0.5555555555555556, \"#d8576b\"], [0.6666666666666666, \"#ed7953\"], [0.7777777777777778, \"#fb9f3a\"], [0.8888888888888888, \"#fdca26\"], [1.0, \"#f0f921\"]], \"type\": \"contour\"}], \"contourcarpet\": [{\"colorbar\": {\"outlinewidth\": 0, \"ticks\": \"\"}, \"type\": \"contourcarpet\"}], \"heatmap\": [{\"colorbar\": {\"outlinewidth\": 0, \"ticks\": \"\"}, \"colorscale\": [[0.0, \"#0d0887\"], [0.1111111111111111, \"#46039f\"], [0.2222222222222222, \"#7201a8\"], [0.3333333333333333, \"#9c179e\"], [0.4444444444444444, \"#bd3786\"], [0.5555555555555556, \"#d8576b\"], [0.6666666666666666, \"#ed7953\"], [0.7777777777777778, \"#fb9f3a\"], [0.8888888888888888, \"#fdca26\"], [1.0, \"#f0f921\"]], \"type\": \"heatmap\"}], \"heatmapgl\": [{\"colorbar\": {\"outlinewidth\": 0, \"ticks\": \"\"}, \"colorscale\": [[0.0, \"#0d0887\"], [0.1111111111111111, \"#46039f\"], [0.2222222222222222, \"#7201a8\"], [0.3333333333333333, \"#9c179e\"], [0.4444444444444444, \"#bd3786\"], [0.5555555555555556, \"#d8576b\"], [0.6666666666666666, \"#ed7953\"], [0.7777777777777778, \"#fb9f3a\"], [0.8888888888888888, \"#fdca26\"], [1.0, \"#f0f921\"]], \"type\": \"heatmapgl\"}], \"histogram\": [{\"marker\": {\"colorbar\": {\"outlinewidth\": 0, \"ticks\": \"\"}}, \"type\": \"histogram\"}], \"histogram2d\": [{\"colorbar\": {\"outlinewidth\": 0, \"ticks\": \"\"}, \"colorscale\": [[0.0, \"#0d0887\"], [0.1111111111111111, \"#46039f\"], [0.2222222222222222, \"#7201a8\"], [0.3333333333333333, \"#9c179e\"], [0.4444444444444444, \"#bd3786\"], [0.5555555555555556, \"#d8576b\"], [0.6666666666666666, \"#ed7953\"], [0.7777777777777778, \"#fb9f3a\"], [0.8888888888888888, \"#fdca26\"], [1.0, \"#f0f921\"]], \"type\": \"histogram2d\"}], \"histogram2dcontour\": [{\"colorbar\": {\"outlinewidth\": 0, \"ticks\": \"\"}, \"colorscale\": [[0.0, \"#0d0887\"], [0.1111111111111111, \"#46039f\"], [0.2222222222222222, \"#7201a8\"], [0.3333333333333333, \"#9c179e\"], [0.4444444444444444, \"#bd3786\"], [0.5555555555555556, \"#d8576b\"], [0.6666666666666666, \"#ed7953\"], [0.7777777777777778, \"#fb9f3a\"], [0.8888888888888888, \"#fdca26\"], [1.0, \"#f0f921\"]], \"type\": \"histogram2dcontour\"}], \"mesh3d\": [{\"colorbar\": {\"outlinewidth\": 0, \"ticks\": \"\"}, \"type\": \"mesh3d\"}], \"parcoords\": [{\"line\": {\"colorbar\": {\"outlinewidth\": 0, \"ticks\": \"\"}}, \"type\": \"parcoords\"}], \"pie\": [{\"automargin\": true, \"type\": \"pie\"}], \"scatter\": [{\"marker\": {\"colorbar\": {\"outlinewidth\": 0, \"ticks\": \"\"}}, \"type\": \"scatter\"}], \"scatter3d\": [{\"line\": {\"colorbar\": {\"outlinewidth\": 0, \"ticks\": \"\"}}, \"marker\": {\"colorbar\": {\"outlinewidth\": 0, \"ticks\": \"\"}}, \"type\": \"scatter3d\"}], \"scattercarpet\": [{\"marker\": {\"colorbar\": {\"outlinewidth\": 0, \"ticks\": \"\"}}, \"type\": \"scattercarpet\"}], \"scattergeo\": [{\"marker\": {\"colorbar\": {\"outlinewidth\": 0, \"ticks\": \"\"}}, \"type\": \"scattergeo\"}], \"scattergl\": [{\"marker\": {\"colorbar\": {\"outlinewidth\": 0, \"ticks\": \"\"}}, \"type\": \"scattergl\"}], \"scattermapbox\": [{\"marker\": {\"colorbar\": {\"outlinewidth\": 0, \"ticks\": \"\"}}, \"type\": \"scattermapbox\"}], \"scatterpolar\": [{\"marker\": {\"colorbar\": {\"outlinewidth\": 0, \"ticks\": \"\"}}, \"type\": \"scatterpolar\"}], \"scatterpolargl\": [{\"marker\": {\"colorbar\": {\"outlinewidth\": 0, \"ticks\": \"\"}}, \"type\": \"scatterpolargl\"}], \"scatterternary\": [{\"marker\": {\"colorbar\": {\"outlinewidth\": 0, \"ticks\": \"\"}}, \"type\": \"scatterternary\"}], \"surface\": [{\"colorbar\": {\"outlinewidth\": 0, \"ticks\": \"\"}, \"colorscale\": [[0.0, \"#0d0887\"], [0.1111111111111111, \"#46039f\"], [0.2222222222222222, \"#7201a8\"], [0.3333333333333333, \"#9c179e\"], [0.4444444444444444, \"#bd3786\"], [0.5555555555555556, \"#d8576b\"], [0.6666666666666666, \"#ed7953\"], [0.7777777777777778, \"#fb9f3a\"], [0.8888888888888888, \"#fdca26\"], [1.0, \"#f0f921\"]], \"type\": \"surface\"}], \"table\": [{\"cells\": {\"fill\": {\"color\": \"#EBF0F8\"}, \"line\": {\"color\": \"white\"}}, \"header\": {\"fill\": {\"color\": \"#C8D4E3\"}, \"line\": {\"color\": \"white\"}}, \"type\": \"table\"}]}, \"layout\": {\"annotationdefaults\": {\"arrowcolor\": \"#2a3f5f\", \"arrowhead\": 0, \"arrowwidth\": 1}, \"coloraxis\": {\"colorbar\": {\"outlinewidth\": 0, \"ticks\": \"\"}}, \"colorscale\": {\"diverging\": [[0, \"#8e0152\"], [0.1, \"#c51b7d\"], [0.2, \"#de77ae\"], [0.3, \"#f1b6da\"], [0.4, \"#fde0ef\"], [0.5, \"#f7f7f7\"], [0.6, \"#e6f5d0\"], [0.7, \"#b8e186\"], [0.8, \"#7fbc41\"], [0.9, \"#4d9221\"], [1, \"#276419\"]], \"sequential\": [[0.0, \"#0d0887\"], [0.1111111111111111, \"#46039f\"], [0.2222222222222222, \"#7201a8\"], [0.3333333333333333, \"#9c179e\"], [0.4444444444444444, \"#bd3786\"], [0.5555555555555556, \"#d8576b\"], [0.6666666666666666, \"#ed7953\"], [0.7777777777777778, \"#fb9f3a\"], [0.8888888888888888, \"#fdca26\"], [1.0, \"#f0f921\"]], \"sequentialminus\": [[0.0, \"#0d0887\"], [0.1111111111111111, \"#46039f\"], [0.2222222222222222, \"#7201a8\"], [0.3333333333333333, \"#9c179e\"], [0.4444444444444444, \"#bd3786\"], [0.5555555555555556, \"#d8576b\"], [0.6666666666666666, \"#ed7953\"], [0.7777777777777778, \"#fb9f3a\"], [0.8888888888888888, \"#fdca26\"], [1.0, \"#f0f921\"]]}, \"colorway\": [\"#636efa\", \"#EF553B\", \"#00cc96\", \"#ab63fa\", \"#FFA15A\", \"#19d3f3\", \"#FF6692\", \"#B6E880\", \"#FF97FF\", \"#FECB52\"], \"font\": {\"color\": \"#2a3f5f\"}, \"geo\": {\"bgcolor\": \"white\", \"lakecolor\": \"white\", \"landcolor\": \"#E5ECF6\", \"showlakes\": true, \"showland\": true, \"subunitcolor\": \"white\"}, \"hoverlabel\": {\"align\": \"left\"}, \"hovermode\": \"closest\", \"mapbox\": {\"style\": \"light\"}, \"paper_bgcolor\": \"white\", \"plot_bgcolor\": \"#E5ECF6\", \"polar\": {\"angularaxis\": {\"gridcolor\": \"white\", \"linecolor\": \"white\", \"ticks\": \"\"}, \"bgcolor\": \"#E5ECF6\", \"radialaxis\": {\"gridcolor\": \"white\", \"linecolor\": \"white\", \"ticks\": \"\"}}, \"scene\": {\"xaxis\": {\"backgroundcolor\": \"#E5ECF6\", \"gridcolor\": \"white\", \"gridwidth\": 2, \"linecolor\": \"white\", \"showbackground\": true, \"ticks\": \"\", \"zerolinecolor\": \"white\"}, \"yaxis\": {\"backgroundcolor\": \"#E5ECF6\", \"gridcolor\": \"white\", \"gridwidth\": 2, \"linecolor\": \"white\", \"showbackground\": true, \"ticks\": \"\", \"zerolinecolor\": \"white\"}, \"zaxis\": {\"backgroundcolor\": \"#E5ECF6\", \"gridcolor\": \"white\", \"gridwidth\": 2, \"linecolor\": \"white\", \"showbackground\": true, \"ticks\": \"\", \"zerolinecolor\": \"white\"}}, \"shapedefaults\": {\"line\": {\"color\": \"#2a3f5f\"}}, \"ternary\": {\"aaxis\": {\"gridcolor\": \"white\", \"linecolor\": \"white\", \"ticks\": \"\"}, \"baxis\": {\"gridcolor\": \"white\", \"linecolor\": \"white\", \"ticks\": \"\"}, \"bgcolor\": \"#E5ECF6\", \"caxis\": {\"gridcolor\": \"white\", \"linecolor\": \"white\", \"ticks\": \"\"}}, \"title\": {\"x\": 0.05}, \"xaxis\": {\"automargin\": true, \"gridcolor\": \"white\", \"linecolor\": \"white\", \"ticks\": \"\", \"title\": {\"standoff\": 15}, \"zerolinecolor\": \"white\", \"zerolinewidth\": 2}, \"yaxis\": {\"automargin\": true, \"gridcolor\": \"white\", \"linecolor\": \"white\", \"ticks\": \"\", \"title\": {\"standoff\": 15}, \"zerolinecolor\": \"white\", \"zerolinewidth\": 2}}}},\n",
       "                        {\"responsive\": true}\n",
       "                    ).then(function(){\n",
       "                            \n",
       "var gd = document.getElementById('cba5058d-e26a-4ffa-9417-1cbde4d3f769');\n",
       "var x = new MutationObserver(function (mutations, observer) {{\n",
       "        var display = window.getComputedStyle(gd).display;\n",
       "        if (!display || display === 'none') {{\n",
       "            console.log([gd, 'removed!']);\n",
       "            Plotly.purge(gd);\n",
       "            observer.disconnect();\n",
       "        }}\n",
       "}});\n",
       "\n",
       "// Listen for the removal of the full notebook cells\n",
       "var notebookContainer = gd.closest('#notebook-container');\n",
       "if (notebookContainer) {{\n",
       "    x.observe(notebookContainer, {childList: true});\n",
       "}}\n",
       "\n",
       "// Listen for the clearing of the current output cell\n",
       "var outputEl = gd.closest('.output');\n",
       "if (outputEl) {{\n",
       "    x.observe(outputEl, {childList: true});\n",
       "}}\n",
       "\n",
       "                        })\n",
       "                };\n",
       "                });\n",
       "            </script>\n",
       "        </div>"
      ]
     },
     "metadata": {},
     "output_type": "display_data"
    }
   ],
   "source": [
    "figAge = px.histogram(df,x='Age', histfunc = 'sum')\n",
    "figAge.show() # does not work for me anymore ??????\n",
    "figAge.write_html('figAge.html', auto_open = True)\n",
    "\n",
    "figAgeEnv = px.scatter(df, x='Age', y='EnvironmentalAttitude')\n",
    "figAgeEnv.write_html('figAgeEnv.html', auto_open = True)\n",
    "\n",
    "figAtti = px.scatter(df, x='EnvironmentalAttitude', y='Attitude')\n",
    "figAtti.write_html('figAtti.html', auto_open = True)\n",
    "\n",
    "figRA = px.scatter(df, x='RelativeAdvantage', y='Attitude')\n",
    "figRA.write_html('figRA.html', auto_open = True)\n",
    "\n",
    "figComp = px.scatter(df, x='Compatibility', y='Attitude')\n",
    "figComp.write_html('figComp.html', auto_open = True)\n",
    "\n",
    "figCom = px.scatter(df, x='Complexity', y='Attitude')\n",
    "figCom.write_html('figCom.html', auto_open = True)\n",
    "\n",
    "#this does not show up either ... do same for you???\n",
    "trace1 = go.Scatter(x=df.RelativeAdvantage, y=df.Attitude, mode='lines')\n",
    "trace2 = go.Scatter(x=df.Compatibility, y=df.Attitude, mode='markers')\n",
    "iplot(go.Figure([trace1, trace2]))\n"
   ]
  },
  {
   "cell_type": "code",
   "execution_count": 22,
   "metadata": {},
   "outputs": [
    {
     "data": {
      "application/vnd.plotly.v1+json": {
       "config": {
        "plotlyServerURL": "https://plot.ly"
       },
       "data": [
        {
         "hoverlabel": {
          "namelength": 0
         },
         "hovertemplate": "Attitude=%{x}<br>EVChoice=%{y}",
         "legendgroup": "",
         "marker": {
          "color": "#636efa",
          "symbol": "circle"
         },
         "mode": "markers",
         "name": "",
         "showlegend": false,
         "type": "scatter",
         "x": [
          3.559999942779541,
          3.7799999713897705,
          4.889999866485596,
          4.889999866485596,
          4.889999866485596,
          4.889999866485596,
          5,
          3.890000104904175,
          3.3299999237060547,
          4.889999866485596,
          3.440000057220459,
          2,
          4.670000076293945,
          4.78000020980835,
          3.440000057220459,
          5,
          4.670000076293945,
          3.440000057220459,
          3.6700000762939453,
          3.6700000762939453,
          4.21999979019165,
          3.3299999237060547,
          5,
          5,
          3.6700000762939453,
          4.21999979019165,
          3.440000057220459,
          4.21999979019165,
          3.890000104904175,
          4.329999923706055,
          4.329999923706055,
          5,
          4,
          3.890000104904175,
          4.670000076293945,
          4.889999866485596,
          4,
          4.559999942779541,
          4.559999942779541,
          4.329999923706055,
          2.890000104904175,
          3.559999942779541,
          4,
          5,
          4.78000020980835,
          3.109999895095825,
          4.670000076293945,
          4.670000076293945,
          3.7799999713897705,
          4.78000020980835,
          3.7799999713897705,
          4.110000133514404,
          2.559999942779541,
          4,
          5,
          4.21999979019165,
          1.7799999713897705,
          3.7799999713897705,
          4.78000020980835,
          4.559999942779541,
          3.890000104904175,
          3.7799999713897705,
          4.78000020980835,
          4.440000057220459,
          2.109999895095825,
          4.329999923706055,
          5,
          4.110000133514404,
          4.440000057220459,
          4.329999923706055,
          4,
          4.670000076293945,
          4.110000133514404,
          2.109999895095825,
          4.21999979019165,
          4.559999942779541,
          4.670000076293945,
          2.890000104904175,
          4.329999923706055,
          5,
          2.890000104904175,
          5,
          1.1100000143051147,
          4.889999866485596,
          3.890000104904175,
          4.670000076293945,
          4,
          2.3299999237060547,
          3.2200000286102295,
          4.670000076293945,
          2.440000057220459,
          4.329999923706055,
          3.890000104904175,
          3,
          5,
          4,
          4,
          4.110000133514404,
          4.110000133514404,
          4.110000133514404,
          3.890000104904175,
          4.110000133514404,
          4.440000057220459,
          4.889999866485596,
          3.2200000286102295,
          4.889999866485596,
          3.440000057220459,
          4.670000076293945,
          4.889999866485596,
          4.889999866485596,
          4.889999866485596,
          4.440000057220459,
          2.7799999713897705,
          3.3299999237060547,
          4.889999866485596,
          3.7799999713897705,
          3.559999942779541,
          4.78000020980835,
          4.78000020980835,
          3.559999942779541,
          4.78000020980835,
          3.7799999713897705,
          3.440000057220459,
          4.110000133514404,
          3.7799999713897705,
          4.670000076293945,
          4.440000057220459,
          3.7799999713897705,
          4.559999942779541,
          4.329999923706055,
          4,
          4.440000057220459,
          4,
          3.3299999237060547,
          4.78000020980835,
          3.6700000762939453,
          3.7799999713897705,
          4.670000076293945,
          3.6700000762939453,
          3.559999942779541,
          4.21999979019165,
          3.559999942779541,
          4.110000133514404,
          5,
          2.559999942779541,
          4.440000057220459,
          2.3299999237060547,
          5,
          5,
          4.559999942779541,
          4.889999866485596,
          3.559999942779541,
          4.440000057220459,
          4.78000020980835,
          5,
          5,
          3.6700000762939453,
          3.7799999713897705,
          3.7799999713897705,
          4.559999942779541,
          4.329999923706055,
          3.890000104904175,
          3.890000104904175,
          3.109999895095825,
          4.329999923706055,
          3.6700000762939453,
          3.3299999237060547,
          3.7799999713897705,
          5,
          4,
          4.559999942779541,
          4.440000057220459,
          4.440000057220459,
          1.7799999713897705,
          5,
          3,
          5,
          3.6700000762939453,
          5,
          4,
          4.110000133514404,
          2.7799999713897705,
          3.6700000762939453,
          3.3299999237060547,
          1.8899999856948853,
          4,
          4.21999979019165,
          4.329999923706055,
          4.329999923706055,
          4.889999866485596,
          2.440000057220459,
          4.559999942779541,
          3,
          3.3299999237060547,
          4.889999866485596,
          2.890000104904175,
          5,
          5,
          4.329999923706055,
          3.890000104904175,
          4.559999942779541,
          3.890000104904175,
          4.329999923706055,
          4.670000076293945,
          4.889999866485596,
          4.670000076293945,
          3.6700000762939453,
          4.21999979019165,
          3.440000057220459,
          3.7799999713897705,
          4,
          4.78000020980835,
          4.78000020980835,
          3.109999895095825,
          3.2200000286102295,
          4,
          4.329999923706055,
          2.2200000286102295,
          4.329999923706055,
          3.440000057220459,
          2.559999942779541,
          4.670000076293945,
          4,
          4.559999942779541,
          4.110000133514404,
          5,
          4.440000057220459,
          4.559999942779541,
          5,
          3.3299999237060547
         ],
         "xaxis": "x",
         "y": [
          0,
          16,
          19,
          19,
          19,
          19,
          19,
          10,
          10,
          10,
          13,
          3,
          4,
          19,
          8,
          19,
          19,
          13,
          11,
          15,
          13,
          5,
          19,
          19,
          6,
          19,
          19,
          6,
          17,
          10,
          19,
          19,
          19,
          14,
          19,
          18,
          8,
          16,
          18,
          19,
          7,
          6,
          8,
          19,
          16,
          18,
          9,
          19,
          13,
          19,
          10,
          15,
          2,
          8,
          19,
          9,
          0,
          15,
          17,
          19,
          19,
          13,
          7,
          19,
          17,
          5,
          19,
          18,
          19,
          16,
          19,
          18,
          19,
          16,
          3,
          11,
          14,
          19,
          7,
          19,
          19,
          10,
          19,
          2,
          16,
          8,
          7,
          9,
          0,
          4,
          19,
          1,
          13,
          13,
          0,
          9,
          19,
          17,
          18,
          18,
          17,
          0,
          15,
          19,
          19,
          19,
          12,
          14,
          19,
          19,
          17,
          19,
          16,
          11,
          18,
          13,
          18,
          19,
          16,
          17,
          13,
          6,
          12,
          13,
          15,
          18,
          16,
          19,
          17,
          17,
          16,
          19,
          14,
          6,
          19,
          19,
          19,
          19,
          7,
          11,
          19,
          19,
          19,
          19,
          6,
          19,
          18,
          10,
          19,
          19,
          19,
          19,
          12,
          19,
          17,
          19,
          19,
          14,
          18,
          19,
          18,
          19,
          13,
          3,
          14,
          19,
          10,
          16,
          14,
          19,
          17,
          18,
          11,
          10,
          15,
          15,
          19,
          15,
          15,
          18,
          15,
          3,
          10,
          19,
          0,
          19,
          12,
          15,
          19,
          18,
          8,
          19,
          19,
          19,
          16,
          14,
          19,
          14,
          13,
          19,
          19,
          13,
          7,
          16,
          16,
          16,
          15,
          19,
          11,
          7,
          19,
          18,
          19,
          12,
          12,
          14,
          15,
          18,
          17,
          14,
          6,
          15,
          18,
          19,
          19,
          19,
          19,
          19,
          19,
          18
         ],
         "yaxis": "y"
        }
       ],
       "layout": {
        "legend": {
         "tracegroupgap": 0
        },
        "margin": {
         "t": 60
        },
        "template": {
         "data": {
          "bar": [
           {
            "error_x": {
             "color": "#2a3f5f"
            },
            "error_y": {
             "color": "#2a3f5f"
            },
            "marker": {
             "line": {
              "color": "#E5ECF6",
              "width": 0.5
             }
            },
            "type": "bar"
           }
          ],
          "barpolar": [
           {
            "marker": {
             "line": {
              "color": "#E5ECF6",
              "width": 0.5
             }
            },
            "type": "barpolar"
           }
          ],
          "carpet": [
           {
            "aaxis": {
             "endlinecolor": "#2a3f5f",
             "gridcolor": "white",
             "linecolor": "white",
             "minorgridcolor": "white",
             "startlinecolor": "#2a3f5f"
            },
            "baxis": {
             "endlinecolor": "#2a3f5f",
             "gridcolor": "white",
             "linecolor": "white",
             "minorgridcolor": "white",
             "startlinecolor": "#2a3f5f"
            },
            "type": "carpet"
           }
          ],
          "choropleth": [
           {
            "colorbar": {
             "outlinewidth": 0,
             "ticks": ""
            },
            "type": "choropleth"
           }
          ],
          "contour": [
           {
            "colorbar": {
             "outlinewidth": 0,
             "ticks": ""
            },
            "colorscale": [
             [
              0,
              "#0d0887"
             ],
             [
              0.1111111111111111,
              "#46039f"
             ],
             [
              0.2222222222222222,
              "#7201a8"
             ],
             [
              0.3333333333333333,
              "#9c179e"
             ],
             [
              0.4444444444444444,
              "#bd3786"
             ],
             [
              0.5555555555555556,
              "#d8576b"
             ],
             [
              0.6666666666666666,
              "#ed7953"
             ],
             [
              0.7777777777777778,
              "#fb9f3a"
             ],
             [
              0.8888888888888888,
              "#fdca26"
             ],
             [
              1,
              "#f0f921"
             ]
            ],
            "type": "contour"
           }
          ],
          "contourcarpet": [
           {
            "colorbar": {
             "outlinewidth": 0,
             "ticks": ""
            },
            "type": "contourcarpet"
           }
          ],
          "heatmap": [
           {
            "colorbar": {
             "outlinewidth": 0,
             "ticks": ""
            },
            "colorscale": [
             [
              0,
              "#0d0887"
             ],
             [
              0.1111111111111111,
              "#46039f"
             ],
             [
              0.2222222222222222,
              "#7201a8"
             ],
             [
              0.3333333333333333,
              "#9c179e"
             ],
             [
              0.4444444444444444,
              "#bd3786"
             ],
             [
              0.5555555555555556,
              "#d8576b"
             ],
             [
              0.6666666666666666,
              "#ed7953"
             ],
             [
              0.7777777777777778,
              "#fb9f3a"
             ],
             [
              0.8888888888888888,
              "#fdca26"
             ],
             [
              1,
              "#f0f921"
             ]
            ],
            "type": "heatmap"
           }
          ],
          "heatmapgl": [
           {
            "colorbar": {
             "outlinewidth": 0,
             "ticks": ""
            },
            "colorscale": [
             [
              0,
              "#0d0887"
             ],
             [
              0.1111111111111111,
              "#46039f"
             ],
             [
              0.2222222222222222,
              "#7201a8"
             ],
             [
              0.3333333333333333,
              "#9c179e"
             ],
             [
              0.4444444444444444,
              "#bd3786"
             ],
             [
              0.5555555555555556,
              "#d8576b"
             ],
             [
              0.6666666666666666,
              "#ed7953"
             ],
             [
              0.7777777777777778,
              "#fb9f3a"
             ],
             [
              0.8888888888888888,
              "#fdca26"
             ],
             [
              1,
              "#f0f921"
             ]
            ],
            "type": "heatmapgl"
           }
          ],
          "histogram": [
           {
            "marker": {
             "colorbar": {
              "outlinewidth": 0,
              "ticks": ""
             }
            },
            "type": "histogram"
           }
          ],
          "histogram2d": [
           {
            "colorbar": {
             "outlinewidth": 0,
             "ticks": ""
            },
            "colorscale": [
             [
              0,
              "#0d0887"
             ],
             [
              0.1111111111111111,
              "#46039f"
             ],
             [
              0.2222222222222222,
              "#7201a8"
             ],
             [
              0.3333333333333333,
              "#9c179e"
             ],
             [
              0.4444444444444444,
              "#bd3786"
             ],
             [
              0.5555555555555556,
              "#d8576b"
             ],
             [
              0.6666666666666666,
              "#ed7953"
             ],
             [
              0.7777777777777778,
              "#fb9f3a"
             ],
             [
              0.8888888888888888,
              "#fdca26"
             ],
             [
              1,
              "#f0f921"
             ]
            ],
            "type": "histogram2d"
           }
          ],
          "histogram2dcontour": [
           {
            "colorbar": {
             "outlinewidth": 0,
             "ticks": ""
            },
            "colorscale": [
             [
              0,
              "#0d0887"
             ],
             [
              0.1111111111111111,
              "#46039f"
             ],
             [
              0.2222222222222222,
              "#7201a8"
             ],
             [
              0.3333333333333333,
              "#9c179e"
             ],
             [
              0.4444444444444444,
              "#bd3786"
             ],
             [
              0.5555555555555556,
              "#d8576b"
             ],
             [
              0.6666666666666666,
              "#ed7953"
             ],
             [
              0.7777777777777778,
              "#fb9f3a"
             ],
             [
              0.8888888888888888,
              "#fdca26"
             ],
             [
              1,
              "#f0f921"
             ]
            ],
            "type": "histogram2dcontour"
           }
          ],
          "mesh3d": [
           {
            "colorbar": {
             "outlinewidth": 0,
             "ticks": ""
            },
            "type": "mesh3d"
           }
          ],
          "parcoords": [
           {
            "line": {
             "colorbar": {
              "outlinewidth": 0,
              "ticks": ""
             }
            },
            "type": "parcoords"
           }
          ],
          "pie": [
           {
            "automargin": true,
            "type": "pie"
           }
          ],
          "scatter": [
           {
            "marker": {
             "colorbar": {
              "outlinewidth": 0,
              "ticks": ""
             }
            },
            "type": "scatter"
           }
          ],
          "scatter3d": [
           {
            "line": {
             "colorbar": {
              "outlinewidth": 0,
              "ticks": ""
             }
            },
            "marker": {
             "colorbar": {
              "outlinewidth": 0,
              "ticks": ""
             }
            },
            "type": "scatter3d"
           }
          ],
          "scattercarpet": [
           {
            "marker": {
             "colorbar": {
              "outlinewidth": 0,
              "ticks": ""
             }
            },
            "type": "scattercarpet"
           }
          ],
          "scattergeo": [
           {
            "marker": {
             "colorbar": {
              "outlinewidth": 0,
              "ticks": ""
             }
            },
            "type": "scattergeo"
           }
          ],
          "scattergl": [
           {
            "marker": {
             "colorbar": {
              "outlinewidth": 0,
              "ticks": ""
             }
            },
            "type": "scattergl"
           }
          ],
          "scattermapbox": [
           {
            "marker": {
             "colorbar": {
              "outlinewidth": 0,
              "ticks": ""
             }
            },
            "type": "scattermapbox"
           }
          ],
          "scatterpolar": [
           {
            "marker": {
             "colorbar": {
              "outlinewidth": 0,
              "ticks": ""
             }
            },
            "type": "scatterpolar"
           }
          ],
          "scatterpolargl": [
           {
            "marker": {
             "colorbar": {
              "outlinewidth": 0,
              "ticks": ""
             }
            },
            "type": "scatterpolargl"
           }
          ],
          "scatterternary": [
           {
            "marker": {
             "colorbar": {
              "outlinewidth": 0,
              "ticks": ""
             }
            },
            "type": "scatterternary"
           }
          ],
          "surface": [
           {
            "colorbar": {
             "outlinewidth": 0,
             "ticks": ""
            },
            "colorscale": [
             [
              0,
              "#0d0887"
             ],
             [
              0.1111111111111111,
              "#46039f"
             ],
             [
              0.2222222222222222,
              "#7201a8"
             ],
             [
              0.3333333333333333,
              "#9c179e"
             ],
             [
              0.4444444444444444,
              "#bd3786"
             ],
             [
              0.5555555555555556,
              "#d8576b"
             ],
             [
              0.6666666666666666,
              "#ed7953"
             ],
             [
              0.7777777777777778,
              "#fb9f3a"
             ],
             [
              0.8888888888888888,
              "#fdca26"
             ],
             [
              1,
              "#f0f921"
             ]
            ],
            "type": "surface"
           }
          ],
          "table": [
           {
            "cells": {
             "fill": {
              "color": "#EBF0F8"
             },
             "line": {
              "color": "white"
             }
            },
            "header": {
             "fill": {
              "color": "#C8D4E3"
             },
             "line": {
              "color": "white"
             }
            },
            "type": "table"
           }
          ]
         },
         "layout": {
          "annotationdefaults": {
           "arrowcolor": "#2a3f5f",
           "arrowhead": 0,
           "arrowwidth": 1
          },
          "coloraxis": {
           "colorbar": {
            "outlinewidth": 0,
            "ticks": ""
           }
          },
          "colorscale": {
           "diverging": [
            [
             0,
             "#8e0152"
            ],
            [
             0.1,
             "#c51b7d"
            ],
            [
             0.2,
             "#de77ae"
            ],
            [
             0.3,
             "#f1b6da"
            ],
            [
             0.4,
             "#fde0ef"
            ],
            [
             0.5,
             "#f7f7f7"
            ],
            [
             0.6,
             "#e6f5d0"
            ],
            [
             0.7,
             "#b8e186"
            ],
            [
             0.8,
             "#7fbc41"
            ],
            [
             0.9,
             "#4d9221"
            ],
            [
             1,
             "#276419"
            ]
           ],
           "sequential": [
            [
             0,
             "#0d0887"
            ],
            [
             0.1111111111111111,
             "#46039f"
            ],
            [
             0.2222222222222222,
             "#7201a8"
            ],
            [
             0.3333333333333333,
             "#9c179e"
            ],
            [
             0.4444444444444444,
             "#bd3786"
            ],
            [
             0.5555555555555556,
             "#d8576b"
            ],
            [
             0.6666666666666666,
             "#ed7953"
            ],
            [
             0.7777777777777778,
             "#fb9f3a"
            ],
            [
             0.8888888888888888,
             "#fdca26"
            ],
            [
             1,
             "#f0f921"
            ]
           ],
           "sequentialminus": [
            [
             0,
             "#0d0887"
            ],
            [
             0.1111111111111111,
             "#46039f"
            ],
            [
             0.2222222222222222,
             "#7201a8"
            ],
            [
             0.3333333333333333,
             "#9c179e"
            ],
            [
             0.4444444444444444,
             "#bd3786"
            ],
            [
             0.5555555555555556,
             "#d8576b"
            ],
            [
             0.6666666666666666,
             "#ed7953"
            ],
            [
             0.7777777777777778,
             "#fb9f3a"
            ],
            [
             0.8888888888888888,
             "#fdca26"
            ],
            [
             1,
             "#f0f921"
            ]
           ]
          },
          "colorway": [
           "#636efa",
           "#EF553B",
           "#00cc96",
           "#ab63fa",
           "#FFA15A",
           "#19d3f3",
           "#FF6692",
           "#B6E880",
           "#FF97FF",
           "#FECB52"
          ],
          "font": {
           "color": "#2a3f5f"
          },
          "geo": {
           "bgcolor": "white",
           "lakecolor": "white",
           "landcolor": "#E5ECF6",
           "showlakes": true,
           "showland": true,
           "subunitcolor": "white"
          },
          "hoverlabel": {
           "align": "left"
          },
          "hovermode": "closest",
          "mapbox": {
           "style": "light"
          },
          "paper_bgcolor": "white",
          "plot_bgcolor": "#E5ECF6",
          "polar": {
           "angularaxis": {
            "gridcolor": "white",
            "linecolor": "white",
            "ticks": ""
           },
           "bgcolor": "#E5ECF6",
           "radialaxis": {
            "gridcolor": "white",
            "linecolor": "white",
            "ticks": ""
           }
          },
          "scene": {
           "xaxis": {
            "backgroundcolor": "#E5ECF6",
            "gridcolor": "white",
            "gridwidth": 2,
            "linecolor": "white",
            "showbackground": true,
            "ticks": "",
            "zerolinecolor": "white"
           },
           "yaxis": {
            "backgroundcolor": "#E5ECF6",
            "gridcolor": "white",
            "gridwidth": 2,
            "linecolor": "white",
            "showbackground": true,
            "ticks": "",
            "zerolinecolor": "white"
           },
           "zaxis": {
            "backgroundcolor": "#E5ECF6",
            "gridcolor": "white",
            "gridwidth": 2,
            "linecolor": "white",
            "showbackground": true,
            "ticks": "",
            "zerolinecolor": "white"
           }
          },
          "shapedefaults": {
           "line": {
            "color": "#2a3f5f"
           }
          },
          "ternary": {
           "aaxis": {
            "gridcolor": "white",
            "linecolor": "white",
            "ticks": ""
           },
           "baxis": {
            "gridcolor": "white",
            "linecolor": "white",
            "ticks": ""
           },
           "bgcolor": "#E5ECF6",
           "caxis": {
            "gridcolor": "white",
            "linecolor": "white",
            "ticks": ""
           }
          },
          "title": {
           "x": 0.05
          },
          "xaxis": {
           "automargin": true,
           "gridcolor": "white",
           "linecolor": "white",
           "ticks": "",
           "title": {
            "standoff": 15
           },
           "zerolinecolor": "white",
           "zerolinewidth": 2
          },
          "yaxis": {
           "automargin": true,
           "gridcolor": "white",
           "linecolor": "white",
           "ticks": "",
           "title": {
            "standoff": 15
           },
           "zerolinecolor": "white",
           "zerolinewidth": 2
          }
         }
        },
        "xaxis": {
         "anchor": "y",
         "domain": [
          0,
          1
         ],
         "title": {
          "text": "Attitude"
         }
        },
        "yaxis": {
         "anchor": "x",
         "domain": [
          0,
          1
         ],
         "title": {
          "text": "EVChoice"
         }
        }
       }
      },
      "text/html": [
       "<div>\n",
       "        \n",
       "        \n",
       "            <div id=\"2de81f7b-0f6c-4b25-8b0b-3747e536bf68\" class=\"plotly-graph-div\" style=\"height:525px; width:100%;\"></div>\n",
       "            <script type=\"text/javascript\">\n",
       "                require([\"plotly\"], function(Plotly) {\n",
       "                    window.PLOTLYENV=window.PLOTLYENV || {};\n",
       "                    \n",
       "                if (document.getElementById(\"2de81f7b-0f6c-4b25-8b0b-3747e536bf68\")) {\n",
       "                    Plotly.newPlot(\n",
       "                        '2de81f7b-0f6c-4b25-8b0b-3747e536bf68',\n",
       "                        [{\"hoverlabel\": {\"namelength\": 0}, \"hovertemplate\": \"Attitude=%{x}<br>EVChoice=%{y}\", \"legendgroup\": \"\", \"marker\": {\"color\": \"#636efa\", \"symbol\": \"circle\"}, \"mode\": \"markers\", \"name\": \"\", \"showlegend\": false, \"type\": \"scatter\", \"x\": [3.559999942779541, 3.7799999713897705, 4.889999866485596, 4.889999866485596, 4.889999866485596, 4.889999866485596, 5.0, 3.890000104904175, 3.3299999237060547, 4.889999866485596, 3.440000057220459, 2.0, 4.670000076293945, 4.78000020980835, 3.440000057220459, 5.0, 4.670000076293945, 3.440000057220459, 3.6700000762939453, 3.6700000762939453, 4.21999979019165, 3.3299999237060547, 5.0, 5.0, 3.6700000762939453, 4.21999979019165, 3.440000057220459, 4.21999979019165, 3.890000104904175, 4.329999923706055, 4.329999923706055, 5.0, 4.0, 3.890000104904175, 4.670000076293945, 4.889999866485596, 4.0, 4.559999942779541, 4.559999942779541, 4.329999923706055, 2.890000104904175, 3.559999942779541, 4.0, 5.0, 4.78000020980835, 3.109999895095825, 4.670000076293945, 4.670000076293945, 3.7799999713897705, 4.78000020980835, 3.7799999713897705, 4.110000133514404, 2.559999942779541, 4.0, 5.0, 4.21999979019165, 1.7799999713897705, 3.7799999713897705, 4.78000020980835, 4.559999942779541, 3.890000104904175, 3.7799999713897705, 4.78000020980835, 4.440000057220459, 2.109999895095825, 4.329999923706055, 5.0, 4.110000133514404, 4.440000057220459, 4.329999923706055, 4.0, 4.670000076293945, 4.110000133514404, 2.109999895095825, 4.21999979019165, 4.559999942779541, 4.670000076293945, 2.890000104904175, 4.329999923706055, 5.0, 2.890000104904175, 5.0, 1.1100000143051147, 4.889999866485596, 3.890000104904175, 4.670000076293945, 4.0, 2.3299999237060547, 3.2200000286102295, 4.670000076293945, 2.440000057220459, 4.329999923706055, 3.890000104904175, 3.0, 5.0, 4.0, 4.0, 4.110000133514404, 4.110000133514404, 4.110000133514404, 3.890000104904175, 4.110000133514404, 4.440000057220459, 4.889999866485596, 3.2200000286102295, 4.889999866485596, 3.440000057220459, 4.670000076293945, 4.889999866485596, 4.889999866485596, 4.889999866485596, 4.440000057220459, 2.7799999713897705, 3.3299999237060547, 4.889999866485596, 3.7799999713897705, 3.559999942779541, 4.78000020980835, 4.78000020980835, 3.559999942779541, 4.78000020980835, 3.7799999713897705, 3.440000057220459, 4.110000133514404, 3.7799999713897705, 4.670000076293945, 4.440000057220459, 3.7799999713897705, 4.559999942779541, 4.329999923706055, 4.0, 4.440000057220459, 4.0, 3.3299999237060547, 4.78000020980835, 3.6700000762939453, 3.7799999713897705, 4.670000076293945, 3.6700000762939453, 3.559999942779541, 4.21999979019165, 3.559999942779541, 4.110000133514404, 5.0, 2.559999942779541, 4.440000057220459, 2.3299999237060547, 5.0, 5.0, 4.559999942779541, 4.889999866485596, 3.559999942779541, 4.440000057220459, 4.78000020980835, 5.0, 5.0, 3.6700000762939453, 3.7799999713897705, 3.7799999713897705, 4.559999942779541, 4.329999923706055, 3.890000104904175, 3.890000104904175, 3.109999895095825, 4.329999923706055, 3.6700000762939453, 3.3299999237060547, 3.7799999713897705, 5.0, 4.0, 4.559999942779541, 4.440000057220459, 4.440000057220459, 1.7799999713897705, 5.0, 3.0, 5.0, 3.6700000762939453, 5.0, 4.0, 4.110000133514404, 2.7799999713897705, 3.6700000762939453, 3.3299999237060547, 1.8899999856948853, 4.0, 4.21999979019165, 4.329999923706055, 4.329999923706055, 4.889999866485596, 2.440000057220459, 4.559999942779541, 3.0, 3.3299999237060547, 4.889999866485596, 2.890000104904175, 5.0, 5.0, 4.329999923706055, 3.890000104904175, 4.559999942779541, 3.890000104904175, 4.329999923706055, 4.670000076293945, 4.889999866485596, 4.670000076293945, 3.6700000762939453, 4.21999979019165, 3.440000057220459, 3.7799999713897705, 4.0, 4.78000020980835, 4.78000020980835, 3.109999895095825, 3.2200000286102295, 4.0, 4.329999923706055, 2.2200000286102295, 4.329999923706055, 3.440000057220459, 2.559999942779541, 4.670000076293945, 4.0, 4.559999942779541, 4.110000133514404, 5.0, 4.440000057220459, 4.559999942779541, 5.0, 3.3299999237060547], \"xaxis\": \"x\", \"y\": [0, 16, 19, 19, 19, 19, 19, 10, 10, 10, 13, 3, 4, 19, 8, 19, 19, 13, 11, 15, 13, 5, 19, 19, 6, 19, 19, 6, 17, 10, 19, 19, 19, 14, 19, 18, 8, 16, 18, 19, 7, 6, 8, 19, 16, 18, 9, 19, 13, 19, 10, 15, 2, 8, 19, 9, 0, 15, 17, 19, 19, 13, 7, 19, 17, 5, 19, 18, 19, 16, 19, 18, 19, 16, 3, 11, 14, 19, 7, 19, 19, 10, 19, 2, 16, 8, 7, 9, 0, 4, 19, 1, 13, 13, 0, 9, 19, 17, 18, 18, 17, 0, 15, 19, 19, 19, 12, 14, 19, 19, 17, 19, 16, 11, 18, 13, 18, 19, 16, 17, 13, 6, 12, 13, 15, 18, 16, 19, 17, 17, 16, 19, 14, 6, 19, 19, 19, 19, 7, 11, 19, 19, 19, 19, 6, 19, 18, 10, 19, 19, 19, 19, 12, 19, 17, 19, 19, 14, 18, 19, 18, 19, 13, 3, 14, 19, 10, 16, 14, 19, 17, 18, 11, 10, 15, 15, 19, 15, 15, 18, 15, 3, 10, 19, 0, 19, 12, 15, 19, 18, 8, 19, 19, 19, 16, 14, 19, 14, 13, 19, 19, 13, 7, 16, 16, 16, 15, 19, 11, 7, 19, 18, 19, 12, 12, 14, 15, 18, 17, 14, 6, 15, 18, 19, 19, 19, 19, 19, 19, 18], \"yaxis\": \"y\"}],\n",
       "                        {\"legend\": {\"tracegroupgap\": 0}, \"margin\": {\"t\": 60}, \"template\": {\"data\": {\"bar\": [{\"error_x\": {\"color\": \"#2a3f5f\"}, \"error_y\": {\"color\": \"#2a3f5f\"}, \"marker\": {\"line\": {\"color\": \"#E5ECF6\", \"width\": 0.5}}, \"type\": \"bar\"}], \"barpolar\": [{\"marker\": {\"line\": {\"color\": \"#E5ECF6\", \"width\": 0.5}}, \"type\": \"barpolar\"}], \"carpet\": [{\"aaxis\": {\"endlinecolor\": \"#2a3f5f\", \"gridcolor\": \"white\", \"linecolor\": \"white\", \"minorgridcolor\": \"white\", \"startlinecolor\": \"#2a3f5f\"}, \"baxis\": {\"endlinecolor\": \"#2a3f5f\", \"gridcolor\": \"white\", \"linecolor\": \"white\", \"minorgridcolor\": \"white\", \"startlinecolor\": \"#2a3f5f\"}, \"type\": \"carpet\"}], \"choropleth\": [{\"colorbar\": {\"outlinewidth\": 0, \"ticks\": \"\"}, \"type\": \"choropleth\"}], \"contour\": [{\"colorbar\": {\"outlinewidth\": 0, \"ticks\": \"\"}, \"colorscale\": [[0.0, \"#0d0887\"], [0.1111111111111111, \"#46039f\"], [0.2222222222222222, \"#7201a8\"], [0.3333333333333333, \"#9c179e\"], [0.4444444444444444, \"#bd3786\"], [0.5555555555555556, \"#d8576b\"], [0.6666666666666666, \"#ed7953\"], [0.7777777777777778, \"#fb9f3a\"], [0.8888888888888888, \"#fdca26\"], [1.0, \"#f0f921\"]], \"type\": \"contour\"}], \"contourcarpet\": [{\"colorbar\": {\"outlinewidth\": 0, \"ticks\": \"\"}, \"type\": \"contourcarpet\"}], \"heatmap\": [{\"colorbar\": {\"outlinewidth\": 0, \"ticks\": \"\"}, \"colorscale\": [[0.0, \"#0d0887\"], [0.1111111111111111, \"#46039f\"], [0.2222222222222222, \"#7201a8\"], [0.3333333333333333, \"#9c179e\"], [0.4444444444444444, \"#bd3786\"], [0.5555555555555556, \"#d8576b\"], [0.6666666666666666, \"#ed7953\"], [0.7777777777777778, \"#fb9f3a\"], [0.8888888888888888, \"#fdca26\"], [1.0, \"#f0f921\"]], \"type\": \"heatmap\"}], \"heatmapgl\": [{\"colorbar\": {\"outlinewidth\": 0, \"ticks\": \"\"}, \"colorscale\": [[0.0, \"#0d0887\"], [0.1111111111111111, \"#46039f\"], [0.2222222222222222, \"#7201a8\"], [0.3333333333333333, \"#9c179e\"], [0.4444444444444444, \"#bd3786\"], [0.5555555555555556, \"#d8576b\"], [0.6666666666666666, \"#ed7953\"], [0.7777777777777778, \"#fb9f3a\"], [0.8888888888888888, \"#fdca26\"], [1.0, \"#f0f921\"]], \"type\": \"heatmapgl\"}], \"histogram\": [{\"marker\": {\"colorbar\": {\"outlinewidth\": 0, \"ticks\": \"\"}}, \"type\": \"histogram\"}], \"histogram2d\": [{\"colorbar\": {\"outlinewidth\": 0, \"ticks\": \"\"}, \"colorscale\": [[0.0, \"#0d0887\"], [0.1111111111111111, \"#46039f\"], [0.2222222222222222, \"#7201a8\"], [0.3333333333333333, \"#9c179e\"], [0.4444444444444444, \"#bd3786\"], [0.5555555555555556, \"#d8576b\"], [0.6666666666666666, \"#ed7953\"], [0.7777777777777778, \"#fb9f3a\"], [0.8888888888888888, \"#fdca26\"], [1.0, \"#f0f921\"]], \"type\": \"histogram2d\"}], \"histogram2dcontour\": [{\"colorbar\": {\"outlinewidth\": 0, \"ticks\": \"\"}, \"colorscale\": [[0.0, \"#0d0887\"], [0.1111111111111111, \"#46039f\"], [0.2222222222222222, \"#7201a8\"], [0.3333333333333333, \"#9c179e\"], [0.4444444444444444, \"#bd3786\"], [0.5555555555555556, \"#d8576b\"], [0.6666666666666666, \"#ed7953\"], [0.7777777777777778, \"#fb9f3a\"], [0.8888888888888888, \"#fdca26\"], [1.0, \"#f0f921\"]], \"type\": \"histogram2dcontour\"}], \"mesh3d\": [{\"colorbar\": {\"outlinewidth\": 0, \"ticks\": \"\"}, \"type\": \"mesh3d\"}], \"parcoords\": [{\"line\": {\"colorbar\": {\"outlinewidth\": 0, \"ticks\": \"\"}}, \"type\": \"parcoords\"}], \"pie\": [{\"automargin\": true, \"type\": \"pie\"}], \"scatter\": [{\"marker\": {\"colorbar\": {\"outlinewidth\": 0, \"ticks\": \"\"}}, \"type\": \"scatter\"}], \"scatter3d\": [{\"line\": {\"colorbar\": {\"outlinewidth\": 0, \"ticks\": \"\"}}, \"marker\": {\"colorbar\": {\"outlinewidth\": 0, \"ticks\": \"\"}}, \"type\": \"scatter3d\"}], \"scattercarpet\": [{\"marker\": {\"colorbar\": {\"outlinewidth\": 0, \"ticks\": \"\"}}, \"type\": \"scattercarpet\"}], \"scattergeo\": [{\"marker\": {\"colorbar\": {\"outlinewidth\": 0, \"ticks\": \"\"}}, \"type\": \"scattergeo\"}], \"scattergl\": [{\"marker\": {\"colorbar\": {\"outlinewidth\": 0, \"ticks\": \"\"}}, \"type\": \"scattergl\"}], \"scattermapbox\": [{\"marker\": {\"colorbar\": {\"outlinewidth\": 0, \"ticks\": \"\"}}, \"type\": \"scattermapbox\"}], \"scatterpolar\": [{\"marker\": {\"colorbar\": {\"outlinewidth\": 0, \"ticks\": \"\"}}, \"type\": \"scatterpolar\"}], \"scatterpolargl\": [{\"marker\": {\"colorbar\": {\"outlinewidth\": 0, \"ticks\": \"\"}}, \"type\": \"scatterpolargl\"}], \"scatterternary\": [{\"marker\": {\"colorbar\": {\"outlinewidth\": 0, \"ticks\": \"\"}}, \"type\": \"scatterternary\"}], \"surface\": [{\"colorbar\": {\"outlinewidth\": 0, \"ticks\": \"\"}, \"colorscale\": [[0.0, \"#0d0887\"], [0.1111111111111111, \"#46039f\"], [0.2222222222222222, \"#7201a8\"], [0.3333333333333333, \"#9c179e\"], [0.4444444444444444, \"#bd3786\"], [0.5555555555555556, \"#d8576b\"], [0.6666666666666666, \"#ed7953\"], [0.7777777777777778, \"#fb9f3a\"], [0.8888888888888888, \"#fdca26\"], [1.0, \"#f0f921\"]], \"type\": \"surface\"}], \"table\": [{\"cells\": {\"fill\": {\"color\": \"#EBF0F8\"}, \"line\": {\"color\": \"white\"}}, \"header\": {\"fill\": {\"color\": \"#C8D4E3\"}, \"line\": {\"color\": \"white\"}}, \"type\": \"table\"}]}, \"layout\": {\"annotationdefaults\": {\"arrowcolor\": \"#2a3f5f\", \"arrowhead\": 0, \"arrowwidth\": 1}, \"coloraxis\": {\"colorbar\": {\"outlinewidth\": 0, \"ticks\": \"\"}}, \"colorscale\": {\"diverging\": [[0, \"#8e0152\"], [0.1, \"#c51b7d\"], [0.2, \"#de77ae\"], [0.3, \"#f1b6da\"], [0.4, \"#fde0ef\"], [0.5, \"#f7f7f7\"], [0.6, \"#e6f5d0\"], [0.7, \"#b8e186\"], [0.8, \"#7fbc41\"], [0.9, \"#4d9221\"], [1, \"#276419\"]], \"sequential\": [[0.0, \"#0d0887\"], [0.1111111111111111, \"#46039f\"], [0.2222222222222222, \"#7201a8\"], [0.3333333333333333, \"#9c179e\"], [0.4444444444444444, \"#bd3786\"], [0.5555555555555556, \"#d8576b\"], [0.6666666666666666, \"#ed7953\"], [0.7777777777777778, \"#fb9f3a\"], [0.8888888888888888, \"#fdca26\"], [1.0, \"#f0f921\"]], \"sequentialminus\": [[0.0, \"#0d0887\"], [0.1111111111111111, \"#46039f\"], [0.2222222222222222, \"#7201a8\"], [0.3333333333333333, \"#9c179e\"], [0.4444444444444444, \"#bd3786\"], [0.5555555555555556, \"#d8576b\"], [0.6666666666666666, \"#ed7953\"], [0.7777777777777778, \"#fb9f3a\"], [0.8888888888888888, \"#fdca26\"], [1.0, \"#f0f921\"]]}, \"colorway\": [\"#636efa\", \"#EF553B\", \"#00cc96\", \"#ab63fa\", \"#FFA15A\", \"#19d3f3\", \"#FF6692\", \"#B6E880\", \"#FF97FF\", \"#FECB52\"], \"font\": {\"color\": \"#2a3f5f\"}, \"geo\": {\"bgcolor\": \"white\", \"lakecolor\": \"white\", \"landcolor\": \"#E5ECF6\", \"showlakes\": true, \"showland\": true, \"subunitcolor\": \"white\"}, \"hoverlabel\": {\"align\": \"left\"}, \"hovermode\": \"closest\", \"mapbox\": {\"style\": \"light\"}, \"paper_bgcolor\": \"white\", \"plot_bgcolor\": \"#E5ECF6\", \"polar\": {\"angularaxis\": {\"gridcolor\": \"white\", \"linecolor\": \"white\", \"ticks\": \"\"}, \"bgcolor\": \"#E5ECF6\", \"radialaxis\": {\"gridcolor\": \"white\", \"linecolor\": \"white\", \"ticks\": \"\"}}, \"scene\": {\"xaxis\": {\"backgroundcolor\": \"#E5ECF6\", \"gridcolor\": \"white\", \"gridwidth\": 2, \"linecolor\": \"white\", \"showbackground\": true, \"ticks\": \"\", \"zerolinecolor\": \"white\"}, \"yaxis\": {\"backgroundcolor\": \"#E5ECF6\", \"gridcolor\": \"white\", \"gridwidth\": 2, \"linecolor\": \"white\", \"showbackground\": true, \"ticks\": \"\", \"zerolinecolor\": \"white\"}, \"zaxis\": {\"backgroundcolor\": \"#E5ECF6\", \"gridcolor\": \"white\", \"gridwidth\": 2, \"linecolor\": \"white\", \"showbackground\": true, \"ticks\": \"\", \"zerolinecolor\": \"white\"}}, \"shapedefaults\": {\"line\": {\"color\": \"#2a3f5f\"}}, \"ternary\": {\"aaxis\": {\"gridcolor\": \"white\", \"linecolor\": \"white\", \"ticks\": \"\"}, \"baxis\": {\"gridcolor\": \"white\", \"linecolor\": \"white\", \"ticks\": \"\"}, \"bgcolor\": \"#E5ECF6\", \"caxis\": {\"gridcolor\": \"white\", \"linecolor\": \"white\", \"ticks\": \"\"}}, \"title\": {\"x\": 0.05}, \"xaxis\": {\"automargin\": true, \"gridcolor\": \"white\", \"linecolor\": \"white\", \"ticks\": \"\", \"title\": {\"standoff\": 15}, \"zerolinecolor\": \"white\", \"zerolinewidth\": 2}, \"yaxis\": {\"automargin\": true, \"gridcolor\": \"white\", \"linecolor\": \"white\", \"ticks\": \"\", \"title\": {\"standoff\": 15}, \"zerolinecolor\": \"white\", \"zerolinewidth\": 2}}}, \"xaxis\": {\"anchor\": \"y\", \"domain\": [0.0, 1.0], \"title\": {\"text\": \"Attitude\"}}, \"yaxis\": {\"anchor\": \"x\", \"domain\": [0.0, 1.0], \"title\": {\"text\": \"EVChoice\"}}},\n",
       "                        {\"responsive\": true}\n",
       "                    ).then(function(){\n",
       "                            \n",
       "var gd = document.getElementById('2de81f7b-0f6c-4b25-8b0b-3747e536bf68');\n",
       "var x = new MutationObserver(function (mutations, observer) {{\n",
       "        var display = window.getComputedStyle(gd).display;\n",
       "        if (!display || display === 'none') {{\n",
       "            console.log([gd, 'removed!']);\n",
       "            Plotly.purge(gd);\n",
       "            observer.disconnect();\n",
       "        }}\n",
       "}});\n",
       "\n",
       "// Listen for the removal of the full notebook cells\n",
       "var notebookContainer = gd.closest('#notebook-container');\n",
       "if (notebookContainer) {{\n",
       "    x.observe(notebookContainer, {childList: true});\n",
       "}}\n",
       "\n",
       "// Listen for the clearing of the current output cell\n",
       "var outputEl = gd.closest('.output');\n",
       "if (outputEl) {{\n",
       "    x.observe(outputEl, {childList: true});\n",
       "}}\n",
       "\n",
       "                        })\n",
       "                };\n",
       "                });\n",
       "            </script>\n",
       "        </div>"
      ]
     },
     "metadata": {},
     "output_type": "display_data"
    },
    {
     "data": {
      "application/vnd.plotly.v1+json": {
       "config": {
        "plotlyServerURL": "https://plot.ly"
       },
       "data": [
        {
         "hoverlabel": {
          "namelength": 0
         },
         "hovertemplate": "Attitude=%{x}<br>EVChoice=%{y}<br>EnvironmentalAttitude=%{marker.color}",
         "legendgroup": "",
         "marker": {
          "color": [
           5.5,
           7,
           6.75,
           6.75,
           7,
           6.25,
           7,
           6,
           4,
           6.75,
           5.5,
           5,
           3.75,
           6.5,
           5.5,
           7,
           5.5,
           7,
           7,
           5,
           7,
           6.25,
           3,
           6.25,
           6.75,
           7,
           5.75,
           6,
           5.25,
           6.25,
           7,
           5.25,
           5.25,
           6.75,
           7,
           7,
           6,
           6.25,
           4.5,
           6.25,
           4.75,
           4.25,
           6,
           7,
           7,
           7,
           5,
           5.75,
           6.5,
           7,
           4.5,
           5.5,
           4.25,
           6.25,
           6.25,
           6,
           2.25,
           6.25,
           7,
           6.75,
           5.25,
           4.25,
           6.5,
           6.5,
           5,
           6.75,
           7,
           6.25,
           5.25,
           7,
           7,
           7,
           6.25,
           4.25,
           7,
           6.75,
           6.5,
           5.25,
           6,
           6.5,
           3.75,
           6.25,
           6,
           7,
           6.25,
           3,
           5.75,
           6.75,
           7,
           7,
           5.25,
           6.25,
           5.5,
           5.5,
           5.5,
           6.25,
           7,
           4.75,
           6.5,
           1.25,
           6.5,
           5.5,
           6.75,
           7,
           7,
           7,
           4,
           6.5,
           7,
           6.25,
           7,
           5.5,
           7,
           4.25,
           7,
           5.5,
           5.25,
           6.75,
           6,
           4,
           5.25,
           6.5,
           4.25,
           5.5,
           7,
           4.75,
           5,
           6.25,
           5.5,
           6.75,
           6,
           6,
           7,
           2.5,
           7,
           3.25,
           5.75,
           7,
           5,
           5,
           5.75,
           7,
           3.75,
           6.75,
           4.25,
           7,
           3,
           7,
           3.75,
           3.75,
           7,
           4.25,
           6,
           6.75,
           7,
           6.5,
           6.25,
           5,
           6,
           6.5,
           5.75,
           7,
           5.5,
           7,
           5.75,
           5,
           3.25,
           5,
           5,
           5.25,
           5,
           5.25,
           4,
           5.5,
           5.25,
           1,
           7,
           6.5,
           6.75,
           6.25,
           6,
           6.25,
           4.25,
           3.5,
           1.75,
           6.5,
           4.25,
           5.75,
           6.25,
           5,
           4,
           3.75,
           7,
           6.75,
           7,
           6,
           7,
           5.5,
           6.5,
           5,
           5.5,
           6,
           7,
           5.5,
           7,
           6.75,
           7,
           6.5,
           5.75,
           3.5,
           6.75,
           7,
           7,
           3.5,
           7,
           4,
           6.25,
           5.5,
           4.75,
           4.75,
           6,
           6.25,
           2.5,
           7,
           6.5,
           6,
           6.5,
           6.75,
           7,
           2.5
          ],
          "coloraxis": "coloraxis",
          "symbol": "circle"
         },
         "mode": "markers",
         "name": "",
         "showlegend": false,
         "type": "scatter",
         "x": [
          3.559999942779541,
          3.7799999713897705,
          4.889999866485596,
          4.889999866485596,
          4.889999866485596,
          4.889999866485596,
          5,
          3.890000104904175,
          3.3299999237060547,
          4.889999866485596,
          3.440000057220459,
          2,
          4.670000076293945,
          4.78000020980835,
          3.440000057220459,
          5,
          4.670000076293945,
          3.440000057220459,
          3.6700000762939453,
          3.6700000762939453,
          4.21999979019165,
          3.3299999237060547,
          5,
          5,
          3.6700000762939453,
          4.21999979019165,
          3.440000057220459,
          4.21999979019165,
          3.890000104904175,
          4.329999923706055,
          4.329999923706055,
          5,
          4,
          3.890000104904175,
          4.670000076293945,
          4.889999866485596,
          4,
          4.559999942779541,
          4.559999942779541,
          4.329999923706055,
          2.890000104904175,
          3.559999942779541,
          4,
          5,
          4.78000020980835,
          3.109999895095825,
          4.670000076293945,
          4.670000076293945,
          3.7799999713897705,
          4.78000020980835,
          3.7799999713897705,
          4.110000133514404,
          2.559999942779541,
          4,
          5,
          4.21999979019165,
          1.7799999713897705,
          3.7799999713897705,
          4.78000020980835,
          4.559999942779541,
          3.890000104904175,
          3.7799999713897705,
          4.78000020980835,
          4.440000057220459,
          2.109999895095825,
          4.329999923706055,
          5,
          4.110000133514404,
          4.440000057220459,
          4.329999923706055,
          4,
          4.670000076293945,
          4.110000133514404,
          2.109999895095825,
          4.21999979019165,
          4.559999942779541,
          4.670000076293945,
          2.890000104904175,
          4.329999923706055,
          5,
          2.890000104904175,
          5,
          1.1100000143051147,
          4.889999866485596,
          3.890000104904175,
          4.670000076293945,
          4,
          2.3299999237060547,
          3.2200000286102295,
          4.670000076293945,
          2.440000057220459,
          4.329999923706055,
          3.890000104904175,
          3,
          5,
          4,
          4,
          4.110000133514404,
          4.110000133514404,
          4.110000133514404,
          3.890000104904175,
          4.110000133514404,
          4.440000057220459,
          4.889999866485596,
          3.2200000286102295,
          4.889999866485596,
          3.440000057220459,
          4.670000076293945,
          4.889999866485596,
          4.889999866485596,
          4.889999866485596,
          4.440000057220459,
          2.7799999713897705,
          3.3299999237060547,
          4.889999866485596,
          3.7799999713897705,
          3.559999942779541,
          4.78000020980835,
          4.78000020980835,
          3.559999942779541,
          4.78000020980835,
          3.7799999713897705,
          3.440000057220459,
          4.110000133514404,
          3.7799999713897705,
          4.670000076293945,
          4.440000057220459,
          3.7799999713897705,
          4.559999942779541,
          4.329999923706055,
          4,
          4.440000057220459,
          4,
          3.3299999237060547,
          4.78000020980835,
          3.6700000762939453,
          3.7799999713897705,
          4.670000076293945,
          3.6700000762939453,
          3.559999942779541,
          4.21999979019165,
          3.559999942779541,
          4.110000133514404,
          5,
          2.559999942779541,
          4.440000057220459,
          2.3299999237060547,
          5,
          5,
          4.559999942779541,
          4.889999866485596,
          3.559999942779541,
          4.440000057220459,
          4.78000020980835,
          5,
          5,
          3.6700000762939453,
          3.7799999713897705,
          3.7799999713897705,
          4.559999942779541,
          4.329999923706055,
          3.890000104904175,
          3.890000104904175,
          3.109999895095825,
          4.329999923706055,
          3.6700000762939453,
          3.3299999237060547,
          3.7799999713897705,
          5,
          4,
          4.559999942779541,
          4.440000057220459,
          4.440000057220459,
          1.7799999713897705,
          5,
          3,
          5,
          3.6700000762939453,
          5,
          4,
          4.110000133514404,
          2.7799999713897705,
          3.6700000762939453,
          3.3299999237060547,
          1.8899999856948853,
          4,
          4.21999979019165,
          4.329999923706055,
          4.329999923706055,
          4.889999866485596,
          2.440000057220459,
          4.559999942779541,
          3,
          3.3299999237060547,
          4.889999866485596,
          2.890000104904175,
          5,
          5,
          4.329999923706055,
          3.890000104904175,
          4.559999942779541,
          3.890000104904175,
          4.329999923706055,
          4.670000076293945,
          4.889999866485596,
          4.670000076293945,
          3.6700000762939453,
          4.21999979019165,
          3.440000057220459,
          3.7799999713897705,
          4,
          4.78000020980835,
          4.78000020980835,
          3.109999895095825,
          3.2200000286102295,
          4,
          4.329999923706055,
          2.2200000286102295,
          4.329999923706055,
          3.440000057220459,
          2.559999942779541,
          4.670000076293945,
          4,
          4.559999942779541,
          4.110000133514404,
          5,
          4.440000057220459,
          4.559999942779541,
          5,
          3.3299999237060547
         ],
         "xaxis": "x",
         "y": [
          0,
          16,
          19,
          19,
          19,
          19,
          19,
          10,
          10,
          10,
          13,
          3,
          4,
          19,
          8,
          19,
          19,
          13,
          11,
          15,
          13,
          5,
          19,
          19,
          6,
          19,
          19,
          6,
          17,
          10,
          19,
          19,
          19,
          14,
          19,
          18,
          8,
          16,
          18,
          19,
          7,
          6,
          8,
          19,
          16,
          18,
          9,
          19,
          13,
          19,
          10,
          15,
          2,
          8,
          19,
          9,
          0,
          15,
          17,
          19,
          19,
          13,
          7,
          19,
          17,
          5,
          19,
          18,
          19,
          16,
          19,
          18,
          19,
          16,
          3,
          11,
          14,
          19,
          7,
          19,
          19,
          10,
          19,
          2,
          16,
          8,
          7,
          9,
          0,
          4,
          19,
          1,
          13,
          13,
          0,
          9,
          19,
          17,
          18,
          18,
          17,
          0,
          15,
          19,
          19,
          19,
          12,
          14,
          19,
          19,
          17,
          19,
          16,
          11,
          18,
          13,
          18,
          19,
          16,
          17,
          13,
          6,
          12,
          13,
          15,
          18,
          16,
          19,
          17,
          17,
          16,
          19,
          14,
          6,
          19,
          19,
          19,
          19,
          7,
          11,
          19,
          19,
          19,
          19,
          6,
          19,
          18,
          10,
          19,
          19,
          19,
          19,
          12,
          19,
          17,
          19,
          19,
          14,
          18,
          19,
          18,
          19,
          13,
          3,
          14,
          19,
          10,
          16,
          14,
          19,
          17,
          18,
          11,
          10,
          15,
          15,
          19,
          15,
          15,
          18,
          15,
          3,
          10,
          19,
          0,
          19,
          12,
          15,
          19,
          18,
          8,
          19,
          19,
          19,
          16,
          14,
          19,
          14,
          13,
          19,
          19,
          13,
          7,
          16,
          16,
          16,
          15,
          19,
          11,
          7,
          19,
          18,
          19,
          12,
          12,
          14,
          15,
          18,
          17,
          14,
          6,
          15,
          18,
          19,
          19,
          19,
          19,
          19,
          19,
          18
         ],
         "yaxis": "y"
        }
       ],
       "layout": {
        "coloraxis": {
         "colorbar": {
          "title": {
           "text": "EnvironmentalAttitude"
          }
         },
         "colorscale": [
          [
           0,
           "#0d0887"
          ],
          [
           0.1111111111111111,
           "#46039f"
          ],
          [
           0.2222222222222222,
           "#7201a8"
          ],
          [
           0.3333333333333333,
           "#9c179e"
          ],
          [
           0.4444444444444444,
           "#bd3786"
          ],
          [
           0.5555555555555556,
           "#d8576b"
          ],
          [
           0.6666666666666666,
           "#ed7953"
          ],
          [
           0.7777777777777778,
           "#fb9f3a"
          ],
          [
           0.8888888888888888,
           "#fdca26"
          ],
          [
           1,
           "#f0f921"
          ]
         ]
        },
        "legend": {
         "tracegroupgap": 0
        },
        "margin": {
         "t": 60
        },
        "template": {
         "data": {
          "bar": [
           {
            "error_x": {
             "color": "#2a3f5f"
            },
            "error_y": {
             "color": "#2a3f5f"
            },
            "marker": {
             "line": {
              "color": "#E5ECF6",
              "width": 0.5
             }
            },
            "type": "bar"
           }
          ],
          "barpolar": [
           {
            "marker": {
             "line": {
              "color": "#E5ECF6",
              "width": 0.5
             }
            },
            "type": "barpolar"
           }
          ],
          "carpet": [
           {
            "aaxis": {
             "endlinecolor": "#2a3f5f",
             "gridcolor": "white",
             "linecolor": "white",
             "minorgridcolor": "white",
             "startlinecolor": "#2a3f5f"
            },
            "baxis": {
             "endlinecolor": "#2a3f5f",
             "gridcolor": "white",
             "linecolor": "white",
             "minorgridcolor": "white",
             "startlinecolor": "#2a3f5f"
            },
            "type": "carpet"
           }
          ],
          "choropleth": [
           {
            "colorbar": {
             "outlinewidth": 0,
             "ticks": ""
            },
            "type": "choropleth"
           }
          ],
          "contour": [
           {
            "colorbar": {
             "outlinewidth": 0,
             "ticks": ""
            },
            "colorscale": [
             [
              0,
              "#0d0887"
             ],
             [
              0.1111111111111111,
              "#46039f"
             ],
             [
              0.2222222222222222,
              "#7201a8"
             ],
             [
              0.3333333333333333,
              "#9c179e"
             ],
             [
              0.4444444444444444,
              "#bd3786"
             ],
             [
              0.5555555555555556,
              "#d8576b"
             ],
             [
              0.6666666666666666,
              "#ed7953"
             ],
             [
              0.7777777777777778,
              "#fb9f3a"
             ],
             [
              0.8888888888888888,
              "#fdca26"
             ],
             [
              1,
              "#f0f921"
             ]
            ],
            "type": "contour"
           }
          ],
          "contourcarpet": [
           {
            "colorbar": {
             "outlinewidth": 0,
             "ticks": ""
            },
            "type": "contourcarpet"
           }
          ],
          "heatmap": [
           {
            "colorbar": {
             "outlinewidth": 0,
             "ticks": ""
            },
            "colorscale": [
             [
              0,
              "#0d0887"
             ],
             [
              0.1111111111111111,
              "#46039f"
             ],
             [
              0.2222222222222222,
              "#7201a8"
             ],
             [
              0.3333333333333333,
              "#9c179e"
             ],
             [
              0.4444444444444444,
              "#bd3786"
             ],
             [
              0.5555555555555556,
              "#d8576b"
             ],
             [
              0.6666666666666666,
              "#ed7953"
             ],
             [
              0.7777777777777778,
              "#fb9f3a"
             ],
             [
              0.8888888888888888,
              "#fdca26"
             ],
             [
              1,
              "#f0f921"
             ]
            ],
            "type": "heatmap"
           }
          ],
          "heatmapgl": [
           {
            "colorbar": {
             "outlinewidth": 0,
             "ticks": ""
            },
            "colorscale": [
             [
              0,
              "#0d0887"
             ],
             [
              0.1111111111111111,
              "#46039f"
             ],
             [
              0.2222222222222222,
              "#7201a8"
             ],
             [
              0.3333333333333333,
              "#9c179e"
             ],
             [
              0.4444444444444444,
              "#bd3786"
             ],
             [
              0.5555555555555556,
              "#d8576b"
             ],
             [
              0.6666666666666666,
              "#ed7953"
             ],
             [
              0.7777777777777778,
              "#fb9f3a"
             ],
             [
              0.8888888888888888,
              "#fdca26"
             ],
             [
              1,
              "#f0f921"
             ]
            ],
            "type": "heatmapgl"
           }
          ],
          "histogram": [
           {
            "marker": {
             "colorbar": {
              "outlinewidth": 0,
              "ticks": ""
             }
            },
            "type": "histogram"
           }
          ],
          "histogram2d": [
           {
            "colorbar": {
             "outlinewidth": 0,
             "ticks": ""
            },
            "colorscale": [
             [
              0,
              "#0d0887"
             ],
             [
              0.1111111111111111,
              "#46039f"
             ],
             [
              0.2222222222222222,
              "#7201a8"
             ],
             [
              0.3333333333333333,
              "#9c179e"
             ],
             [
              0.4444444444444444,
              "#bd3786"
             ],
             [
              0.5555555555555556,
              "#d8576b"
             ],
             [
              0.6666666666666666,
              "#ed7953"
             ],
             [
              0.7777777777777778,
              "#fb9f3a"
             ],
             [
              0.8888888888888888,
              "#fdca26"
             ],
             [
              1,
              "#f0f921"
             ]
            ],
            "type": "histogram2d"
           }
          ],
          "histogram2dcontour": [
           {
            "colorbar": {
             "outlinewidth": 0,
             "ticks": ""
            },
            "colorscale": [
             [
              0,
              "#0d0887"
             ],
             [
              0.1111111111111111,
              "#46039f"
             ],
             [
              0.2222222222222222,
              "#7201a8"
             ],
             [
              0.3333333333333333,
              "#9c179e"
             ],
             [
              0.4444444444444444,
              "#bd3786"
             ],
             [
              0.5555555555555556,
              "#d8576b"
             ],
             [
              0.6666666666666666,
              "#ed7953"
             ],
             [
              0.7777777777777778,
              "#fb9f3a"
             ],
             [
              0.8888888888888888,
              "#fdca26"
             ],
             [
              1,
              "#f0f921"
             ]
            ],
            "type": "histogram2dcontour"
           }
          ],
          "mesh3d": [
           {
            "colorbar": {
             "outlinewidth": 0,
             "ticks": ""
            },
            "type": "mesh3d"
           }
          ],
          "parcoords": [
           {
            "line": {
             "colorbar": {
              "outlinewidth": 0,
              "ticks": ""
             }
            },
            "type": "parcoords"
           }
          ],
          "pie": [
           {
            "automargin": true,
            "type": "pie"
           }
          ],
          "scatter": [
           {
            "marker": {
             "colorbar": {
              "outlinewidth": 0,
              "ticks": ""
             }
            },
            "type": "scatter"
           }
          ],
          "scatter3d": [
           {
            "line": {
             "colorbar": {
              "outlinewidth": 0,
              "ticks": ""
             }
            },
            "marker": {
             "colorbar": {
              "outlinewidth": 0,
              "ticks": ""
             }
            },
            "type": "scatter3d"
           }
          ],
          "scattercarpet": [
           {
            "marker": {
             "colorbar": {
              "outlinewidth": 0,
              "ticks": ""
             }
            },
            "type": "scattercarpet"
           }
          ],
          "scattergeo": [
           {
            "marker": {
             "colorbar": {
              "outlinewidth": 0,
              "ticks": ""
             }
            },
            "type": "scattergeo"
           }
          ],
          "scattergl": [
           {
            "marker": {
             "colorbar": {
              "outlinewidth": 0,
              "ticks": ""
             }
            },
            "type": "scattergl"
           }
          ],
          "scattermapbox": [
           {
            "marker": {
             "colorbar": {
              "outlinewidth": 0,
              "ticks": ""
             }
            },
            "type": "scattermapbox"
           }
          ],
          "scatterpolar": [
           {
            "marker": {
             "colorbar": {
              "outlinewidth": 0,
              "ticks": ""
             }
            },
            "type": "scatterpolar"
           }
          ],
          "scatterpolargl": [
           {
            "marker": {
             "colorbar": {
              "outlinewidth": 0,
              "ticks": ""
             }
            },
            "type": "scatterpolargl"
           }
          ],
          "scatterternary": [
           {
            "marker": {
             "colorbar": {
              "outlinewidth": 0,
              "ticks": ""
             }
            },
            "type": "scatterternary"
           }
          ],
          "surface": [
           {
            "colorbar": {
             "outlinewidth": 0,
             "ticks": ""
            },
            "colorscale": [
             [
              0,
              "#0d0887"
             ],
             [
              0.1111111111111111,
              "#46039f"
             ],
             [
              0.2222222222222222,
              "#7201a8"
             ],
             [
              0.3333333333333333,
              "#9c179e"
             ],
             [
              0.4444444444444444,
              "#bd3786"
             ],
             [
              0.5555555555555556,
              "#d8576b"
             ],
             [
              0.6666666666666666,
              "#ed7953"
             ],
             [
              0.7777777777777778,
              "#fb9f3a"
             ],
             [
              0.8888888888888888,
              "#fdca26"
             ],
             [
              1,
              "#f0f921"
             ]
            ],
            "type": "surface"
           }
          ],
          "table": [
           {
            "cells": {
             "fill": {
              "color": "#EBF0F8"
             },
             "line": {
              "color": "white"
             }
            },
            "header": {
             "fill": {
              "color": "#C8D4E3"
             },
             "line": {
              "color": "white"
             }
            },
            "type": "table"
           }
          ]
         },
         "layout": {
          "annotationdefaults": {
           "arrowcolor": "#2a3f5f",
           "arrowhead": 0,
           "arrowwidth": 1
          },
          "coloraxis": {
           "colorbar": {
            "outlinewidth": 0,
            "ticks": ""
           }
          },
          "colorscale": {
           "diverging": [
            [
             0,
             "#8e0152"
            ],
            [
             0.1,
             "#c51b7d"
            ],
            [
             0.2,
             "#de77ae"
            ],
            [
             0.3,
             "#f1b6da"
            ],
            [
             0.4,
             "#fde0ef"
            ],
            [
             0.5,
             "#f7f7f7"
            ],
            [
             0.6,
             "#e6f5d0"
            ],
            [
             0.7,
             "#b8e186"
            ],
            [
             0.8,
             "#7fbc41"
            ],
            [
             0.9,
             "#4d9221"
            ],
            [
             1,
             "#276419"
            ]
           ],
           "sequential": [
            [
             0,
             "#0d0887"
            ],
            [
             0.1111111111111111,
             "#46039f"
            ],
            [
             0.2222222222222222,
             "#7201a8"
            ],
            [
             0.3333333333333333,
             "#9c179e"
            ],
            [
             0.4444444444444444,
             "#bd3786"
            ],
            [
             0.5555555555555556,
             "#d8576b"
            ],
            [
             0.6666666666666666,
             "#ed7953"
            ],
            [
             0.7777777777777778,
             "#fb9f3a"
            ],
            [
             0.8888888888888888,
             "#fdca26"
            ],
            [
             1,
             "#f0f921"
            ]
           ],
           "sequentialminus": [
            [
             0,
             "#0d0887"
            ],
            [
             0.1111111111111111,
             "#46039f"
            ],
            [
             0.2222222222222222,
             "#7201a8"
            ],
            [
             0.3333333333333333,
             "#9c179e"
            ],
            [
             0.4444444444444444,
             "#bd3786"
            ],
            [
             0.5555555555555556,
             "#d8576b"
            ],
            [
             0.6666666666666666,
             "#ed7953"
            ],
            [
             0.7777777777777778,
             "#fb9f3a"
            ],
            [
             0.8888888888888888,
             "#fdca26"
            ],
            [
             1,
             "#f0f921"
            ]
           ]
          },
          "colorway": [
           "#636efa",
           "#EF553B",
           "#00cc96",
           "#ab63fa",
           "#FFA15A",
           "#19d3f3",
           "#FF6692",
           "#B6E880",
           "#FF97FF",
           "#FECB52"
          ],
          "font": {
           "color": "#2a3f5f"
          },
          "geo": {
           "bgcolor": "white",
           "lakecolor": "white",
           "landcolor": "#E5ECF6",
           "showlakes": true,
           "showland": true,
           "subunitcolor": "white"
          },
          "hoverlabel": {
           "align": "left"
          },
          "hovermode": "closest",
          "mapbox": {
           "style": "light"
          },
          "paper_bgcolor": "white",
          "plot_bgcolor": "#E5ECF6",
          "polar": {
           "angularaxis": {
            "gridcolor": "white",
            "linecolor": "white",
            "ticks": ""
           },
           "bgcolor": "#E5ECF6",
           "radialaxis": {
            "gridcolor": "white",
            "linecolor": "white",
            "ticks": ""
           }
          },
          "scene": {
           "xaxis": {
            "backgroundcolor": "#E5ECF6",
            "gridcolor": "white",
            "gridwidth": 2,
            "linecolor": "white",
            "showbackground": true,
            "ticks": "",
            "zerolinecolor": "white"
           },
           "yaxis": {
            "backgroundcolor": "#E5ECF6",
            "gridcolor": "white",
            "gridwidth": 2,
            "linecolor": "white",
            "showbackground": true,
            "ticks": "",
            "zerolinecolor": "white"
           },
           "zaxis": {
            "backgroundcolor": "#E5ECF6",
            "gridcolor": "white",
            "gridwidth": 2,
            "linecolor": "white",
            "showbackground": true,
            "ticks": "",
            "zerolinecolor": "white"
           }
          },
          "shapedefaults": {
           "line": {
            "color": "#2a3f5f"
           }
          },
          "ternary": {
           "aaxis": {
            "gridcolor": "white",
            "linecolor": "white",
            "ticks": ""
           },
           "baxis": {
            "gridcolor": "white",
            "linecolor": "white",
            "ticks": ""
           },
           "bgcolor": "#E5ECF6",
           "caxis": {
            "gridcolor": "white",
            "linecolor": "white",
            "ticks": ""
           }
          },
          "title": {
           "x": 0.05
          },
          "xaxis": {
           "automargin": true,
           "gridcolor": "white",
           "linecolor": "white",
           "ticks": "",
           "title": {
            "standoff": 15
           },
           "zerolinecolor": "white",
           "zerolinewidth": 2
          },
          "yaxis": {
           "automargin": true,
           "gridcolor": "white",
           "linecolor": "white",
           "ticks": "",
           "title": {
            "standoff": 15
           },
           "zerolinecolor": "white",
           "zerolinewidth": 2
          }
         }
        },
        "xaxis": {
         "anchor": "y",
         "domain": [
          0,
          1
         ],
         "title": {
          "text": "Attitude"
         }
        },
        "yaxis": {
         "anchor": "x",
         "domain": [
          0,
          1
         ],
         "title": {
          "text": "EVChoice"
         }
        }
       }
      },
      "text/html": [
       "<div>\n",
       "        \n",
       "        \n",
       "            <div id=\"8b869408-632c-4b56-81ea-d152004db946\" class=\"plotly-graph-div\" style=\"height:525px; width:100%;\"></div>\n",
       "            <script type=\"text/javascript\">\n",
       "                require([\"plotly\"], function(Plotly) {\n",
       "                    window.PLOTLYENV=window.PLOTLYENV || {};\n",
       "                    \n",
       "                if (document.getElementById(\"8b869408-632c-4b56-81ea-d152004db946\")) {\n",
       "                    Plotly.newPlot(\n",
       "                        '8b869408-632c-4b56-81ea-d152004db946',\n",
       "                        [{\"hoverlabel\": {\"namelength\": 0}, \"hovertemplate\": \"Attitude=%{x}<br>EVChoice=%{y}<br>EnvironmentalAttitude=%{marker.color}\", \"legendgroup\": \"\", \"marker\": {\"color\": [5.5, 7.0, 6.75, 6.75, 7.0, 6.25, 7.0, 6.0, 4.0, 6.75, 5.5, 5.0, 3.75, 6.5, 5.5, 7.0, 5.5, 7.0, 7.0, 5.0, 7.0, 6.25, 3.0, 6.25, 6.75, 7.0, 5.75, 6.0, 5.25, 6.25, 7.0, 5.25, 5.25, 6.75, 7.0, 7.0, 6.0, 6.25, 4.5, 6.25, 4.75, 4.25, 6.0, 7.0, 7.0, 7.0, 5.0, 5.75, 6.5, 7.0, 4.5, 5.5, 4.25, 6.25, 6.25, 6.0, 2.25, 6.25, 7.0, 6.75, 5.25, 4.25, 6.5, 6.5, 5.0, 6.75, 7.0, 6.25, 5.25, 7.0, 7.0, 7.0, 6.25, 4.25, 7.0, 6.75, 6.5, 5.25, 6.0, 6.5, 3.75, 6.25, 6.0, 7.0, 6.25, 3.0, 5.75, 6.75, 7.0, 7.0, 5.25, 6.25, 5.5, 5.5, 5.5, 6.25, 7.0, 4.75, 6.5, 1.25, 6.5, 5.5, 6.75, 7.0, 7.0, 7.0, 4.0, 6.5, 7.0, 6.25, 7.0, 5.5, 7.0, 4.25, 7.0, 5.5, 5.25, 6.75, 6.0, 4.0, 5.25, 6.5, 4.25, 5.5, 7.0, 4.75, 5.0, 6.25, 5.5, 6.75, 6.0, 6.0, 7.0, 2.5, 7.0, 3.25, 5.75, 7.0, 5.0, 5.0, 5.75, 7.0, 3.75, 6.75, 4.25, 7.0, 3.0, 7.0, 3.75, 3.75, 7.0, 4.25, 6.0, 6.75, 7.0, 6.5, 6.25, 5.0, 6.0, 6.5, 5.75, 7.0, 5.5, 7.0, 5.75, 5.0, 3.25, 5.0, 5.0, 5.25, 5.0, 5.25, 4.0, 5.5, 5.25, 1.0, 7.0, 6.5, 6.75, 6.25, 6.0, 6.25, 4.25, 3.5, 1.75, 6.5, 4.25, 5.75, 6.25, 5.0, 4.0, 3.75, 7.0, 6.75, 7.0, 6.0, 7.0, 5.5, 6.5, 5.0, 5.5, 6.0, 7.0, 5.5, 7.0, 6.75, 7.0, 6.5, 5.75, 3.5, 6.75, 7.0, 7.0, 3.5, 7.0, 4.0, 6.25, 5.5, 4.75, 4.75, 6.0, 6.25, 2.5, 7.0, 6.5, 6.0, 6.5, 6.75, 7.0, 2.5], \"coloraxis\": \"coloraxis\", \"symbol\": \"circle\"}, \"mode\": \"markers\", \"name\": \"\", \"showlegend\": false, \"type\": \"scatter\", \"x\": [3.559999942779541, 3.7799999713897705, 4.889999866485596, 4.889999866485596, 4.889999866485596, 4.889999866485596, 5.0, 3.890000104904175, 3.3299999237060547, 4.889999866485596, 3.440000057220459, 2.0, 4.670000076293945, 4.78000020980835, 3.440000057220459, 5.0, 4.670000076293945, 3.440000057220459, 3.6700000762939453, 3.6700000762939453, 4.21999979019165, 3.3299999237060547, 5.0, 5.0, 3.6700000762939453, 4.21999979019165, 3.440000057220459, 4.21999979019165, 3.890000104904175, 4.329999923706055, 4.329999923706055, 5.0, 4.0, 3.890000104904175, 4.670000076293945, 4.889999866485596, 4.0, 4.559999942779541, 4.559999942779541, 4.329999923706055, 2.890000104904175, 3.559999942779541, 4.0, 5.0, 4.78000020980835, 3.109999895095825, 4.670000076293945, 4.670000076293945, 3.7799999713897705, 4.78000020980835, 3.7799999713897705, 4.110000133514404, 2.559999942779541, 4.0, 5.0, 4.21999979019165, 1.7799999713897705, 3.7799999713897705, 4.78000020980835, 4.559999942779541, 3.890000104904175, 3.7799999713897705, 4.78000020980835, 4.440000057220459, 2.109999895095825, 4.329999923706055, 5.0, 4.110000133514404, 4.440000057220459, 4.329999923706055, 4.0, 4.670000076293945, 4.110000133514404, 2.109999895095825, 4.21999979019165, 4.559999942779541, 4.670000076293945, 2.890000104904175, 4.329999923706055, 5.0, 2.890000104904175, 5.0, 1.1100000143051147, 4.889999866485596, 3.890000104904175, 4.670000076293945, 4.0, 2.3299999237060547, 3.2200000286102295, 4.670000076293945, 2.440000057220459, 4.329999923706055, 3.890000104904175, 3.0, 5.0, 4.0, 4.0, 4.110000133514404, 4.110000133514404, 4.110000133514404, 3.890000104904175, 4.110000133514404, 4.440000057220459, 4.889999866485596, 3.2200000286102295, 4.889999866485596, 3.440000057220459, 4.670000076293945, 4.889999866485596, 4.889999866485596, 4.889999866485596, 4.440000057220459, 2.7799999713897705, 3.3299999237060547, 4.889999866485596, 3.7799999713897705, 3.559999942779541, 4.78000020980835, 4.78000020980835, 3.559999942779541, 4.78000020980835, 3.7799999713897705, 3.440000057220459, 4.110000133514404, 3.7799999713897705, 4.670000076293945, 4.440000057220459, 3.7799999713897705, 4.559999942779541, 4.329999923706055, 4.0, 4.440000057220459, 4.0, 3.3299999237060547, 4.78000020980835, 3.6700000762939453, 3.7799999713897705, 4.670000076293945, 3.6700000762939453, 3.559999942779541, 4.21999979019165, 3.559999942779541, 4.110000133514404, 5.0, 2.559999942779541, 4.440000057220459, 2.3299999237060547, 5.0, 5.0, 4.559999942779541, 4.889999866485596, 3.559999942779541, 4.440000057220459, 4.78000020980835, 5.0, 5.0, 3.6700000762939453, 3.7799999713897705, 3.7799999713897705, 4.559999942779541, 4.329999923706055, 3.890000104904175, 3.890000104904175, 3.109999895095825, 4.329999923706055, 3.6700000762939453, 3.3299999237060547, 3.7799999713897705, 5.0, 4.0, 4.559999942779541, 4.440000057220459, 4.440000057220459, 1.7799999713897705, 5.0, 3.0, 5.0, 3.6700000762939453, 5.0, 4.0, 4.110000133514404, 2.7799999713897705, 3.6700000762939453, 3.3299999237060547, 1.8899999856948853, 4.0, 4.21999979019165, 4.329999923706055, 4.329999923706055, 4.889999866485596, 2.440000057220459, 4.559999942779541, 3.0, 3.3299999237060547, 4.889999866485596, 2.890000104904175, 5.0, 5.0, 4.329999923706055, 3.890000104904175, 4.559999942779541, 3.890000104904175, 4.329999923706055, 4.670000076293945, 4.889999866485596, 4.670000076293945, 3.6700000762939453, 4.21999979019165, 3.440000057220459, 3.7799999713897705, 4.0, 4.78000020980835, 4.78000020980835, 3.109999895095825, 3.2200000286102295, 4.0, 4.329999923706055, 2.2200000286102295, 4.329999923706055, 3.440000057220459, 2.559999942779541, 4.670000076293945, 4.0, 4.559999942779541, 4.110000133514404, 5.0, 4.440000057220459, 4.559999942779541, 5.0, 3.3299999237060547], \"xaxis\": \"x\", \"y\": [0, 16, 19, 19, 19, 19, 19, 10, 10, 10, 13, 3, 4, 19, 8, 19, 19, 13, 11, 15, 13, 5, 19, 19, 6, 19, 19, 6, 17, 10, 19, 19, 19, 14, 19, 18, 8, 16, 18, 19, 7, 6, 8, 19, 16, 18, 9, 19, 13, 19, 10, 15, 2, 8, 19, 9, 0, 15, 17, 19, 19, 13, 7, 19, 17, 5, 19, 18, 19, 16, 19, 18, 19, 16, 3, 11, 14, 19, 7, 19, 19, 10, 19, 2, 16, 8, 7, 9, 0, 4, 19, 1, 13, 13, 0, 9, 19, 17, 18, 18, 17, 0, 15, 19, 19, 19, 12, 14, 19, 19, 17, 19, 16, 11, 18, 13, 18, 19, 16, 17, 13, 6, 12, 13, 15, 18, 16, 19, 17, 17, 16, 19, 14, 6, 19, 19, 19, 19, 7, 11, 19, 19, 19, 19, 6, 19, 18, 10, 19, 19, 19, 19, 12, 19, 17, 19, 19, 14, 18, 19, 18, 19, 13, 3, 14, 19, 10, 16, 14, 19, 17, 18, 11, 10, 15, 15, 19, 15, 15, 18, 15, 3, 10, 19, 0, 19, 12, 15, 19, 18, 8, 19, 19, 19, 16, 14, 19, 14, 13, 19, 19, 13, 7, 16, 16, 16, 15, 19, 11, 7, 19, 18, 19, 12, 12, 14, 15, 18, 17, 14, 6, 15, 18, 19, 19, 19, 19, 19, 19, 18], \"yaxis\": \"y\"}],\n",
       "                        {\"coloraxis\": {\"colorbar\": {\"title\": {\"text\": \"EnvironmentalAttitude\"}}, \"colorscale\": [[0.0, \"#0d0887\"], [0.1111111111111111, \"#46039f\"], [0.2222222222222222, \"#7201a8\"], [0.3333333333333333, \"#9c179e\"], [0.4444444444444444, \"#bd3786\"], [0.5555555555555556, \"#d8576b\"], [0.6666666666666666, \"#ed7953\"], [0.7777777777777778, \"#fb9f3a\"], [0.8888888888888888, \"#fdca26\"], [1.0, \"#f0f921\"]]}, \"legend\": {\"tracegroupgap\": 0}, \"margin\": {\"t\": 60}, \"template\": {\"data\": {\"bar\": [{\"error_x\": {\"color\": \"#2a3f5f\"}, \"error_y\": {\"color\": \"#2a3f5f\"}, \"marker\": {\"line\": {\"color\": \"#E5ECF6\", \"width\": 0.5}}, \"type\": \"bar\"}], \"barpolar\": [{\"marker\": {\"line\": {\"color\": \"#E5ECF6\", \"width\": 0.5}}, \"type\": \"barpolar\"}], \"carpet\": [{\"aaxis\": {\"endlinecolor\": \"#2a3f5f\", \"gridcolor\": \"white\", \"linecolor\": \"white\", \"minorgridcolor\": \"white\", \"startlinecolor\": \"#2a3f5f\"}, \"baxis\": {\"endlinecolor\": \"#2a3f5f\", \"gridcolor\": \"white\", \"linecolor\": \"white\", \"minorgridcolor\": \"white\", \"startlinecolor\": \"#2a3f5f\"}, \"type\": \"carpet\"}], \"choropleth\": [{\"colorbar\": {\"outlinewidth\": 0, \"ticks\": \"\"}, \"type\": \"choropleth\"}], \"contour\": [{\"colorbar\": {\"outlinewidth\": 0, \"ticks\": \"\"}, \"colorscale\": [[0.0, \"#0d0887\"], [0.1111111111111111, \"#46039f\"], [0.2222222222222222, \"#7201a8\"], [0.3333333333333333, \"#9c179e\"], [0.4444444444444444, \"#bd3786\"], [0.5555555555555556, \"#d8576b\"], [0.6666666666666666, \"#ed7953\"], [0.7777777777777778, \"#fb9f3a\"], [0.8888888888888888, \"#fdca26\"], [1.0, \"#f0f921\"]], \"type\": \"contour\"}], \"contourcarpet\": [{\"colorbar\": {\"outlinewidth\": 0, \"ticks\": \"\"}, \"type\": \"contourcarpet\"}], \"heatmap\": [{\"colorbar\": {\"outlinewidth\": 0, \"ticks\": \"\"}, \"colorscale\": [[0.0, \"#0d0887\"], [0.1111111111111111, \"#46039f\"], [0.2222222222222222, \"#7201a8\"], [0.3333333333333333, \"#9c179e\"], [0.4444444444444444, \"#bd3786\"], [0.5555555555555556, \"#d8576b\"], [0.6666666666666666, \"#ed7953\"], [0.7777777777777778, \"#fb9f3a\"], [0.8888888888888888, \"#fdca26\"], [1.0, \"#f0f921\"]], \"type\": \"heatmap\"}], \"heatmapgl\": [{\"colorbar\": {\"outlinewidth\": 0, \"ticks\": \"\"}, \"colorscale\": [[0.0, \"#0d0887\"], [0.1111111111111111, \"#46039f\"], [0.2222222222222222, \"#7201a8\"], [0.3333333333333333, \"#9c179e\"], [0.4444444444444444, \"#bd3786\"], [0.5555555555555556, \"#d8576b\"], [0.6666666666666666, \"#ed7953\"], [0.7777777777777778, \"#fb9f3a\"], [0.8888888888888888, \"#fdca26\"], [1.0, \"#f0f921\"]], \"type\": \"heatmapgl\"}], \"histogram\": [{\"marker\": {\"colorbar\": {\"outlinewidth\": 0, \"ticks\": \"\"}}, \"type\": \"histogram\"}], \"histogram2d\": [{\"colorbar\": {\"outlinewidth\": 0, \"ticks\": \"\"}, \"colorscale\": [[0.0, \"#0d0887\"], [0.1111111111111111, \"#46039f\"], [0.2222222222222222, \"#7201a8\"], [0.3333333333333333, \"#9c179e\"], [0.4444444444444444, \"#bd3786\"], [0.5555555555555556, \"#d8576b\"], [0.6666666666666666, \"#ed7953\"], [0.7777777777777778, \"#fb9f3a\"], [0.8888888888888888, \"#fdca26\"], [1.0, \"#f0f921\"]], \"type\": \"histogram2d\"}], \"histogram2dcontour\": [{\"colorbar\": {\"outlinewidth\": 0, \"ticks\": \"\"}, \"colorscale\": [[0.0, \"#0d0887\"], [0.1111111111111111, \"#46039f\"], [0.2222222222222222, \"#7201a8\"], [0.3333333333333333, \"#9c179e\"], [0.4444444444444444, \"#bd3786\"], [0.5555555555555556, \"#d8576b\"], [0.6666666666666666, \"#ed7953\"], [0.7777777777777778, \"#fb9f3a\"], [0.8888888888888888, \"#fdca26\"], [1.0, \"#f0f921\"]], \"type\": \"histogram2dcontour\"}], \"mesh3d\": [{\"colorbar\": {\"outlinewidth\": 0, \"ticks\": \"\"}, \"type\": \"mesh3d\"}], \"parcoords\": [{\"line\": {\"colorbar\": {\"outlinewidth\": 0, \"ticks\": \"\"}}, \"type\": \"parcoords\"}], \"pie\": [{\"automargin\": true, \"type\": \"pie\"}], \"scatter\": [{\"marker\": {\"colorbar\": {\"outlinewidth\": 0, \"ticks\": \"\"}}, \"type\": \"scatter\"}], \"scatter3d\": [{\"line\": {\"colorbar\": {\"outlinewidth\": 0, \"ticks\": \"\"}}, \"marker\": {\"colorbar\": {\"outlinewidth\": 0, \"ticks\": \"\"}}, \"type\": \"scatter3d\"}], \"scattercarpet\": [{\"marker\": {\"colorbar\": {\"outlinewidth\": 0, \"ticks\": \"\"}}, \"type\": \"scattercarpet\"}], \"scattergeo\": [{\"marker\": {\"colorbar\": {\"outlinewidth\": 0, \"ticks\": \"\"}}, \"type\": \"scattergeo\"}], \"scattergl\": [{\"marker\": {\"colorbar\": {\"outlinewidth\": 0, \"ticks\": \"\"}}, \"type\": \"scattergl\"}], \"scattermapbox\": [{\"marker\": {\"colorbar\": {\"outlinewidth\": 0, \"ticks\": \"\"}}, \"type\": \"scattermapbox\"}], \"scatterpolar\": [{\"marker\": {\"colorbar\": {\"outlinewidth\": 0, \"ticks\": \"\"}}, \"type\": \"scatterpolar\"}], \"scatterpolargl\": [{\"marker\": {\"colorbar\": {\"outlinewidth\": 0, \"ticks\": \"\"}}, \"type\": \"scatterpolargl\"}], \"scatterternary\": [{\"marker\": {\"colorbar\": {\"outlinewidth\": 0, \"ticks\": \"\"}}, \"type\": \"scatterternary\"}], \"surface\": [{\"colorbar\": {\"outlinewidth\": 0, \"ticks\": \"\"}, \"colorscale\": [[0.0, \"#0d0887\"], [0.1111111111111111, \"#46039f\"], [0.2222222222222222, \"#7201a8\"], [0.3333333333333333, \"#9c179e\"], [0.4444444444444444, \"#bd3786\"], [0.5555555555555556, \"#d8576b\"], [0.6666666666666666, \"#ed7953\"], [0.7777777777777778, \"#fb9f3a\"], [0.8888888888888888, \"#fdca26\"], [1.0, \"#f0f921\"]], \"type\": \"surface\"}], \"table\": [{\"cells\": {\"fill\": {\"color\": \"#EBF0F8\"}, \"line\": {\"color\": \"white\"}}, \"header\": {\"fill\": {\"color\": \"#C8D4E3\"}, \"line\": {\"color\": \"white\"}}, \"type\": \"table\"}]}, \"layout\": {\"annotationdefaults\": {\"arrowcolor\": \"#2a3f5f\", \"arrowhead\": 0, \"arrowwidth\": 1}, \"coloraxis\": {\"colorbar\": {\"outlinewidth\": 0, \"ticks\": \"\"}}, \"colorscale\": {\"diverging\": [[0, \"#8e0152\"], [0.1, \"#c51b7d\"], [0.2, \"#de77ae\"], [0.3, \"#f1b6da\"], [0.4, \"#fde0ef\"], [0.5, \"#f7f7f7\"], [0.6, \"#e6f5d0\"], [0.7, \"#b8e186\"], [0.8, \"#7fbc41\"], [0.9, \"#4d9221\"], [1, \"#276419\"]], \"sequential\": [[0.0, \"#0d0887\"], [0.1111111111111111, \"#46039f\"], [0.2222222222222222, \"#7201a8\"], [0.3333333333333333, \"#9c179e\"], [0.4444444444444444, \"#bd3786\"], [0.5555555555555556, \"#d8576b\"], [0.6666666666666666, \"#ed7953\"], [0.7777777777777778, \"#fb9f3a\"], [0.8888888888888888, \"#fdca26\"], [1.0, \"#f0f921\"]], \"sequentialminus\": [[0.0, \"#0d0887\"], [0.1111111111111111, \"#46039f\"], [0.2222222222222222, \"#7201a8\"], [0.3333333333333333, \"#9c179e\"], [0.4444444444444444, \"#bd3786\"], [0.5555555555555556, \"#d8576b\"], [0.6666666666666666, \"#ed7953\"], [0.7777777777777778, \"#fb9f3a\"], [0.8888888888888888, \"#fdca26\"], [1.0, \"#f0f921\"]]}, \"colorway\": [\"#636efa\", \"#EF553B\", \"#00cc96\", \"#ab63fa\", \"#FFA15A\", \"#19d3f3\", \"#FF6692\", \"#B6E880\", \"#FF97FF\", \"#FECB52\"], \"font\": {\"color\": \"#2a3f5f\"}, \"geo\": {\"bgcolor\": \"white\", \"lakecolor\": \"white\", \"landcolor\": \"#E5ECF6\", \"showlakes\": true, \"showland\": true, \"subunitcolor\": \"white\"}, \"hoverlabel\": {\"align\": \"left\"}, \"hovermode\": \"closest\", \"mapbox\": {\"style\": \"light\"}, \"paper_bgcolor\": \"white\", \"plot_bgcolor\": \"#E5ECF6\", \"polar\": {\"angularaxis\": {\"gridcolor\": \"white\", \"linecolor\": \"white\", \"ticks\": \"\"}, \"bgcolor\": \"#E5ECF6\", \"radialaxis\": {\"gridcolor\": \"white\", \"linecolor\": \"white\", \"ticks\": \"\"}}, \"scene\": {\"xaxis\": {\"backgroundcolor\": \"#E5ECF6\", \"gridcolor\": \"white\", \"gridwidth\": 2, \"linecolor\": \"white\", \"showbackground\": true, \"ticks\": \"\", \"zerolinecolor\": \"white\"}, \"yaxis\": {\"backgroundcolor\": \"#E5ECF6\", \"gridcolor\": \"white\", \"gridwidth\": 2, \"linecolor\": \"white\", \"showbackground\": true, \"ticks\": \"\", \"zerolinecolor\": \"white\"}, \"zaxis\": {\"backgroundcolor\": \"#E5ECF6\", \"gridcolor\": \"white\", \"gridwidth\": 2, \"linecolor\": \"white\", \"showbackground\": true, \"ticks\": \"\", \"zerolinecolor\": \"white\"}}, \"shapedefaults\": {\"line\": {\"color\": \"#2a3f5f\"}}, \"ternary\": {\"aaxis\": {\"gridcolor\": \"white\", \"linecolor\": \"white\", \"ticks\": \"\"}, \"baxis\": {\"gridcolor\": \"white\", \"linecolor\": \"white\", \"ticks\": \"\"}, \"bgcolor\": \"#E5ECF6\", \"caxis\": {\"gridcolor\": \"white\", \"linecolor\": \"white\", \"ticks\": \"\"}}, \"title\": {\"x\": 0.05}, \"xaxis\": {\"automargin\": true, \"gridcolor\": \"white\", \"linecolor\": \"white\", \"ticks\": \"\", \"title\": {\"standoff\": 15}, \"zerolinecolor\": \"white\", \"zerolinewidth\": 2}, \"yaxis\": {\"automargin\": true, \"gridcolor\": \"white\", \"linecolor\": \"white\", \"ticks\": \"\", \"title\": {\"standoff\": 15}, \"zerolinecolor\": \"white\", \"zerolinewidth\": 2}}}, \"xaxis\": {\"anchor\": \"y\", \"domain\": [0.0, 1.0], \"title\": {\"text\": \"Attitude\"}}, \"yaxis\": {\"anchor\": \"x\", \"domain\": [0.0, 1.0], \"title\": {\"text\": \"EVChoice\"}}},\n",
       "                        {\"responsive\": true}\n",
       "                    ).then(function(){\n",
       "                            \n",
       "var gd = document.getElementById('8b869408-632c-4b56-81ea-d152004db946');\n",
       "var x = new MutationObserver(function (mutations, observer) {{\n",
       "        var display = window.getComputedStyle(gd).display;\n",
       "        if (!display || display === 'none') {{\n",
       "            console.log([gd, 'removed!']);\n",
       "            Plotly.purge(gd);\n",
       "            observer.disconnect();\n",
       "        }}\n",
       "}});\n",
       "\n",
       "// Listen for the removal of the full notebook cells\n",
       "var notebookContainer = gd.closest('#notebook-container');\n",
       "if (notebookContainer) {{\n",
       "    x.observe(notebookContainer, {childList: true});\n",
       "}}\n",
       "\n",
       "// Listen for the clearing of the current output cell\n",
       "var outputEl = gd.closest('.output');\n",
       "if (outputEl) {{\n",
       "    x.observe(outputEl, {childList: true});\n",
       "}}\n",
       "\n",
       "                        })\n",
       "                };\n",
       "                });\n",
       "            </script>\n",
       "        </div>"
      ]
     },
     "metadata": {},
     "output_type": "display_data"
    }
   ],
   "source": [
    "figRA2 = px.scatter(df, x='RelativeAdvantage', y='Attitude', color='Group')\n",
    "figRA2.write_html('figRA2.html', auto_open = True)\n",
    "\n",
    "figAttiChoice = px.scatter(df, x='Attitude', y=\"EVChoice\")\n",
    "figAttiChoice.show()\n",
    "figAttiChoice.write_html('figAttiChoice.html', auto_open=True)\n",
    "\n",
    "figAttiChoice = px.scatter(df, x='Attitude', y=\"EVChoice\", color='EnvironmentalAttitude')\n",
    "figAttiChoice.show()\n",
    "figAttiChoice.write_html('figAttiChoice.html', auto_open=True)"
   ]
  },
  {
   "cell_type": "code",
   "execution_count": 11,
   "metadata": {},
   "outputs": [
    {
     "data": {
      "application/vnd.plotly.v1+json": {
       "config": {
        "plotlyServerURL": "https://plot.ly"
       },
       "data": [
        {
         "alignmentgroup": "True",
         "bingroup": "x",
         "histfunc": "sum",
         "hoverlabel": {
          "namelength": 0
         },
         "hovertemplate": "Group=1<br>Attitude=%{x}<br>sum of EVChoice=%{y}",
         "legendgroup": "Group=1",
         "marker": {
          "color": "#636efa"
         },
         "name": "Group=1",
         "offsetgroup": "Group=1",
         "orientation": "v",
         "showlegend": true,
         "type": "histogram",
         "x": [
          3.559999942779541,
          3.7799999713897705,
          4.889999866485596,
          4.889999866485596,
          4.889999866485596,
          4.889999866485596,
          5,
          3.890000104904175,
          3.3299999237060547,
          4.889999866485596,
          3.440000057220459,
          2,
          4.670000076293945,
          4.78000020980835,
          3.440000057220459,
          5,
          4.670000076293945,
          3.440000057220459,
          3.6700000762939453,
          3.6700000762939453,
          4.21999979019165,
          3.3299999237060547,
          5,
          5,
          3.6700000762939453,
          4.21999979019165,
          3.440000057220459,
          4.21999979019165,
          3.890000104904175,
          4.329999923706055,
          4.329999923706055,
          5,
          4,
          3.890000104904175,
          4.670000076293945,
          4.889999866485596,
          4,
          4.559999942779541,
          4.559999942779541,
          4.329999923706055,
          2.890000104904175,
          3.559999942779541,
          4,
          5,
          4.78000020980835,
          3.109999895095825,
          4.670000076293945,
          4.670000076293945,
          3.7799999713897705,
          4.78000020980835,
          3.7799999713897705,
          4.110000133514404,
          2.559999942779541,
          4,
          5,
          4.21999979019165,
          1.7799999713897705,
          3.7799999713897705,
          4.78000020980835,
          4.559999942779541,
          3.890000104904175,
          3.7799999713897705,
          4.78000020980835,
          4.440000057220459,
          2.109999895095825,
          4.329999923706055,
          5,
          4.110000133514404,
          4.440000057220459,
          4.329999923706055,
          4,
          4.670000076293945,
          4.110000133514404,
          2.109999895095825,
          4.21999979019165,
          4.559999942779541,
          4.670000076293945,
          2.890000104904175,
          4.329999923706055,
          5,
          2.890000104904175,
          5,
          1.1100000143051147,
          4.889999866485596,
          3.890000104904175,
          4.670000076293945,
          4,
          2.3299999237060547,
          3.2200000286102295,
          4.670000076293945,
          2.440000057220459,
          4.329999923706055,
          3.890000104904175,
          3,
          5,
          4,
          4,
          4.110000133514404,
          4.110000133514404,
          4.110000133514404,
          3.890000104904175,
          4.110000133514404,
          4.440000057220459,
          4.889999866485596,
          3.2200000286102295,
          4.889999866485596,
          3.440000057220459,
          4.670000076293945,
          4.889999866485596,
          4.889999866485596,
          4.889999866485596,
          4.440000057220459,
          2.7799999713897705,
          3.3299999237060547,
          4.889999866485596,
          3.7799999713897705,
          3.559999942779541
         ],
         "xaxis": "x",
         "y": [
          0,
          16,
          19,
          19,
          19,
          19,
          19,
          10,
          10,
          10,
          13,
          3,
          4,
          19,
          8,
          19,
          19,
          13,
          11,
          15,
          13,
          5,
          19,
          19,
          6,
          19,
          19,
          6,
          17,
          10,
          19,
          19,
          19,
          14,
          19,
          18,
          8,
          16,
          18,
          19,
          7,
          6,
          8,
          19,
          16,
          18,
          9,
          19,
          13,
          19,
          10,
          15,
          2,
          8,
          19,
          9,
          0,
          15,
          17,
          19,
          19,
          13,
          7,
          19,
          17,
          5,
          19,
          18,
          19,
          16,
          19,
          18,
          19,
          16,
          3,
          11,
          14,
          19,
          7,
          19,
          19,
          10,
          19,
          2,
          16,
          8,
          7,
          9,
          0,
          4,
          19,
          1,
          13,
          13,
          0,
          9,
          19,
          17,
          18,
          18,
          17,
          0,
          15,
          19,
          19,
          19,
          12,
          14,
          19,
          19,
          17,
          19,
          16,
          11,
          18,
          13,
          18
         ],
         "yaxis": "y"
        },
        {
         "alignmentgroup": "True",
         "bingroup": "x",
         "histfunc": "sum",
         "hoverlabel": {
          "namelength": 0
         },
         "hovertemplate": "Group=2<br>Attitude=%{x}<br>sum of EVChoice=%{y}",
         "legendgroup": "Group=2",
         "marker": {
          "color": "#EF553B"
         },
         "name": "Group=2",
         "offsetgroup": "Group=2",
         "orientation": "v",
         "showlegend": true,
         "type": "histogram",
         "x": [
          4.78000020980835,
          4.78000020980835,
          3.559999942779541,
          4.78000020980835,
          3.7799999713897705,
          3.440000057220459,
          4.110000133514404,
          3.7799999713897705,
          4.670000076293945,
          4.440000057220459,
          3.7799999713897705,
          4.559999942779541,
          4.329999923706055,
          4,
          4.440000057220459,
          4,
          3.3299999237060547,
          4.78000020980835,
          3.6700000762939453,
          3.7799999713897705,
          4.670000076293945,
          3.6700000762939453,
          3.559999942779541,
          4.21999979019165,
          3.559999942779541,
          4.110000133514404,
          5,
          2.559999942779541,
          4.440000057220459,
          2.3299999237060547,
          5,
          5,
          4.559999942779541,
          4.889999866485596,
          3.559999942779541,
          4.440000057220459,
          4.78000020980835,
          5,
          5,
          3.6700000762939453,
          3.7799999713897705,
          3.7799999713897705,
          4.559999942779541,
          4.329999923706055,
          3.890000104904175,
          3.890000104904175,
          3.109999895095825,
          4.329999923706055,
          3.6700000762939453,
          3.3299999237060547,
          3.7799999713897705,
          5,
          4,
          4.559999942779541,
          4.440000057220459,
          4.440000057220459,
          1.7799999713897705,
          5,
          3,
          5,
          3.6700000762939453,
          5,
          4,
          4.110000133514404,
          2.7799999713897705,
          3.6700000762939453,
          3.3299999237060547,
          1.8899999856948853,
          4,
          4.21999979019165,
          4.329999923706055,
          4.329999923706055,
          4.889999866485596,
          2.440000057220459,
          4.559999942779541,
          3,
          3.3299999237060547,
          4.889999866485596,
          2.890000104904175,
          5,
          5,
          4.329999923706055,
          3.890000104904175,
          4.559999942779541,
          3.890000104904175,
          4.329999923706055,
          4.670000076293945,
          4.889999866485596,
          4.670000076293945,
          3.6700000762939453,
          4.21999979019165,
          3.440000057220459,
          3.7799999713897705,
          4,
          4.78000020980835,
          4.78000020980835,
          3.109999895095825,
          3.2200000286102295,
          4,
          4.329999923706055,
          2.2200000286102295,
          4.329999923706055,
          3.440000057220459,
          2.559999942779541,
          4.670000076293945,
          4,
          4.559999942779541,
          4.110000133514404,
          5,
          4.440000057220459,
          4.559999942779541,
          5,
          3.3299999237060547
         ],
         "xaxis": "x",
         "y": [
          19,
          16,
          17,
          13,
          6,
          12,
          13,
          15,
          18,
          16,
          19,
          17,
          17,
          16,
          19,
          14,
          6,
          19,
          19,
          19,
          19,
          7,
          11,
          19,
          19,
          19,
          19,
          6,
          19,
          18,
          10,
          19,
          19,
          19,
          19,
          12,
          19,
          17,
          19,
          19,
          14,
          18,
          19,
          18,
          19,
          13,
          3,
          14,
          19,
          10,
          16,
          14,
          19,
          17,
          18,
          11,
          10,
          15,
          15,
          19,
          15,
          15,
          18,
          15,
          3,
          10,
          19,
          0,
          19,
          12,
          15,
          19,
          18,
          8,
          19,
          19,
          19,
          16,
          14,
          19,
          14,
          13,
          19,
          19,
          13,
          7,
          16,
          16,
          16,
          15,
          19,
          11,
          7,
          19,
          18,
          19,
          12,
          12,
          14,
          15,
          18,
          17,
          14,
          6,
          15,
          18,
          19,
          19,
          19,
          19,
          19,
          19,
          18
         ],
         "yaxis": "y"
        }
       ],
       "layout": {
        "barmode": "relative",
        "legend": {
         "tracegroupgap": 0
        },
        "margin": {
         "t": 60
        },
        "template": {
         "data": {
          "bar": [
           {
            "error_x": {
             "color": "#2a3f5f"
            },
            "error_y": {
             "color": "#2a3f5f"
            },
            "marker": {
             "line": {
              "color": "#E5ECF6",
              "width": 0.5
             }
            },
            "type": "bar"
           }
          ],
          "barpolar": [
           {
            "marker": {
             "line": {
              "color": "#E5ECF6",
              "width": 0.5
             }
            },
            "type": "barpolar"
           }
          ],
          "carpet": [
           {
            "aaxis": {
             "endlinecolor": "#2a3f5f",
             "gridcolor": "white",
             "linecolor": "white",
             "minorgridcolor": "white",
             "startlinecolor": "#2a3f5f"
            },
            "baxis": {
             "endlinecolor": "#2a3f5f",
             "gridcolor": "white",
             "linecolor": "white",
             "minorgridcolor": "white",
             "startlinecolor": "#2a3f5f"
            },
            "type": "carpet"
           }
          ],
          "choropleth": [
           {
            "colorbar": {
             "outlinewidth": 0,
             "ticks": ""
            },
            "type": "choropleth"
           }
          ],
          "contour": [
           {
            "colorbar": {
             "outlinewidth": 0,
             "ticks": ""
            },
            "colorscale": [
             [
              0,
              "#0d0887"
             ],
             [
              0.1111111111111111,
              "#46039f"
             ],
             [
              0.2222222222222222,
              "#7201a8"
             ],
             [
              0.3333333333333333,
              "#9c179e"
             ],
             [
              0.4444444444444444,
              "#bd3786"
             ],
             [
              0.5555555555555556,
              "#d8576b"
             ],
             [
              0.6666666666666666,
              "#ed7953"
             ],
             [
              0.7777777777777778,
              "#fb9f3a"
             ],
             [
              0.8888888888888888,
              "#fdca26"
             ],
             [
              1,
              "#f0f921"
             ]
            ],
            "type": "contour"
           }
          ],
          "contourcarpet": [
           {
            "colorbar": {
             "outlinewidth": 0,
             "ticks": ""
            },
            "type": "contourcarpet"
           }
          ],
          "heatmap": [
           {
            "colorbar": {
             "outlinewidth": 0,
             "ticks": ""
            },
            "colorscale": [
             [
              0,
              "#0d0887"
             ],
             [
              0.1111111111111111,
              "#46039f"
             ],
             [
              0.2222222222222222,
              "#7201a8"
             ],
             [
              0.3333333333333333,
              "#9c179e"
             ],
             [
              0.4444444444444444,
              "#bd3786"
             ],
             [
              0.5555555555555556,
              "#d8576b"
             ],
             [
              0.6666666666666666,
              "#ed7953"
             ],
             [
              0.7777777777777778,
              "#fb9f3a"
             ],
             [
              0.8888888888888888,
              "#fdca26"
             ],
             [
              1,
              "#f0f921"
             ]
            ],
            "type": "heatmap"
           }
          ],
          "heatmapgl": [
           {
            "colorbar": {
             "outlinewidth": 0,
             "ticks": ""
            },
            "colorscale": [
             [
              0,
              "#0d0887"
             ],
             [
              0.1111111111111111,
              "#46039f"
             ],
             [
              0.2222222222222222,
              "#7201a8"
             ],
             [
              0.3333333333333333,
              "#9c179e"
             ],
             [
              0.4444444444444444,
              "#bd3786"
             ],
             [
              0.5555555555555556,
              "#d8576b"
             ],
             [
              0.6666666666666666,
              "#ed7953"
             ],
             [
              0.7777777777777778,
              "#fb9f3a"
             ],
             [
              0.8888888888888888,
              "#fdca26"
             ],
             [
              1,
              "#f0f921"
             ]
            ],
            "type": "heatmapgl"
           }
          ],
          "histogram": [
           {
            "marker": {
             "colorbar": {
              "outlinewidth": 0,
              "ticks": ""
             }
            },
            "type": "histogram"
           }
          ],
          "histogram2d": [
           {
            "colorbar": {
             "outlinewidth": 0,
             "ticks": ""
            },
            "colorscale": [
             [
              0,
              "#0d0887"
             ],
             [
              0.1111111111111111,
              "#46039f"
             ],
             [
              0.2222222222222222,
              "#7201a8"
             ],
             [
              0.3333333333333333,
              "#9c179e"
             ],
             [
              0.4444444444444444,
              "#bd3786"
             ],
             [
              0.5555555555555556,
              "#d8576b"
             ],
             [
              0.6666666666666666,
              "#ed7953"
             ],
             [
              0.7777777777777778,
              "#fb9f3a"
             ],
             [
              0.8888888888888888,
              "#fdca26"
             ],
             [
              1,
              "#f0f921"
             ]
            ],
            "type": "histogram2d"
           }
          ],
          "histogram2dcontour": [
           {
            "colorbar": {
             "outlinewidth": 0,
             "ticks": ""
            },
            "colorscale": [
             [
              0,
              "#0d0887"
             ],
             [
              0.1111111111111111,
              "#46039f"
             ],
             [
              0.2222222222222222,
              "#7201a8"
             ],
             [
              0.3333333333333333,
              "#9c179e"
             ],
             [
              0.4444444444444444,
              "#bd3786"
             ],
             [
              0.5555555555555556,
              "#d8576b"
             ],
             [
              0.6666666666666666,
              "#ed7953"
             ],
             [
              0.7777777777777778,
              "#fb9f3a"
             ],
             [
              0.8888888888888888,
              "#fdca26"
             ],
             [
              1,
              "#f0f921"
             ]
            ],
            "type": "histogram2dcontour"
           }
          ],
          "mesh3d": [
           {
            "colorbar": {
             "outlinewidth": 0,
             "ticks": ""
            },
            "type": "mesh3d"
           }
          ],
          "parcoords": [
           {
            "line": {
             "colorbar": {
              "outlinewidth": 0,
              "ticks": ""
             }
            },
            "type": "parcoords"
           }
          ],
          "pie": [
           {
            "automargin": true,
            "type": "pie"
           }
          ],
          "scatter": [
           {
            "marker": {
             "colorbar": {
              "outlinewidth": 0,
              "ticks": ""
             }
            },
            "type": "scatter"
           }
          ],
          "scatter3d": [
           {
            "line": {
             "colorbar": {
              "outlinewidth": 0,
              "ticks": ""
             }
            },
            "marker": {
             "colorbar": {
              "outlinewidth": 0,
              "ticks": ""
             }
            },
            "type": "scatter3d"
           }
          ],
          "scattercarpet": [
           {
            "marker": {
             "colorbar": {
              "outlinewidth": 0,
              "ticks": ""
             }
            },
            "type": "scattercarpet"
           }
          ],
          "scattergeo": [
           {
            "marker": {
             "colorbar": {
              "outlinewidth": 0,
              "ticks": ""
             }
            },
            "type": "scattergeo"
           }
          ],
          "scattergl": [
           {
            "marker": {
             "colorbar": {
              "outlinewidth": 0,
              "ticks": ""
             }
            },
            "type": "scattergl"
           }
          ],
          "scattermapbox": [
           {
            "marker": {
             "colorbar": {
              "outlinewidth": 0,
              "ticks": ""
             }
            },
            "type": "scattermapbox"
           }
          ],
          "scatterpolar": [
           {
            "marker": {
             "colorbar": {
              "outlinewidth": 0,
              "ticks": ""
             }
            },
            "type": "scatterpolar"
           }
          ],
          "scatterpolargl": [
           {
            "marker": {
             "colorbar": {
              "outlinewidth": 0,
              "ticks": ""
             }
            },
            "type": "scatterpolargl"
           }
          ],
          "scatterternary": [
           {
            "marker": {
             "colorbar": {
              "outlinewidth": 0,
              "ticks": ""
             }
            },
            "type": "scatterternary"
           }
          ],
          "surface": [
           {
            "colorbar": {
             "outlinewidth": 0,
             "ticks": ""
            },
            "colorscale": [
             [
              0,
              "#0d0887"
             ],
             [
              0.1111111111111111,
              "#46039f"
             ],
             [
              0.2222222222222222,
              "#7201a8"
             ],
             [
              0.3333333333333333,
              "#9c179e"
             ],
             [
              0.4444444444444444,
              "#bd3786"
             ],
             [
              0.5555555555555556,
              "#d8576b"
             ],
             [
              0.6666666666666666,
              "#ed7953"
             ],
             [
              0.7777777777777778,
              "#fb9f3a"
             ],
             [
              0.8888888888888888,
              "#fdca26"
             ],
             [
              1,
              "#f0f921"
             ]
            ],
            "type": "surface"
           }
          ],
          "table": [
           {
            "cells": {
             "fill": {
              "color": "#EBF0F8"
             },
             "line": {
              "color": "white"
             }
            },
            "header": {
             "fill": {
              "color": "#C8D4E3"
             },
             "line": {
              "color": "white"
             }
            },
            "type": "table"
           }
          ]
         },
         "layout": {
          "annotationdefaults": {
           "arrowcolor": "#2a3f5f",
           "arrowhead": 0,
           "arrowwidth": 1
          },
          "coloraxis": {
           "colorbar": {
            "outlinewidth": 0,
            "ticks": ""
           }
          },
          "colorscale": {
           "diverging": [
            [
             0,
             "#8e0152"
            ],
            [
             0.1,
             "#c51b7d"
            ],
            [
             0.2,
             "#de77ae"
            ],
            [
             0.3,
             "#f1b6da"
            ],
            [
             0.4,
             "#fde0ef"
            ],
            [
             0.5,
             "#f7f7f7"
            ],
            [
             0.6,
             "#e6f5d0"
            ],
            [
             0.7,
             "#b8e186"
            ],
            [
             0.8,
             "#7fbc41"
            ],
            [
             0.9,
             "#4d9221"
            ],
            [
             1,
             "#276419"
            ]
           ],
           "sequential": [
            [
             0,
             "#0d0887"
            ],
            [
             0.1111111111111111,
             "#46039f"
            ],
            [
             0.2222222222222222,
             "#7201a8"
            ],
            [
             0.3333333333333333,
             "#9c179e"
            ],
            [
             0.4444444444444444,
             "#bd3786"
            ],
            [
             0.5555555555555556,
             "#d8576b"
            ],
            [
             0.6666666666666666,
             "#ed7953"
            ],
            [
             0.7777777777777778,
             "#fb9f3a"
            ],
            [
             0.8888888888888888,
             "#fdca26"
            ],
            [
             1,
             "#f0f921"
            ]
           ],
           "sequentialminus": [
            [
             0,
             "#0d0887"
            ],
            [
             0.1111111111111111,
             "#46039f"
            ],
            [
             0.2222222222222222,
             "#7201a8"
            ],
            [
             0.3333333333333333,
             "#9c179e"
            ],
            [
             0.4444444444444444,
             "#bd3786"
            ],
            [
             0.5555555555555556,
             "#d8576b"
            ],
            [
             0.6666666666666666,
             "#ed7953"
            ],
            [
             0.7777777777777778,
             "#fb9f3a"
            ],
            [
             0.8888888888888888,
             "#fdca26"
            ],
            [
             1,
             "#f0f921"
            ]
           ]
          },
          "colorway": [
           "#636efa",
           "#EF553B",
           "#00cc96",
           "#ab63fa",
           "#FFA15A",
           "#19d3f3",
           "#FF6692",
           "#B6E880",
           "#FF97FF",
           "#FECB52"
          ],
          "font": {
           "color": "#2a3f5f"
          },
          "geo": {
           "bgcolor": "white",
           "lakecolor": "white",
           "landcolor": "#E5ECF6",
           "showlakes": true,
           "showland": true,
           "subunitcolor": "white"
          },
          "hoverlabel": {
           "align": "left"
          },
          "hovermode": "closest",
          "mapbox": {
           "style": "light"
          },
          "paper_bgcolor": "white",
          "plot_bgcolor": "#E5ECF6",
          "polar": {
           "angularaxis": {
            "gridcolor": "white",
            "linecolor": "white",
            "ticks": ""
           },
           "bgcolor": "#E5ECF6",
           "radialaxis": {
            "gridcolor": "white",
            "linecolor": "white",
            "ticks": ""
           }
          },
          "scene": {
           "xaxis": {
            "backgroundcolor": "#E5ECF6",
            "gridcolor": "white",
            "gridwidth": 2,
            "linecolor": "white",
            "showbackground": true,
            "ticks": "",
            "zerolinecolor": "white"
           },
           "yaxis": {
            "backgroundcolor": "#E5ECF6",
            "gridcolor": "white",
            "gridwidth": 2,
            "linecolor": "white",
            "showbackground": true,
            "ticks": "",
            "zerolinecolor": "white"
           },
           "zaxis": {
            "backgroundcolor": "#E5ECF6",
            "gridcolor": "white",
            "gridwidth": 2,
            "linecolor": "white",
            "showbackground": true,
            "ticks": "",
            "zerolinecolor": "white"
           }
          },
          "shapedefaults": {
           "line": {
            "color": "#2a3f5f"
           }
          },
          "ternary": {
           "aaxis": {
            "gridcolor": "white",
            "linecolor": "white",
            "ticks": ""
           },
           "baxis": {
            "gridcolor": "white",
            "linecolor": "white",
            "ticks": ""
           },
           "bgcolor": "#E5ECF6",
           "caxis": {
            "gridcolor": "white",
            "linecolor": "white",
            "ticks": ""
           }
          },
          "title": {
           "x": 0.05
          },
          "xaxis": {
           "automargin": true,
           "gridcolor": "white",
           "linecolor": "white",
           "ticks": "",
           "title": {
            "standoff": 15
           },
           "zerolinecolor": "white",
           "zerolinewidth": 2
          },
          "yaxis": {
           "automargin": true,
           "gridcolor": "white",
           "linecolor": "white",
           "ticks": "",
           "title": {
            "standoff": 15
           },
           "zerolinecolor": "white",
           "zerolinewidth": 2
          }
         }
        },
        "xaxis": {
         "anchor": "y",
         "domain": [
          0,
          1
         ],
         "title": {
          "text": "Attitude"
         }
        },
        "yaxis": {
         "anchor": "x",
         "domain": [
          0,
          1
         ],
         "title": {
          "text": "sum of EVChoice"
         }
        }
       }
      },
      "text/html": [
       "<div>\n",
       "        \n",
       "        \n",
       "            <div id=\"5c84db80-741e-46d5-bfff-2e5a242b67b6\" class=\"plotly-graph-div\" style=\"height:525px; width:100%;\"></div>\n",
       "            <script type=\"text/javascript\">\n",
       "                require([\"plotly\"], function(Plotly) {\n",
       "                    window.PLOTLYENV=window.PLOTLYENV || {};\n",
       "                    \n",
       "                if (document.getElementById(\"5c84db80-741e-46d5-bfff-2e5a242b67b6\")) {\n",
       "                    Plotly.newPlot(\n",
       "                        '5c84db80-741e-46d5-bfff-2e5a242b67b6',\n",
       "                        [{\"alignmentgroup\": \"True\", \"bingroup\": \"x\", \"histfunc\": \"sum\", \"hoverlabel\": {\"namelength\": 0}, \"hovertemplate\": \"Group=1<br>Attitude=%{x}<br>sum of EVChoice=%{y}\", \"legendgroup\": \"Group=1\", \"marker\": {\"color\": \"#636efa\"}, \"name\": \"Group=1\", \"offsetgroup\": \"Group=1\", \"orientation\": \"v\", \"showlegend\": true, \"type\": \"histogram\", \"x\": [3.559999942779541, 3.7799999713897705, 4.889999866485596, 4.889999866485596, 4.889999866485596, 4.889999866485596, 5.0, 3.890000104904175, 3.3299999237060547, 4.889999866485596, 3.440000057220459, 2.0, 4.670000076293945, 4.78000020980835, 3.440000057220459, 5.0, 4.670000076293945, 3.440000057220459, 3.6700000762939453, 3.6700000762939453, 4.21999979019165, 3.3299999237060547, 5.0, 5.0, 3.6700000762939453, 4.21999979019165, 3.440000057220459, 4.21999979019165, 3.890000104904175, 4.329999923706055, 4.329999923706055, 5.0, 4.0, 3.890000104904175, 4.670000076293945, 4.889999866485596, 4.0, 4.559999942779541, 4.559999942779541, 4.329999923706055, 2.890000104904175, 3.559999942779541, 4.0, 5.0, 4.78000020980835, 3.109999895095825, 4.670000076293945, 4.670000076293945, 3.7799999713897705, 4.78000020980835, 3.7799999713897705, 4.110000133514404, 2.559999942779541, 4.0, 5.0, 4.21999979019165, 1.7799999713897705, 3.7799999713897705, 4.78000020980835, 4.559999942779541, 3.890000104904175, 3.7799999713897705, 4.78000020980835, 4.440000057220459, 2.109999895095825, 4.329999923706055, 5.0, 4.110000133514404, 4.440000057220459, 4.329999923706055, 4.0, 4.670000076293945, 4.110000133514404, 2.109999895095825, 4.21999979019165, 4.559999942779541, 4.670000076293945, 2.890000104904175, 4.329999923706055, 5.0, 2.890000104904175, 5.0, 1.1100000143051147, 4.889999866485596, 3.890000104904175, 4.670000076293945, 4.0, 2.3299999237060547, 3.2200000286102295, 4.670000076293945, 2.440000057220459, 4.329999923706055, 3.890000104904175, 3.0, 5.0, 4.0, 4.0, 4.110000133514404, 4.110000133514404, 4.110000133514404, 3.890000104904175, 4.110000133514404, 4.440000057220459, 4.889999866485596, 3.2200000286102295, 4.889999866485596, 3.440000057220459, 4.670000076293945, 4.889999866485596, 4.889999866485596, 4.889999866485596, 4.440000057220459, 2.7799999713897705, 3.3299999237060547, 4.889999866485596, 3.7799999713897705, 3.559999942779541], \"xaxis\": \"x\", \"y\": [0, 16, 19, 19, 19, 19, 19, 10, 10, 10, 13, 3, 4, 19, 8, 19, 19, 13, 11, 15, 13, 5, 19, 19, 6, 19, 19, 6, 17, 10, 19, 19, 19, 14, 19, 18, 8, 16, 18, 19, 7, 6, 8, 19, 16, 18, 9, 19, 13, 19, 10, 15, 2, 8, 19, 9, 0, 15, 17, 19, 19, 13, 7, 19, 17, 5, 19, 18, 19, 16, 19, 18, 19, 16, 3, 11, 14, 19, 7, 19, 19, 10, 19, 2, 16, 8, 7, 9, 0, 4, 19, 1, 13, 13, 0, 9, 19, 17, 18, 18, 17, 0, 15, 19, 19, 19, 12, 14, 19, 19, 17, 19, 16, 11, 18, 13, 18], \"yaxis\": \"y\"}, {\"alignmentgroup\": \"True\", \"bingroup\": \"x\", \"histfunc\": \"sum\", \"hoverlabel\": {\"namelength\": 0}, \"hovertemplate\": \"Group=2<br>Attitude=%{x}<br>sum of EVChoice=%{y}\", \"legendgroup\": \"Group=2\", \"marker\": {\"color\": \"#EF553B\"}, \"name\": \"Group=2\", \"offsetgroup\": \"Group=2\", \"orientation\": \"v\", \"showlegend\": true, \"type\": \"histogram\", \"x\": [4.78000020980835, 4.78000020980835, 3.559999942779541, 4.78000020980835, 3.7799999713897705, 3.440000057220459, 4.110000133514404, 3.7799999713897705, 4.670000076293945, 4.440000057220459, 3.7799999713897705, 4.559999942779541, 4.329999923706055, 4.0, 4.440000057220459, 4.0, 3.3299999237060547, 4.78000020980835, 3.6700000762939453, 3.7799999713897705, 4.670000076293945, 3.6700000762939453, 3.559999942779541, 4.21999979019165, 3.559999942779541, 4.110000133514404, 5.0, 2.559999942779541, 4.440000057220459, 2.3299999237060547, 5.0, 5.0, 4.559999942779541, 4.889999866485596, 3.559999942779541, 4.440000057220459, 4.78000020980835, 5.0, 5.0, 3.6700000762939453, 3.7799999713897705, 3.7799999713897705, 4.559999942779541, 4.329999923706055, 3.890000104904175, 3.890000104904175, 3.109999895095825, 4.329999923706055, 3.6700000762939453, 3.3299999237060547, 3.7799999713897705, 5.0, 4.0, 4.559999942779541, 4.440000057220459, 4.440000057220459, 1.7799999713897705, 5.0, 3.0, 5.0, 3.6700000762939453, 5.0, 4.0, 4.110000133514404, 2.7799999713897705, 3.6700000762939453, 3.3299999237060547, 1.8899999856948853, 4.0, 4.21999979019165, 4.329999923706055, 4.329999923706055, 4.889999866485596, 2.440000057220459, 4.559999942779541, 3.0, 3.3299999237060547, 4.889999866485596, 2.890000104904175, 5.0, 5.0, 4.329999923706055, 3.890000104904175, 4.559999942779541, 3.890000104904175, 4.329999923706055, 4.670000076293945, 4.889999866485596, 4.670000076293945, 3.6700000762939453, 4.21999979019165, 3.440000057220459, 3.7799999713897705, 4.0, 4.78000020980835, 4.78000020980835, 3.109999895095825, 3.2200000286102295, 4.0, 4.329999923706055, 2.2200000286102295, 4.329999923706055, 3.440000057220459, 2.559999942779541, 4.670000076293945, 4.0, 4.559999942779541, 4.110000133514404, 5.0, 4.440000057220459, 4.559999942779541, 5.0, 3.3299999237060547], \"xaxis\": \"x\", \"y\": [19, 16, 17, 13, 6, 12, 13, 15, 18, 16, 19, 17, 17, 16, 19, 14, 6, 19, 19, 19, 19, 7, 11, 19, 19, 19, 19, 6, 19, 18, 10, 19, 19, 19, 19, 12, 19, 17, 19, 19, 14, 18, 19, 18, 19, 13, 3, 14, 19, 10, 16, 14, 19, 17, 18, 11, 10, 15, 15, 19, 15, 15, 18, 15, 3, 10, 19, 0, 19, 12, 15, 19, 18, 8, 19, 19, 19, 16, 14, 19, 14, 13, 19, 19, 13, 7, 16, 16, 16, 15, 19, 11, 7, 19, 18, 19, 12, 12, 14, 15, 18, 17, 14, 6, 15, 18, 19, 19, 19, 19, 19, 19, 18], \"yaxis\": \"y\"}],\n",
       "                        {\"barmode\": \"relative\", \"legend\": {\"tracegroupgap\": 0}, \"margin\": {\"t\": 60}, \"template\": {\"data\": {\"bar\": [{\"error_x\": {\"color\": \"#2a3f5f\"}, \"error_y\": {\"color\": \"#2a3f5f\"}, \"marker\": {\"line\": {\"color\": \"#E5ECF6\", \"width\": 0.5}}, \"type\": \"bar\"}], \"barpolar\": [{\"marker\": {\"line\": {\"color\": \"#E5ECF6\", \"width\": 0.5}}, \"type\": \"barpolar\"}], \"carpet\": [{\"aaxis\": {\"endlinecolor\": \"#2a3f5f\", \"gridcolor\": \"white\", \"linecolor\": \"white\", \"minorgridcolor\": \"white\", \"startlinecolor\": \"#2a3f5f\"}, \"baxis\": {\"endlinecolor\": \"#2a3f5f\", \"gridcolor\": \"white\", \"linecolor\": \"white\", \"minorgridcolor\": \"white\", \"startlinecolor\": \"#2a3f5f\"}, \"type\": \"carpet\"}], \"choropleth\": [{\"colorbar\": {\"outlinewidth\": 0, \"ticks\": \"\"}, \"type\": \"choropleth\"}], \"contour\": [{\"colorbar\": {\"outlinewidth\": 0, \"ticks\": \"\"}, \"colorscale\": [[0.0, \"#0d0887\"], [0.1111111111111111, \"#46039f\"], [0.2222222222222222, \"#7201a8\"], [0.3333333333333333, \"#9c179e\"], [0.4444444444444444, \"#bd3786\"], [0.5555555555555556, \"#d8576b\"], [0.6666666666666666, \"#ed7953\"], [0.7777777777777778, \"#fb9f3a\"], [0.8888888888888888, \"#fdca26\"], [1.0, \"#f0f921\"]], \"type\": \"contour\"}], \"contourcarpet\": [{\"colorbar\": {\"outlinewidth\": 0, \"ticks\": \"\"}, \"type\": \"contourcarpet\"}], \"heatmap\": [{\"colorbar\": {\"outlinewidth\": 0, \"ticks\": \"\"}, \"colorscale\": [[0.0, \"#0d0887\"], [0.1111111111111111, \"#46039f\"], [0.2222222222222222, \"#7201a8\"], [0.3333333333333333, \"#9c179e\"], [0.4444444444444444, \"#bd3786\"], [0.5555555555555556, \"#d8576b\"], [0.6666666666666666, \"#ed7953\"], [0.7777777777777778, \"#fb9f3a\"], [0.8888888888888888, \"#fdca26\"], [1.0, \"#f0f921\"]], \"type\": \"heatmap\"}], \"heatmapgl\": [{\"colorbar\": {\"outlinewidth\": 0, \"ticks\": \"\"}, \"colorscale\": [[0.0, \"#0d0887\"], [0.1111111111111111, \"#46039f\"], [0.2222222222222222, \"#7201a8\"], [0.3333333333333333, \"#9c179e\"], [0.4444444444444444, \"#bd3786\"], [0.5555555555555556, \"#d8576b\"], [0.6666666666666666, \"#ed7953\"], [0.7777777777777778, \"#fb9f3a\"], [0.8888888888888888, \"#fdca26\"], [1.0, \"#f0f921\"]], \"type\": \"heatmapgl\"}], \"histogram\": [{\"marker\": {\"colorbar\": {\"outlinewidth\": 0, \"ticks\": \"\"}}, \"type\": \"histogram\"}], \"histogram2d\": [{\"colorbar\": {\"outlinewidth\": 0, \"ticks\": \"\"}, \"colorscale\": [[0.0, \"#0d0887\"], [0.1111111111111111, \"#46039f\"], [0.2222222222222222, \"#7201a8\"], [0.3333333333333333, \"#9c179e\"], [0.4444444444444444, \"#bd3786\"], [0.5555555555555556, \"#d8576b\"], [0.6666666666666666, \"#ed7953\"], [0.7777777777777778, \"#fb9f3a\"], [0.8888888888888888, \"#fdca26\"], [1.0, \"#f0f921\"]], \"type\": \"histogram2d\"}], \"histogram2dcontour\": [{\"colorbar\": {\"outlinewidth\": 0, \"ticks\": \"\"}, \"colorscale\": [[0.0, \"#0d0887\"], [0.1111111111111111, \"#46039f\"], [0.2222222222222222, \"#7201a8\"], [0.3333333333333333, \"#9c179e\"], [0.4444444444444444, \"#bd3786\"], [0.5555555555555556, \"#d8576b\"], [0.6666666666666666, \"#ed7953\"], [0.7777777777777778, \"#fb9f3a\"], [0.8888888888888888, \"#fdca26\"], [1.0, \"#f0f921\"]], \"type\": \"histogram2dcontour\"}], \"mesh3d\": [{\"colorbar\": {\"outlinewidth\": 0, \"ticks\": \"\"}, \"type\": \"mesh3d\"}], \"parcoords\": [{\"line\": {\"colorbar\": {\"outlinewidth\": 0, \"ticks\": \"\"}}, \"type\": \"parcoords\"}], \"pie\": [{\"automargin\": true, \"type\": \"pie\"}], \"scatter\": [{\"marker\": {\"colorbar\": {\"outlinewidth\": 0, \"ticks\": \"\"}}, \"type\": \"scatter\"}], \"scatter3d\": [{\"line\": {\"colorbar\": {\"outlinewidth\": 0, \"ticks\": \"\"}}, \"marker\": {\"colorbar\": {\"outlinewidth\": 0, \"ticks\": \"\"}}, \"type\": \"scatter3d\"}], \"scattercarpet\": [{\"marker\": {\"colorbar\": {\"outlinewidth\": 0, \"ticks\": \"\"}}, \"type\": \"scattercarpet\"}], \"scattergeo\": [{\"marker\": {\"colorbar\": {\"outlinewidth\": 0, \"ticks\": \"\"}}, \"type\": \"scattergeo\"}], \"scattergl\": [{\"marker\": {\"colorbar\": {\"outlinewidth\": 0, \"ticks\": \"\"}}, \"type\": \"scattergl\"}], \"scattermapbox\": [{\"marker\": {\"colorbar\": {\"outlinewidth\": 0, \"ticks\": \"\"}}, \"type\": \"scattermapbox\"}], \"scatterpolar\": [{\"marker\": {\"colorbar\": {\"outlinewidth\": 0, \"ticks\": \"\"}}, \"type\": \"scatterpolar\"}], \"scatterpolargl\": [{\"marker\": {\"colorbar\": {\"outlinewidth\": 0, \"ticks\": \"\"}}, \"type\": \"scatterpolargl\"}], \"scatterternary\": [{\"marker\": {\"colorbar\": {\"outlinewidth\": 0, \"ticks\": \"\"}}, \"type\": \"scatterternary\"}], \"surface\": [{\"colorbar\": {\"outlinewidth\": 0, \"ticks\": \"\"}, \"colorscale\": [[0.0, \"#0d0887\"], [0.1111111111111111, \"#46039f\"], [0.2222222222222222, \"#7201a8\"], [0.3333333333333333, \"#9c179e\"], [0.4444444444444444, \"#bd3786\"], [0.5555555555555556, \"#d8576b\"], [0.6666666666666666, \"#ed7953\"], [0.7777777777777778, \"#fb9f3a\"], [0.8888888888888888, \"#fdca26\"], [1.0, \"#f0f921\"]], \"type\": \"surface\"}], \"table\": [{\"cells\": {\"fill\": {\"color\": \"#EBF0F8\"}, \"line\": {\"color\": \"white\"}}, \"header\": {\"fill\": {\"color\": \"#C8D4E3\"}, \"line\": {\"color\": \"white\"}}, \"type\": \"table\"}]}, \"layout\": {\"annotationdefaults\": {\"arrowcolor\": \"#2a3f5f\", \"arrowhead\": 0, \"arrowwidth\": 1}, \"coloraxis\": {\"colorbar\": {\"outlinewidth\": 0, \"ticks\": \"\"}}, \"colorscale\": {\"diverging\": [[0, \"#8e0152\"], [0.1, \"#c51b7d\"], [0.2, \"#de77ae\"], [0.3, \"#f1b6da\"], [0.4, \"#fde0ef\"], [0.5, \"#f7f7f7\"], [0.6, \"#e6f5d0\"], [0.7, \"#b8e186\"], [0.8, \"#7fbc41\"], [0.9, \"#4d9221\"], [1, \"#276419\"]], \"sequential\": [[0.0, \"#0d0887\"], [0.1111111111111111, \"#46039f\"], [0.2222222222222222, \"#7201a8\"], [0.3333333333333333, \"#9c179e\"], [0.4444444444444444, \"#bd3786\"], [0.5555555555555556, \"#d8576b\"], [0.6666666666666666, \"#ed7953\"], [0.7777777777777778, \"#fb9f3a\"], [0.8888888888888888, \"#fdca26\"], [1.0, \"#f0f921\"]], \"sequentialminus\": [[0.0, \"#0d0887\"], [0.1111111111111111, \"#46039f\"], [0.2222222222222222, \"#7201a8\"], [0.3333333333333333, \"#9c179e\"], [0.4444444444444444, \"#bd3786\"], [0.5555555555555556, \"#d8576b\"], [0.6666666666666666, \"#ed7953\"], [0.7777777777777778, \"#fb9f3a\"], [0.8888888888888888, \"#fdca26\"], [1.0, \"#f0f921\"]]}, \"colorway\": [\"#636efa\", \"#EF553B\", \"#00cc96\", \"#ab63fa\", \"#FFA15A\", \"#19d3f3\", \"#FF6692\", \"#B6E880\", \"#FF97FF\", \"#FECB52\"], \"font\": {\"color\": \"#2a3f5f\"}, \"geo\": {\"bgcolor\": \"white\", \"lakecolor\": \"white\", \"landcolor\": \"#E5ECF6\", \"showlakes\": true, \"showland\": true, \"subunitcolor\": \"white\"}, \"hoverlabel\": {\"align\": \"left\"}, \"hovermode\": \"closest\", \"mapbox\": {\"style\": \"light\"}, \"paper_bgcolor\": \"white\", \"plot_bgcolor\": \"#E5ECF6\", \"polar\": {\"angularaxis\": {\"gridcolor\": \"white\", \"linecolor\": \"white\", \"ticks\": \"\"}, \"bgcolor\": \"#E5ECF6\", \"radialaxis\": {\"gridcolor\": \"white\", \"linecolor\": \"white\", \"ticks\": \"\"}}, \"scene\": {\"xaxis\": {\"backgroundcolor\": \"#E5ECF6\", \"gridcolor\": \"white\", \"gridwidth\": 2, \"linecolor\": \"white\", \"showbackground\": true, \"ticks\": \"\", \"zerolinecolor\": \"white\"}, \"yaxis\": {\"backgroundcolor\": \"#E5ECF6\", \"gridcolor\": \"white\", \"gridwidth\": 2, \"linecolor\": \"white\", \"showbackground\": true, \"ticks\": \"\", \"zerolinecolor\": \"white\"}, \"zaxis\": {\"backgroundcolor\": \"#E5ECF6\", \"gridcolor\": \"white\", \"gridwidth\": 2, \"linecolor\": \"white\", \"showbackground\": true, \"ticks\": \"\", \"zerolinecolor\": \"white\"}}, \"shapedefaults\": {\"line\": {\"color\": \"#2a3f5f\"}}, \"ternary\": {\"aaxis\": {\"gridcolor\": \"white\", \"linecolor\": \"white\", \"ticks\": \"\"}, \"baxis\": {\"gridcolor\": \"white\", \"linecolor\": \"white\", \"ticks\": \"\"}, \"bgcolor\": \"#E5ECF6\", \"caxis\": {\"gridcolor\": \"white\", \"linecolor\": \"white\", \"ticks\": \"\"}}, \"title\": {\"x\": 0.05}, \"xaxis\": {\"automargin\": true, \"gridcolor\": \"white\", \"linecolor\": \"white\", \"ticks\": \"\", \"title\": {\"standoff\": 15}, \"zerolinecolor\": \"white\", \"zerolinewidth\": 2}, \"yaxis\": {\"automargin\": true, \"gridcolor\": \"white\", \"linecolor\": \"white\", \"ticks\": \"\", \"title\": {\"standoff\": 15}, \"zerolinecolor\": \"white\", \"zerolinewidth\": 2}}}, \"xaxis\": {\"anchor\": \"y\", \"domain\": [0.0, 1.0], \"title\": {\"text\": \"Attitude\"}}, \"yaxis\": {\"anchor\": \"x\", \"domain\": [0.0, 1.0], \"title\": {\"text\": \"sum of EVChoice\"}}},\n",
       "                        {\"responsive\": true}\n",
       "                    ).then(function(){\n",
       "                            \n",
       "var gd = document.getElementById('5c84db80-741e-46d5-bfff-2e5a242b67b6');\n",
       "var x = new MutationObserver(function (mutations, observer) {{\n",
       "        var display = window.getComputedStyle(gd).display;\n",
       "        if (!display || display === 'none') {{\n",
       "            console.log([gd, 'removed!']);\n",
       "            Plotly.purge(gd);\n",
       "            observer.disconnect();\n",
       "        }}\n",
       "}});\n",
       "\n",
       "// Listen for the removal of the full notebook cells\n",
       "var notebookContainer = gd.closest('#notebook-container');\n",
       "if (notebookContainer) {{\n",
       "    x.observe(notebookContainer, {childList: true});\n",
       "}}\n",
       "\n",
       "// Listen for the clearing of the current output cell\n",
       "var outputEl = gd.closest('.output');\n",
       "if (outputEl) {{\n",
       "    x.observe(outputEl, {childList: true});\n",
       "}}\n",
       "\n",
       "                        })\n",
       "                };\n",
       "                });\n",
       "            </script>\n",
       "        </div>"
      ]
     },
     "metadata": {},
     "output_type": "display_data"
    },
    {
     "data": {
      "application/vnd.plotly.v1+json": {
       "config": {
        "plotlyServerURL": "https://plot.ly"
       },
       "data": [
        {
         "alignmentgroup": "True",
         "bingroup": "x",
         "histfunc": "sum",
         "hoverlabel": {
          "namelength": 0
         },
         "hovertemplate": "Group=1<br>EnvironmentalAttitude=%{x}<br>sum of EVChoice=%{y}",
         "legendgroup": "Group=1",
         "marker": {
          "color": "#636efa"
         },
         "name": "Group=1",
         "offsetgroup": "Group=1",
         "orientation": "v",
         "showlegend": true,
         "type": "histogram",
         "x": [
          5.5,
          7,
          6.75,
          6.75,
          7,
          6.25,
          7,
          6,
          4,
          6.75,
          5.5,
          5,
          3.75,
          6.5,
          5.5,
          7,
          5.5,
          7,
          7,
          5,
          7,
          6.25,
          3,
          6.25,
          6.75,
          7,
          5.75,
          6,
          5.25,
          6.25,
          7,
          5.25,
          5.25,
          6.75,
          7,
          7,
          6,
          6.25,
          4.5,
          6.25,
          4.75,
          4.25,
          6,
          7,
          7,
          7,
          5,
          5.75,
          6.5,
          7,
          4.5,
          5.5,
          4.25,
          6.25,
          6.25,
          6,
          2.25,
          6.25,
          7,
          6.75,
          5.25,
          4.25,
          6.5,
          6.5,
          5,
          6.75,
          7,
          6.25,
          5.25,
          7,
          7,
          7,
          6.25,
          4.25,
          7,
          6.75,
          6.5,
          5.25,
          6,
          6.5,
          3.75,
          6.25,
          6,
          7,
          6.25,
          3,
          5.75,
          6.75,
          7,
          7,
          5.25,
          6.25,
          5.5,
          5.5,
          5.5,
          6.25,
          7,
          4.75,
          6.5,
          1.25,
          6.5,
          5.5,
          6.75,
          7,
          7,
          7,
          4,
          6.5,
          7,
          6.25,
          7,
          5.5,
          7,
          4.25,
          7,
          5.5,
          5.25
         ],
         "xaxis": "x",
         "y": [
          0,
          16,
          19,
          19,
          19,
          19,
          19,
          10,
          10,
          10,
          13,
          3,
          4,
          19,
          8,
          19,
          19,
          13,
          11,
          15,
          13,
          5,
          19,
          19,
          6,
          19,
          19,
          6,
          17,
          10,
          19,
          19,
          19,
          14,
          19,
          18,
          8,
          16,
          18,
          19,
          7,
          6,
          8,
          19,
          16,
          18,
          9,
          19,
          13,
          19,
          10,
          15,
          2,
          8,
          19,
          9,
          0,
          15,
          17,
          19,
          19,
          13,
          7,
          19,
          17,
          5,
          19,
          18,
          19,
          16,
          19,
          18,
          19,
          16,
          3,
          11,
          14,
          19,
          7,
          19,
          19,
          10,
          19,
          2,
          16,
          8,
          7,
          9,
          0,
          4,
          19,
          1,
          13,
          13,
          0,
          9,
          19,
          17,
          18,
          18,
          17,
          0,
          15,
          19,
          19,
          19,
          12,
          14,
          19,
          19,
          17,
          19,
          16,
          11,
          18,
          13,
          18
         ],
         "yaxis": "y"
        },
        {
         "alignmentgroup": "True",
         "bingroup": "x",
         "histfunc": "sum",
         "hoverlabel": {
          "namelength": 0
         },
         "hovertemplate": "Group=2<br>EnvironmentalAttitude=%{x}<br>sum of EVChoice=%{y}",
         "legendgroup": "Group=2",
         "marker": {
          "color": "#EF553B"
         },
         "name": "Group=2",
         "offsetgroup": "Group=2",
         "orientation": "v",
         "showlegend": true,
         "type": "histogram",
         "x": [
          6.75,
          6,
          4,
          5.25,
          6.5,
          4.25,
          5.5,
          7,
          4.75,
          5,
          6.25,
          5.5,
          6.75,
          6,
          6,
          7,
          2.5,
          7,
          3.25,
          5.75,
          7,
          5,
          5,
          5.75,
          7,
          3.75,
          6.75,
          4.25,
          7,
          3,
          7,
          3.75,
          3.75,
          7,
          4.25,
          6,
          6.75,
          7,
          6.5,
          6.25,
          5,
          6,
          6.5,
          5.75,
          7,
          5.5,
          7,
          5.75,
          5,
          3.25,
          5,
          5,
          5.25,
          5,
          5.25,
          4,
          5.5,
          5.25,
          1,
          7,
          6.5,
          6.75,
          6.25,
          6,
          6.25,
          4.25,
          3.5,
          1.75,
          6.5,
          4.25,
          5.75,
          6.25,
          5,
          4,
          3.75,
          7,
          6.75,
          7,
          6,
          7,
          5.5,
          6.5,
          5,
          5.5,
          6,
          7,
          5.5,
          7,
          6.75,
          7,
          6.5,
          5.75,
          3.5,
          6.75,
          7,
          7,
          3.5,
          7,
          4,
          6.25,
          5.5,
          4.75,
          4.75,
          6,
          6.25,
          2.5,
          7,
          6.5,
          6,
          6.5,
          6.75,
          7,
          2.5
         ],
         "xaxis": "x",
         "y": [
          19,
          16,
          17,
          13,
          6,
          12,
          13,
          15,
          18,
          16,
          19,
          17,
          17,
          16,
          19,
          14,
          6,
          19,
          19,
          19,
          19,
          7,
          11,
          19,
          19,
          19,
          19,
          6,
          19,
          18,
          10,
          19,
          19,
          19,
          19,
          12,
          19,
          17,
          19,
          19,
          14,
          18,
          19,
          18,
          19,
          13,
          3,
          14,
          19,
          10,
          16,
          14,
          19,
          17,
          18,
          11,
          10,
          15,
          15,
          19,
          15,
          15,
          18,
          15,
          3,
          10,
          19,
          0,
          19,
          12,
          15,
          19,
          18,
          8,
          19,
          19,
          19,
          16,
          14,
          19,
          14,
          13,
          19,
          19,
          13,
          7,
          16,
          16,
          16,
          15,
          19,
          11,
          7,
          19,
          18,
          19,
          12,
          12,
          14,
          15,
          18,
          17,
          14,
          6,
          15,
          18,
          19,
          19,
          19,
          19,
          19,
          19,
          18
         ],
         "yaxis": "y"
        }
       ],
       "layout": {
        "barmode": "relative",
        "legend": {
         "tracegroupgap": 0
        },
        "margin": {
         "t": 60
        },
        "template": {
         "data": {
          "bar": [
           {
            "error_x": {
             "color": "#2a3f5f"
            },
            "error_y": {
             "color": "#2a3f5f"
            },
            "marker": {
             "line": {
              "color": "#E5ECF6",
              "width": 0.5
             }
            },
            "type": "bar"
           }
          ],
          "barpolar": [
           {
            "marker": {
             "line": {
              "color": "#E5ECF6",
              "width": 0.5
             }
            },
            "type": "barpolar"
           }
          ],
          "carpet": [
           {
            "aaxis": {
             "endlinecolor": "#2a3f5f",
             "gridcolor": "white",
             "linecolor": "white",
             "minorgridcolor": "white",
             "startlinecolor": "#2a3f5f"
            },
            "baxis": {
             "endlinecolor": "#2a3f5f",
             "gridcolor": "white",
             "linecolor": "white",
             "minorgridcolor": "white",
             "startlinecolor": "#2a3f5f"
            },
            "type": "carpet"
           }
          ],
          "choropleth": [
           {
            "colorbar": {
             "outlinewidth": 0,
             "ticks": ""
            },
            "type": "choropleth"
           }
          ],
          "contour": [
           {
            "colorbar": {
             "outlinewidth": 0,
             "ticks": ""
            },
            "colorscale": [
             [
              0,
              "#0d0887"
             ],
             [
              0.1111111111111111,
              "#46039f"
             ],
             [
              0.2222222222222222,
              "#7201a8"
             ],
             [
              0.3333333333333333,
              "#9c179e"
             ],
             [
              0.4444444444444444,
              "#bd3786"
             ],
             [
              0.5555555555555556,
              "#d8576b"
             ],
             [
              0.6666666666666666,
              "#ed7953"
             ],
             [
              0.7777777777777778,
              "#fb9f3a"
             ],
             [
              0.8888888888888888,
              "#fdca26"
             ],
             [
              1,
              "#f0f921"
             ]
            ],
            "type": "contour"
           }
          ],
          "contourcarpet": [
           {
            "colorbar": {
             "outlinewidth": 0,
             "ticks": ""
            },
            "type": "contourcarpet"
           }
          ],
          "heatmap": [
           {
            "colorbar": {
             "outlinewidth": 0,
             "ticks": ""
            },
            "colorscale": [
             [
              0,
              "#0d0887"
             ],
             [
              0.1111111111111111,
              "#46039f"
             ],
             [
              0.2222222222222222,
              "#7201a8"
             ],
             [
              0.3333333333333333,
              "#9c179e"
             ],
             [
              0.4444444444444444,
              "#bd3786"
             ],
             [
              0.5555555555555556,
              "#d8576b"
             ],
             [
              0.6666666666666666,
              "#ed7953"
             ],
             [
              0.7777777777777778,
              "#fb9f3a"
             ],
             [
              0.8888888888888888,
              "#fdca26"
             ],
             [
              1,
              "#f0f921"
             ]
            ],
            "type": "heatmap"
           }
          ],
          "heatmapgl": [
           {
            "colorbar": {
             "outlinewidth": 0,
             "ticks": ""
            },
            "colorscale": [
             [
              0,
              "#0d0887"
             ],
             [
              0.1111111111111111,
              "#46039f"
             ],
             [
              0.2222222222222222,
              "#7201a8"
             ],
             [
              0.3333333333333333,
              "#9c179e"
             ],
             [
              0.4444444444444444,
              "#bd3786"
             ],
             [
              0.5555555555555556,
              "#d8576b"
             ],
             [
              0.6666666666666666,
              "#ed7953"
             ],
             [
              0.7777777777777778,
              "#fb9f3a"
             ],
             [
              0.8888888888888888,
              "#fdca26"
             ],
             [
              1,
              "#f0f921"
             ]
            ],
            "type": "heatmapgl"
           }
          ],
          "histogram": [
           {
            "marker": {
             "colorbar": {
              "outlinewidth": 0,
              "ticks": ""
             }
            },
            "type": "histogram"
           }
          ],
          "histogram2d": [
           {
            "colorbar": {
             "outlinewidth": 0,
             "ticks": ""
            },
            "colorscale": [
             [
              0,
              "#0d0887"
             ],
             [
              0.1111111111111111,
              "#46039f"
             ],
             [
              0.2222222222222222,
              "#7201a8"
             ],
             [
              0.3333333333333333,
              "#9c179e"
             ],
             [
              0.4444444444444444,
              "#bd3786"
             ],
             [
              0.5555555555555556,
              "#d8576b"
             ],
             [
              0.6666666666666666,
              "#ed7953"
             ],
             [
              0.7777777777777778,
              "#fb9f3a"
             ],
             [
              0.8888888888888888,
              "#fdca26"
             ],
             [
              1,
              "#f0f921"
             ]
            ],
            "type": "histogram2d"
           }
          ],
          "histogram2dcontour": [
           {
            "colorbar": {
             "outlinewidth": 0,
             "ticks": ""
            },
            "colorscale": [
             [
              0,
              "#0d0887"
             ],
             [
              0.1111111111111111,
              "#46039f"
             ],
             [
              0.2222222222222222,
              "#7201a8"
             ],
             [
              0.3333333333333333,
              "#9c179e"
             ],
             [
              0.4444444444444444,
              "#bd3786"
             ],
             [
              0.5555555555555556,
              "#d8576b"
             ],
             [
              0.6666666666666666,
              "#ed7953"
             ],
             [
              0.7777777777777778,
              "#fb9f3a"
             ],
             [
              0.8888888888888888,
              "#fdca26"
             ],
             [
              1,
              "#f0f921"
             ]
            ],
            "type": "histogram2dcontour"
           }
          ],
          "mesh3d": [
           {
            "colorbar": {
             "outlinewidth": 0,
             "ticks": ""
            },
            "type": "mesh3d"
           }
          ],
          "parcoords": [
           {
            "line": {
             "colorbar": {
              "outlinewidth": 0,
              "ticks": ""
             }
            },
            "type": "parcoords"
           }
          ],
          "pie": [
           {
            "automargin": true,
            "type": "pie"
           }
          ],
          "scatter": [
           {
            "marker": {
             "colorbar": {
              "outlinewidth": 0,
              "ticks": ""
             }
            },
            "type": "scatter"
           }
          ],
          "scatter3d": [
           {
            "line": {
             "colorbar": {
              "outlinewidth": 0,
              "ticks": ""
             }
            },
            "marker": {
             "colorbar": {
              "outlinewidth": 0,
              "ticks": ""
             }
            },
            "type": "scatter3d"
           }
          ],
          "scattercarpet": [
           {
            "marker": {
             "colorbar": {
              "outlinewidth": 0,
              "ticks": ""
             }
            },
            "type": "scattercarpet"
           }
          ],
          "scattergeo": [
           {
            "marker": {
             "colorbar": {
              "outlinewidth": 0,
              "ticks": ""
             }
            },
            "type": "scattergeo"
           }
          ],
          "scattergl": [
           {
            "marker": {
             "colorbar": {
              "outlinewidth": 0,
              "ticks": ""
             }
            },
            "type": "scattergl"
           }
          ],
          "scattermapbox": [
           {
            "marker": {
             "colorbar": {
              "outlinewidth": 0,
              "ticks": ""
             }
            },
            "type": "scattermapbox"
           }
          ],
          "scatterpolar": [
           {
            "marker": {
             "colorbar": {
              "outlinewidth": 0,
              "ticks": ""
             }
            },
            "type": "scatterpolar"
           }
          ],
          "scatterpolargl": [
           {
            "marker": {
             "colorbar": {
              "outlinewidth": 0,
              "ticks": ""
             }
            },
            "type": "scatterpolargl"
           }
          ],
          "scatterternary": [
           {
            "marker": {
             "colorbar": {
              "outlinewidth": 0,
              "ticks": ""
             }
            },
            "type": "scatterternary"
           }
          ],
          "surface": [
           {
            "colorbar": {
             "outlinewidth": 0,
             "ticks": ""
            },
            "colorscale": [
             [
              0,
              "#0d0887"
             ],
             [
              0.1111111111111111,
              "#46039f"
             ],
             [
              0.2222222222222222,
              "#7201a8"
             ],
             [
              0.3333333333333333,
              "#9c179e"
             ],
             [
              0.4444444444444444,
              "#bd3786"
             ],
             [
              0.5555555555555556,
              "#d8576b"
             ],
             [
              0.6666666666666666,
              "#ed7953"
             ],
             [
              0.7777777777777778,
              "#fb9f3a"
             ],
             [
              0.8888888888888888,
              "#fdca26"
             ],
             [
              1,
              "#f0f921"
             ]
            ],
            "type": "surface"
           }
          ],
          "table": [
           {
            "cells": {
             "fill": {
              "color": "#EBF0F8"
             },
             "line": {
              "color": "white"
             }
            },
            "header": {
             "fill": {
              "color": "#C8D4E3"
             },
             "line": {
              "color": "white"
             }
            },
            "type": "table"
           }
          ]
         },
         "layout": {
          "annotationdefaults": {
           "arrowcolor": "#2a3f5f",
           "arrowhead": 0,
           "arrowwidth": 1
          },
          "coloraxis": {
           "colorbar": {
            "outlinewidth": 0,
            "ticks": ""
           }
          },
          "colorscale": {
           "diverging": [
            [
             0,
             "#8e0152"
            ],
            [
             0.1,
             "#c51b7d"
            ],
            [
             0.2,
             "#de77ae"
            ],
            [
             0.3,
             "#f1b6da"
            ],
            [
             0.4,
             "#fde0ef"
            ],
            [
             0.5,
             "#f7f7f7"
            ],
            [
             0.6,
             "#e6f5d0"
            ],
            [
             0.7,
             "#b8e186"
            ],
            [
             0.8,
             "#7fbc41"
            ],
            [
             0.9,
             "#4d9221"
            ],
            [
             1,
             "#276419"
            ]
           ],
           "sequential": [
            [
             0,
             "#0d0887"
            ],
            [
             0.1111111111111111,
             "#46039f"
            ],
            [
             0.2222222222222222,
             "#7201a8"
            ],
            [
             0.3333333333333333,
             "#9c179e"
            ],
            [
             0.4444444444444444,
             "#bd3786"
            ],
            [
             0.5555555555555556,
             "#d8576b"
            ],
            [
             0.6666666666666666,
             "#ed7953"
            ],
            [
             0.7777777777777778,
             "#fb9f3a"
            ],
            [
             0.8888888888888888,
             "#fdca26"
            ],
            [
             1,
             "#f0f921"
            ]
           ],
           "sequentialminus": [
            [
             0,
             "#0d0887"
            ],
            [
             0.1111111111111111,
             "#46039f"
            ],
            [
             0.2222222222222222,
             "#7201a8"
            ],
            [
             0.3333333333333333,
             "#9c179e"
            ],
            [
             0.4444444444444444,
             "#bd3786"
            ],
            [
             0.5555555555555556,
             "#d8576b"
            ],
            [
             0.6666666666666666,
             "#ed7953"
            ],
            [
             0.7777777777777778,
             "#fb9f3a"
            ],
            [
             0.8888888888888888,
             "#fdca26"
            ],
            [
             1,
             "#f0f921"
            ]
           ]
          },
          "colorway": [
           "#636efa",
           "#EF553B",
           "#00cc96",
           "#ab63fa",
           "#FFA15A",
           "#19d3f3",
           "#FF6692",
           "#B6E880",
           "#FF97FF",
           "#FECB52"
          ],
          "font": {
           "color": "#2a3f5f"
          },
          "geo": {
           "bgcolor": "white",
           "lakecolor": "white",
           "landcolor": "#E5ECF6",
           "showlakes": true,
           "showland": true,
           "subunitcolor": "white"
          },
          "hoverlabel": {
           "align": "left"
          },
          "hovermode": "closest",
          "mapbox": {
           "style": "light"
          },
          "paper_bgcolor": "white",
          "plot_bgcolor": "#E5ECF6",
          "polar": {
           "angularaxis": {
            "gridcolor": "white",
            "linecolor": "white",
            "ticks": ""
           },
           "bgcolor": "#E5ECF6",
           "radialaxis": {
            "gridcolor": "white",
            "linecolor": "white",
            "ticks": ""
           }
          },
          "scene": {
           "xaxis": {
            "backgroundcolor": "#E5ECF6",
            "gridcolor": "white",
            "gridwidth": 2,
            "linecolor": "white",
            "showbackground": true,
            "ticks": "",
            "zerolinecolor": "white"
           },
           "yaxis": {
            "backgroundcolor": "#E5ECF6",
            "gridcolor": "white",
            "gridwidth": 2,
            "linecolor": "white",
            "showbackground": true,
            "ticks": "",
            "zerolinecolor": "white"
           },
           "zaxis": {
            "backgroundcolor": "#E5ECF6",
            "gridcolor": "white",
            "gridwidth": 2,
            "linecolor": "white",
            "showbackground": true,
            "ticks": "",
            "zerolinecolor": "white"
           }
          },
          "shapedefaults": {
           "line": {
            "color": "#2a3f5f"
           }
          },
          "ternary": {
           "aaxis": {
            "gridcolor": "white",
            "linecolor": "white",
            "ticks": ""
           },
           "baxis": {
            "gridcolor": "white",
            "linecolor": "white",
            "ticks": ""
           },
           "bgcolor": "#E5ECF6",
           "caxis": {
            "gridcolor": "white",
            "linecolor": "white",
            "ticks": ""
           }
          },
          "title": {
           "x": 0.05
          },
          "xaxis": {
           "automargin": true,
           "gridcolor": "white",
           "linecolor": "white",
           "ticks": "",
           "title": {
            "standoff": 15
           },
           "zerolinecolor": "white",
           "zerolinewidth": 2
          },
          "yaxis": {
           "automargin": true,
           "gridcolor": "white",
           "linecolor": "white",
           "ticks": "",
           "title": {
            "standoff": 15
           },
           "zerolinecolor": "white",
           "zerolinewidth": 2
          }
         }
        },
        "xaxis": {
         "anchor": "y",
         "domain": [
          0,
          1
         ],
         "title": {
          "text": "EnvironmentalAttitude"
         }
        },
        "yaxis": {
         "anchor": "x",
         "domain": [
          0,
          1
         ],
         "title": {
          "text": "sum of EVChoice"
         }
        }
       }
      },
      "text/html": [
       "<div>\n",
       "        \n",
       "        \n",
       "            <div id=\"f5d788c6-91f0-4da9-8eaa-771b82614fbe\" class=\"plotly-graph-div\" style=\"height:525px; width:100%;\"></div>\n",
       "            <script type=\"text/javascript\">\n",
       "                require([\"plotly\"], function(Plotly) {\n",
       "                    window.PLOTLYENV=window.PLOTLYENV || {};\n",
       "                    \n",
       "                if (document.getElementById(\"f5d788c6-91f0-4da9-8eaa-771b82614fbe\")) {\n",
       "                    Plotly.newPlot(\n",
       "                        'f5d788c6-91f0-4da9-8eaa-771b82614fbe',\n",
       "                        [{\"alignmentgroup\": \"True\", \"bingroup\": \"x\", \"histfunc\": \"sum\", \"hoverlabel\": {\"namelength\": 0}, \"hovertemplate\": \"Group=1<br>EnvironmentalAttitude=%{x}<br>sum of EVChoice=%{y}\", \"legendgroup\": \"Group=1\", \"marker\": {\"color\": \"#636efa\"}, \"name\": \"Group=1\", \"offsetgroup\": \"Group=1\", \"orientation\": \"v\", \"showlegend\": true, \"type\": \"histogram\", \"x\": [5.5, 7.0, 6.75, 6.75, 7.0, 6.25, 7.0, 6.0, 4.0, 6.75, 5.5, 5.0, 3.75, 6.5, 5.5, 7.0, 5.5, 7.0, 7.0, 5.0, 7.0, 6.25, 3.0, 6.25, 6.75, 7.0, 5.75, 6.0, 5.25, 6.25, 7.0, 5.25, 5.25, 6.75, 7.0, 7.0, 6.0, 6.25, 4.5, 6.25, 4.75, 4.25, 6.0, 7.0, 7.0, 7.0, 5.0, 5.75, 6.5, 7.0, 4.5, 5.5, 4.25, 6.25, 6.25, 6.0, 2.25, 6.25, 7.0, 6.75, 5.25, 4.25, 6.5, 6.5, 5.0, 6.75, 7.0, 6.25, 5.25, 7.0, 7.0, 7.0, 6.25, 4.25, 7.0, 6.75, 6.5, 5.25, 6.0, 6.5, 3.75, 6.25, 6.0, 7.0, 6.25, 3.0, 5.75, 6.75, 7.0, 7.0, 5.25, 6.25, 5.5, 5.5, 5.5, 6.25, 7.0, 4.75, 6.5, 1.25, 6.5, 5.5, 6.75, 7.0, 7.0, 7.0, 4.0, 6.5, 7.0, 6.25, 7.0, 5.5, 7.0, 4.25, 7.0, 5.5, 5.25], \"xaxis\": \"x\", \"y\": [0, 16, 19, 19, 19, 19, 19, 10, 10, 10, 13, 3, 4, 19, 8, 19, 19, 13, 11, 15, 13, 5, 19, 19, 6, 19, 19, 6, 17, 10, 19, 19, 19, 14, 19, 18, 8, 16, 18, 19, 7, 6, 8, 19, 16, 18, 9, 19, 13, 19, 10, 15, 2, 8, 19, 9, 0, 15, 17, 19, 19, 13, 7, 19, 17, 5, 19, 18, 19, 16, 19, 18, 19, 16, 3, 11, 14, 19, 7, 19, 19, 10, 19, 2, 16, 8, 7, 9, 0, 4, 19, 1, 13, 13, 0, 9, 19, 17, 18, 18, 17, 0, 15, 19, 19, 19, 12, 14, 19, 19, 17, 19, 16, 11, 18, 13, 18], \"yaxis\": \"y\"}, {\"alignmentgroup\": \"True\", \"bingroup\": \"x\", \"histfunc\": \"sum\", \"hoverlabel\": {\"namelength\": 0}, \"hovertemplate\": \"Group=2<br>EnvironmentalAttitude=%{x}<br>sum of EVChoice=%{y}\", \"legendgroup\": \"Group=2\", \"marker\": {\"color\": \"#EF553B\"}, \"name\": \"Group=2\", \"offsetgroup\": \"Group=2\", \"orientation\": \"v\", \"showlegend\": true, \"type\": \"histogram\", \"x\": [6.75, 6.0, 4.0, 5.25, 6.5, 4.25, 5.5, 7.0, 4.75, 5.0, 6.25, 5.5, 6.75, 6.0, 6.0, 7.0, 2.5, 7.0, 3.25, 5.75, 7.0, 5.0, 5.0, 5.75, 7.0, 3.75, 6.75, 4.25, 7.0, 3.0, 7.0, 3.75, 3.75, 7.0, 4.25, 6.0, 6.75, 7.0, 6.5, 6.25, 5.0, 6.0, 6.5, 5.75, 7.0, 5.5, 7.0, 5.75, 5.0, 3.25, 5.0, 5.0, 5.25, 5.0, 5.25, 4.0, 5.5, 5.25, 1.0, 7.0, 6.5, 6.75, 6.25, 6.0, 6.25, 4.25, 3.5, 1.75, 6.5, 4.25, 5.75, 6.25, 5.0, 4.0, 3.75, 7.0, 6.75, 7.0, 6.0, 7.0, 5.5, 6.5, 5.0, 5.5, 6.0, 7.0, 5.5, 7.0, 6.75, 7.0, 6.5, 5.75, 3.5, 6.75, 7.0, 7.0, 3.5, 7.0, 4.0, 6.25, 5.5, 4.75, 4.75, 6.0, 6.25, 2.5, 7.0, 6.5, 6.0, 6.5, 6.75, 7.0, 2.5], \"xaxis\": \"x\", \"y\": [19, 16, 17, 13, 6, 12, 13, 15, 18, 16, 19, 17, 17, 16, 19, 14, 6, 19, 19, 19, 19, 7, 11, 19, 19, 19, 19, 6, 19, 18, 10, 19, 19, 19, 19, 12, 19, 17, 19, 19, 14, 18, 19, 18, 19, 13, 3, 14, 19, 10, 16, 14, 19, 17, 18, 11, 10, 15, 15, 19, 15, 15, 18, 15, 3, 10, 19, 0, 19, 12, 15, 19, 18, 8, 19, 19, 19, 16, 14, 19, 14, 13, 19, 19, 13, 7, 16, 16, 16, 15, 19, 11, 7, 19, 18, 19, 12, 12, 14, 15, 18, 17, 14, 6, 15, 18, 19, 19, 19, 19, 19, 19, 18], \"yaxis\": \"y\"}],\n",
       "                        {\"barmode\": \"relative\", \"legend\": {\"tracegroupgap\": 0}, \"margin\": {\"t\": 60}, \"template\": {\"data\": {\"bar\": [{\"error_x\": {\"color\": \"#2a3f5f\"}, \"error_y\": {\"color\": \"#2a3f5f\"}, \"marker\": {\"line\": {\"color\": \"#E5ECF6\", \"width\": 0.5}}, \"type\": \"bar\"}], \"barpolar\": [{\"marker\": {\"line\": {\"color\": \"#E5ECF6\", \"width\": 0.5}}, \"type\": \"barpolar\"}], \"carpet\": [{\"aaxis\": {\"endlinecolor\": \"#2a3f5f\", \"gridcolor\": \"white\", \"linecolor\": \"white\", \"minorgridcolor\": \"white\", \"startlinecolor\": \"#2a3f5f\"}, \"baxis\": {\"endlinecolor\": \"#2a3f5f\", \"gridcolor\": \"white\", \"linecolor\": \"white\", \"minorgridcolor\": \"white\", \"startlinecolor\": \"#2a3f5f\"}, \"type\": \"carpet\"}], \"choropleth\": [{\"colorbar\": {\"outlinewidth\": 0, \"ticks\": \"\"}, \"type\": \"choropleth\"}], \"contour\": [{\"colorbar\": {\"outlinewidth\": 0, \"ticks\": \"\"}, \"colorscale\": [[0.0, \"#0d0887\"], [0.1111111111111111, \"#46039f\"], [0.2222222222222222, \"#7201a8\"], [0.3333333333333333, \"#9c179e\"], [0.4444444444444444, \"#bd3786\"], [0.5555555555555556, \"#d8576b\"], [0.6666666666666666, \"#ed7953\"], [0.7777777777777778, \"#fb9f3a\"], [0.8888888888888888, \"#fdca26\"], [1.0, \"#f0f921\"]], \"type\": \"contour\"}], \"contourcarpet\": [{\"colorbar\": {\"outlinewidth\": 0, \"ticks\": \"\"}, \"type\": \"contourcarpet\"}], \"heatmap\": [{\"colorbar\": {\"outlinewidth\": 0, \"ticks\": \"\"}, \"colorscale\": [[0.0, \"#0d0887\"], [0.1111111111111111, \"#46039f\"], [0.2222222222222222, \"#7201a8\"], [0.3333333333333333, \"#9c179e\"], [0.4444444444444444, \"#bd3786\"], [0.5555555555555556, \"#d8576b\"], [0.6666666666666666, \"#ed7953\"], [0.7777777777777778, \"#fb9f3a\"], [0.8888888888888888, \"#fdca26\"], [1.0, \"#f0f921\"]], \"type\": \"heatmap\"}], \"heatmapgl\": [{\"colorbar\": {\"outlinewidth\": 0, \"ticks\": \"\"}, \"colorscale\": [[0.0, \"#0d0887\"], [0.1111111111111111, \"#46039f\"], [0.2222222222222222, \"#7201a8\"], [0.3333333333333333, \"#9c179e\"], [0.4444444444444444, \"#bd3786\"], [0.5555555555555556, \"#d8576b\"], [0.6666666666666666, \"#ed7953\"], [0.7777777777777778, \"#fb9f3a\"], [0.8888888888888888, \"#fdca26\"], [1.0, \"#f0f921\"]], \"type\": \"heatmapgl\"}], \"histogram\": [{\"marker\": {\"colorbar\": {\"outlinewidth\": 0, \"ticks\": \"\"}}, \"type\": \"histogram\"}], \"histogram2d\": [{\"colorbar\": {\"outlinewidth\": 0, \"ticks\": \"\"}, \"colorscale\": [[0.0, \"#0d0887\"], [0.1111111111111111, \"#46039f\"], [0.2222222222222222, \"#7201a8\"], [0.3333333333333333, \"#9c179e\"], [0.4444444444444444, \"#bd3786\"], [0.5555555555555556, \"#d8576b\"], [0.6666666666666666, \"#ed7953\"], [0.7777777777777778, \"#fb9f3a\"], [0.8888888888888888, \"#fdca26\"], [1.0, \"#f0f921\"]], \"type\": \"histogram2d\"}], \"histogram2dcontour\": [{\"colorbar\": {\"outlinewidth\": 0, \"ticks\": \"\"}, \"colorscale\": [[0.0, \"#0d0887\"], [0.1111111111111111, \"#46039f\"], [0.2222222222222222, \"#7201a8\"], [0.3333333333333333, \"#9c179e\"], [0.4444444444444444, \"#bd3786\"], [0.5555555555555556, \"#d8576b\"], [0.6666666666666666, \"#ed7953\"], [0.7777777777777778, \"#fb9f3a\"], [0.8888888888888888, \"#fdca26\"], [1.0, \"#f0f921\"]], \"type\": \"histogram2dcontour\"}], \"mesh3d\": [{\"colorbar\": {\"outlinewidth\": 0, \"ticks\": \"\"}, \"type\": \"mesh3d\"}], \"parcoords\": [{\"line\": {\"colorbar\": {\"outlinewidth\": 0, \"ticks\": \"\"}}, \"type\": \"parcoords\"}], \"pie\": [{\"automargin\": true, \"type\": \"pie\"}], \"scatter\": [{\"marker\": {\"colorbar\": {\"outlinewidth\": 0, \"ticks\": \"\"}}, \"type\": \"scatter\"}], \"scatter3d\": [{\"line\": {\"colorbar\": {\"outlinewidth\": 0, \"ticks\": \"\"}}, \"marker\": {\"colorbar\": {\"outlinewidth\": 0, \"ticks\": \"\"}}, \"type\": \"scatter3d\"}], \"scattercarpet\": [{\"marker\": {\"colorbar\": {\"outlinewidth\": 0, \"ticks\": \"\"}}, \"type\": \"scattercarpet\"}], \"scattergeo\": [{\"marker\": {\"colorbar\": {\"outlinewidth\": 0, \"ticks\": \"\"}}, \"type\": \"scattergeo\"}], \"scattergl\": [{\"marker\": {\"colorbar\": {\"outlinewidth\": 0, \"ticks\": \"\"}}, \"type\": \"scattergl\"}], \"scattermapbox\": [{\"marker\": {\"colorbar\": {\"outlinewidth\": 0, \"ticks\": \"\"}}, \"type\": \"scattermapbox\"}], \"scatterpolar\": [{\"marker\": {\"colorbar\": {\"outlinewidth\": 0, \"ticks\": \"\"}}, \"type\": \"scatterpolar\"}], \"scatterpolargl\": [{\"marker\": {\"colorbar\": {\"outlinewidth\": 0, \"ticks\": \"\"}}, \"type\": \"scatterpolargl\"}], \"scatterternary\": [{\"marker\": {\"colorbar\": {\"outlinewidth\": 0, \"ticks\": \"\"}}, \"type\": \"scatterternary\"}], \"surface\": [{\"colorbar\": {\"outlinewidth\": 0, \"ticks\": \"\"}, \"colorscale\": [[0.0, \"#0d0887\"], [0.1111111111111111, \"#46039f\"], [0.2222222222222222, \"#7201a8\"], [0.3333333333333333, \"#9c179e\"], [0.4444444444444444, \"#bd3786\"], [0.5555555555555556, \"#d8576b\"], [0.6666666666666666, \"#ed7953\"], [0.7777777777777778, \"#fb9f3a\"], [0.8888888888888888, \"#fdca26\"], [1.0, \"#f0f921\"]], \"type\": \"surface\"}], \"table\": [{\"cells\": {\"fill\": {\"color\": \"#EBF0F8\"}, \"line\": {\"color\": \"white\"}}, \"header\": {\"fill\": {\"color\": \"#C8D4E3\"}, \"line\": {\"color\": \"white\"}}, \"type\": \"table\"}]}, \"layout\": {\"annotationdefaults\": {\"arrowcolor\": \"#2a3f5f\", \"arrowhead\": 0, \"arrowwidth\": 1}, \"coloraxis\": {\"colorbar\": {\"outlinewidth\": 0, \"ticks\": \"\"}}, \"colorscale\": {\"diverging\": [[0, \"#8e0152\"], [0.1, \"#c51b7d\"], [0.2, \"#de77ae\"], [0.3, \"#f1b6da\"], [0.4, \"#fde0ef\"], [0.5, \"#f7f7f7\"], [0.6, \"#e6f5d0\"], [0.7, \"#b8e186\"], [0.8, \"#7fbc41\"], [0.9, \"#4d9221\"], [1, \"#276419\"]], \"sequential\": [[0.0, \"#0d0887\"], [0.1111111111111111, \"#46039f\"], [0.2222222222222222, \"#7201a8\"], [0.3333333333333333, \"#9c179e\"], [0.4444444444444444, \"#bd3786\"], [0.5555555555555556, \"#d8576b\"], [0.6666666666666666, \"#ed7953\"], [0.7777777777777778, \"#fb9f3a\"], [0.8888888888888888, \"#fdca26\"], [1.0, \"#f0f921\"]], \"sequentialminus\": [[0.0, \"#0d0887\"], [0.1111111111111111, \"#46039f\"], [0.2222222222222222, \"#7201a8\"], [0.3333333333333333, \"#9c179e\"], [0.4444444444444444, \"#bd3786\"], [0.5555555555555556, \"#d8576b\"], [0.6666666666666666, \"#ed7953\"], [0.7777777777777778, \"#fb9f3a\"], [0.8888888888888888, \"#fdca26\"], [1.0, \"#f0f921\"]]}, \"colorway\": [\"#636efa\", \"#EF553B\", \"#00cc96\", \"#ab63fa\", \"#FFA15A\", \"#19d3f3\", \"#FF6692\", \"#B6E880\", \"#FF97FF\", \"#FECB52\"], \"font\": {\"color\": \"#2a3f5f\"}, \"geo\": {\"bgcolor\": \"white\", \"lakecolor\": \"white\", \"landcolor\": \"#E5ECF6\", \"showlakes\": true, \"showland\": true, \"subunitcolor\": \"white\"}, \"hoverlabel\": {\"align\": \"left\"}, \"hovermode\": \"closest\", \"mapbox\": {\"style\": \"light\"}, \"paper_bgcolor\": \"white\", \"plot_bgcolor\": \"#E5ECF6\", \"polar\": {\"angularaxis\": {\"gridcolor\": \"white\", \"linecolor\": \"white\", \"ticks\": \"\"}, \"bgcolor\": \"#E5ECF6\", \"radialaxis\": {\"gridcolor\": \"white\", \"linecolor\": \"white\", \"ticks\": \"\"}}, \"scene\": {\"xaxis\": {\"backgroundcolor\": \"#E5ECF6\", \"gridcolor\": \"white\", \"gridwidth\": 2, \"linecolor\": \"white\", \"showbackground\": true, \"ticks\": \"\", \"zerolinecolor\": \"white\"}, \"yaxis\": {\"backgroundcolor\": \"#E5ECF6\", \"gridcolor\": \"white\", \"gridwidth\": 2, \"linecolor\": \"white\", \"showbackground\": true, \"ticks\": \"\", \"zerolinecolor\": \"white\"}, \"zaxis\": {\"backgroundcolor\": \"#E5ECF6\", \"gridcolor\": \"white\", \"gridwidth\": 2, \"linecolor\": \"white\", \"showbackground\": true, \"ticks\": \"\", \"zerolinecolor\": \"white\"}}, \"shapedefaults\": {\"line\": {\"color\": \"#2a3f5f\"}}, \"ternary\": {\"aaxis\": {\"gridcolor\": \"white\", \"linecolor\": \"white\", \"ticks\": \"\"}, \"baxis\": {\"gridcolor\": \"white\", \"linecolor\": \"white\", \"ticks\": \"\"}, \"bgcolor\": \"#E5ECF6\", \"caxis\": {\"gridcolor\": \"white\", \"linecolor\": \"white\", \"ticks\": \"\"}}, \"title\": {\"x\": 0.05}, \"xaxis\": {\"automargin\": true, \"gridcolor\": \"white\", \"linecolor\": \"white\", \"ticks\": \"\", \"title\": {\"standoff\": 15}, \"zerolinecolor\": \"white\", \"zerolinewidth\": 2}, \"yaxis\": {\"automargin\": true, \"gridcolor\": \"white\", \"linecolor\": \"white\", \"ticks\": \"\", \"title\": {\"standoff\": 15}, \"zerolinecolor\": \"white\", \"zerolinewidth\": 2}}}, \"xaxis\": {\"anchor\": \"y\", \"domain\": [0.0, 1.0], \"title\": {\"text\": \"EnvironmentalAttitude\"}}, \"yaxis\": {\"anchor\": \"x\", \"domain\": [0.0, 1.0], \"title\": {\"text\": \"sum of EVChoice\"}}},\n",
       "                        {\"responsive\": true}\n",
       "                    ).then(function(){\n",
       "                            \n",
       "var gd = document.getElementById('f5d788c6-91f0-4da9-8eaa-771b82614fbe');\n",
       "var x = new MutationObserver(function (mutations, observer) {{\n",
       "        var display = window.getComputedStyle(gd).display;\n",
       "        if (!display || display === 'none') {{\n",
       "            console.log([gd, 'removed!']);\n",
       "            Plotly.purge(gd);\n",
       "            observer.disconnect();\n",
       "        }}\n",
       "}});\n",
       "\n",
       "// Listen for the removal of the full notebook cells\n",
       "var notebookContainer = gd.closest('#notebook-container');\n",
       "if (notebookContainer) {{\n",
       "    x.observe(notebookContainer, {childList: true});\n",
       "}}\n",
       "\n",
       "// Listen for the clearing of the current output cell\n",
       "var outputEl = gd.closest('.output');\n",
       "if (outputEl) {{\n",
       "    x.observe(outputEl, {childList: true});\n",
       "}}\n",
       "\n",
       "                        })\n",
       "                };\n",
       "                });\n",
       "            </script>\n",
       "        </div>"
      ]
     },
     "metadata": {},
     "output_type": "display_data"
    }
   ],
   "source": [
    "fig2 = px.histogram(df, x='Attitude', y=\"EVChoice\", histfunc='sum', color='Group')\n",
    "fig2.show()\n",
    "\n",
    "\n",
    "fig3 = px.histogram(df, x='EnvironmentalAttitude', y=\"EVChoice\", histfunc='sum', color='Group')\n",
    "fig3.show()"
   ]
  },
  {
   "cell_type": "code",
   "execution_count": null,
   "metadata": {},
   "outputs": [],
   "source": [
    "fig3 = px.scatter(df, x=\"EnvironmentalAttitude\", y=\"EVChoice\")\n",
    "fig3.show()\n",
    "\n",
    "fig4 = px.scatter(df, x=\"EnvironmentalAttitude\", y=\"EVChoice\", color=\"Sex\")\n",
    "fig4.show()\n",
    "\n",
    "fig5 = px.scatter(df, x=\"EnvironmentalAttitude\", y=\"EVChoice\", color=\"Sex\", marginal_y=\"violin\",marginal_x=\"box\")\n",
    "fig5.show()\n",
    "\n"
   ]
  },
  {
   "cell_type": "code",
   "execution_count": null,
   "metadata": {},
   "outputs": [],
   "source": [
    "fig6 = px.line(df, x=\"Attitude\", y=\"Compatibility\", color=\"Group\", line_group=\"Group\", hover_name=\"Group\",\n",
    "        line_shape=\"spline\", render_mode=\"svg\")\n",
    "fig6.show()"
   ]
  },
  {
   "cell_type": "code",
   "execution_count": 165,
   "metadata": {},
   "outputs": [
    {
     "data": {
      "application/vnd.plotly.v1+json": {
       "config": {
        "plotlyServerURL": "https://plot.ly"
       },
       "data": [
        {
         "hoverlabel": {
          "namelength": 0
         },
         "hovertemplate": "X=%{x}<br>Y Prediction=%{y}",
         "legendgroup": "",
         "marker": {
          "color": "#636efa",
          "symbol": "circle"
         },
         "mode": "markers",
         "name": "",
         "showlegend": false,
         "type": "scatter",
         "x": [
          3.56,
          3.78,
          4.89,
          4.89,
          4.89,
          4.89,
          5,
          3.89,
          3.33,
          4.89,
          3.44,
          2,
          4.67,
          4.78,
          3.44,
          5,
          4.67,
          3.44,
          3.67,
          3.67,
          4.22,
          3.33,
          5,
          5,
          3.67,
          4.22,
          3.44,
          4.22,
          3.89,
          4.33,
          4.33,
          5,
          4,
          3.89,
          4.67,
          4.89,
          4,
          4.56,
          4.56,
          4.33,
          2.89,
          3.56,
          4,
          5,
          4.78,
          3.11,
          4.67,
          4.67,
          3.78,
          4.78,
          3.78,
          4.11,
          2.56,
          4,
          5,
          4.22,
          1.78,
          3.78,
          4.78,
          4.56,
          3.89,
          3.78,
          4.78,
          4.44,
          2.11,
          4.33,
          5,
          4.11,
          4.44,
          4.33,
          4,
          4.67,
          4.11,
          2.11,
          4.22,
          4.56,
          4.67,
          2.89,
          4.33,
          5,
          2.89,
          5,
          1.11,
          4.89,
          3.89,
          4.67,
          4,
          2.33,
          3.22,
          4.67,
          2.44,
          4.33,
          3.89,
          3,
          5,
          4,
          4,
          4.11,
          4.11,
          4.11,
          3.89,
          4.11,
          4.44,
          4.89,
          3.22,
          4.89,
          3.44,
          4.67,
          4.89,
          4.89,
          4.89,
          4.44,
          2.78,
          3.33,
          4.89,
          3.78,
          3.56,
          4.78,
          4.78,
          3.56,
          4.78,
          3.78,
          3.44,
          4.11,
          3.78,
          4.67,
          4.44,
          3.78,
          4.56,
          4.33,
          4,
          4.44,
          4,
          3.33,
          4.78,
          3.67,
          3.78,
          4.67,
          3.67,
          3.56,
          4.22,
          3.56,
          4.11,
          5,
          2.56,
          4.44,
          2.33,
          5,
          5,
          4.56,
          4.89,
          3.56,
          4.44,
          4.78,
          5,
          5,
          3.67,
          3.78,
          3.78,
          4.56,
          4.33,
          3.89,
          3.89,
          3.11,
          4.33,
          3.67,
          3.33,
          3.78,
          5,
          4,
          4.56,
          4.44,
          4.44,
          1.78,
          5,
          3,
          5,
          3.67,
          5,
          4,
          4.11,
          2.78,
          3.67,
          3.33,
          1.89,
          4,
          4.22,
          4.33,
          4.33,
          4.89,
          2.44,
          4.56,
          3,
          3.33,
          4.89,
          2.89,
          5,
          5,
          4.33,
          3.89,
          4.56,
          3.89,
          4.33,
          4.67,
          4.89,
          4.67,
          3.67,
          4.22,
          3.44,
          3.78,
          4,
          4.78,
          4.78,
          3.11,
          3.22,
          4,
          4.33,
          2.22,
          4.33,
          3.44,
          2.56,
          4.67,
          4,
          4.56,
          4.11,
          5,
          4.44,
          4.56,
          5,
          3.33
         ],
         "xaxis": "x",
         "y": [
          13.423216298997342,
          13.906547529303559,
          16.345173282212198,
          16.345173282212198,
          16.345173282212198,
          16.345173282212198,
          16.586838897365308,
          14.148213144456667,
          12.91791546731357,
          16.345173282212198,
          13.159581082466678,
          9.995958484098713,
          15.861842051905981,
          16.10350766705909,
          13.159581082466678,
          16.586838897365308,
          15.861842051905981,
          13.159581082466678,
          13.66488191415045,
          13.66488191415045,
          14.873209989915992,
          12.91791546731357,
          16.586838897365308,
          16.586838897365308,
          13.66488191415045,
          14.873209989915992,
          13.159581082466678,
          14.873209989915992,
          14.148213144456667,
          15.1148756050691,
          15.1148756050691,
          16.586838897365308,
          14.389878759609775,
          14.148213144456667,
          15.861842051905981,
          16.345173282212198,
          14.389878759609775,
          15.620176436752873,
          15.620176436752873,
          15.1148756050691,
          11.951253006701137,
          13.423216298997342,
          14.389878759609775,
          16.586838897365308,
          16.10350766705909,
          12.434584237007353,
          15.861842051905981,
          15.861842051905981,
          13.906547529303559,
          16.10350766705909,
          13.906547529303559,
          14.631544374762885,
          11.22625616124181,
          14.389878759609775,
          16.586838897365308,
          14.873209989915992,
          9.512627253792497,
          13.906547529303559,
          16.10350766705909,
          15.620176436752873,
          14.148213144456667,
          13.906547529303559,
          16.10350766705909,
          15.35654122022221,
          10.237624099251821,
          15.1148756050691,
          16.586838897365308,
          14.631544374762885,
          15.35654122022221,
          15.1148756050691,
          14.389878759609775,
          15.861842051905981,
          14.631544374762885,
          10.237624099251821,
          14.873209989915992,
          15.620176436752873,
          15.861842051905981,
          11.951253006701137,
          15.1148756050691,
          16.586838897365308,
          11.951253006701137,
          16.586838897365308,
          8.040663961496291,
          16.345173282212198,
          14.148213144456667,
          15.861842051905981,
          14.389878759609775,
          10.720955329558038,
          12.676249852160462,
          15.861842051905981,
          10.962620944711148,
          15.1148756050691,
          14.148213144456667,
          12.192918621854243,
          16.586838897365308,
          14.389878759609775,
          14.389878759609775,
          14.631544374762885,
          14.631544374762885,
          14.631544374762885,
          14.148213144456667,
          14.631544374762885,
          15.35654122022221,
          16.345173282212198,
          12.676249852160462,
          16.345173282212198,
          13.159581082466678,
          15.861842051905981,
          16.345173282212198,
          16.345173282212198,
          16.345173282212198,
          15.35654122022221,
          11.709587391548027,
          12.91791546731357,
          16.345173282212198,
          13.906547529303559,
          13.423216298997342,
          16.10350766705909,
          16.10350766705909,
          13.423216298997342,
          16.10350766705909,
          13.906547529303559,
          13.159581082466678,
          14.631544374762885,
          13.906547529303559,
          15.861842051905981,
          15.35654122022221,
          13.906547529303559,
          15.620176436752873,
          15.1148756050691,
          14.389878759609775,
          15.35654122022221,
          14.389878759609775,
          12.91791546731357,
          16.10350766705909,
          13.66488191415045,
          13.906547529303559,
          15.861842051905981,
          13.66488191415045,
          13.423216298997342,
          14.873209989915992,
          13.423216298997342,
          14.631544374762885,
          16.586838897365308,
          11.22625616124181,
          15.35654122022221,
          10.720955329558038,
          16.586838897365308,
          16.586838897365308,
          15.620176436752873,
          16.345173282212198,
          13.423216298997342,
          15.35654122022221,
          16.10350766705909,
          16.586838897365308,
          16.586838897365308,
          13.66488191415045,
          13.906547529303559,
          13.906547529303559,
          15.620176436752873,
          15.1148756050691,
          14.148213144456667,
          14.148213144456667,
          12.434584237007353,
          15.1148756050691,
          13.66488191415045,
          12.91791546731357,
          13.906547529303559,
          16.586838897365308,
          14.389878759609775,
          15.620176436752873,
          15.35654122022221,
          15.35654122022221,
          9.512627253792497,
          16.586838897365308,
          12.192918621854243,
          16.586838897365308,
          13.66488191415045,
          16.586838897365308,
          14.389878759609775,
          14.631544374762885,
          11.709587391548027,
          13.66488191415045,
          12.91791546731357,
          9.754292868945605,
          14.389878759609775,
          14.873209989915992,
          15.1148756050691,
          15.1148756050691,
          16.345173282212198,
          10.962620944711148,
          15.620176436752873,
          12.192918621854243,
          12.91791546731357,
          16.345173282212198,
          11.951253006701137,
          16.586838897365308,
          16.586838897365308,
          15.1148756050691,
          14.148213144456667,
          15.620176436752873,
          14.148213144456667,
          15.1148756050691,
          15.861842051905981,
          16.345173282212198,
          15.861842051905981,
          13.66488191415045,
          14.873209989915992,
          13.159581082466678,
          13.906547529303559,
          14.389878759609775,
          16.10350766705909,
          16.10350766705909,
          12.434584237007353,
          12.676249852160462,
          14.389878759609775,
          15.1148756050691,
          10.479289714404931,
          15.1148756050691,
          13.159581082466678,
          11.22625616124181,
          15.861842051905981,
          14.389878759609775,
          15.620176436752873,
          14.631544374762885,
          16.586838897365308,
          15.35654122022221,
          15.620176436752873,
          16.586838897365308,
          12.91791546731357
         ],
         "yaxis": "y"
        },
        {
         "hoverlabel": {
          "namelength": 0
         },
         "hovertemplate": "<b>OLS trendline</b><br>Y Prediction = 2.196960 * X + 5.602038<br>R<sup>2</sup>=1.000000<br><br>X=%{x}<br>Y Prediction=%{y} <b>(trend)</b>",
         "legendgroup": "",
         "marker": {
          "color": "#636efa",
          "symbol": "circle"
         },
         "mode": "lines",
         "name": "",
         "showlegend": false,
         "type": "scatter",
         "x": [
          1.11,
          1.78,
          1.78,
          1.89,
          2,
          2.11,
          2.11,
          2.22,
          2.33,
          2.33,
          2.44,
          2.44,
          2.56,
          2.56,
          2.56,
          2.78,
          2.78,
          2.89,
          2.89,
          2.89,
          2.89,
          3,
          3,
          3,
          3.11,
          3.11,
          3.11,
          3.22,
          3.22,
          3.22,
          3.33,
          3.33,
          3.33,
          3.33,
          3.33,
          3.33,
          3.33,
          3.33,
          3.44,
          3.44,
          3.44,
          3.44,
          3.44,
          3.44,
          3.44,
          3.44,
          3.56,
          3.56,
          3.56,
          3.56,
          3.56,
          3.56,
          3.56,
          3.67,
          3.67,
          3.67,
          3.67,
          3.67,
          3.67,
          3.67,
          3.67,
          3.67,
          3.67,
          3.78,
          3.78,
          3.78,
          3.78,
          3.78,
          3.78,
          3.78,
          3.78,
          3.78,
          3.78,
          3.78,
          3.78,
          3.78,
          3.78,
          3.89,
          3.89,
          3.89,
          3.89,
          3.89,
          3.89,
          3.89,
          3.89,
          3.89,
          3.89,
          3.89,
          4,
          4,
          4,
          4,
          4,
          4,
          4,
          4,
          4,
          4,
          4,
          4,
          4,
          4,
          4,
          4,
          4.11,
          4.11,
          4.11,
          4.11,
          4.11,
          4.11,
          4.11,
          4.11,
          4.11,
          4.11,
          4.11,
          4.22,
          4.22,
          4.22,
          4.22,
          4.22,
          4.22,
          4.22,
          4.22,
          4.33,
          4.33,
          4.33,
          4.33,
          4.33,
          4.33,
          4.33,
          4.33,
          4.33,
          4.33,
          4.33,
          4.33,
          4.33,
          4.33,
          4.33,
          4.33,
          4.44,
          4.44,
          4.44,
          4.44,
          4.44,
          4.44,
          4.44,
          4.44,
          4.44,
          4.44,
          4.44,
          4.56,
          4.56,
          4.56,
          4.56,
          4.56,
          4.56,
          4.56,
          4.56,
          4.56,
          4.56,
          4.56,
          4.56,
          4.67,
          4.67,
          4.67,
          4.67,
          4.67,
          4.67,
          4.67,
          4.67,
          4.67,
          4.67,
          4.67,
          4.67,
          4.67,
          4.67,
          4.67,
          4.78,
          4.78,
          4.78,
          4.78,
          4.78,
          4.78,
          4.78,
          4.78,
          4.78,
          4.78,
          4.78,
          4.78,
          4.89,
          4.89,
          4.89,
          4.89,
          4.89,
          4.89,
          4.89,
          4.89,
          4.89,
          4.89,
          4.89,
          4.89,
          4.89,
          4.89,
          4.89,
          4.89,
          4.89,
          5,
          5,
          5,
          5,
          5,
          5,
          5,
          5,
          5,
          5,
          5,
          5,
          5,
          5,
          5,
          5,
          5,
          5,
          5,
          5,
          5,
          5,
          5,
          5
         ],
         "xaxis": "x",
         "y": [
          8.040663961496294,
          9.5126272537925,
          9.5126272537925,
          9.754292868945608,
          9.995958484098718,
          10.237624099251825,
          10.237624099251825,
          10.479289714404935,
          10.720955329558043,
          10.720955329558043,
          10.962620944711151,
          10.962620944711151,
          11.226256161241816,
          11.226256161241816,
          11.226256161241816,
          11.709587391548032,
          11.709587391548032,
          11.95125300670114,
          11.95125300670114,
          11.95125300670114,
          11.95125300670114,
          12.19291862185425,
          12.19291862185425,
          12.19291862185425,
          12.434584237007357,
          12.434584237007357,
          12.434584237007357,
          12.676249852160467,
          12.676249852160467,
          12.676249852160467,
          12.917915467313575,
          12.917915467313575,
          12.917915467313575,
          12.917915467313575,
          12.917915467313575,
          12.917915467313575,
          12.917915467313575,
          12.917915467313575,
          13.159581082466683,
          13.159581082466683,
          13.159581082466683,
          13.159581082466683,
          13.159581082466683,
          13.159581082466683,
          13.159581082466683,
          13.159581082466683,
          13.423216298997348,
          13.423216298997348,
          13.423216298997348,
          13.423216298997348,
          13.423216298997348,
          13.423216298997348,
          13.423216298997348,
          13.664881914150456,
          13.664881914150456,
          13.664881914150456,
          13.664881914150456,
          13.664881914150456,
          13.664881914150456,
          13.664881914150456,
          13.664881914150456,
          13.664881914150456,
          13.664881914150456,
          13.906547529303563,
          13.906547529303563,
          13.906547529303563,
          13.906547529303563,
          13.906547529303563,
          13.906547529303563,
          13.906547529303563,
          13.906547529303563,
          13.906547529303563,
          13.906547529303563,
          13.906547529303563,
          13.906547529303563,
          13.906547529303563,
          13.906547529303563,
          14.148213144456673,
          14.148213144456673,
          14.148213144456673,
          14.148213144456673,
          14.148213144456673,
          14.148213144456673,
          14.148213144456673,
          14.148213144456673,
          14.148213144456673,
          14.148213144456673,
          14.148213144456673,
          14.389878759609783,
          14.389878759609783,
          14.389878759609783,
          14.389878759609783,
          14.389878759609783,
          14.389878759609783,
          14.389878759609783,
          14.389878759609783,
          14.389878759609783,
          14.389878759609783,
          14.389878759609783,
          14.389878759609783,
          14.389878759609783,
          14.389878759609783,
          14.389878759609783,
          14.389878759609783,
          14.631544374762893,
          14.631544374762893,
          14.631544374762893,
          14.631544374762893,
          14.631544374762893,
          14.631544374762893,
          14.631544374762893,
          14.631544374762893,
          14.631544374762893,
          14.631544374762893,
          14.631544374762893,
          14.873209989915999,
          14.873209989915999,
          14.873209989915999,
          14.873209989915999,
          14.873209989915999,
          14.873209989915999,
          14.873209989915999,
          14.873209989915999,
          15.114875605069109,
          15.114875605069109,
          15.114875605069109,
          15.114875605069109,
          15.114875605069109,
          15.114875605069109,
          15.114875605069109,
          15.114875605069109,
          15.114875605069109,
          15.114875605069109,
          15.114875605069109,
          15.114875605069109,
          15.114875605069109,
          15.114875605069109,
          15.114875605069109,
          15.114875605069109,
          15.356541220222216,
          15.356541220222216,
          15.356541220222216,
          15.356541220222216,
          15.356541220222216,
          15.356541220222216,
          15.356541220222216,
          15.356541220222216,
          15.356541220222216,
          15.356541220222216,
          15.356541220222216,
          15.620176436752878,
          15.620176436752878,
          15.620176436752878,
          15.620176436752878,
          15.620176436752878,
          15.620176436752878,
          15.620176436752878,
          15.620176436752878,
          15.620176436752878,
          15.620176436752878,
          15.620176436752878,
          15.620176436752878,
          15.861842051905988,
          15.861842051905988,
          15.861842051905988,
          15.861842051905988,
          15.861842051905988,
          15.861842051905988,
          15.861842051905988,
          15.861842051905988,
          15.861842051905988,
          15.861842051905988,
          15.861842051905988,
          15.861842051905988,
          15.861842051905988,
          15.861842051905988,
          15.861842051905988,
          16.103507667059098,
          16.103507667059098,
          16.103507667059098,
          16.103507667059098,
          16.103507667059098,
          16.103507667059098,
          16.103507667059098,
          16.103507667059098,
          16.103507667059098,
          16.103507667059098,
          16.103507667059098,
          16.103507667059098,
          16.345173282212205,
          16.345173282212205,
          16.345173282212205,
          16.345173282212205,
          16.345173282212205,
          16.345173282212205,
          16.345173282212205,
          16.345173282212205,
          16.345173282212205,
          16.345173282212205,
          16.345173282212205,
          16.345173282212205,
          16.345173282212205,
          16.345173282212205,
          16.345173282212205,
          16.345173282212205,
          16.345173282212205,
          16.586838897365315,
          16.586838897365315,
          16.586838897365315,
          16.586838897365315,
          16.586838897365315,
          16.586838897365315,
          16.586838897365315,
          16.586838897365315,
          16.586838897365315,
          16.586838897365315,
          16.586838897365315,
          16.586838897365315,
          16.586838897365315,
          16.586838897365315,
          16.586838897365315,
          16.586838897365315,
          16.586838897365315,
          16.586838897365315,
          16.586838897365315,
          16.586838897365315,
          16.586838897365315,
          16.586838897365315,
          16.586838897365315,
          16.586838897365315
         ],
         "yaxis": "y"
        }
       ],
       "layout": {
        "legend": {
         "tracegroupgap": 0
        },
        "margin": {
         "t": 60
        },
        "template": {
         "data": {
          "bar": [
           {
            "error_x": {
             "color": "#2a3f5f"
            },
            "error_y": {
             "color": "#2a3f5f"
            },
            "marker": {
             "line": {
              "color": "#E5ECF6",
              "width": 0.5
             }
            },
            "type": "bar"
           }
          ],
          "barpolar": [
           {
            "marker": {
             "line": {
              "color": "#E5ECF6",
              "width": 0.5
             }
            },
            "type": "barpolar"
           }
          ],
          "carpet": [
           {
            "aaxis": {
             "endlinecolor": "#2a3f5f",
             "gridcolor": "white",
             "linecolor": "white",
             "minorgridcolor": "white",
             "startlinecolor": "#2a3f5f"
            },
            "baxis": {
             "endlinecolor": "#2a3f5f",
             "gridcolor": "white",
             "linecolor": "white",
             "minorgridcolor": "white",
             "startlinecolor": "#2a3f5f"
            },
            "type": "carpet"
           }
          ],
          "choropleth": [
           {
            "colorbar": {
             "outlinewidth": 0,
             "ticks": ""
            },
            "type": "choropleth"
           }
          ],
          "contour": [
           {
            "colorbar": {
             "outlinewidth": 0,
             "ticks": ""
            },
            "colorscale": [
             [
              0,
              "#0d0887"
             ],
             [
              0.1111111111111111,
              "#46039f"
             ],
             [
              0.2222222222222222,
              "#7201a8"
             ],
             [
              0.3333333333333333,
              "#9c179e"
             ],
             [
              0.4444444444444444,
              "#bd3786"
             ],
             [
              0.5555555555555556,
              "#d8576b"
             ],
             [
              0.6666666666666666,
              "#ed7953"
             ],
             [
              0.7777777777777778,
              "#fb9f3a"
             ],
             [
              0.8888888888888888,
              "#fdca26"
             ],
             [
              1,
              "#f0f921"
             ]
            ],
            "type": "contour"
           }
          ],
          "contourcarpet": [
           {
            "colorbar": {
             "outlinewidth": 0,
             "ticks": ""
            },
            "type": "contourcarpet"
           }
          ],
          "heatmap": [
           {
            "colorbar": {
             "outlinewidth": 0,
             "ticks": ""
            },
            "colorscale": [
             [
              0,
              "#0d0887"
             ],
             [
              0.1111111111111111,
              "#46039f"
             ],
             [
              0.2222222222222222,
              "#7201a8"
             ],
             [
              0.3333333333333333,
              "#9c179e"
             ],
             [
              0.4444444444444444,
              "#bd3786"
             ],
             [
              0.5555555555555556,
              "#d8576b"
             ],
             [
              0.6666666666666666,
              "#ed7953"
             ],
             [
              0.7777777777777778,
              "#fb9f3a"
             ],
             [
              0.8888888888888888,
              "#fdca26"
             ],
             [
              1,
              "#f0f921"
             ]
            ],
            "type": "heatmap"
           }
          ],
          "heatmapgl": [
           {
            "colorbar": {
             "outlinewidth": 0,
             "ticks": ""
            },
            "colorscale": [
             [
              0,
              "#0d0887"
             ],
             [
              0.1111111111111111,
              "#46039f"
             ],
             [
              0.2222222222222222,
              "#7201a8"
             ],
             [
              0.3333333333333333,
              "#9c179e"
             ],
             [
              0.4444444444444444,
              "#bd3786"
             ],
             [
              0.5555555555555556,
              "#d8576b"
             ],
             [
              0.6666666666666666,
              "#ed7953"
             ],
             [
              0.7777777777777778,
              "#fb9f3a"
             ],
             [
              0.8888888888888888,
              "#fdca26"
             ],
             [
              1,
              "#f0f921"
             ]
            ],
            "type": "heatmapgl"
           }
          ],
          "histogram": [
           {
            "marker": {
             "colorbar": {
              "outlinewidth": 0,
              "ticks": ""
             }
            },
            "type": "histogram"
           }
          ],
          "histogram2d": [
           {
            "colorbar": {
             "outlinewidth": 0,
             "ticks": ""
            },
            "colorscale": [
             [
              0,
              "#0d0887"
             ],
             [
              0.1111111111111111,
              "#46039f"
             ],
             [
              0.2222222222222222,
              "#7201a8"
             ],
             [
              0.3333333333333333,
              "#9c179e"
             ],
             [
              0.4444444444444444,
              "#bd3786"
             ],
             [
              0.5555555555555556,
              "#d8576b"
             ],
             [
              0.6666666666666666,
              "#ed7953"
             ],
             [
              0.7777777777777778,
              "#fb9f3a"
             ],
             [
              0.8888888888888888,
              "#fdca26"
             ],
             [
              1,
              "#f0f921"
             ]
            ],
            "type": "histogram2d"
           }
          ],
          "histogram2dcontour": [
           {
            "colorbar": {
             "outlinewidth": 0,
             "ticks": ""
            },
            "colorscale": [
             [
              0,
              "#0d0887"
             ],
             [
              0.1111111111111111,
              "#46039f"
             ],
             [
              0.2222222222222222,
              "#7201a8"
             ],
             [
              0.3333333333333333,
              "#9c179e"
             ],
             [
              0.4444444444444444,
              "#bd3786"
             ],
             [
              0.5555555555555556,
              "#d8576b"
             ],
             [
              0.6666666666666666,
              "#ed7953"
             ],
             [
              0.7777777777777778,
              "#fb9f3a"
             ],
             [
              0.8888888888888888,
              "#fdca26"
             ],
             [
              1,
              "#f0f921"
             ]
            ],
            "type": "histogram2dcontour"
           }
          ],
          "mesh3d": [
           {
            "colorbar": {
             "outlinewidth": 0,
             "ticks": ""
            },
            "type": "mesh3d"
           }
          ],
          "parcoords": [
           {
            "line": {
             "colorbar": {
              "outlinewidth": 0,
              "ticks": ""
             }
            },
            "type": "parcoords"
           }
          ],
          "pie": [
           {
            "automargin": true,
            "type": "pie"
           }
          ],
          "scatter": [
           {
            "marker": {
             "colorbar": {
              "outlinewidth": 0,
              "ticks": ""
             }
            },
            "type": "scatter"
           }
          ],
          "scatter3d": [
           {
            "line": {
             "colorbar": {
              "outlinewidth": 0,
              "ticks": ""
             }
            },
            "marker": {
             "colorbar": {
              "outlinewidth": 0,
              "ticks": ""
             }
            },
            "type": "scatter3d"
           }
          ],
          "scattercarpet": [
           {
            "marker": {
             "colorbar": {
              "outlinewidth": 0,
              "ticks": ""
             }
            },
            "type": "scattercarpet"
           }
          ],
          "scattergeo": [
           {
            "marker": {
             "colorbar": {
              "outlinewidth": 0,
              "ticks": ""
             }
            },
            "type": "scattergeo"
           }
          ],
          "scattergl": [
           {
            "marker": {
             "colorbar": {
              "outlinewidth": 0,
              "ticks": ""
             }
            },
            "type": "scattergl"
           }
          ],
          "scattermapbox": [
           {
            "marker": {
             "colorbar": {
              "outlinewidth": 0,
              "ticks": ""
             }
            },
            "type": "scattermapbox"
           }
          ],
          "scatterpolar": [
           {
            "marker": {
             "colorbar": {
              "outlinewidth": 0,
              "ticks": ""
             }
            },
            "type": "scatterpolar"
           }
          ],
          "scatterpolargl": [
           {
            "marker": {
             "colorbar": {
              "outlinewidth": 0,
              "ticks": ""
             }
            },
            "type": "scatterpolargl"
           }
          ],
          "scatterternary": [
           {
            "marker": {
             "colorbar": {
              "outlinewidth": 0,
              "ticks": ""
             }
            },
            "type": "scatterternary"
           }
          ],
          "surface": [
           {
            "colorbar": {
             "outlinewidth": 0,
             "ticks": ""
            },
            "colorscale": [
             [
              0,
              "#0d0887"
             ],
             [
              0.1111111111111111,
              "#46039f"
             ],
             [
              0.2222222222222222,
              "#7201a8"
             ],
             [
              0.3333333333333333,
              "#9c179e"
             ],
             [
              0.4444444444444444,
              "#bd3786"
             ],
             [
              0.5555555555555556,
              "#d8576b"
             ],
             [
              0.6666666666666666,
              "#ed7953"
             ],
             [
              0.7777777777777778,
              "#fb9f3a"
             ],
             [
              0.8888888888888888,
              "#fdca26"
             ],
             [
              1,
              "#f0f921"
             ]
            ],
            "type": "surface"
           }
          ],
          "table": [
           {
            "cells": {
             "fill": {
              "color": "#EBF0F8"
             },
             "line": {
              "color": "white"
             }
            },
            "header": {
             "fill": {
              "color": "#C8D4E3"
             },
             "line": {
              "color": "white"
             }
            },
            "type": "table"
           }
          ]
         },
         "layout": {
          "annotationdefaults": {
           "arrowcolor": "#2a3f5f",
           "arrowhead": 0,
           "arrowwidth": 1
          },
          "coloraxis": {
           "colorbar": {
            "outlinewidth": 0,
            "ticks": ""
           }
          },
          "colorscale": {
           "diverging": [
            [
             0,
             "#8e0152"
            ],
            [
             0.1,
             "#c51b7d"
            ],
            [
             0.2,
             "#de77ae"
            ],
            [
             0.3,
             "#f1b6da"
            ],
            [
             0.4,
             "#fde0ef"
            ],
            [
             0.5,
             "#f7f7f7"
            ],
            [
             0.6,
             "#e6f5d0"
            ],
            [
             0.7,
             "#b8e186"
            ],
            [
             0.8,
             "#7fbc41"
            ],
            [
             0.9,
             "#4d9221"
            ],
            [
             1,
             "#276419"
            ]
           ],
           "sequential": [
            [
             0,
             "#0d0887"
            ],
            [
             0.1111111111111111,
             "#46039f"
            ],
            [
             0.2222222222222222,
             "#7201a8"
            ],
            [
             0.3333333333333333,
             "#9c179e"
            ],
            [
             0.4444444444444444,
             "#bd3786"
            ],
            [
             0.5555555555555556,
             "#d8576b"
            ],
            [
             0.6666666666666666,
             "#ed7953"
            ],
            [
             0.7777777777777778,
             "#fb9f3a"
            ],
            [
             0.8888888888888888,
             "#fdca26"
            ],
            [
             1,
             "#f0f921"
            ]
           ],
           "sequentialminus": [
            [
             0,
             "#0d0887"
            ],
            [
             0.1111111111111111,
             "#46039f"
            ],
            [
             0.2222222222222222,
             "#7201a8"
            ],
            [
             0.3333333333333333,
             "#9c179e"
            ],
            [
             0.4444444444444444,
             "#bd3786"
            ],
            [
             0.5555555555555556,
             "#d8576b"
            ],
            [
             0.6666666666666666,
             "#ed7953"
            ],
            [
             0.7777777777777778,
             "#fb9f3a"
            ],
            [
             0.8888888888888888,
             "#fdca26"
            ],
            [
             1,
             "#f0f921"
            ]
           ]
          },
          "colorway": [
           "#636efa",
           "#EF553B",
           "#00cc96",
           "#ab63fa",
           "#FFA15A",
           "#19d3f3",
           "#FF6692",
           "#B6E880",
           "#FF97FF",
           "#FECB52"
          ],
          "font": {
           "color": "#2a3f5f"
          },
          "geo": {
           "bgcolor": "white",
           "lakecolor": "white",
           "landcolor": "#E5ECF6",
           "showlakes": true,
           "showland": true,
           "subunitcolor": "white"
          },
          "hoverlabel": {
           "align": "left"
          },
          "hovermode": "closest",
          "mapbox": {
           "style": "light"
          },
          "paper_bgcolor": "white",
          "plot_bgcolor": "#E5ECF6",
          "polar": {
           "angularaxis": {
            "gridcolor": "white",
            "linecolor": "white",
            "ticks": ""
           },
           "bgcolor": "#E5ECF6",
           "radialaxis": {
            "gridcolor": "white",
            "linecolor": "white",
            "ticks": ""
           }
          },
          "scene": {
           "xaxis": {
            "backgroundcolor": "#E5ECF6",
            "gridcolor": "white",
            "gridwidth": 2,
            "linecolor": "white",
            "showbackground": true,
            "ticks": "",
            "zerolinecolor": "white"
           },
           "yaxis": {
            "backgroundcolor": "#E5ECF6",
            "gridcolor": "white",
            "gridwidth": 2,
            "linecolor": "white",
            "showbackground": true,
            "ticks": "",
            "zerolinecolor": "white"
           },
           "zaxis": {
            "backgroundcolor": "#E5ECF6",
            "gridcolor": "white",
            "gridwidth": 2,
            "linecolor": "white",
            "showbackground": true,
            "ticks": "",
            "zerolinecolor": "white"
           }
          },
          "shapedefaults": {
           "line": {
            "color": "#2a3f5f"
           }
          },
          "ternary": {
           "aaxis": {
            "gridcolor": "white",
            "linecolor": "white",
            "ticks": ""
           },
           "baxis": {
            "gridcolor": "white",
            "linecolor": "white",
            "ticks": ""
           },
           "bgcolor": "#E5ECF6",
           "caxis": {
            "gridcolor": "white",
            "linecolor": "white",
            "ticks": ""
           }
          },
          "title": {
           "x": 0.05
          },
          "xaxis": {
           "automargin": true,
           "gridcolor": "white",
           "linecolor": "white",
           "ticks": "",
           "title": {
            "standoff": 15
           },
           "zerolinecolor": "white",
           "zerolinewidth": 2
          },
          "yaxis": {
           "automargin": true,
           "gridcolor": "white",
           "linecolor": "white",
           "ticks": "",
           "title": {
            "standoff": 15
           },
           "zerolinecolor": "white",
           "zerolinewidth": 2
          }
         }
        },
        "xaxis": {
         "anchor": "y",
         "domain": [
          0,
          1
         ],
         "title": {
          "text": "X"
         }
        },
        "yaxis": {
         "anchor": "x",
         "domain": [
          0,
          1
         ],
         "title": {
          "text": "Y Prediction"
         }
        }
       }
      },
      "text/html": [
       "<div>\n",
       "        \n",
       "        \n",
       "            <div id=\"a32c88a7-47b5-4f60-ae59-046f90c81e38\" class=\"plotly-graph-div\" style=\"height:525px; width:100%;\"></div>\n",
       "            <script type=\"text/javascript\">\n",
       "                require([\"plotly\"], function(Plotly) {\n",
       "                    window.PLOTLYENV=window.PLOTLYENV || {};\n",
       "                    \n",
       "                if (document.getElementById(\"a32c88a7-47b5-4f60-ae59-046f90c81e38\")) {\n",
       "                    Plotly.newPlot(\n",
       "                        'a32c88a7-47b5-4f60-ae59-046f90c81e38',\n",
       "                        [{\"hoverlabel\": {\"namelength\": 0}, \"hovertemplate\": \"X=%{x}<br>Y Prediction=%{y}\", \"legendgroup\": \"\", \"marker\": {\"color\": \"#636efa\", \"symbol\": \"circle\"}, \"mode\": \"markers\", \"name\": \"\", \"showlegend\": false, \"type\": \"scatter\", \"x\": [3.56, 3.78, 4.89, 4.89, 4.89, 4.89, 5.0, 3.89, 3.33, 4.89, 3.44, 2.0, 4.67, 4.78, 3.44, 5.0, 4.67, 3.44, 3.67, 3.67, 4.22, 3.33, 5.0, 5.0, 3.67, 4.22, 3.44, 4.22, 3.89, 4.33, 4.33, 5.0, 4.0, 3.89, 4.67, 4.89, 4.0, 4.56, 4.56, 4.33, 2.89, 3.56, 4.0, 5.0, 4.78, 3.11, 4.67, 4.67, 3.78, 4.78, 3.78, 4.11, 2.56, 4.0, 5.0, 4.22, 1.78, 3.78, 4.78, 4.56, 3.89, 3.78, 4.78, 4.44, 2.11, 4.33, 5.0, 4.11, 4.44, 4.33, 4.0, 4.67, 4.11, 2.11, 4.22, 4.56, 4.67, 2.89, 4.33, 5.0, 2.89, 5.0, 1.11, 4.89, 3.89, 4.67, 4.0, 2.33, 3.22, 4.67, 2.44, 4.33, 3.89, 3.0, 5.0, 4.0, 4.0, 4.11, 4.11, 4.11, 3.89, 4.11, 4.44, 4.89, 3.22, 4.89, 3.44, 4.67, 4.89, 4.89, 4.89, 4.44, 2.78, 3.33, 4.89, 3.78, 3.56, 4.78, 4.78, 3.56, 4.78, 3.78, 3.44, 4.11, 3.78, 4.67, 4.44, 3.78, 4.56, 4.33, 4.0, 4.44, 4.0, 3.33, 4.78, 3.67, 3.78, 4.67, 3.67, 3.56, 4.22, 3.56, 4.11, 5.0, 2.56, 4.44, 2.33, 5.0, 5.0, 4.56, 4.89, 3.56, 4.44, 4.78, 5.0, 5.0, 3.67, 3.78, 3.78, 4.56, 4.33, 3.89, 3.89, 3.11, 4.33, 3.67, 3.33, 3.78, 5.0, 4.0, 4.56, 4.44, 4.44, 1.78, 5.0, 3.0, 5.0, 3.67, 5.0, 4.0, 4.11, 2.78, 3.67, 3.33, 1.89, 4.0, 4.22, 4.33, 4.33, 4.89, 2.44, 4.56, 3.0, 3.33, 4.89, 2.89, 5.0, 5.0, 4.33, 3.89, 4.56, 3.89, 4.33, 4.67, 4.89, 4.67, 3.67, 4.22, 3.44, 3.78, 4.0, 4.78, 4.78, 3.11, 3.22, 4.0, 4.33, 2.22, 4.33, 3.44, 2.56, 4.67, 4.0, 4.56, 4.11, 5.0, 4.44, 4.56, 5.0, 3.33], \"xaxis\": \"x\", \"y\": [13.423216298997342, 13.906547529303559, 16.345173282212198, 16.345173282212198, 16.345173282212198, 16.345173282212198, 16.586838897365308, 14.148213144456667, 12.91791546731357, 16.345173282212198, 13.159581082466678, 9.995958484098713, 15.861842051905981, 16.10350766705909, 13.159581082466678, 16.586838897365308, 15.861842051905981, 13.159581082466678, 13.66488191415045, 13.66488191415045, 14.873209989915992, 12.91791546731357, 16.586838897365308, 16.586838897365308, 13.66488191415045, 14.873209989915992, 13.159581082466678, 14.873209989915992, 14.148213144456667, 15.1148756050691, 15.1148756050691, 16.586838897365308, 14.389878759609775, 14.148213144456667, 15.861842051905981, 16.345173282212198, 14.389878759609775, 15.620176436752873, 15.620176436752873, 15.1148756050691, 11.951253006701137, 13.423216298997342, 14.389878759609775, 16.586838897365308, 16.10350766705909, 12.434584237007353, 15.861842051905981, 15.861842051905981, 13.906547529303559, 16.10350766705909, 13.906547529303559, 14.631544374762885, 11.22625616124181, 14.389878759609775, 16.586838897365308, 14.873209989915992, 9.512627253792497, 13.906547529303559, 16.10350766705909, 15.620176436752873, 14.148213144456667, 13.906547529303559, 16.10350766705909, 15.35654122022221, 10.237624099251821, 15.1148756050691, 16.586838897365308, 14.631544374762885, 15.35654122022221, 15.1148756050691, 14.389878759609775, 15.861842051905981, 14.631544374762885, 10.237624099251821, 14.873209989915992, 15.620176436752873, 15.861842051905981, 11.951253006701137, 15.1148756050691, 16.586838897365308, 11.951253006701137, 16.586838897365308, 8.040663961496291, 16.345173282212198, 14.148213144456667, 15.861842051905981, 14.389878759609775, 10.720955329558038, 12.676249852160462, 15.861842051905981, 10.962620944711148, 15.1148756050691, 14.148213144456667, 12.192918621854243, 16.586838897365308, 14.389878759609775, 14.389878759609775, 14.631544374762885, 14.631544374762885, 14.631544374762885, 14.148213144456667, 14.631544374762885, 15.35654122022221, 16.345173282212198, 12.676249852160462, 16.345173282212198, 13.159581082466678, 15.861842051905981, 16.345173282212198, 16.345173282212198, 16.345173282212198, 15.35654122022221, 11.709587391548027, 12.91791546731357, 16.345173282212198, 13.906547529303559, 13.423216298997342, 16.10350766705909, 16.10350766705909, 13.423216298997342, 16.10350766705909, 13.906547529303559, 13.159581082466678, 14.631544374762885, 13.906547529303559, 15.861842051905981, 15.35654122022221, 13.906547529303559, 15.620176436752873, 15.1148756050691, 14.389878759609775, 15.35654122022221, 14.389878759609775, 12.91791546731357, 16.10350766705909, 13.66488191415045, 13.906547529303559, 15.861842051905981, 13.66488191415045, 13.423216298997342, 14.873209989915992, 13.423216298997342, 14.631544374762885, 16.586838897365308, 11.22625616124181, 15.35654122022221, 10.720955329558038, 16.586838897365308, 16.586838897365308, 15.620176436752873, 16.345173282212198, 13.423216298997342, 15.35654122022221, 16.10350766705909, 16.586838897365308, 16.586838897365308, 13.66488191415045, 13.906547529303559, 13.906547529303559, 15.620176436752873, 15.1148756050691, 14.148213144456667, 14.148213144456667, 12.434584237007353, 15.1148756050691, 13.66488191415045, 12.91791546731357, 13.906547529303559, 16.586838897365308, 14.389878759609775, 15.620176436752873, 15.35654122022221, 15.35654122022221, 9.512627253792497, 16.586838897365308, 12.192918621854243, 16.586838897365308, 13.66488191415045, 16.586838897365308, 14.389878759609775, 14.631544374762885, 11.709587391548027, 13.66488191415045, 12.91791546731357, 9.754292868945605, 14.389878759609775, 14.873209989915992, 15.1148756050691, 15.1148756050691, 16.345173282212198, 10.962620944711148, 15.620176436752873, 12.192918621854243, 12.91791546731357, 16.345173282212198, 11.951253006701137, 16.586838897365308, 16.586838897365308, 15.1148756050691, 14.148213144456667, 15.620176436752873, 14.148213144456667, 15.1148756050691, 15.861842051905981, 16.345173282212198, 15.861842051905981, 13.66488191415045, 14.873209989915992, 13.159581082466678, 13.906547529303559, 14.389878759609775, 16.10350766705909, 16.10350766705909, 12.434584237007353, 12.676249852160462, 14.389878759609775, 15.1148756050691, 10.479289714404931, 15.1148756050691, 13.159581082466678, 11.22625616124181, 15.861842051905981, 14.389878759609775, 15.620176436752873, 14.631544374762885, 16.586838897365308, 15.35654122022221, 15.620176436752873, 16.586838897365308, 12.91791546731357], \"yaxis\": \"y\"}, {\"hoverlabel\": {\"namelength\": 0}, \"hovertemplate\": \"<b>OLS trendline</b><br>Y Prediction = 2.196960 * X + 5.602038<br>R<sup>2</sup>=1.000000<br><br>X=%{x}<br>Y Prediction=%{y} <b>(trend)</b>\", \"legendgroup\": \"\", \"marker\": {\"color\": \"#636efa\", \"symbol\": \"circle\"}, \"mode\": \"lines\", \"name\": \"\", \"showlegend\": false, \"type\": \"scatter\", \"x\": [1.11, 1.78, 1.78, 1.89, 2.0, 2.11, 2.11, 2.22, 2.33, 2.33, 2.44, 2.44, 2.56, 2.56, 2.56, 2.78, 2.78, 2.89, 2.89, 2.89, 2.89, 3.0, 3.0, 3.0, 3.11, 3.11, 3.11, 3.22, 3.22, 3.22, 3.33, 3.33, 3.33, 3.33, 3.33, 3.33, 3.33, 3.33, 3.44, 3.44, 3.44, 3.44, 3.44, 3.44, 3.44, 3.44, 3.56, 3.56, 3.56, 3.56, 3.56, 3.56, 3.56, 3.67, 3.67, 3.67, 3.67, 3.67, 3.67, 3.67, 3.67, 3.67, 3.67, 3.78, 3.78, 3.78, 3.78, 3.78, 3.78, 3.78, 3.78, 3.78, 3.78, 3.78, 3.78, 3.78, 3.78, 3.89, 3.89, 3.89, 3.89, 3.89, 3.89, 3.89, 3.89, 3.89, 3.89, 3.89, 4.0, 4.0, 4.0, 4.0, 4.0, 4.0, 4.0, 4.0, 4.0, 4.0, 4.0, 4.0, 4.0, 4.0, 4.0, 4.0, 4.11, 4.11, 4.11, 4.11, 4.11, 4.11, 4.11, 4.11, 4.11, 4.11, 4.11, 4.22, 4.22, 4.22, 4.22, 4.22, 4.22, 4.22, 4.22, 4.33, 4.33, 4.33, 4.33, 4.33, 4.33, 4.33, 4.33, 4.33, 4.33, 4.33, 4.33, 4.33, 4.33, 4.33, 4.33, 4.44, 4.44, 4.44, 4.44, 4.44, 4.44, 4.44, 4.44, 4.44, 4.44, 4.44, 4.56, 4.56, 4.56, 4.56, 4.56, 4.56, 4.56, 4.56, 4.56, 4.56, 4.56, 4.56, 4.67, 4.67, 4.67, 4.67, 4.67, 4.67, 4.67, 4.67, 4.67, 4.67, 4.67, 4.67, 4.67, 4.67, 4.67, 4.78, 4.78, 4.78, 4.78, 4.78, 4.78, 4.78, 4.78, 4.78, 4.78, 4.78, 4.78, 4.89, 4.89, 4.89, 4.89, 4.89, 4.89, 4.89, 4.89, 4.89, 4.89, 4.89, 4.89, 4.89, 4.89, 4.89, 4.89, 4.89, 5.0, 5.0, 5.0, 5.0, 5.0, 5.0, 5.0, 5.0, 5.0, 5.0, 5.0, 5.0, 5.0, 5.0, 5.0, 5.0, 5.0, 5.0, 5.0, 5.0, 5.0, 5.0, 5.0, 5.0], \"xaxis\": \"x\", \"y\": [8.040663961496294, 9.5126272537925, 9.5126272537925, 9.754292868945608, 9.995958484098718, 10.237624099251825, 10.237624099251825, 10.479289714404935, 10.720955329558043, 10.720955329558043, 10.962620944711151, 10.962620944711151, 11.226256161241816, 11.226256161241816, 11.226256161241816, 11.709587391548032, 11.709587391548032, 11.95125300670114, 11.95125300670114, 11.95125300670114, 11.95125300670114, 12.19291862185425, 12.19291862185425, 12.19291862185425, 12.434584237007357, 12.434584237007357, 12.434584237007357, 12.676249852160467, 12.676249852160467, 12.676249852160467, 12.917915467313575, 12.917915467313575, 12.917915467313575, 12.917915467313575, 12.917915467313575, 12.917915467313575, 12.917915467313575, 12.917915467313575, 13.159581082466683, 13.159581082466683, 13.159581082466683, 13.159581082466683, 13.159581082466683, 13.159581082466683, 13.159581082466683, 13.159581082466683, 13.423216298997348, 13.423216298997348, 13.423216298997348, 13.423216298997348, 13.423216298997348, 13.423216298997348, 13.423216298997348, 13.664881914150456, 13.664881914150456, 13.664881914150456, 13.664881914150456, 13.664881914150456, 13.664881914150456, 13.664881914150456, 13.664881914150456, 13.664881914150456, 13.664881914150456, 13.906547529303563, 13.906547529303563, 13.906547529303563, 13.906547529303563, 13.906547529303563, 13.906547529303563, 13.906547529303563, 13.906547529303563, 13.906547529303563, 13.906547529303563, 13.906547529303563, 13.906547529303563, 13.906547529303563, 13.906547529303563, 14.148213144456673, 14.148213144456673, 14.148213144456673, 14.148213144456673, 14.148213144456673, 14.148213144456673, 14.148213144456673, 14.148213144456673, 14.148213144456673, 14.148213144456673, 14.148213144456673, 14.389878759609783, 14.389878759609783, 14.389878759609783, 14.389878759609783, 14.389878759609783, 14.389878759609783, 14.389878759609783, 14.389878759609783, 14.389878759609783, 14.389878759609783, 14.389878759609783, 14.389878759609783, 14.389878759609783, 14.389878759609783, 14.389878759609783, 14.389878759609783, 14.631544374762893, 14.631544374762893, 14.631544374762893, 14.631544374762893, 14.631544374762893, 14.631544374762893, 14.631544374762893, 14.631544374762893, 14.631544374762893, 14.631544374762893, 14.631544374762893, 14.873209989915999, 14.873209989915999, 14.873209989915999, 14.873209989915999, 14.873209989915999, 14.873209989915999, 14.873209989915999, 14.873209989915999, 15.114875605069109, 15.114875605069109, 15.114875605069109, 15.114875605069109, 15.114875605069109, 15.114875605069109, 15.114875605069109, 15.114875605069109, 15.114875605069109, 15.114875605069109, 15.114875605069109, 15.114875605069109, 15.114875605069109, 15.114875605069109, 15.114875605069109, 15.114875605069109, 15.356541220222216, 15.356541220222216, 15.356541220222216, 15.356541220222216, 15.356541220222216, 15.356541220222216, 15.356541220222216, 15.356541220222216, 15.356541220222216, 15.356541220222216, 15.356541220222216, 15.620176436752878, 15.620176436752878, 15.620176436752878, 15.620176436752878, 15.620176436752878, 15.620176436752878, 15.620176436752878, 15.620176436752878, 15.620176436752878, 15.620176436752878, 15.620176436752878, 15.620176436752878, 15.861842051905988, 15.861842051905988, 15.861842051905988, 15.861842051905988, 15.861842051905988, 15.861842051905988, 15.861842051905988, 15.861842051905988, 15.861842051905988, 15.861842051905988, 15.861842051905988, 15.861842051905988, 15.861842051905988, 15.861842051905988, 15.861842051905988, 16.103507667059098, 16.103507667059098, 16.103507667059098, 16.103507667059098, 16.103507667059098, 16.103507667059098, 16.103507667059098, 16.103507667059098, 16.103507667059098, 16.103507667059098, 16.103507667059098, 16.103507667059098, 16.345173282212205, 16.345173282212205, 16.345173282212205, 16.345173282212205, 16.345173282212205, 16.345173282212205, 16.345173282212205, 16.345173282212205, 16.345173282212205, 16.345173282212205, 16.345173282212205, 16.345173282212205, 16.345173282212205, 16.345173282212205, 16.345173282212205, 16.345173282212205, 16.345173282212205, 16.586838897365315, 16.586838897365315, 16.586838897365315, 16.586838897365315, 16.586838897365315, 16.586838897365315, 16.586838897365315, 16.586838897365315, 16.586838897365315, 16.586838897365315, 16.586838897365315, 16.586838897365315, 16.586838897365315, 16.586838897365315, 16.586838897365315, 16.586838897365315, 16.586838897365315, 16.586838897365315, 16.586838897365315, 16.586838897365315, 16.586838897365315, 16.586838897365315, 16.586838897365315, 16.586838897365315], \"yaxis\": \"y\"}],\n",
       "                        {\"legend\": {\"tracegroupgap\": 0}, \"margin\": {\"t\": 60}, \"template\": {\"data\": {\"bar\": [{\"error_x\": {\"color\": \"#2a3f5f\"}, \"error_y\": {\"color\": \"#2a3f5f\"}, \"marker\": {\"line\": {\"color\": \"#E5ECF6\", \"width\": 0.5}}, \"type\": \"bar\"}], \"barpolar\": [{\"marker\": {\"line\": {\"color\": \"#E5ECF6\", \"width\": 0.5}}, \"type\": \"barpolar\"}], \"carpet\": [{\"aaxis\": {\"endlinecolor\": \"#2a3f5f\", \"gridcolor\": \"white\", \"linecolor\": \"white\", \"minorgridcolor\": \"white\", \"startlinecolor\": \"#2a3f5f\"}, \"baxis\": {\"endlinecolor\": \"#2a3f5f\", \"gridcolor\": \"white\", \"linecolor\": \"white\", \"minorgridcolor\": \"white\", \"startlinecolor\": \"#2a3f5f\"}, \"type\": \"carpet\"}], \"choropleth\": [{\"colorbar\": {\"outlinewidth\": 0, \"ticks\": \"\"}, \"type\": \"choropleth\"}], \"contour\": [{\"colorbar\": {\"outlinewidth\": 0, \"ticks\": \"\"}, \"colorscale\": [[0.0, \"#0d0887\"], [0.1111111111111111, \"#46039f\"], [0.2222222222222222, \"#7201a8\"], [0.3333333333333333, \"#9c179e\"], [0.4444444444444444, \"#bd3786\"], [0.5555555555555556, \"#d8576b\"], [0.6666666666666666, \"#ed7953\"], [0.7777777777777778, \"#fb9f3a\"], [0.8888888888888888, \"#fdca26\"], [1.0, \"#f0f921\"]], \"type\": \"contour\"}], \"contourcarpet\": [{\"colorbar\": {\"outlinewidth\": 0, \"ticks\": \"\"}, \"type\": \"contourcarpet\"}], \"heatmap\": [{\"colorbar\": {\"outlinewidth\": 0, \"ticks\": \"\"}, \"colorscale\": [[0.0, \"#0d0887\"], [0.1111111111111111, \"#46039f\"], [0.2222222222222222, \"#7201a8\"], [0.3333333333333333, \"#9c179e\"], [0.4444444444444444, \"#bd3786\"], [0.5555555555555556, \"#d8576b\"], [0.6666666666666666, \"#ed7953\"], [0.7777777777777778, \"#fb9f3a\"], [0.8888888888888888, \"#fdca26\"], [1.0, \"#f0f921\"]], \"type\": \"heatmap\"}], \"heatmapgl\": [{\"colorbar\": {\"outlinewidth\": 0, \"ticks\": \"\"}, \"colorscale\": [[0.0, \"#0d0887\"], [0.1111111111111111, \"#46039f\"], [0.2222222222222222, \"#7201a8\"], [0.3333333333333333, \"#9c179e\"], [0.4444444444444444, \"#bd3786\"], [0.5555555555555556, \"#d8576b\"], [0.6666666666666666, \"#ed7953\"], [0.7777777777777778, \"#fb9f3a\"], [0.8888888888888888, \"#fdca26\"], [1.0, \"#f0f921\"]], \"type\": \"heatmapgl\"}], \"histogram\": [{\"marker\": {\"colorbar\": {\"outlinewidth\": 0, \"ticks\": \"\"}}, \"type\": \"histogram\"}], \"histogram2d\": [{\"colorbar\": {\"outlinewidth\": 0, \"ticks\": \"\"}, \"colorscale\": [[0.0, \"#0d0887\"], [0.1111111111111111, \"#46039f\"], [0.2222222222222222, \"#7201a8\"], [0.3333333333333333, \"#9c179e\"], [0.4444444444444444, \"#bd3786\"], [0.5555555555555556, \"#d8576b\"], [0.6666666666666666, \"#ed7953\"], [0.7777777777777778, \"#fb9f3a\"], [0.8888888888888888, \"#fdca26\"], [1.0, \"#f0f921\"]], \"type\": \"histogram2d\"}], \"histogram2dcontour\": [{\"colorbar\": {\"outlinewidth\": 0, \"ticks\": \"\"}, \"colorscale\": [[0.0, \"#0d0887\"], [0.1111111111111111, \"#46039f\"], [0.2222222222222222, \"#7201a8\"], [0.3333333333333333, \"#9c179e\"], [0.4444444444444444, \"#bd3786\"], [0.5555555555555556, \"#d8576b\"], [0.6666666666666666, \"#ed7953\"], [0.7777777777777778, \"#fb9f3a\"], [0.8888888888888888, \"#fdca26\"], [1.0, \"#f0f921\"]], \"type\": \"histogram2dcontour\"}], \"mesh3d\": [{\"colorbar\": {\"outlinewidth\": 0, \"ticks\": \"\"}, \"type\": \"mesh3d\"}], \"parcoords\": [{\"line\": {\"colorbar\": {\"outlinewidth\": 0, \"ticks\": \"\"}}, \"type\": \"parcoords\"}], \"pie\": [{\"automargin\": true, \"type\": \"pie\"}], \"scatter\": [{\"marker\": {\"colorbar\": {\"outlinewidth\": 0, \"ticks\": \"\"}}, \"type\": \"scatter\"}], \"scatter3d\": [{\"line\": {\"colorbar\": {\"outlinewidth\": 0, \"ticks\": \"\"}}, \"marker\": {\"colorbar\": {\"outlinewidth\": 0, \"ticks\": \"\"}}, \"type\": \"scatter3d\"}], \"scattercarpet\": [{\"marker\": {\"colorbar\": {\"outlinewidth\": 0, \"ticks\": \"\"}}, \"type\": \"scattercarpet\"}], \"scattergeo\": [{\"marker\": {\"colorbar\": {\"outlinewidth\": 0, \"ticks\": \"\"}}, \"type\": \"scattergeo\"}], \"scattergl\": [{\"marker\": {\"colorbar\": {\"outlinewidth\": 0, \"ticks\": \"\"}}, \"type\": \"scattergl\"}], \"scattermapbox\": [{\"marker\": {\"colorbar\": {\"outlinewidth\": 0, \"ticks\": \"\"}}, \"type\": \"scattermapbox\"}], \"scatterpolar\": [{\"marker\": {\"colorbar\": {\"outlinewidth\": 0, \"ticks\": \"\"}}, \"type\": \"scatterpolar\"}], \"scatterpolargl\": [{\"marker\": {\"colorbar\": {\"outlinewidth\": 0, \"ticks\": \"\"}}, \"type\": \"scatterpolargl\"}], \"scatterternary\": [{\"marker\": {\"colorbar\": {\"outlinewidth\": 0, \"ticks\": \"\"}}, \"type\": \"scatterternary\"}], \"surface\": [{\"colorbar\": {\"outlinewidth\": 0, \"ticks\": \"\"}, \"colorscale\": [[0.0, \"#0d0887\"], [0.1111111111111111, \"#46039f\"], [0.2222222222222222, \"#7201a8\"], [0.3333333333333333, \"#9c179e\"], [0.4444444444444444, \"#bd3786\"], [0.5555555555555556, \"#d8576b\"], [0.6666666666666666, \"#ed7953\"], [0.7777777777777778, \"#fb9f3a\"], [0.8888888888888888, \"#fdca26\"], [1.0, \"#f0f921\"]], \"type\": \"surface\"}], \"table\": [{\"cells\": {\"fill\": {\"color\": \"#EBF0F8\"}, \"line\": {\"color\": \"white\"}}, \"header\": {\"fill\": {\"color\": \"#C8D4E3\"}, \"line\": {\"color\": \"white\"}}, \"type\": \"table\"}]}, \"layout\": {\"annotationdefaults\": {\"arrowcolor\": \"#2a3f5f\", \"arrowhead\": 0, \"arrowwidth\": 1}, \"coloraxis\": {\"colorbar\": {\"outlinewidth\": 0, \"ticks\": \"\"}}, \"colorscale\": {\"diverging\": [[0, \"#8e0152\"], [0.1, \"#c51b7d\"], [0.2, \"#de77ae\"], [0.3, \"#f1b6da\"], [0.4, \"#fde0ef\"], [0.5, \"#f7f7f7\"], [0.6, \"#e6f5d0\"], [0.7, \"#b8e186\"], [0.8, \"#7fbc41\"], [0.9, \"#4d9221\"], [1, \"#276419\"]], \"sequential\": [[0.0, \"#0d0887\"], [0.1111111111111111, \"#46039f\"], [0.2222222222222222, \"#7201a8\"], [0.3333333333333333, \"#9c179e\"], [0.4444444444444444, \"#bd3786\"], [0.5555555555555556, \"#d8576b\"], [0.6666666666666666, \"#ed7953\"], [0.7777777777777778, \"#fb9f3a\"], [0.8888888888888888, \"#fdca26\"], [1.0, \"#f0f921\"]], \"sequentialminus\": [[0.0, \"#0d0887\"], [0.1111111111111111, \"#46039f\"], [0.2222222222222222, \"#7201a8\"], [0.3333333333333333, \"#9c179e\"], [0.4444444444444444, \"#bd3786\"], [0.5555555555555556, \"#d8576b\"], [0.6666666666666666, \"#ed7953\"], [0.7777777777777778, \"#fb9f3a\"], [0.8888888888888888, \"#fdca26\"], [1.0, \"#f0f921\"]]}, \"colorway\": [\"#636efa\", \"#EF553B\", \"#00cc96\", \"#ab63fa\", \"#FFA15A\", \"#19d3f3\", \"#FF6692\", \"#B6E880\", \"#FF97FF\", \"#FECB52\"], \"font\": {\"color\": \"#2a3f5f\"}, \"geo\": {\"bgcolor\": \"white\", \"lakecolor\": \"white\", \"landcolor\": \"#E5ECF6\", \"showlakes\": true, \"showland\": true, \"subunitcolor\": \"white\"}, \"hoverlabel\": {\"align\": \"left\"}, \"hovermode\": \"closest\", \"mapbox\": {\"style\": \"light\"}, \"paper_bgcolor\": \"white\", \"plot_bgcolor\": \"#E5ECF6\", \"polar\": {\"angularaxis\": {\"gridcolor\": \"white\", \"linecolor\": \"white\", \"ticks\": \"\"}, \"bgcolor\": \"#E5ECF6\", \"radialaxis\": {\"gridcolor\": \"white\", \"linecolor\": \"white\", \"ticks\": \"\"}}, \"scene\": {\"xaxis\": {\"backgroundcolor\": \"#E5ECF6\", \"gridcolor\": \"white\", \"gridwidth\": 2, \"linecolor\": \"white\", \"showbackground\": true, \"ticks\": \"\", \"zerolinecolor\": \"white\"}, \"yaxis\": {\"backgroundcolor\": \"#E5ECF6\", \"gridcolor\": \"white\", \"gridwidth\": 2, \"linecolor\": \"white\", \"showbackground\": true, \"ticks\": \"\", \"zerolinecolor\": \"white\"}, \"zaxis\": {\"backgroundcolor\": \"#E5ECF6\", \"gridcolor\": \"white\", \"gridwidth\": 2, \"linecolor\": \"white\", \"showbackground\": true, \"ticks\": \"\", \"zerolinecolor\": \"white\"}}, \"shapedefaults\": {\"line\": {\"color\": \"#2a3f5f\"}}, \"ternary\": {\"aaxis\": {\"gridcolor\": \"white\", \"linecolor\": \"white\", \"ticks\": \"\"}, \"baxis\": {\"gridcolor\": \"white\", \"linecolor\": \"white\", \"ticks\": \"\"}, \"bgcolor\": \"#E5ECF6\", \"caxis\": {\"gridcolor\": \"white\", \"linecolor\": \"white\", \"ticks\": \"\"}}, \"title\": {\"x\": 0.05}, \"xaxis\": {\"automargin\": true, \"gridcolor\": \"white\", \"linecolor\": \"white\", \"ticks\": \"\", \"title\": {\"standoff\": 15}, \"zerolinecolor\": \"white\", \"zerolinewidth\": 2}, \"yaxis\": {\"automargin\": true, \"gridcolor\": \"white\", \"linecolor\": \"white\", \"ticks\": \"\", \"title\": {\"standoff\": 15}, \"zerolinecolor\": \"white\", \"zerolinewidth\": 2}}}, \"xaxis\": {\"anchor\": \"y\", \"domain\": [0.0, 1.0], \"title\": {\"text\": \"X\"}}, \"yaxis\": {\"anchor\": \"x\", \"domain\": [0.0, 1.0], \"title\": {\"text\": \"Y Prediction\"}}},\n",
       "                        {\"responsive\": true}\n",
       "                    ).then(function(){\n",
       "                            \n",
       "var gd = document.getElementById('a32c88a7-47b5-4f60-ae59-046f90c81e38');\n",
       "var x = new MutationObserver(function (mutations, observer) {{\n",
       "        var display = window.getComputedStyle(gd).display;\n",
       "        if (!display || display === 'none') {{\n",
       "            console.log([gd, 'removed!']);\n",
       "            Plotly.purge(gd);\n",
       "            observer.disconnect();\n",
       "        }}\n",
       "}});\n",
       "\n",
       "// Listen for the removal of the full notebook cells\n",
       "var notebookContainer = gd.closest('#notebook-container');\n",
       "if (notebookContainer) {{\n",
       "    x.observe(notebookContainer, {childList: true});\n",
       "}}\n",
       "\n",
       "// Listen for the clearing of the current output cell\n",
       "var outputEl = gd.closest('.output');\n",
       "if (outputEl) {{\n",
       "    x.observe(outputEl, {childList: true});\n",
       "}}\n",
       "\n",
       "                        })\n",
       "                };\n",
       "                });\n",
       "            </script>\n",
       "        </div>"
      ]
     },
     "metadata": {},
     "output_type": "display_data"
    }
   ],
   "source": [
    "npdf = df.to_numpy(copy=True)\n",
    "x = npdf[:,7].reshape(-1, 1)\n",
    "y = npdf[:,17].reshape(-1, 1)\n",
    "#print(x)\n",
    "#print('______________')\n",
    "#print(y)\n",
    "lr = LinearRegression()\n",
    "lr.fit(x,y)\n",
    "y_pred = lr.predict(x)\n",
    "\n",
    "#plt.scatter(x, y)\n",
    "#plt.plot(x, y_pred, color='red')\n",
    "#plt.show()\n",
    "\n",
    "y_pred_list = []\n",
    "x_list = []\n",
    "for i in range(x.shape[0]):\n",
    "    y_pred_list.append(y_pred[i,0])\n",
    "    x_list.append(x[i,0])\n",
    "    \n",
    "d = {'X': x_list, 'Y Prediction': y_pred_list}\n",
    "df2= pd.DataFrame(data=d)\n",
    "df2\n",
    "\n",
    "fig = px.scatter(df2, x='X', y='Y Prediction',trendline='ols')\n",
    "fig.show()\n",
    "\n"
   ]
  },
  {
   "cell_type": "code",
   "execution_count": 166,
   "metadata": {
    "scrolled": true
   },
   "outputs": [
    {
     "data": {
      "application/vnd.plotly.v1+json": {
       "config": {
        "plotlyServerURL": "https://plot.ly"
       },
       "data": [
        {
         "hoverlabel": {
          "namelength": 0
         },
         "hovertemplate": "EnvironmentalAttitude=%{x}<br>EVChoice=%{y}<br>Sex=%{marker.color}",
         "legendgroup": "",
         "marker": {
          "color": [
           2,
           2,
           2,
           1,
           1,
           2,
           1,
           2,
           2,
           1,
           2,
           2,
           2,
           2,
           2,
           2,
           2,
           2,
           1,
           1,
           1,
           1,
           2,
           2,
           1,
           2,
           1,
           1,
           1,
           1,
           2,
           2,
           2,
           1,
           2,
           2,
           1,
           1,
           2,
           2,
           2,
           1,
           1,
           1,
           1,
           1,
           1,
           2,
           1,
           1,
           2,
           2,
           2,
           2,
           1,
           2,
           2,
           2,
           1,
           1,
           1,
           2,
           2,
           1,
           2,
           1,
           1,
           1,
           1,
           2,
           1,
           2,
           1,
           2,
           1,
           1,
           1,
           1,
           1,
           2,
           1,
           1,
           1,
           1,
           1,
           2,
           1,
           1,
           2,
           2,
           1,
           1,
           1,
           2,
           2,
           2,
           2,
           2,
           2,
           1,
           1,
           1,
           2,
           1,
           1,
           2,
           1,
           2,
           1,
           1,
           1,
           1,
           1,
           1,
           1,
           1,
           1,
           1,
           1,
           1,
           2,
           2,
           2,
           1,
           1,
           2,
           2,
           1,
           1,
           1,
           1,
           1,
           1,
           2,
           1,
           1,
           2,
           2,
           2,
           1,
           2,
           1,
           1,
           2,
           2,
           2,
           2,
           1,
           2,
           2,
           1,
           1,
           2,
           2,
           2,
           2,
           1,
           2,
           1,
           2,
           1,
           2,
           2,
           2,
           1,
           2,
           3,
           2,
           2,
           1,
           1,
           1,
           2,
           2,
           2,
           2,
           2,
           1,
           2,
           1,
           2,
           2,
           1,
           2,
           2,
           1,
           2,
           1,
           1,
           1,
           2,
           2,
           3,
           2,
           1,
           1,
           3,
           2,
           1,
           1,
           2,
           2,
           2,
           2,
           1,
           1,
           2,
           2,
           2,
           1,
           1,
           1,
           1,
           2,
           1,
           2,
           2,
           2,
           1,
           2,
           3,
           1,
           2,
           1,
           2,
           2,
           1,
           2,
           2,
           1
          ],
          "coloraxis": "coloraxis",
          "symbol": "circle"
         },
         "mode": "markers",
         "name": "",
         "showlegend": false,
         "type": "scatter",
         "x": [
          5.5,
          7,
          6.75,
          6.75,
          7,
          6.25,
          7,
          6,
          4,
          6.75,
          5.5,
          5,
          3.75,
          6.5,
          5.5,
          7,
          5.5,
          7,
          7,
          5,
          7,
          6.25,
          3,
          6.25,
          6.75,
          7,
          5.75,
          6,
          5.25,
          6.25,
          7,
          5.25,
          5.25,
          6.75,
          7,
          7,
          6,
          6.25,
          4.5,
          6.25,
          4.75,
          4.25,
          6,
          7,
          7,
          7,
          5,
          5.75,
          6.5,
          7,
          4.5,
          5.5,
          4.25,
          6.25,
          6.25,
          6,
          2.25,
          6.25,
          7,
          6.75,
          5.25,
          4.25,
          6.5,
          6.5,
          5,
          6.75,
          7,
          6.25,
          5.25,
          7,
          7,
          7,
          6.25,
          4.25,
          7,
          6.75,
          6.5,
          5.25,
          6,
          6.5,
          3.75,
          6.25,
          6,
          7,
          6.25,
          3,
          5.75,
          6.75,
          7,
          7,
          5.25,
          6.25,
          5.5,
          5.5,
          5.5,
          6.25,
          7,
          4.75,
          6.5,
          1.25,
          6.5,
          5.5,
          6.75,
          7,
          7,
          7,
          4,
          6.5,
          7,
          6.25,
          7,
          5.5,
          7,
          4.25,
          7,
          5.5,
          5.25,
          6.75,
          6,
          4,
          5.25,
          6.5,
          4.25,
          5.5,
          7,
          4.75,
          5,
          6.25,
          5.5,
          6.75,
          6,
          6,
          7,
          2.5,
          7,
          3.25,
          5.75,
          7,
          5,
          5,
          5.75,
          7,
          3.75,
          6.75,
          4.25,
          7,
          3,
          7,
          3.75,
          3.75,
          7,
          4.25,
          6,
          6.75,
          7,
          6.5,
          6.25,
          5,
          6,
          6.5,
          5.75,
          7,
          5.5,
          7,
          5.75,
          5,
          3.25,
          5,
          5,
          5.25,
          5,
          5.25,
          4,
          5.5,
          5.25,
          1,
          7,
          6.5,
          6.75,
          6.25,
          6,
          6.25,
          4.25,
          3.5,
          1.75,
          6.5,
          4.25,
          5.75,
          6.25,
          5,
          4,
          3.75,
          7,
          6.75,
          7,
          6,
          7,
          5.5,
          6.5,
          5,
          5.5,
          6,
          7,
          5.5,
          7,
          6.75,
          7,
          6.5,
          5.75,
          3.5,
          6.75,
          7,
          7,
          3.5,
          7,
          4,
          6.25,
          5.5,
          4.75,
          4.75,
          6,
          6.25,
          2.5,
          7,
          6.5,
          6,
          6.5,
          6.75,
          7,
          2.5
         ],
         "xaxis": "x",
         "y": [
          0,
          16,
          19,
          19,
          19,
          19,
          19,
          10,
          10,
          10,
          13,
          3,
          4,
          19,
          8,
          19,
          19,
          13,
          11,
          15,
          13,
          5,
          19,
          19,
          6,
          19,
          19,
          6,
          17,
          10,
          19,
          19,
          19,
          14,
          19,
          18,
          8,
          16,
          18,
          19,
          7,
          6,
          8,
          19,
          16,
          18,
          9,
          19,
          13,
          19,
          10,
          15,
          2,
          8,
          19,
          9,
          0,
          15,
          17,
          19,
          19,
          13,
          7,
          19,
          17,
          5,
          19,
          18,
          19,
          16,
          19,
          18,
          19,
          16,
          3,
          11,
          14,
          19,
          7,
          19,
          19,
          10,
          19,
          2,
          16,
          8,
          7,
          9,
          0,
          4,
          19,
          1,
          13,
          13,
          0,
          9,
          19,
          17,
          18,
          18,
          17,
          0,
          15,
          19,
          19,
          19,
          12,
          14,
          19,
          19,
          17,
          19,
          16,
          11,
          18,
          13,
          18,
          19,
          16,
          17,
          13,
          6,
          12,
          13,
          15,
          18,
          16,
          19,
          17,
          17,
          16,
          19,
          14,
          6,
          19,
          19,
          19,
          19,
          7,
          11,
          19,
          19,
          19,
          19,
          6,
          19,
          18,
          10,
          19,
          19,
          19,
          19,
          12,
          19,
          17,
          19,
          19,
          14,
          18,
          19,
          18,
          19,
          13,
          3,
          14,
          19,
          10,
          16,
          14,
          19,
          17,
          18,
          11,
          10,
          15,
          15,
          19,
          15,
          15,
          18,
          15,
          3,
          10,
          19,
          0,
          19,
          12,
          15,
          19,
          18,
          8,
          19,
          19,
          19,
          16,
          14,
          19,
          14,
          13,
          19,
          19,
          13,
          7,
          16,
          16,
          16,
          15,
          19,
          11,
          7,
          19,
          18,
          19,
          12,
          12,
          14,
          15,
          18,
          17,
          14,
          6,
          15,
          18,
          19,
          19,
          19,
          19,
          19,
          19,
          18
         ],
         "yaxis": "y"
        },
        {
         "alignmentgroup": "True",
         "hoverlabel": {
          "namelength": 0
         },
         "hovertemplate": "EnvironmentalAttitude=%{x}",
         "legendgroup": "",
         "marker": {
          "color": "#0d0887",
          "symbol": "circle"
         },
         "name": "",
         "notched": true,
         "offsetgroup": "",
         "showlegend": false,
         "type": "box",
         "x": [
          5.5,
          7,
          6.75,
          6.75,
          7,
          6.25,
          7,
          6,
          4,
          6.75,
          5.5,
          5,
          3.75,
          6.5,
          5.5,
          7,
          5.5,
          7,
          7,
          5,
          7,
          6.25,
          3,
          6.25,
          6.75,
          7,
          5.75,
          6,
          5.25,
          6.25,
          7,
          5.25,
          5.25,
          6.75,
          7,
          7,
          6,
          6.25,
          4.5,
          6.25,
          4.75,
          4.25,
          6,
          7,
          7,
          7,
          5,
          5.75,
          6.5,
          7,
          4.5,
          5.5,
          4.25,
          6.25,
          6.25,
          6,
          2.25,
          6.25,
          7,
          6.75,
          5.25,
          4.25,
          6.5,
          6.5,
          5,
          6.75,
          7,
          6.25,
          5.25,
          7,
          7,
          7,
          6.25,
          4.25,
          7,
          6.75,
          6.5,
          5.25,
          6,
          6.5,
          3.75,
          6.25,
          6,
          7,
          6.25,
          3,
          5.75,
          6.75,
          7,
          7,
          5.25,
          6.25,
          5.5,
          5.5,
          5.5,
          6.25,
          7,
          4.75,
          6.5,
          1.25,
          6.5,
          5.5,
          6.75,
          7,
          7,
          7,
          4,
          6.5,
          7,
          6.25,
          7,
          5.5,
          7,
          4.25,
          7,
          5.5,
          5.25,
          6.75,
          6,
          4,
          5.25,
          6.5,
          4.25,
          5.5,
          7,
          4.75,
          5,
          6.25,
          5.5,
          6.75,
          6,
          6,
          7,
          2.5,
          7,
          3.25,
          5.75,
          7,
          5,
          5,
          5.75,
          7,
          3.75,
          6.75,
          4.25,
          7,
          3,
          7,
          3.75,
          3.75,
          7,
          4.25,
          6,
          6.75,
          7,
          6.5,
          6.25,
          5,
          6,
          6.5,
          5.75,
          7,
          5.5,
          7,
          5.75,
          5,
          3.25,
          5,
          5,
          5.25,
          5,
          5.25,
          4,
          5.5,
          5.25,
          1,
          7,
          6.5,
          6.75,
          6.25,
          6,
          6.25,
          4.25,
          3.5,
          1.75,
          6.5,
          4.25,
          5.75,
          6.25,
          5,
          4,
          3.75,
          7,
          6.75,
          7,
          6,
          7,
          5.5,
          6.5,
          5,
          5.5,
          6,
          7,
          5.5,
          7,
          6.75,
          7,
          6.5,
          5.75,
          3.5,
          6.75,
          7,
          7,
          3.5,
          7,
          4,
          6.25,
          5.5,
          4.75,
          4.75,
          6,
          6.25,
          2.5,
          7,
          6.5,
          6,
          6.5,
          6.75,
          7,
          2.5
         ],
         "xaxis": "x3",
         "yaxis": "y3"
        },
        {
         "alignmentgroup": "True",
         "hoverlabel": {
          "namelength": 0
         },
         "hovertemplate": "EVChoice=%{y}",
         "legendgroup": "",
         "marker": {
          "color": "#0d0887",
          "symbol": "circle"
         },
         "name": "",
         "offsetgroup": "",
         "scalegroup": "y",
         "showlegend": false,
         "type": "violin",
         "xaxis": "x2",
         "y": [
          0,
          16,
          19,
          19,
          19,
          19,
          19,
          10,
          10,
          10,
          13,
          3,
          4,
          19,
          8,
          19,
          19,
          13,
          11,
          15,
          13,
          5,
          19,
          19,
          6,
          19,
          19,
          6,
          17,
          10,
          19,
          19,
          19,
          14,
          19,
          18,
          8,
          16,
          18,
          19,
          7,
          6,
          8,
          19,
          16,
          18,
          9,
          19,
          13,
          19,
          10,
          15,
          2,
          8,
          19,
          9,
          0,
          15,
          17,
          19,
          19,
          13,
          7,
          19,
          17,
          5,
          19,
          18,
          19,
          16,
          19,
          18,
          19,
          16,
          3,
          11,
          14,
          19,
          7,
          19,
          19,
          10,
          19,
          2,
          16,
          8,
          7,
          9,
          0,
          4,
          19,
          1,
          13,
          13,
          0,
          9,
          19,
          17,
          18,
          18,
          17,
          0,
          15,
          19,
          19,
          19,
          12,
          14,
          19,
          19,
          17,
          19,
          16,
          11,
          18,
          13,
          18,
          19,
          16,
          17,
          13,
          6,
          12,
          13,
          15,
          18,
          16,
          19,
          17,
          17,
          16,
          19,
          14,
          6,
          19,
          19,
          19,
          19,
          7,
          11,
          19,
          19,
          19,
          19,
          6,
          19,
          18,
          10,
          19,
          19,
          19,
          19,
          12,
          19,
          17,
          19,
          19,
          14,
          18,
          19,
          18,
          19,
          13,
          3,
          14,
          19,
          10,
          16,
          14,
          19,
          17,
          18,
          11,
          10,
          15,
          15,
          19,
          15,
          15,
          18,
          15,
          3,
          10,
          19,
          0,
          19,
          12,
          15,
          19,
          18,
          8,
          19,
          19,
          19,
          16,
          14,
          19,
          14,
          13,
          19,
          19,
          13,
          7,
          16,
          16,
          16,
          15,
          19,
          11,
          7,
          19,
          18,
          19,
          12,
          12,
          14,
          15,
          18,
          17,
          14,
          6,
          15,
          18,
          19,
          19,
          19,
          19,
          19,
          19,
          18
         ],
         "yaxis": "y2"
        }
       ],
       "layout": {
        "coloraxis": {
         "colorbar": {
          "title": {
           "text": "Sex"
          }
         },
         "colorscale": [
          [
           0,
           "#0d0887"
          ],
          [
           0.1111111111111111,
           "#46039f"
          ],
          [
           0.2222222222222222,
           "#7201a8"
          ],
          [
           0.3333333333333333,
           "#9c179e"
          ],
          [
           0.4444444444444444,
           "#bd3786"
          ],
          [
           0.5555555555555556,
           "#d8576b"
          ],
          [
           0.6666666666666666,
           "#ed7953"
          ],
          [
           0.7777777777777778,
           "#fb9f3a"
          ],
          [
           0.8888888888888888,
           "#fdca26"
          ],
          [
           1,
           "#f0f921"
          ]
         ]
        },
        "legend": {
         "tracegroupgap": 0
        },
        "margin": {
         "t": 60
        },
        "template": {
         "data": {
          "bar": [
           {
            "error_x": {
             "color": "#2a3f5f"
            },
            "error_y": {
             "color": "#2a3f5f"
            },
            "marker": {
             "line": {
              "color": "#E5ECF6",
              "width": 0.5
             }
            },
            "type": "bar"
           }
          ],
          "barpolar": [
           {
            "marker": {
             "line": {
              "color": "#E5ECF6",
              "width": 0.5
             }
            },
            "type": "barpolar"
           }
          ],
          "carpet": [
           {
            "aaxis": {
             "endlinecolor": "#2a3f5f",
             "gridcolor": "white",
             "linecolor": "white",
             "minorgridcolor": "white",
             "startlinecolor": "#2a3f5f"
            },
            "baxis": {
             "endlinecolor": "#2a3f5f",
             "gridcolor": "white",
             "linecolor": "white",
             "minorgridcolor": "white",
             "startlinecolor": "#2a3f5f"
            },
            "type": "carpet"
           }
          ],
          "choropleth": [
           {
            "colorbar": {
             "outlinewidth": 0,
             "ticks": ""
            },
            "type": "choropleth"
           }
          ],
          "contour": [
           {
            "colorbar": {
             "outlinewidth": 0,
             "ticks": ""
            },
            "colorscale": [
             [
              0,
              "#0d0887"
             ],
             [
              0.1111111111111111,
              "#46039f"
             ],
             [
              0.2222222222222222,
              "#7201a8"
             ],
             [
              0.3333333333333333,
              "#9c179e"
             ],
             [
              0.4444444444444444,
              "#bd3786"
             ],
             [
              0.5555555555555556,
              "#d8576b"
             ],
             [
              0.6666666666666666,
              "#ed7953"
             ],
             [
              0.7777777777777778,
              "#fb9f3a"
             ],
             [
              0.8888888888888888,
              "#fdca26"
             ],
             [
              1,
              "#f0f921"
             ]
            ],
            "type": "contour"
           }
          ],
          "contourcarpet": [
           {
            "colorbar": {
             "outlinewidth": 0,
             "ticks": ""
            },
            "type": "contourcarpet"
           }
          ],
          "heatmap": [
           {
            "colorbar": {
             "outlinewidth": 0,
             "ticks": ""
            },
            "colorscale": [
             [
              0,
              "#0d0887"
             ],
             [
              0.1111111111111111,
              "#46039f"
             ],
             [
              0.2222222222222222,
              "#7201a8"
             ],
             [
              0.3333333333333333,
              "#9c179e"
             ],
             [
              0.4444444444444444,
              "#bd3786"
             ],
             [
              0.5555555555555556,
              "#d8576b"
             ],
             [
              0.6666666666666666,
              "#ed7953"
             ],
             [
              0.7777777777777778,
              "#fb9f3a"
             ],
             [
              0.8888888888888888,
              "#fdca26"
             ],
             [
              1,
              "#f0f921"
             ]
            ],
            "type": "heatmap"
           }
          ],
          "heatmapgl": [
           {
            "colorbar": {
             "outlinewidth": 0,
             "ticks": ""
            },
            "colorscale": [
             [
              0,
              "#0d0887"
             ],
             [
              0.1111111111111111,
              "#46039f"
             ],
             [
              0.2222222222222222,
              "#7201a8"
             ],
             [
              0.3333333333333333,
              "#9c179e"
             ],
             [
              0.4444444444444444,
              "#bd3786"
             ],
             [
              0.5555555555555556,
              "#d8576b"
             ],
             [
              0.6666666666666666,
              "#ed7953"
             ],
             [
              0.7777777777777778,
              "#fb9f3a"
             ],
             [
              0.8888888888888888,
              "#fdca26"
             ],
             [
              1,
              "#f0f921"
             ]
            ],
            "type": "heatmapgl"
           }
          ],
          "histogram": [
           {
            "marker": {
             "colorbar": {
              "outlinewidth": 0,
              "ticks": ""
             }
            },
            "type": "histogram"
           }
          ],
          "histogram2d": [
           {
            "colorbar": {
             "outlinewidth": 0,
             "ticks": ""
            },
            "colorscale": [
             [
              0,
              "#0d0887"
             ],
             [
              0.1111111111111111,
              "#46039f"
             ],
             [
              0.2222222222222222,
              "#7201a8"
             ],
             [
              0.3333333333333333,
              "#9c179e"
             ],
             [
              0.4444444444444444,
              "#bd3786"
             ],
             [
              0.5555555555555556,
              "#d8576b"
             ],
             [
              0.6666666666666666,
              "#ed7953"
             ],
             [
              0.7777777777777778,
              "#fb9f3a"
             ],
             [
              0.8888888888888888,
              "#fdca26"
             ],
             [
              1,
              "#f0f921"
             ]
            ],
            "type": "histogram2d"
           }
          ],
          "histogram2dcontour": [
           {
            "colorbar": {
             "outlinewidth": 0,
             "ticks": ""
            },
            "colorscale": [
             [
              0,
              "#0d0887"
             ],
             [
              0.1111111111111111,
              "#46039f"
             ],
             [
              0.2222222222222222,
              "#7201a8"
             ],
             [
              0.3333333333333333,
              "#9c179e"
             ],
             [
              0.4444444444444444,
              "#bd3786"
             ],
             [
              0.5555555555555556,
              "#d8576b"
             ],
             [
              0.6666666666666666,
              "#ed7953"
             ],
             [
              0.7777777777777778,
              "#fb9f3a"
             ],
             [
              0.8888888888888888,
              "#fdca26"
             ],
             [
              1,
              "#f0f921"
             ]
            ],
            "type": "histogram2dcontour"
           }
          ],
          "mesh3d": [
           {
            "colorbar": {
             "outlinewidth": 0,
             "ticks": ""
            },
            "type": "mesh3d"
           }
          ],
          "parcoords": [
           {
            "line": {
             "colorbar": {
              "outlinewidth": 0,
              "ticks": ""
             }
            },
            "type": "parcoords"
           }
          ],
          "pie": [
           {
            "automargin": true,
            "type": "pie"
           }
          ],
          "scatter": [
           {
            "marker": {
             "colorbar": {
              "outlinewidth": 0,
              "ticks": ""
             }
            },
            "type": "scatter"
           }
          ],
          "scatter3d": [
           {
            "line": {
             "colorbar": {
              "outlinewidth": 0,
              "ticks": ""
             }
            },
            "marker": {
             "colorbar": {
              "outlinewidth": 0,
              "ticks": ""
             }
            },
            "type": "scatter3d"
           }
          ],
          "scattercarpet": [
           {
            "marker": {
             "colorbar": {
              "outlinewidth": 0,
              "ticks": ""
             }
            },
            "type": "scattercarpet"
           }
          ],
          "scattergeo": [
           {
            "marker": {
             "colorbar": {
              "outlinewidth": 0,
              "ticks": ""
             }
            },
            "type": "scattergeo"
           }
          ],
          "scattergl": [
           {
            "marker": {
             "colorbar": {
              "outlinewidth": 0,
              "ticks": ""
             }
            },
            "type": "scattergl"
           }
          ],
          "scattermapbox": [
           {
            "marker": {
             "colorbar": {
              "outlinewidth": 0,
              "ticks": ""
             }
            },
            "type": "scattermapbox"
           }
          ],
          "scatterpolar": [
           {
            "marker": {
             "colorbar": {
              "outlinewidth": 0,
              "ticks": ""
             }
            },
            "type": "scatterpolar"
           }
          ],
          "scatterpolargl": [
           {
            "marker": {
             "colorbar": {
              "outlinewidth": 0,
              "ticks": ""
             }
            },
            "type": "scatterpolargl"
           }
          ],
          "scatterternary": [
           {
            "marker": {
             "colorbar": {
              "outlinewidth": 0,
              "ticks": ""
             }
            },
            "type": "scatterternary"
           }
          ],
          "surface": [
           {
            "colorbar": {
             "outlinewidth": 0,
             "ticks": ""
            },
            "colorscale": [
             [
              0,
              "#0d0887"
             ],
             [
              0.1111111111111111,
              "#46039f"
             ],
             [
              0.2222222222222222,
              "#7201a8"
             ],
             [
              0.3333333333333333,
              "#9c179e"
             ],
             [
              0.4444444444444444,
              "#bd3786"
             ],
             [
              0.5555555555555556,
              "#d8576b"
             ],
             [
              0.6666666666666666,
              "#ed7953"
             ],
             [
              0.7777777777777778,
              "#fb9f3a"
             ],
             [
              0.8888888888888888,
              "#fdca26"
             ],
             [
              1,
              "#f0f921"
             ]
            ],
            "type": "surface"
           }
          ],
          "table": [
           {
            "cells": {
             "fill": {
              "color": "#EBF0F8"
             },
             "line": {
              "color": "white"
             }
            },
            "header": {
             "fill": {
              "color": "#C8D4E3"
             },
             "line": {
              "color": "white"
             }
            },
            "type": "table"
           }
          ]
         },
         "layout": {
          "annotationdefaults": {
           "arrowcolor": "#2a3f5f",
           "arrowhead": 0,
           "arrowwidth": 1
          },
          "coloraxis": {
           "colorbar": {
            "outlinewidth": 0,
            "ticks": ""
           }
          },
          "colorscale": {
           "diverging": [
            [
             0,
             "#8e0152"
            ],
            [
             0.1,
             "#c51b7d"
            ],
            [
             0.2,
             "#de77ae"
            ],
            [
             0.3,
             "#f1b6da"
            ],
            [
             0.4,
             "#fde0ef"
            ],
            [
             0.5,
             "#f7f7f7"
            ],
            [
             0.6,
             "#e6f5d0"
            ],
            [
             0.7,
             "#b8e186"
            ],
            [
             0.8,
             "#7fbc41"
            ],
            [
             0.9,
             "#4d9221"
            ],
            [
             1,
             "#276419"
            ]
           ],
           "sequential": [
            [
             0,
             "#0d0887"
            ],
            [
             0.1111111111111111,
             "#46039f"
            ],
            [
             0.2222222222222222,
             "#7201a8"
            ],
            [
             0.3333333333333333,
             "#9c179e"
            ],
            [
             0.4444444444444444,
             "#bd3786"
            ],
            [
             0.5555555555555556,
             "#d8576b"
            ],
            [
             0.6666666666666666,
             "#ed7953"
            ],
            [
             0.7777777777777778,
             "#fb9f3a"
            ],
            [
             0.8888888888888888,
             "#fdca26"
            ],
            [
             1,
             "#f0f921"
            ]
           ],
           "sequentialminus": [
            [
             0,
             "#0d0887"
            ],
            [
             0.1111111111111111,
             "#46039f"
            ],
            [
             0.2222222222222222,
             "#7201a8"
            ],
            [
             0.3333333333333333,
             "#9c179e"
            ],
            [
             0.4444444444444444,
             "#bd3786"
            ],
            [
             0.5555555555555556,
             "#d8576b"
            ],
            [
             0.6666666666666666,
             "#ed7953"
            ],
            [
             0.7777777777777778,
             "#fb9f3a"
            ],
            [
             0.8888888888888888,
             "#fdca26"
            ],
            [
             1,
             "#f0f921"
            ]
           ]
          },
          "colorway": [
           "#636efa",
           "#EF553B",
           "#00cc96",
           "#ab63fa",
           "#FFA15A",
           "#19d3f3",
           "#FF6692",
           "#B6E880",
           "#FF97FF",
           "#FECB52"
          ],
          "font": {
           "color": "#2a3f5f"
          },
          "geo": {
           "bgcolor": "white",
           "lakecolor": "white",
           "landcolor": "#E5ECF6",
           "showlakes": true,
           "showland": true,
           "subunitcolor": "white"
          },
          "hoverlabel": {
           "align": "left"
          },
          "hovermode": "closest",
          "mapbox": {
           "style": "light"
          },
          "paper_bgcolor": "white",
          "plot_bgcolor": "#E5ECF6",
          "polar": {
           "angularaxis": {
            "gridcolor": "white",
            "linecolor": "white",
            "ticks": ""
           },
           "bgcolor": "#E5ECF6",
           "radialaxis": {
            "gridcolor": "white",
            "linecolor": "white",
            "ticks": ""
           }
          },
          "scene": {
           "xaxis": {
            "backgroundcolor": "#E5ECF6",
            "gridcolor": "white",
            "gridwidth": 2,
            "linecolor": "white",
            "showbackground": true,
            "ticks": "",
            "zerolinecolor": "white"
           },
           "yaxis": {
            "backgroundcolor": "#E5ECF6",
            "gridcolor": "white",
            "gridwidth": 2,
            "linecolor": "white",
            "showbackground": true,
            "ticks": "",
            "zerolinecolor": "white"
           },
           "zaxis": {
            "backgroundcolor": "#E5ECF6",
            "gridcolor": "white",
            "gridwidth": 2,
            "linecolor": "white",
            "showbackground": true,
            "ticks": "",
            "zerolinecolor": "white"
           }
          },
          "shapedefaults": {
           "line": {
            "color": "#2a3f5f"
           }
          },
          "ternary": {
           "aaxis": {
            "gridcolor": "white",
            "linecolor": "white",
            "ticks": ""
           },
           "baxis": {
            "gridcolor": "white",
            "linecolor": "white",
            "ticks": ""
           },
           "bgcolor": "#E5ECF6",
           "caxis": {
            "gridcolor": "white",
            "linecolor": "white",
            "ticks": ""
           }
          },
          "title": {
           "x": 0.05
          },
          "xaxis": {
           "automargin": true,
           "gridcolor": "white",
           "linecolor": "white",
           "ticks": "",
           "title": {
            "standoff": 15
           },
           "zerolinecolor": "white",
           "zerolinewidth": 2
          },
          "yaxis": {
           "automargin": true,
           "gridcolor": "white",
           "linecolor": "white",
           "ticks": "",
           "title": {
            "standoff": 15
           },
           "zerolinecolor": "white",
           "zerolinewidth": 2
          }
         }
        },
        "xaxis": {
         "anchor": "y",
         "domain": [
          0,
          0.7363
         ],
         "title": {
          "text": "EnvironmentalAttitude"
         }
        },
        "xaxis2": {
         "anchor": "y2",
         "domain": [
          0.7413,
          1
         ],
         "matches": "x2",
         "showgrid": false,
         "showline": false,
         "showticklabels": false,
         "ticks": ""
        },
        "xaxis3": {
         "anchor": "y3",
         "domain": [
          0,
          0.7363
         ],
         "matches": "x",
         "showgrid": true,
         "showticklabels": false
        },
        "xaxis4": {
         "anchor": "y4",
         "domain": [
          0.7413,
          1
         ],
         "matches": "x2",
         "showgrid": false,
         "showline": false,
         "showticklabels": false,
         "ticks": ""
        },
        "yaxis": {
         "anchor": "x",
         "domain": [
          0,
          0.7326
         ],
         "title": {
          "text": "EVChoice"
         }
        },
        "yaxis2": {
         "anchor": "x2",
         "domain": [
          0,
          0.7326
         ],
         "matches": "y",
         "showgrid": true,
         "showticklabels": false
        },
        "yaxis3": {
         "anchor": "x3",
         "domain": [
          0.7426,
          1
         ],
         "matches": "y3",
         "showgrid": false,
         "showline": false,
         "showticklabels": false,
         "ticks": ""
        },
        "yaxis4": {
         "anchor": "x4",
         "domain": [
          0.7426,
          1
         ],
         "matches": "y3",
         "showgrid": true,
         "showline": false,
         "showticklabels": false,
         "ticks": ""
        }
       }
      },
      "text/html": [
       "<div>\n",
       "        \n",
       "        \n",
       "            <div id=\"33383dba-858f-4de1-a8f1-910c2a059d1a\" class=\"plotly-graph-div\" style=\"height:525px; width:100%;\"></div>\n",
       "            <script type=\"text/javascript\">\n",
       "                require([\"plotly\"], function(Plotly) {\n",
       "                    window.PLOTLYENV=window.PLOTLYENV || {};\n",
       "                    \n",
       "                if (document.getElementById(\"33383dba-858f-4de1-a8f1-910c2a059d1a\")) {\n",
       "                    Plotly.newPlot(\n",
       "                        '33383dba-858f-4de1-a8f1-910c2a059d1a',\n",
       "                        [{\"hoverlabel\": {\"namelength\": 0}, \"hovertemplate\": \"EnvironmentalAttitude=%{x}<br>EVChoice=%{y}<br>Sex=%{marker.color}\", \"legendgroup\": \"\", \"marker\": {\"color\": [2, 2, 2, 1, 1, 2, 1, 2, 2, 1, 2, 2, 2, 2, 2, 2, 2, 2, 1, 1, 1, 1, 2, 2, 1, 2, 1, 1, 1, 1, 2, 2, 2, 1, 2, 2, 1, 1, 2, 2, 2, 1, 1, 1, 1, 1, 1, 2, 1, 1, 2, 2, 2, 2, 1, 2, 2, 2, 1, 1, 1, 2, 2, 1, 2, 1, 1, 1, 1, 2, 1, 2, 1, 2, 1, 1, 1, 1, 1, 2, 1, 1, 1, 1, 1, 2, 1, 1, 2, 2, 1, 1, 1, 2, 2, 2, 2, 2, 2, 1, 1, 1, 2, 1, 1, 2, 1, 2, 1, 1, 1, 1, 1, 1, 1, 1, 1, 1, 1, 1, 2, 2, 2, 1, 1, 2, 2, 1, 1, 1, 1, 1, 1, 2, 1, 1, 2, 2, 2, 1, 2, 1, 1, 2, 2, 2, 2, 1, 2, 2, 1, 1, 2, 2, 2, 2, 1, 2, 1, 2, 1, 2, 2, 2, 1, 2, 3, 2, 2, 1, 1, 1, 2, 2, 2, 2, 2, 1, 2, 1, 2, 2, 1, 2, 2, 1, 2, 1, 1, 1, 2, 2, 3, 2, 1, 1, 3, 2, 1, 1, 2, 2, 2, 2, 1, 1, 2, 2, 2, 1, 1, 1, 1, 2, 1, 2, 2, 2, 1, 2, 3, 1, 2, 1, 2, 2, 1, 2, 2, 1], \"coloraxis\": \"coloraxis\", \"symbol\": \"circle\"}, \"mode\": \"markers\", \"name\": \"\", \"showlegend\": false, \"type\": \"scatter\", \"x\": [5.5, 7.0, 6.75, 6.75, 7.0, 6.25, 7.0, 6.0, 4.0, 6.75, 5.5, 5.0, 3.75, 6.5, 5.5, 7.0, 5.5, 7.0, 7.0, 5.0, 7.0, 6.25, 3.0, 6.25, 6.75, 7.0, 5.75, 6.0, 5.25, 6.25, 7.0, 5.25, 5.25, 6.75, 7.0, 7.0, 6.0, 6.25, 4.5, 6.25, 4.75, 4.25, 6.0, 7.0, 7.0, 7.0, 5.0, 5.75, 6.5, 7.0, 4.5, 5.5, 4.25, 6.25, 6.25, 6.0, 2.25, 6.25, 7.0, 6.75, 5.25, 4.25, 6.5, 6.5, 5.0, 6.75, 7.0, 6.25, 5.25, 7.0, 7.0, 7.0, 6.25, 4.25, 7.0, 6.75, 6.5, 5.25, 6.0, 6.5, 3.75, 6.25, 6.0, 7.0, 6.25, 3.0, 5.75, 6.75, 7.0, 7.0, 5.25, 6.25, 5.5, 5.5, 5.5, 6.25, 7.0, 4.75, 6.5, 1.25, 6.5, 5.5, 6.75, 7.0, 7.0, 7.0, 4.0, 6.5, 7.0, 6.25, 7.0, 5.5, 7.0, 4.25, 7.0, 5.5, 5.25, 6.75, 6.0, 4.0, 5.25, 6.5, 4.25, 5.5, 7.0, 4.75, 5.0, 6.25, 5.5, 6.75, 6.0, 6.0, 7.0, 2.5, 7.0, 3.25, 5.75, 7.0, 5.0, 5.0, 5.75, 7.0, 3.75, 6.75, 4.25, 7.0, 3.0, 7.0, 3.75, 3.75, 7.0, 4.25, 6.0, 6.75, 7.0, 6.5, 6.25, 5.0, 6.0, 6.5, 5.75, 7.0, 5.5, 7.0, 5.75, 5.0, 3.25, 5.0, 5.0, 5.25, 5.0, 5.25, 4.0, 5.5, 5.25, 1.0, 7.0, 6.5, 6.75, 6.25, 6.0, 6.25, 4.25, 3.5, 1.75, 6.5, 4.25, 5.75, 6.25, 5.0, 4.0, 3.75, 7.0, 6.75, 7.0, 6.0, 7.0, 5.5, 6.5, 5.0, 5.5, 6.0, 7.0, 5.5, 7.0, 6.75, 7.0, 6.5, 5.75, 3.5, 6.75, 7.0, 7.0, 3.5, 7.0, 4.0, 6.25, 5.5, 4.75, 4.75, 6.0, 6.25, 2.5, 7.0, 6.5, 6.0, 6.5, 6.75, 7.0, 2.5], \"xaxis\": \"x\", \"y\": [0, 16, 19, 19, 19, 19, 19, 10, 10, 10, 13, 3, 4, 19, 8, 19, 19, 13, 11, 15, 13, 5, 19, 19, 6, 19, 19, 6, 17, 10, 19, 19, 19, 14, 19, 18, 8, 16, 18, 19, 7, 6, 8, 19, 16, 18, 9, 19, 13, 19, 10, 15, 2, 8, 19, 9, 0, 15, 17, 19, 19, 13, 7, 19, 17, 5, 19, 18, 19, 16, 19, 18, 19, 16, 3, 11, 14, 19, 7, 19, 19, 10, 19, 2, 16, 8, 7, 9, 0, 4, 19, 1, 13, 13, 0, 9, 19, 17, 18, 18, 17, 0, 15, 19, 19, 19, 12, 14, 19, 19, 17, 19, 16, 11, 18, 13, 18, 19, 16, 17, 13, 6, 12, 13, 15, 18, 16, 19, 17, 17, 16, 19, 14, 6, 19, 19, 19, 19, 7, 11, 19, 19, 19, 19, 6, 19, 18, 10, 19, 19, 19, 19, 12, 19, 17, 19, 19, 14, 18, 19, 18, 19, 13, 3, 14, 19, 10, 16, 14, 19, 17, 18, 11, 10, 15, 15, 19, 15, 15, 18, 15, 3, 10, 19, 0, 19, 12, 15, 19, 18, 8, 19, 19, 19, 16, 14, 19, 14, 13, 19, 19, 13, 7, 16, 16, 16, 15, 19, 11, 7, 19, 18, 19, 12, 12, 14, 15, 18, 17, 14, 6, 15, 18, 19, 19, 19, 19, 19, 19, 18], \"yaxis\": \"y\"}, {\"alignmentgroup\": \"True\", \"hoverlabel\": {\"namelength\": 0}, \"hovertemplate\": \"EnvironmentalAttitude=%{x}\", \"legendgroup\": \"\", \"marker\": {\"color\": \"#0d0887\", \"symbol\": \"circle\"}, \"name\": \"\", \"notched\": true, \"offsetgroup\": \"\", \"showlegend\": false, \"type\": \"box\", \"x\": [5.5, 7.0, 6.75, 6.75, 7.0, 6.25, 7.0, 6.0, 4.0, 6.75, 5.5, 5.0, 3.75, 6.5, 5.5, 7.0, 5.5, 7.0, 7.0, 5.0, 7.0, 6.25, 3.0, 6.25, 6.75, 7.0, 5.75, 6.0, 5.25, 6.25, 7.0, 5.25, 5.25, 6.75, 7.0, 7.0, 6.0, 6.25, 4.5, 6.25, 4.75, 4.25, 6.0, 7.0, 7.0, 7.0, 5.0, 5.75, 6.5, 7.0, 4.5, 5.5, 4.25, 6.25, 6.25, 6.0, 2.25, 6.25, 7.0, 6.75, 5.25, 4.25, 6.5, 6.5, 5.0, 6.75, 7.0, 6.25, 5.25, 7.0, 7.0, 7.0, 6.25, 4.25, 7.0, 6.75, 6.5, 5.25, 6.0, 6.5, 3.75, 6.25, 6.0, 7.0, 6.25, 3.0, 5.75, 6.75, 7.0, 7.0, 5.25, 6.25, 5.5, 5.5, 5.5, 6.25, 7.0, 4.75, 6.5, 1.25, 6.5, 5.5, 6.75, 7.0, 7.0, 7.0, 4.0, 6.5, 7.0, 6.25, 7.0, 5.5, 7.0, 4.25, 7.0, 5.5, 5.25, 6.75, 6.0, 4.0, 5.25, 6.5, 4.25, 5.5, 7.0, 4.75, 5.0, 6.25, 5.5, 6.75, 6.0, 6.0, 7.0, 2.5, 7.0, 3.25, 5.75, 7.0, 5.0, 5.0, 5.75, 7.0, 3.75, 6.75, 4.25, 7.0, 3.0, 7.0, 3.75, 3.75, 7.0, 4.25, 6.0, 6.75, 7.0, 6.5, 6.25, 5.0, 6.0, 6.5, 5.75, 7.0, 5.5, 7.0, 5.75, 5.0, 3.25, 5.0, 5.0, 5.25, 5.0, 5.25, 4.0, 5.5, 5.25, 1.0, 7.0, 6.5, 6.75, 6.25, 6.0, 6.25, 4.25, 3.5, 1.75, 6.5, 4.25, 5.75, 6.25, 5.0, 4.0, 3.75, 7.0, 6.75, 7.0, 6.0, 7.0, 5.5, 6.5, 5.0, 5.5, 6.0, 7.0, 5.5, 7.0, 6.75, 7.0, 6.5, 5.75, 3.5, 6.75, 7.0, 7.0, 3.5, 7.0, 4.0, 6.25, 5.5, 4.75, 4.75, 6.0, 6.25, 2.5, 7.0, 6.5, 6.0, 6.5, 6.75, 7.0, 2.5], \"xaxis\": \"x3\", \"yaxis\": \"y3\"}, {\"alignmentgroup\": \"True\", \"hoverlabel\": {\"namelength\": 0}, \"hovertemplate\": \"EVChoice=%{y}\", \"legendgroup\": \"\", \"marker\": {\"color\": \"#0d0887\", \"symbol\": \"circle\"}, \"name\": \"\", \"offsetgroup\": \"\", \"scalegroup\": \"y\", \"showlegend\": false, \"type\": \"violin\", \"xaxis\": \"x2\", \"y\": [0, 16, 19, 19, 19, 19, 19, 10, 10, 10, 13, 3, 4, 19, 8, 19, 19, 13, 11, 15, 13, 5, 19, 19, 6, 19, 19, 6, 17, 10, 19, 19, 19, 14, 19, 18, 8, 16, 18, 19, 7, 6, 8, 19, 16, 18, 9, 19, 13, 19, 10, 15, 2, 8, 19, 9, 0, 15, 17, 19, 19, 13, 7, 19, 17, 5, 19, 18, 19, 16, 19, 18, 19, 16, 3, 11, 14, 19, 7, 19, 19, 10, 19, 2, 16, 8, 7, 9, 0, 4, 19, 1, 13, 13, 0, 9, 19, 17, 18, 18, 17, 0, 15, 19, 19, 19, 12, 14, 19, 19, 17, 19, 16, 11, 18, 13, 18, 19, 16, 17, 13, 6, 12, 13, 15, 18, 16, 19, 17, 17, 16, 19, 14, 6, 19, 19, 19, 19, 7, 11, 19, 19, 19, 19, 6, 19, 18, 10, 19, 19, 19, 19, 12, 19, 17, 19, 19, 14, 18, 19, 18, 19, 13, 3, 14, 19, 10, 16, 14, 19, 17, 18, 11, 10, 15, 15, 19, 15, 15, 18, 15, 3, 10, 19, 0, 19, 12, 15, 19, 18, 8, 19, 19, 19, 16, 14, 19, 14, 13, 19, 19, 13, 7, 16, 16, 16, 15, 19, 11, 7, 19, 18, 19, 12, 12, 14, 15, 18, 17, 14, 6, 15, 18, 19, 19, 19, 19, 19, 19, 18], \"yaxis\": \"y2\"}],\n",
       "                        {\"coloraxis\": {\"colorbar\": {\"title\": {\"text\": \"Sex\"}}, \"colorscale\": [[0.0, \"#0d0887\"], [0.1111111111111111, \"#46039f\"], [0.2222222222222222, \"#7201a8\"], [0.3333333333333333, \"#9c179e\"], [0.4444444444444444, \"#bd3786\"], [0.5555555555555556, \"#d8576b\"], [0.6666666666666666, \"#ed7953\"], [0.7777777777777778, \"#fb9f3a\"], [0.8888888888888888, \"#fdca26\"], [1.0, \"#f0f921\"]]}, \"legend\": {\"tracegroupgap\": 0}, \"margin\": {\"t\": 60}, \"template\": {\"data\": {\"bar\": [{\"error_x\": {\"color\": \"#2a3f5f\"}, \"error_y\": {\"color\": \"#2a3f5f\"}, \"marker\": {\"line\": {\"color\": \"#E5ECF6\", \"width\": 0.5}}, \"type\": \"bar\"}], \"barpolar\": [{\"marker\": {\"line\": {\"color\": \"#E5ECF6\", \"width\": 0.5}}, \"type\": \"barpolar\"}], \"carpet\": [{\"aaxis\": {\"endlinecolor\": \"#2a3f5f\", \"gridcolor\": \"white\", \"linecolor\": \"white\", \"minorgridcolor\": \"white\", \"startlinecolor\": \"#2a3f5f\"}, \"baxis\": {\"endlinecolor\": \"#2a3f5f\", \"gridcolor\": \"white\", \"linecolor\": \"white\", \"minorgridcolor\": \"white\", \"startlinecolor\": \"#2a3f5f\"}, \"type\": \"carpet\"}], \"choropleth\": [{\"colorbar\": {\"outlinewidth\": 0, \"ticks\": \"\"}, \"type\": \"choropleth\"}], \"contour\": [{\"colorbar\": {\"outlinewidth\": 0, \"ticks\": \"\"}, \"colorscale\": [[0.0, \"#0d0887\"], [0.1111111111111111, \"#46039f\"], [0.2222222222222222, \"#7201a8\"], [0.3333333333333333, \"#9c179e\"], [0.4444444444444444, \"#bd3786\"], [0.5555555555555556, \"#d8576b\"], [0.6666666666666666, \"#ed7953\"], [0.7777777777777778, \"#fb9f3a\"], [0.8888888888888888, \"#fdca26\"], [1.0, \"#f0f921\"]], \"type\": \"contour\"}], \"contourcarpet\": [{\"colorbar\": {\"outlinewidth\": 0, \"ticks\": \"\"}, \"type\": \"contourcarpet\"}], \"heatmap\": [{\"colorbar\": {\"outlinewidth\": 0, \"ticks\": \"\"}, \"colorscale\": [[0.0, \"#0d0887\"], [0.1111111111111111, \"#46039f\"], [0.2222222222222222, \"#7201a8\"], [0.3333333333333333, \"#9c179e\"], [0.4444444444444444, \"#bd3786\"], [0.5555555555555556, \"#d8576b\"], [0.6666666666666666, \"#ed7953\"], [0.7777777777777778, \"#fb9f3a\"], [0.8888888888888888, \"#fdca26\"], [1.0, \"#f0f921\"]], \"type\": \"heatmap\"}], \"heatmapgl\": [{\"colorbar\": {\"outlinewidth\": 0, \"ticks\": \"\"}, \"colorscale\": [[0.0, \"#0d0887\"], [0.1111111111111111, \"#46039f\"], [0.2222222222222222, \"#7201a8\"], [0.3333333333333333, \"#9c179e\"], [0.4444444444444444, \"#bd3786\"], [0.5555555555555556, \"#d8576b\"], [0.6666666666666666, \"#ed7953\"], [0.7777777777777778, \"#fb9f3a\"], [0.8888888888888888, \"#fdca26\"], [1.0, \"#f0f921\"]], \"type\": \"heatmapgl\"}], \"histogram\": [{\"marker\": {\"colorbar\": {\"outlinewidth\": 0, \"ticks\": \"\"}}, \"type\": \"histogram\"}], \"histogram2d\": [{\"colorbar\": {\"outlinewidth\": 0, \"ticks\": \"\"}, \"colorscale\": [[0.0, \"#0d0887\"], [0.1111111111111111, \"#46039f\"], [0.2222222222222222, \"#7201a8\"], [0.3333333333333333, \"#9c179e\"], [0.4444444444444444, \"#bd3786\"], [0.5555555555555556, \"#d8576b\"], [0.6666666666666666, \"#ed7953\"], [0.7777777777777778, \"#fb9f3a\"], [0.8888888888888888, \"#fdca26\"], [1.0, \"#f0f921\"]], \"type\": \"histogram2d\"}], \"histogram2dcontour\": [{\"colorbar\": {\"outlinewidth\": 0, \"ticks\": \"\"}, \"colorscale\": [[0.0, \"#0d0887\"], [0.1111111111111111, \"#46039f\"], [0.2222222222222222, \"#7201a8\"], [0.3333333333333333, \"#9c179e\"], [0.4444444444444444, \"#bd3786\"], [0.5555555555555556, \"#d8576b\"], [0.6666666666666666, \"#ed7953\"], [0.7777777777777778, \"#fb9f3a\"], [0.8888888888888888, \"#fdca26\"], [1.0, \"#f0f921\"]], \"type\": \"histogram2dcontour\"}], \"mesh3d\": [{\"colorbar\": {\"outlinewidth\": 0, \"ticks\": \"\"}, \"type\": \"mesh3d\"}], \"parcoords\": [{\"line\": {\"colorbar\": {\"outlinewidth\": 0, \"ticks\": \"\"}}, \"type\": \"parcoords\"}], \"pie\": [{\"automargin\": true, \"type\": \"pie\"}], \"scatter\": [{\"marker\": {\"colorbar\": {\"outlinewidth\": 0, \"ticks\": \"\"}}, \"type\": \"scatter\"}], \"scatter3d\": [{\"line\": {\"colorbar\": {\"outlinewidth\": 0, \"ticks\": \"\"}}, \"marker\": {\"colorbar\": {\"outlinewidth\": 0, \"ticks\": \"\"}}, \"type\": \"scatter3d\"}], \"scattercarpet\": [{\"marker\": {\"colorbar\": {\"outlinewidth\": 0, \"ticks\": \"\"}}, \"type\": \"scattercarpet\"}], \"scattergeo\": [{\"marker\": {\"colorbar\": {\"outlinewidth\": 0, \"ticks\": \"\"}}, \"type\": \"scattergeo\"}], \"scattergl\": [{\"marker\": {\"colorbar\": {\"outlinewidth\": 0, \"ticks\": \"\"}}, \"type\": \"scattergl\"}], \"scattermapbox\": [{\"marker\": {\"colorbar\": {\"outlinewidth\": 0, \"ticks\": \"\"}}, \"type\": \"scattermapbox\"}], \"scatterpolar\": [{\"marker\": {\"colorbar\": {\"outlinewidth\": 0, \"ticks\": \"\"}}, \"type\": \"scatterpolar\"}], \"scatterpolargl\": [{\"marker\": {\"colorbar\": {\"outlinewidth\": 0, \"ticks\": \"\"}}, \"type\": \"scatterpolargl\"}], \"scatterternary\": [{\"marker\": {\"colorbar\": {\"outlinewidth\": 0, \"ticks\": \"\"}}, \"type\": \"scatterternary\"}], \"surface\": [{\"colorbar\": {\"outlinewidth\": 0, \"ticks\": \"\"}, \"colorscale\": [[0.0, \"#0d0887\"], [0.1111111111111111, \"#46039f\"], [0.2222222222222222, \"#7201a8\"], [0.3333333333333333, \"#9c179e\"], [0.4444444444444444, \"#bd3786\"], [0.5555555555555556, \"#d8576b\"], [0.6666666666666666, \"#ed7953\"], [0.7777777777777778, \"#fb9f3a\"], [0.8888888888888888, \"#fdca26\"], [1.0, \"#f0f921\"]], \"type\": \"surface\"}], \"table\": [{\"cells\": {\"fill\": {\"color\": \"#EBF0F8\"}, \"line\": {\"color\": \"white\"}}, \"header\": {\"fill\": {\"color\": \"#C8D4E3\"}, \"line\": {\"color\": \"white\"}}, \"type\": \"table\"}]}, \"layout\": {\"annotationdefaults\": {\"arrowcolor\": \"#2a3f5f\", \"arrowhead\": 0, \"arrowwidth\": 1}, \"coloraxis\": {\"colorbar\": {\"outlinewidth\": 0, \"ticks\": \"\"}}, \"colorscale\": {\"diverging\": [[0, \"#8e0152\"], [0.1, \"#c51b7d\"], [0.2, \"#de77ae\"], [0.3, \"#f1b6da\"], [0.4, \"#fde0ef\"], [0.5, \"#f7f7f7\"], [0.6, \"#e6f5d0\"], [0.7, \"#b8e186\"], [0.8, \"#7fbc41\"], [0.9, \"#4d9221\"], [1, \"#276419\"]], \"sequential\": [[0.0, \"#0d0887\"], [0.1111111111111111, \"#46039f\"], [0.2222222222222222, \"#7201a8\"], [0.3333333333333333, \"#9c179e\"], [0.4444444444444444, \"#bd3786\"], [0.5555555555555556, \"#d8576b\"], [0.6666666666666666, \"#ed7953\"], [0.7777777777777778, \"#fb9f3a\"], [0.8888888888888888, \"#fdca26\"], [1.0, \"#f0f921\"]], \"sequentialminus\": [[0.0, \"#0d0887\"], [0.1111111111111111, \"#46039f\"], [0.2222222222222222, \"#7201a8\"], [0.3333333333333333, \"#9c179e\"], [0.4444444444444444, \"#bd3786\"], [0.5555555555555556, \"#d8576b\"], [0.6666666666666666, \"#ed7953\"], [0.7777777777777778, \"#fb9f3a\"], [0.8888888888888888, \"#fdca26\"], [1.0, \"#f0f921\"]]}, \"colorway\": [\"#636efa\", \"#EF553B\", \"#00cc96\", \"#ab63fa\", \"#FFA15A\", \"#19d3f3\", \"#FF6692\", \"#B6E880\", \"#FF97FF\", \"#FECB52\"], \"font\": {\"color\": \"#2a3f5f\"}, \"geo\": {\"bgcolor\": \"white\", \"lakecolor\": \"white\", \"landcolor\": \"#E5ECF6\", \"showlakes\": true, \"showland\": true, \"subunitcolor\": \"white\"}, \"hoverlabel\": {\"align\": \"left\"}, \"hovermode\": \"closest\", \"mapbox\": {\"style\": \"light\"}, \"paper_bgcolor\": \"white\", \"plot_bgcolor\": \"#E5ECF6\", \"polar\": {\"angularaxis\": {\"gridcolor\": \"white\", \"linecolor\": \"white\", \"ticks\": \"\"}, \"bgcolor\": \"#E5ECF6\", \"radialaxis\": {\"gridcolor\": \"white\", \"linecolor\": \"white\", \"ticks\": \"\"}}, \"scene\": {\"xaxis\": {\"backgroundcolor\": \"#E5ECF6\", \"gridcolor\": \"white\", \"gridwidth\": 2, \"linecolor\": \"white\", \"showbackground\": true, \"ticks\": \"\", \"zerolinecolor\": \"white\"}, \"yaxis\": {\"backgroundcolor\": \"#E5ECF6\", \"gridcolor\": \"white\", \"gridwidth\": 2, \"linecolor\": \"white\", \"showbackground\": true, \"ticks\": \"\", \"zerolinecolor\": \"white\"}, \"zaxis\": {\"backgroundcolor\": \"#E5ECF6\", \"gridcolor\": \"white\", \"gridwidth\": 2, \"linecolor\": \"white\", \"showbackground\": true, \"ticks\": \"\", \"zerolinecolor\": \"white\"}}, \"shapedefaults\": {\"line\": {\"color\": \"#2a3f5f\"}}, \"ternary\": {\"aaxis\": {\"gridcolor\": \"white\", \"linecolor\": \"white\", \"ticks\": \"\"}, \"baxis\": {\"gridcolor\": \"white\", \"linecolor\": \"white\", \"ticks\": \"\"}, \"bgcolor\": \"#E5ECF6\", \"caxis\": {\"gridcolor\": \"white\", \"linecolor\": \"white\", \"ticks\": \"\"}}, \"title\": {\"x\": 0.05}, \"xaxis\": {\"automargin\": true, \"gridcolor\": \"white\", \"linecolor\": \"white\", \"ticks\": \"\", \"title\": {\"standoff\": 15}, \"zerolinecolor\": \"white\", \"zerolinewidth\": 2}, \"yaxis\": {\"automargin\": true, \"gridcolor\": \"white\", \"linecolor\": \"white\", \"ticks\": \"\", \"title\": {\"standoff\": 15}, \"zerolinecolor\": \"white\", \"zerolinewidth\": 2}}}, \"xaxis\": {\"anchor\": \"y\", \"domain\": [0.0, 0.7363], \"title\": {\"text\": \"EnvironmentalAttitude\"}}, \"xaxis2\": {\"anchor\": \"y2\", \"domain\": [0.7413, 1.0], \"matches\": \"x2\", \"showgrid\": false, \"showline\": false, \"showticklabels\": false, \"ticks\": \"\"}, \"xaxis3\": {\"anchor\": \"y3\", \"domain\": [0.0, 0.7363], \"matches\": \"x\", \"showgrid\": true, \"showticklabels\": false}, \"xaxis4\": {\"anchor\": \"y4\", \"domain\": [0.7413, 1.0], \"matches\": \"x2\", \"showgrid\": false, \"showline\": false, \"showticklabels\": false, \"ticks\": \"\"}, \"yaxis\": {\"anchor\": \"x\", \"domain\": [0.0, 0.7326], \"title\": {\"text\": \"EVChoice\"}}, \"yaxis2\": {\"anchor\": \"x2\", \"domain\": [0.0, 0.7326], \"matches\": \"y\", \"showgrid\": true, \"showticklabels\": false}, \"yaxis3\": {\"anchor\": \"x3\", \"domain\": [0.7426, 1.0], \"matches\": \"y3\", \"showgrid\": false, \"showline\": false, \"showticklabels\": false, \"ticks\": \"\"}, \"yaxis4\": {\"anchor\": \"x4\", \"domain\": [0.7426, 1.0], \"matches\": \"y3\", \"showgrid\": true, \"showline\": false, \"showticklabels\": false, \"ticks\": \"\"}},\n",
       "                        {\"responsive\": true}\n",
       "                    ).then(function(){\n",
       "                            \n",
       "var gd = document.getElementById('33383dba-858f-4de1-a8f1-910c2a059d1a');\n",
       "var x = new MutationObserver(function (mutations, observer) {{\n",
       "        var display = window.getComputedStyle(gd).display;\n",
       "        if (!display || display === 'none') {{\n",
       "            console.log([gd, 'removed!']);\n",
       "            Plotly.purge(gd);\n",
       "            observer.disconnect();\n",
       "        }}\n",
       "}});\n",
       "\n",
       "// Listen for the removal of the full notebook cells\n",
       "var notebookContainer = gd.closest('#notebook-container');\n",
       "if (notebookContainer) {{\n",
       "    x.observe(notebookContainer, {childList: true});\n",
       "}}\n",
       "\n",
       "// Listen for the clearing of the current output cell\n",
       "var outputEl = gd.closest('.output');\n",
       "if (outputEl) {{\n",
       "    x.observe(outputEl, {childList: true});\n",
       "}}\n",
       "\n",
       "                        })\n",
       "                };\n",
       "                });\n",
       "            </script>\n",
       "        </div>"
      ]
     },
     "metadata": {},
     "output_type": "display_data"
    },
    {
     "data": {
      "application/vnd.plotly.v1+json": {
       "config": {
        "plotlyServerURL": "https://plot.ly"
       },
       "data": [
        {
         "hoverlabel": {
          "namelength": 0
         },
         "hovertemplate": "Sex=2<br>EnvironmentalAttitude=%{x}<br>EVChoice=%{y}<br>Attitude=%{marker.color}",
         "legendgroup": "",
         "marker": {
          "color": [
           3.56,
           3.78,
           4.89,
           4.89,
           3.89,
           3.33,
           3.44,
           2,
           4.67,
           4.78,
           3.44,
           5,
           4.67,
           3.44,
           5,
           5,
           4.22,
           4.33,
           5,
           4,
           4.67,
           4.89,
           4.56,
           4.33,
           2.89,
           4.67,
           3.78,
           4.11,
           2.56,
           4,
           4.22,
           1.78,
           3.78,
           3.78,
           4.78,
           2.11,
           4.33,
           4.67,
           2.11,
           5,
           4.67,
           3.22,
           4.67,
           3,
           5,
           4,
           4,
           4.11,
           4.11,
           4.44,
           4.89,
           4.67,
           4.78,
           3.78,
           3.44,
           4.67,
           4.44,
           3.33,
           3.78,
           4.67,
           3.67,
           4.22,
           5,
           2.56,
           4.44,
           2.33,
           5,
           4.56,
           4.44,
           4.78,
           5,
           5,
           3.78,
           4.56,
           3.89,
           3.89,
           3.11,
           3.67,
           3.78,
           5,
           4.44,
           1.78,
           5,
           3,
           5,
           5,
           4.11,
           2.78,
           3.33,
           1.89,
           4.22,
           2.44,
           4.56,
           3.33,
           5,
           4.56,
           3.89,
           4.33,
           4.67,
           3.67,
           4.22,
           3.44,
           3.11,
           4,
           4.33,
           2.22,
           3.44,
           4,
           4.11,
           5,
           4.56,
           5
          ],
          "coloraxis": "coloraxis",
          "symbol": "circle"
         },
         "mode": "markers",
         "name": "",
         "showlegend": false,
         "type": "scattergl",
         "x": [
          5.5,
          7,
          6.75,
          6.25,
          6,
          4,
          5.5,
          5,
          3.75,
          6.5,
          5.5,
          7,
          5.5,
          7,
          3,
          6.25,
          7,
          7,
          5.25,
          5.25,
          7,
          7,
          4.5,
          6.25,
          4.75,
          5.75,
          4.5,
          5.5,
          4.25,
          6.25,
          6,
          2.25,
          6.25,
          4.25,
          6.5,
          5,
          7,
          7,
          4.25,
          6.5,
          3,
          7,
          7,
          5.5,
          5.5,
          6.25,
          7,
          4.75,
          6.5,
          6.75,
          7,
          6.5,
          5.25,
          6.5,
          4.25,
          4.75,
          5,
          2.5,
          5.75,
          7,
          5,
          5.75,
          6.75,
          4.25,
          7,
          3,
          3.75,
          3.75,
          6,
          6.75,
          7,
          6.5,
          5,
          6.5,
          7,
          5.5,
          7,
          5,
          5,
          5,
          4,
          5.5,
          5.25,
          1,
          7,
          6.75,
          6,
          6.25,
          3.5,
          1.75,
          4.25,
          4,
          3.75,
          6.75,
          5.5,
          5.5,
          6,
          7,
          5.5,
          7,
          6.5,
          5.75,
          3.5,
          4,
          6.25,
          5.5,
          4.75,
          2.5,
          6.5,
          6,
          6.75,
          7
         ],
         "xaxis": "x",
         "y": [
          0,
          16,
          19,
          19,
          10,
          10,
          13,
          3,
          4,
          19,
          8,
          19,
          19,
          13,
          19,
          19,
          19,
          19,
          19,
          19,
          19,
          18,
          18,
          19,
          7,
          19,
          10,
          15,
          2,
          8,
          9,
          0,
          15,
          13,
          7,
          17,
          16,
          18,
          16,
          19,
          8,
          0,
          4,
          13,
          0,
          9,
          19,
          17,
          18,
          15,
          19,
          14,
          13,
          6,
          12,
          18,
          16,
          6,
          19,
          19,
          7,
          19,
          19,
          6,
          19,
          18,
          19,
          19,
          12,
          19,
          17,
          19,
          14,
          19,
          19,
          13,
          3,
          19,
          16,
          14,
          11,
          10,
          15,
          15,
          19,
          15,
          15,
          3,
          19,
          0,
          12,
          8,
          19,
          19,
          14,
          19,
          13,
          7,
          16,
          15,
          19,
          11,
          12,
          14,
          15,
          18,
          14,
          18,
          19,
          19,
          19,
          19
         ],
         "yaxis": "y"
        },
        {
         "hoverlabel": {
          "namelength": 0
         },
         "hovertemplate": "Sex=1<br>EnvironmentalAttitude=%{x}<br>EVChoice=%{y}<br>Attitude=%{marker.color}",
         "legendgroup": "",
         "marker": {
          "color": [
           4.89,
           4.89,
           5,
           4.89,
           3.67,
           3.67,
           4.22,
           3.33,
           3.67,
           3.44,
           4.22,
           3.89,
           4.33,
           3.89,
           4,
           4.56,
           3.56,
           4,
           5,
           4.78,
           3.11,
           4.67,
           3.78,
           4.78,
           5,
           4.78,
           4.56,
           3.89,
           4.44,
           4.33,
           5,
           4.11,
           4.44,
           4,
           4.11,
           4.22,
           4.56,
           4.67,
           2.89,
           4.33,
           2.89,
           5,
           1.11,
           4.89,
           3.89,
           4,
           2.33,
           2.44,
           4.33,
           3.89,
           4.11,
           3.89,
           4.11,
           4.89,
           3.22,
           3.44,
           4.89,
           4.89,
           4.89,
           4.44,
           2.78,
           3.33,
           4.89,
           3.78,
           3.56,
           4.78,
           4.78,
           3.56,
           4.11,
           3.78,
           3.78,
           4.56,
           4.33,
           4,
           4.44,
           4,
           4.78,
           3.67,
           3.56,
           3.56,
           4.11,
           5,
           4.89,
           3.56,
           3.67,
           3.78,
           4.33,
           4.33,
           4,
           4.56,
           4.44,
           3.67,
           4,
           3.67,
           4,
           4.33,
           4.33,
           4.89,
           4.89,
           2.89,
           4.33,
           3.89,
           4.89,
           4.67,
           3.78,
           4,
           4.78,
           4.78,
           3.22,
           4.33,
           4.67,
           4.56,
           4.44,
           3.33
          ],
          "coloraxis": "coloraxis",
          "symbol": "circle"
         },
         "mode": "markers",
         "name": "",
         "showlegend": false,
         "type": "scattergl",
         "x": [
          6.75,
          7,
          7,
          6.75,
          7,
          5,
          7,
          6.25,
          6.75,
          5.75,
          6,
          5.25,
          6.25,
          6.75,
          6,
          6.25,
          4.25,
          6,
          7,
          7,
          7,
          5,
          6.5,
          7,
          6.25,
          7,
          6.75,
          5.25,
          6.5,
          6.75,
          7,
          6.25,
          5.25,
          7,
          6.25,
          7,
          6.75,
          6.5,
          5.25,
          6,
          3.75,
          6.25,
          6,
          7,
          6.25,
          5.75,
          6.75,
          5.25,
          6.25,
          5.5,
          1.25,
          6.5,
          5.5,
          7,
          7,
          4,
          7,
          6.25,
          7,
          5.5,
          7,
          4.25,
          7,
          5.5,
          5.25,
          6.75,
          6,
          4,
          5.5,
          7,
          6.25,
          5.5,
          6.75,
          6,
          6,
          7,
          7,
          3.25,
          5,
          7,
          3.75,
          7,
          7,
          4.25,
          6.25,
          6,
          5.75,
          5.75,
          5.25,
          5,
          5.25,
          6.5,
          6.25,
          4.25,
          6.5,
          5.75,
          6.25,
          5,
          7,
          6,
          6.5,
          5,
          7,
          6.75,
          3.5,
          6.75,
          7,
          7,
          7,
          4.75,
          6.25,
          7,
          6.5,
          2.5
         ],
         "xaxis": "x2",
         "y": [
          19,
          19,
          19,
          10,
          11,
          15,
          13,
          5,
          6,
          19,
          6,
          17,
          10,
          14,
          8,
          16,
          6,
          8,
          19,
          16,
          18,
          9,
          13,
          19,
          19,
          17,
          19,
          19,
          19,
          5,
          19,
          18,
          19,
          19,
          19,
          3,
          11,
          14,
          19,
          7,
          19,
          10,
          19,
          2,
          16,
          7,
          9,
          19,
          1,
          13,
          18,
          17,
          0,
          19,
          19,
          12,
          19,
          19,
          17,
          19,
          16,
          11,
          18,
          13,
          18,
          19,
          16,
          17,
          13,
          15,
          19,
          17,
          17,
          16,
          19,
          14,
          19,
          19,
          11,
          19,
          19,
          10,
          19,
          19,
          19,
          18,
          18,
          14,
          19,
          17,
          18,
          15,
          18,
          10,
          19,
          15,
          19,
          18,
          16,
          14,
          13,
          19,
          16,
          16,
          7,
          19,
          18,
          19,
          12,
          17,
          15,
          19,
          19,
          18
         ],
         "yaxis": "y2"
        },
        {
         "hoverlabel": {
          "namelength": 0
         },
         "hovertemplate": "Sex=3<br>EnvironmentalAttitude=%{x}<br>EVChoice=%{y}<br>Attitude=%{marker.color}",
         "legendgroup": "",
         "marker": {
          "color": [
           3.33,
           3,
           5,
           2.56
          ],
          "coloraxis": "coloraxis",
          "symbol": "circle"
         },
         "mode": "markers",
         "name": "",
         "showlegend": false,
         "type": "scattergl",
         "x": [
          3.25,
          7,
          7,
          6
         ],
         "xaxis": "x3",
         "y": [
          10,
          19,
          19,
          6
         ],
         "yaxis": "y3"
        }
       ],
       "layout": {
        "annotations": [
         {
          "font": {},
          "showarrow": false,
          "text": "Sex=2",
          "x": 0.15999999999999998,
          "xanchor": "center",
          "xref": "paper",
          "y": 1,
          "yanchor": "bottom",
          "yref": "paper"
         },
         {
          "font": {},
          "showarrow": false,
          "text": "Sex=1",
          "x": 0.49999999999999994,
          "xanchor": "center",
          "xref": "paper",
          "y": 1,
          "yanchor": "bottom",
          "yref": "paper"
         },
         {
          "font": {},
          "showarrow": false,
          "text": "Sex=3",
          "x": 0.8399999999999999,
          "xanchor": "center",
          "xref": "paper",
          "y": 1,
          "yanchor": "bottom",
          "yref": "paper"
         }
        ],
        "coloraxis": {
         "colorbar": {
          "title": {
           "text": "Attitude"
          }
         },
         "colorscale": [
          [
           0,
           "#440154"
          ],
          [
           0.1111111111111111,
           "#482878"
          ],
          [
           0.2222222222222222,
           "#3e4989"
          ],
          [
           0.3333333333333333,
           "#31688e"
          ],
          [
           0.4444444444444444,
           "#26828e"
          ],
          [
           0.5555555555555556,
           "#1f9e89"
          ],
          [
           0.6666666666666666,
           "#35b779"
          ],
          [
           0.7777777777777778,
           "#6ece58"
          ],
          [
           0.8888888888888888,
           "#b5de2b"
          ],
          [
           1,
           "#fde725"
          ]
         ]
        },
        "legend": {
         "tracegroupgap": 0
        },
        "margin": {
         "t": 60
        },
        "template": {
         "data": {
          "bar": [
           {
            "error_x": {
             "color": "#2a3f5f"
            },
            "error_y": {
             "color": "#2a3f5f"
            },
            "marker": {
             "line": {
              "color": "#E5ECF6",
              "width": 0.5
             }
            },
            "type": "bar"
           }
          ],
          "barpolar": [
           {
            "marker": {
             "line": {
              "color": "#E5ECF6",
              "width": 0.5
             }
            },
            "type": "barpolar"
           }
          ],
          "carpet": [
           {
            "aaxis": {
             "endlinecolor": "#2a3f5f",
             "gridcolor": "white",
             "linecolor": "white",
             "minorgridcolor": "white",
             "startlinecolor": "#2a3f5f"
            },
            "baxis": {
             "endlinecolor": "#2a3f5f",
             "gridcolor": "white",
             "linecolor": "white",
             "minorgridcolor": "white",
             "startlinecolor": "#2a3f5f"
            },
            "type": "carpet"
           }
          ],
          "choropleth": [
           {
            "colorbar": {
             "outlinewidth": 0,
             "ticks": ""
            },
            "type": "choropleth"
           }
          ],
          "contour": [
           {
            "colorbar": {
             "outlinewidth": 0,
             "ticks": ""
            },
            "colorscale": [
             [
              0,
              "#0d0887"
             ],
             [
              0.1111111111111111,
              "#46039f"
             ],
             [
              0.2222222222222222,
              "#7201a8"
             ],
             [
              0.3333333333333333,
              "#9c179e"
             ],
             [
              0.4444444444444444,
              "#bd3786"
             ],
             [
              0.5555555555555556,
              "#d8576b"
             ],
             [
              0.6666666666666666,
              "#ed7953"
             ],
             [
              0.7777777777777778,
              "#fb9f3a"
             ],
             [
              0.8888888888888888,
              "#fdca26"
             ],
             [
              1,
              "#f0f921"
             ]
            ],
            "type": "contour"
           }
          ],
          "contourcarpet": [
           {
            "colorbar": {
             "outlinewidth": 0,
             "ticks": ""
            },
            "type": "contourcarpet"
           }
          ],
          "heatmap": [
           {
            "colorbar": {
             "outlinewidth": 0,
             "ticks": ""
            },
            "colorscale": [
             [
              0,
              "#0d0887"
             ],
             [
              0.1111111111111111,
              "#46039f"
             ],
             [
              0.2222222222222222,
              "#7201a8"
             ],
             [
              0.3333333333333333,
              "#9c179e"
             ],
             [
              0.4444444444444444,
              "#bd3786"
             ],
             [
              0.5555555555555556,
              "#d8576b"
             ],
             [
              0.6666666666666666,
              "#ed7953"
             ],
             [
              0.7777777777777778,
              "#fb9f3a"
             ],
             [
              0.8888888888888888,
              "#fdca26"
             ],
             [
              1,
              "#f0f921"
             ]
            ],
            "type": "heatmap"
           }
          ],
          "heatmapgl": [
           {
            "colorbar": {
             "outlinewidth": 0,
             "ticks": ""
            },
            "colorscale": [
             [
              0,
              "#0d0887"
             ],
             [
              0.1111111111111111,
              "#46039f"
             ],
             [
              0.2222222222222222,
              "#7201a8"
             ],
             [
              0.3333333333333333,
              "#9c179e"
             ],
             [
              0.4444444444444444,
              "#bd3786"
             ],
             [
              0.5555555555555556,
              "#d8576b"
             ],
             [
              0.6666666666666666,
              "#ed7953"
             ],
             [
              0.7777777777777778,
              "#fb9f3a"
             ],
             [
              0.8888888888888888,
              "#fdca26"
             ],
             [
              1,
              "#f0f921"
             ]
            ],
            "type": "heatmapgl"
           }
          ],
          "histogram": [
           {
            "marker": {
             "colorbar": {
              "outlinewidth": 0,
              "ticks": ""
             }
            },
            "type": "histogram"
           }
          ],
          "histogram2d": [
           {
            "colorbar": {
             "outlinewidth": 0,
             "ticks": ""
            },
            "colorscale": [
             [
              0,
              "#0d0887"
             ],
             [
              0.1111111111111111,
              "#46039f"
             ],
             [
              0.2222222222222222,
              "#7201a8"
             ],
             [
              0.3333333333333333,
              "#9c179e"
             ],
             [
              0.4444444444444444,
              "#bd3786"
             ],
             [
              0.5555555555555556,
              "#d8576b"
             ],
             [
              0.6666666666666666,
              "#ed7953"
             ],
             [
              0.7777777777777778,
              "#fb9f3a"
             ],
             [
              0.8888888888888888,
              "#fdca26"
             ],
             [
              1,
              "#f0f921"
             ]
            ],
            "type": "histogram2d"
           }
          ],
          "histogram2dcontour": [
           {
            "colorbar": {
             "outlinewidth": 0,
             "ticks": ""
            },
            "colorscale": [
             [
              0,
              "#0d0887"
             ],
             [
              0.1111111111111111,
              "#46039f"
             ],
             [
              0.2222222222222222,
              "#7201a8"
             ],
             [
              0.3333333333333333,
              "#9c179e"
             ],
             [
              0.4444444444444444,
              "#bd3786"
             ],
             [
              0.5555555555555556,
              "#d8576b"
             ],
             [
              0.6666666666666666,
              "#ed7953"
             ],
             [
              0.7777777777777778,
              "#fb9f3a"
             ],
             [
              0.8888888888888888,
              "#fdca26"
             ],
             [
              1,
              "#f0f921"
             ]
            ],
            "type": "histogram2dcontour"
           }
          ],
          "mesh3d": [
           {
            "colorbar": {
             "outlinewidth": 0,
             "ticks": ""
            },
            "type": "mesh3d"
           }
          ],
          "parcoords": [
           {
            "line": {
             "colorbar": {
              "outlinewidth": 0,
              "ticks": ""
             }
            },
            "type": "parcoords"
           }
          ],
          "pie": [
           {
            "automargin": true,
            "type": "pie"
           }
          ],
          "scatter": [
           {
            "marker": {
             "colorbar": {
              "outlinewidth": 0,
              "ticks": ""
             }
            },
            "type": "scatter"
           }
          ],
          "scatter3d": [
           {
            "line": {
             "colorbar": {
              "outlinewidth": 0,
              "ticks": ""
             }
            },
            "marker": {
             "colorbar": {
              "outlinewidth": 0,
              "ticks": ""
             }
            },
            "type": "scatter3d"
           }
          ],
          "scattercarpet": [
           {
            "marker": {
             "colorbar": {
              "outlinewidth": 0,
              "ticks": ""
             }
            },
            "type": "scattercarpet"
           }
          ],
          "scattergeo": [
           {
            "marker": {
             "colorbar": {
              "outlinewidth": 0,
              "ticks": ""
             }
            },
            "type": "scattergeo"
           }
          ],
          "scattergl": [
           {
            "marker": {
             "colorbar": {
              "outlinewidth": 0,
              "ticks": ""
             }
            },
            "type": "scattergl"
           }
          ],
          "scattermapbox": [
           {
            "marker": {
             "colorbar": {
              "outlinewidth": 0,
              "ticks": ""
             }
            },
            "type": "scattermapbox"
           }
          ],
          "scatterpolar": [
           {
            "marker": {
             "colorbar": {
              "outlinewidth": 0,
              "ticks": ""
             }
            },
            "type": "scatterpolar"
           }
          ],
          "scatterpolargl": [
           {
            "marker": {
             "colorbar": {
              "outlinewidth": 0,
              "ticks": ""
             }
            },
            "type": "scatterpolargl"
           }
          ],
          "scatterternary": [
           {
            "marker": {
             "colorbar": {
              "outlinewidth": 0,
              "ticks": ""
             }
            },
            "type": "scatterternary"
           }
          ],
          "surface": [
           {
            "colorbar": {
             "outlinewidth": 0,
             "ticks": ""
            },
            "colorscale": [
             [
              0,
              "#0d0887"
             ],
             [
              0.1111111111111111,
              "#46039f"
             ],
             [
              0.2222222222222222,
              "#7201a8"
             ],
             [
              0.3333333333333333,
              "#9c179e"
             ],
             [
              0.4444444444444444,
              "#bd3786"
             ],
             [
              0.5555555555555556,
              "#d8576b"
             ],
             [
              0.6666666666666666,
              "#ed7953"
             ],
             [
              0.7777777777777778,
              "#fb9f3a"
             ],
             [
              0.8888888888888888,
              "#fdca26"
             ],
             [
              1,
              "#f0f921"
             ]
            ],
            "type": "surface"
           }
          ],
          "table": [
           {
            "cells": {
             "fill": {
              "color": "#EBF0F8"
             },
             "line": {
              "color": "white"
             }
            },
            "header": {
             "fill": {
              "color": "#C8D4E3"
             },
             "line": {
              "color": "white"
             }
            },
            "type": "table"
           }
          ]
         },
         "layout": {
          "annotationdefaults": {
           "arrowcolor": "#2a3f5f",
           "arrowhead": 0,
           "arrowwidth": 1
          },
          "coloraxis": {
           "colorbar": {
            "outlinewidth": 0,
            "ticks": ""
           }
          },
          "colorscale": {
           "diverging": [
            [
             0,
             "#8e0152"
            ],
            [
             0.1,
             "#c51b7d"
            ],
            [
             0.2,
             "#de77ae"
            ],
            [
             0.3,
             "#f1b6da"
            ],
            [
             0.4,
             "#fde0ef"
            ],
            [
             0.5,
             "#f7f7f7"
            ],
            [
             0.6,
             "#e6f5d0"
            ],
            [
             0.7,
             "#b8e186"
            ],
            [
             0.8,
             "#7fbc41"
            ],
            [
             0.9,
             "#4d9221"
            ],
            [
             1,
             "#276419"
            ]
           ],
           "sequential": [
            [
             0,
             "#0d0887"
            ],
            [
             0.1111111111111111,
             "#46039f"
            ],
            [
             0.2222222222222222,
             "#7201a8"
            ],
            [
             0.3333333333333333,
             "#9c179e"
            ],
            [
             0.4444444444444444,
             "#bd3786"
            ],
            [
             0.5555555555555556,
             "#d8576b"
            ],
            [
             0.6666666666666666,
             "#ed7953"
            ],
            [
             0.7777777777777778,
             "#fb9f3a"
            ],
            [
             0.8888888888888888,
             "#fdca26"
            ],
            [
             1,
             "#f0f921"
            ]
           ],
           "sequentialminus": [
            [
             0,
             "#0d0887"
            ],
            [
             0.1111111111111111,
             "#46039f"
            ],
            [
             0.2222222222222222,
             "#7201a8"
            ],
            [
             0.3333333333333333,
             "#9c179e"
            ],
            [
             0.4444444444444444,
             "#bd3786"
            ],
            [
             0.5555555555555556,
             "#d8576b"
            ],
            [
             0.6666666666666666,
             "#ed7953"
            ],
            [
             0.7777777777777778,
             "#fb9f3a"
            ],
            [
             0.8888888888888888,
             "#fdca26"
            ],
            [
             1,
             "#f0f921"
            ]
           ]
          },
          "colorway": [
           "#636efa",
           "#EF553B",
           "#00cc96",
           "#ab63fa",
           "#FFA15A",
           "#19d3f3",
           "#FF6692",
           "#B6E880",
           "#FF97FF",
           "#FECB52"
          ],
          "font": {
           "color": "#2a3f5f"
          },
          "geo": {
           "bgcolor": "white",
           "lakecolor": "white",
           "landcolor": "#E5ECF6",
           "showlakes": true,
           "showland": true,
           "subunitcolor": "white"
          },
          "hoverlabel": {
           "align": "left"
          },
          "hovermode": "closest",
          "mapbox": {
           "style": "light"
          },
          "paper_bgcolor": "white",
          "plot_bgcolor": "#E5ECF6",
          "polar": {
           "angularaxis": {
            "gridcolor": "white",
            "linecolor": "white",
            "ticks": ""
           },
           "bgcolor": "#E5ECF6",
           "radialaxis": {
            "gridcolor": "white",
            "linecolor": "white",
            "ticks": ""
           }
          },
          "scene": {
           "xaxis": {
            "backgroundcolor": "#E5ECF6",
            "gridcolor": "white",
            "gridwidth": 2,
            "linecolor": "white",
            "showbackground": true,
            "ticks": "",
            "zerolinecolor": "white"
           },
           "yaxis": {
            "backgroundcolor": "#E5ECF6",
            "gridcolor": "white",
            "gridwidth": 2,
            "linecolor": "white",
            "showbackground": true,
            "ticks": "",
            "zerolinecolor": "white"
           },
           "zaxis": {
            "backgroundcolor": "#E5ECF6",
            "gridcolor": "white",
            "gridwidth": 2,
            "linecolor": "white",
            "showbackground": true,
            "ticks": "",
            "zerolinecolor": "white"
           }
          },
          "shapedefaults": {
           "line": {
            "color": "#2a3f5f"
           }
          },
          "ternary": {
           "aaxis": {
            "gridcolor": "white",
            "linecolor": "white",
            "ticks": ""
           },
           "baxis": {
            "gridcolor": "white",
            "linecolor": "white",
            "ticks": ""
           },
           "bgcolor": "#E5ECF6",
           "caxis": {
            "gridcolor": "white",
            "linecolor": "white",
            "ticks": ""
           }
          },
          "title": {
           "x": 0.05
          },
          "xaxis": {
           "automargin": true,
           "gridcolor": "white",
           "linecolor": "white",
           "ticks": "",
           "title": {
            "standoff": 15
           },
           "zerolinecolor": "white",
           "zerolinewidth": 2
          },
          "yaxis": {
           "automargin": true,
           "gridcolor": "white",
           "linecolor": "white",
           "ticks": "",
           "title": {
            "standoff": 15
           },
           "zerolinecolor": "white",
           "zerolinewidth": 2
          }
         }
        },
        "xaxis": {
         "anchor": "y",
         "domain": [
          0,
          0.31999999999999995
         ],
         "title": {
          "text": "EnvironmentalAttitude"
         }
        },
        "xaxis2": {
         "anchor": "y2",
         "domain": [
          0.33999999999999997,
          0.6599999999999999
         ],
         "matches": "x",
         "title": {
          "text": "EnvironmentalAttitude"
         }
        },
        "xaxis3": {
         "anchor": "y3",
         "domain": [
          0.6799999999999999,
          0.9999999999999999
         ],
         "matches": "x",
         "title": {
          "text": "EnvironmentalAttitude"
         }
        },
        "yaxis": {
         "anchor": "x",
         "domain": [
          0,
          1
         ],
         "title": {
          "text": "EVChoice"
         }
        },
        "yaxis2": {
         "anchor": "x2",
         "domain": [
          0,
          1
         ],
         "matches": "y",
         "showticklabels": false
        },
        "yaxis3": {
         "anchor": "x3",
         "domain": [
          0,
          1
         ],
         "matches": "y",
         "showticklabels": false
        }
       }
      },
      "text/html": [
       "<div>\n",
       "        \n",
       "        \n",
       "            <div id=\"fbfabb6c-862b-46d1-b328-83b270f8e433\" class=\"plotly-graph-div\" style=\"height:525px; width:100%;\"></div>\n",
       "            <script type=\"text/javascript\">\n",
       "                require([\"plotly\"], function(Plotly) {\n",
       "                    window.PLOTLYENV=window.PLOTLYENV || {};\n",
       "                    \n",
       "                if (document.getElementById(\"fbfabb6c-862b-46d1-b328-83b270f8e433\")) {\n",
       "                    Plotly.newPlot(\n",
       "                        'fbfabb6c-862b-46d1-b328-83b270f8e433',\n",
       "                        [{\"hoverlabel\": {\"namelength\": 0}, \"hovertemplate\": \"Sex=2<br>EnvironmentalAttitude=%{x}<br>EVChoice=%{y}<br>Attitude=%{marker.color}\", \"legendgroup\": \"\", \"marker\": {\"color\": [3.56, 3.78, 4.89, 4.89, 3.89, 3.33, 3.44, 2.0, 4.67, 4.78, 3.44, 5.0, 4.67, 3.44, 5.0, 5.0, 4.22, 4.33, 5.0, 4.0, 4.67, 4.89, 4.56, 4.33, 2.89, 4.67, 3.78, 4.11, 2.56, 4.0, 4.22, 1.78, 3.78, 3.78, 4.78, 2.11, 4.33, 4.67, 2.11, 5.0, 4.67, 3.22, 4.67, 3.0, 5.0, 4.0, 4.0, 4.11, 4.11, 4.44, 4.89, 4.67, 4.78, 3.78, 3.44, 4.67, 4.44, 3.33, 3.78, 4.67, 3.67, 4.22, 5.0, 2.56, 4.44, 2.33, 5.0, 4.56, 4.44, 4.78, 5.0, 5.0, 3.78, 4.56, 3.89, 3.89, 3.11, 3.67, 3.78, 5.0, 4.44, 1.78, 5.0, 3.0, 5.0, 5.0, 4.11, 2.78, 3.33, 1.89, 4.22, 2.44, 4.56, 3.33, 5.0, 4.56, 3.89, 4.33, 4.67, 3.67, 4.22, 3.44, 3.11, 4.0, 4.33, 2.22, 3.44, 4.0, 4.11, 5.0, 4.56, 5.0], \"coloraxis\": \"coloraxis\", \"symbol\": \"circle\"}, \"mode\": \"markers\", \"name\": \"\", \"showlegend\": false, \"type\": \"scattergl\", \"x\": [5.5, 7.0, 6.75, 6.25, 6.0, 4.0, 5.5, 5.0, 3.75, 6.5, 5.5, 7.0, 5.5, 7.0, 3.0, 6.25, 7.0, 7.0, 5.25, 5.25, 7.0, 7.0, 4.5, 6.25, 4.75, 5.75, 4.5, 5.5, 4.25, 6.25, 6.0, 2.25, 6.25, 4.25, 6.5, 5.0, 7.0, 7.0, 4.25, 6.5, 3.0, 7.0, 7.0, 5.5, 5.5, 6.25, 7.0, 4.75, 6.5, 6.75, 7.0, 6.5, 5.25, 6.5, 4.25, 4.75, 5.0, 2.5, 5.75, 7.0, 5.0, 5.75, 6.75, 4.25, 7.0, 3.0, 3.75, 3.75, 6.0, 6.75, 7.0, 6.5, 5.0, 6.5, 7.0, 5.5, 7.0, 5.0, 5.0, 5.0, 4.0, 5.5, 5.25, 1.0, 7.0, 6.75, 6.0, 6.25, 3.5, 1.75, 4.25, 4.0, 3.75, 6.75, 5.5, 5.5, 6.0, 7.0, 5.5, 7.0, 6.5, 5.75, 3.5, 4.0, 6.25, 5.5, 4.75, 2.5, 6.5, 6.0, 6.75, 7.0], \"xaxis\": \"x\", \"y\": [0, 16, 19, 19, 10, 10, 13, 3, 4, 19, 8, 19, 19, 13, 19, 19, 19, 19, 19, 19, 19, 18, 18, 19, 7, 19, 10, 15, 2, 8, 9, 0, 15, 13, 7, 17, 16, 18, 16, 19, 8, 0, 4, 13, 0, 9, 19, 17, 18, 15, 19, 14, 13, 6, 12, 18, 16, 6, 19, 19, 7, 19, 19, 6, 19, 18, 19, 19, 12, 19, 17, 19, 14, 19, 19, 13, 3, 19, 16, 14, 11, 10, 15, 15, 19, 15, 15, 3, 19, 0, 12, 8, 19, 19, 14, 19, 13, 7, 16, 15, 19, 11, 12, 14, 15, 18, 14, 18, 19, 19, 19, 19], \"yaxis\": \"y\"}, {\"hoverlabel\": {\"namelength\": 0}, \"hovertemplate\": \"Sex=1<br>EnvironmentalAttitude=%{x}<br>EVChoice=%{y}<br>Attitude=%{marker.color}\", \"legendgroup\": \"\", \"marker\": {\"color\": [4.89, 4.89, 5.0, 4.89, 3.67, 3.67, 4.22, 3.33, 3.67, 3.44, 4.22, 3.89, 4.33, 3.89, 4.0, 4.56, 3.56, 4.0, 5.0, 4.78, 3.11, 4.67, 3.78, 4.78, 5.0, 4.78, 4.56, 3.89, 4.44, 4.33, 5.0, 4.11, 4.44, 4.0, 4.11, 4.22, 4.56, 4.67, 2.89, 4.33, 2.89, 5.0, 1.11, 4.89, 3.89, 4.0, 2.33, 2.44, 4.33, 3.89, 4.11, 3.89, 4.11, 4.89, 3.22, 3.44, 4.89, 4.89, 4.89, 4.44, 2.78, 3.33, 4.89, 3.78, 3.56, 4.78, 4.78, 3.56, 4.11, 3.78, 3.78, 4.56, 4.33, 4.0, 4.44, 4.0, 4.78, 3.67, 3.56, 3.56, 4.11, 5.0, 4.89, 3.56, 3.67, 3.78, 4.33, 4.33, 4.0, 4.56, 4.44, 3.67, 4.0, 3.67, 4.0, 4.33, 4.33, 4.89, 4.89, 2.89, 4.33, 3.89, 4.89, 4.67, 3.78, 4.0, 4.78, 4.78, 3.22, 4.33, 4.67, 4.56, 4.44, 3.33], \"coloraxis\": \"coloraxis\", \"symbol\": \"circle\"}, \"mode\": \"markers\", \"name\": \"\", \"showlegend\": false, \"type\": \"scattergl\", \"x\": [6.75, 7.0, 7.0, 6.75, 7.0, 5.0, 7.0, 6.25, 6.75, 5.75, 6.0, 5.25, 6.25, 6.75, 6.0, 6.25, 4.25, 6.0, 7.0, 7.0, 7.0, 5.0, 6.5, 7.0, 6.25, 7.0, 6.75, 5.25, 6.5, 6.75, 7.0, 6.25, 5.25, 7.0, 6.25, 7.0, 6.75, 6.5, 5.25, 6.0, 3.75, 6.25, 6.0, 7.0, 6.25, 5.75, 6.75, 5.25, 6.25, 5.5, 1.25, 6.5, 5.5, 7.0, 7.0, 4.0, 7.0, 6.25, 7.0, 5.5, 7.0, 4.25, 7.0, 5.5, 5.25, 6.75, 6.0, 4.0, 5.5, 7.0, 6.25, 5.5, 6.75, 6.0, 6.0, 7.0, 7.0, 3.25, 5.0, 7.0, 3.75, 7.0, 7.0, 4.25, 6.25, 6.0, 5.75, 5.75, 5.25, 5.0, 5.25, 6.5, 6.25, 4.25, 6.5, 5.75, 6.25, 5.0, 7.0, 6.0, 6.5, 5.0, 7.0, 6.75, 3.5, 6.75, 7.0, 7.0, 7.0, 4.75, 6.25, 7.0, 6.5, 2.5], \"xaxis\": \"x2\", \"y\": [19, 19, 19, 10, 11, 15, 13, 5, 6, 19, 6, 17, 10, 14, 8, 16, 6, 8, 19, 16, 18, 9, 13, 19, 19, 17, 19, 19, 19, 5, 19, 18, 19, 19, 19, 3, 11, 14, 19, 7, 19, 10, 19, 2, 16, 7, 9, 19, 1, 13, 18, 17, 0, 19, 19, 12, 19, 19, 17, 19, 16, 11, 18, 13, 18, 19, 16, 17, 13, 15, 19, 17, 17, 16, 19, 14, 19, 19, 11, 19, 19, 10, 19, 19, 19, 18, 18, 14, 19, 17, 18, 15, 18, 10, 19, 15, 19, 18, 16, 14, 13, 19, 16, 16, 7, 19, 18, 19, 12, 17, 15, 19, 19, 18], \"yaxis\": \"y2\"}, {\"hoverlabel\": {\"namelength\": 0}, \"hovertemplate\": \"Sex=3<br>EnvironmentalAttitude=%{x}<br>EVChoice=%{y}<br>Attitude=%{marker.color}\", \"legendgroup\": \"\", \"marker\": {\"color\": [3.33, 3.0, 5.0, 2.56], \"coloraxis\": \"coloraxis\", \"symbol\": \"circle\"}, \"mode\": \"markers\", \"name\": \"\", \"showlegend\": false, \"type\": \"scattergl\", \"x\": [3.25, 7.0, 7.0, 6.0], \"xaxis\": \"x3\", \"y\": [10, 19, 19, 6], \"yaxis\": \"y3\"}],\n",
       "                        {\"annotations\": [{\"font\": {}, \"showarrow\": false, \"text\": \"Sex=2\", \"x\": 0.15999999999999998, \"xanchor\": \"center\", \"xref\": \"paper\", \"y\": 1.0, \"yanchor\": \"bottom\", \"yref\": \"paper\"}, {\"font\": {}, \"showarrow\": false, \"text\": \"Sex=1\", \"x\": 0.49999999999999994, \"xanchor\": \"center\", \"xref\": \"paper\", \"y\": 1.0, \"yanchor\": \"bottom\", \"yref\": \"paper\"}, {\"font\": {}, \"showarrow\": false, \"text\": \"Sex=3\", \"x\": 0.8399999999999999, \"xanchor\": \"center\", \"xref\": \"paper\", \"y\": 1.0, \"yanchor\": \"bottom\", \"yref\": \"paper\"}], \"coloraxis\": {\"colorbar\": {\"title\": {\"text\": \"Attitude\"}}, \"colorscale\": [[0.0, \"#440154\"], [0.1111111111111111, \"#482878\"], [0.2222222222222222, \"#3e4989\"], [0.3333333333333333, \"#31688e\"], [0.4444444444444444, \"#26828e\"], [0.5555555555555556, \"#1f9e89\"], [0.6666666666666666, \"#35b779\"], [0.7777777777777778, \"#6ece58\"], [0.8888888888888888, \"#b5de2b\"], [1.0, \"#fde725\"]]}, \"legend\": {\"tracegroupgap\": 0}, \"margin\": {\"t\": 60}, \"template\": {\"data\": {\"bar\": [{\"error_x\": {\"color\": \"#2a3f5f\"}, \"error_y\": {\"color\": \"#2a3f5f\"}, \"marker\": {\"line\": {\"color\": \"#E5ECF6\", \"width\": 0.5}}, \"type\": \"bar\"}], \"barpolar\": [{\"marker\": {\"line\": {\"color\": \"#E5ECF6\", \"width\": 0.5}}, \"type\": \"barpolar\"}], \"carpet\": [{\"aaxis\": {\"endlinecolor\": \"#2a3f5f\", \"gridcolor\": \"white\", \"linecolor\": \"white\", \"minorgridcolor\": \"white\", \"startlinecolor\": \"#2a3f5f\"}, \"baxis\": {\"endlinecolor\": \"#2a3f5f\", \"gridcolor\": \"white\", \"linecolor\": \"white\", \"minorgridcolor\": \"white\", \"startlinecolor\": \"#2a3f5f\"}, \"type\": \"carpet\"}], \"choropleth\": [{\"colorbar\": {\"outlinewidth\": 0, \"ticks\": \"\"}, \"type\": \"choropleth\"}], \"contour\": [{\"colorbar\": {\"outlinewidth\": 0, \"ticks\": \"\"}, \"colorscale\": [[0.0, \"#0d0887\"], [0.1111111111111111, \"#46039f\"], [0.2222222222222222, \"#7201a8\"], [0.3333333333333333, \"#9c179e\"], [0.4444444444444444, \"#bd3786\"], [0.5555555555555556, \"#d8576b\"], [0.6666666666666666, \"#ed7953\"], [0.7777777777777778, \"#fb9f3a\"], [0.8888888888888888, \"#fdca26\"], [1.0, \"#f0f921\"]], \"type\": \"contour\"}], \"contourcarpet\": [{\"colorbar\": {\"outlinewidth\": 0, \"ticks\": \"\"}, \"type\": \"contourcarpet\"}], \"heatmap\": [{\"colorbar\": {\"outlinewidth\": 0, \"ticks\": \"\"}, \"colorscale\": [[0.0, \"#0d0887\"], [0.1111111111111111, \"#46039f\"], [0.2222222222222222, \"#7201a8\"], [0.3333333333333333, \"#9c179e\"], [0.4444444444444444, \"#bd3786\"], [0.5555555555555556, \"#d8576b\"], [0.6666666666666666, \"#ed7953\"], [0.7777777777777778, \"#fb9f3a\"], [0.8888888888888888, \"#fdca26\"], [1.0, \"#f0f921\"]], \"type\": \"heatmap\"}], \"heatmapgl\": [{\"colorbar\": {\"outlinewidth\": 0, \"ticks\": \"\"}, \"colorscale\": [[0.0, \"#0d0887\"], [0.1111111111111111, \"#46039f\"], [0.2222222222222222, \"#7201a8\"], [0.3333333333333333, \"#9c179e\"], [0.4444444444444444, \"#bd3786\"], [0.5555555555555556, \"#d8576b\"], [0.6666666666666666, \"#ed7953\"], [0.7777777777777778, \"#fb9f3a\"], [0.8888888888888888, \"#fdca26\"], [1.0, \"#f0f921\"]], \"type\": \"heatmapgl\"}], \"histogram\": [{\"marker\": {\"colorbar\": {\"outlinewidth\": 0, \"ticks\": \"\"}}, \"type\": \"histogram\"}], \"histogram2d\": [{\"colorbar\": {\"outlinewidth\": 0, \"ticks\": \"\"}, \"colorscale\": [[0.0, \"#0d0887\"], [0.1111111111111111, \"#46039f\"], [0.2222222222222222, \"#7201a8\"], [0.3333333333333333, \"#9c179e\"], [0.4444444444444444, \"#bd3786\"], [0.5555555555555556, \"#d8576b\"], [0.6666666666666666, \"#ed7953\"], [0.7777777777777778, \"#fb9f3a\"], [0.8888888888888888, \"#fdca26\"], [1.0, \"#f0f921\"]], \"type\": \"histogram2d\"}], \"histogram2dcontour\": [{\"colorbar\": {\"outlinewidth\": 0, \"ticks\": \"\"}, \"colorscale\": [[0.0, \"#0d0887\"], [0.1111111111111111, \"#46039f\"], [0.2222222222222222, \"#7201a8\"], [0.3333333333333333, \"#9c179e\"], [0.4444444444444444, \"#bd3786\"], [0.5555555555555556, \"#d8576b\"], [0.6666666666666666, \"#ed7953\"], [0.7777777777777778, \"#fb9f3a\"], [0.8888888888888888, \"#fdca26\"], [1.0, \"#f0f921\"]], \"type\": \"histogram2dcontour\"}], \"mesh3d\": [{\"colorbar\": {\"outlinewidth\": 0, \"ticks\": \"\"}, \"type\": \"mesh3d\"}], \"parcoords\": [{\"line\": {\"colorbar\": {\"outlinewidth\": 0, \"ticks\": \"\"}}, \"type\": \"parcoords\"}], \"pie\": [{\"automargin\": true, \"type\": \"pie\"}], \"scatter\": [{\"marker\": {\"colorbar\": {\"outlinewidth\": 0, \"ticks\": \"\"}}, \"type\": \"scatter\"}], \"scatter3d\": [{\"line\": {\"colorbar\": {\"outlinewidth\": 0, \"ticks\": \"\"}}, \"marker\": {\"colorbar\": {\"outlinewidth\": 0, \"ticks\": \"\"}}, \"type\": \"scatter3d\"}], \"scattercarpet\": [{\"marker\": {\"colorbar\": {\"outlinewidth\": 0, \"ticks\": \"\"}}, \"type\": \"scattercarpet\"}], \"scattergeo\": [{\"marker\": {\"colorbar\": {\"outlinewidth\": 0, \"ticks\": \"\"}}, \"type\": \"scattergeo\"}], \"scattergl\": [{\"marker\": {\"colorbar\": {\"outlinewidth\": 0, \"ticks\": \"\"}}, \"type\": \"scattergl\"}], \"scattermapbox\": [{\"marker\": {\"colorbar\": {\"outlinewidth\": 0, \"ticks\": \"\"}}, \"type\": \"scattermapbox\"}], \"scatterpolar\": [{\"marker\": {\"colorbar\": {\"outlinewidth\": 0, \"ticks\": \"\"}}, \"type\": \"scatterpolar\"}], \"scatterpolargl\": [{\"marker\": {\"colorbar\": {\"outlinewidth\": 0, \"ticks\": \"\"}}, \"type\": \"scatterpolargl\"}], \"scatterternary\": [{\"marker\": {\"colorbar\": {\"outlinewidth\": 0, \"ticks\": \"\"}}, \"type\": \"scatterternary\"}], \"surface\": [{\"colorbar\": {\"outlinewidth\": 0, \"ticks\": \"\"}, \"colorscale\": [[0.0, \"#0d0887\"], [0.1111111111111111, \"#46039f\"], [0.2222222222222222, \"#7201a8\"], [0.3333333333333333, \"#9c179e\"], [0.4444444444444444, \"#bd3786\"], [0.5555555555555556, \"#d8576b\"], [0.6666666666666666, \"#ed7953\"], [0.7777777777777778, \"#fb9f3a\"], [0.8888888888888888, \"#fdca26\"], [1.0, \"#f0f921\"]], \"type\": \"surface\"}], \"table\": [{\"cells\": {\"fill\": {\"color\": \"#EBF0F8\"}, \"line\": {\"color\": \"white\"}}, \"header\": {\"fill\": {\"color\": \"#C8D4E3\"}, \"line\": {\"color\": \"white\"}}, \"type\": \"table\"}]}, \"layout\": {\"annotationdefaults\": {\"arrowcolor\": \"#2a3f5f\", \"arrowhead\": 0, \"arrowwidth\": 1}, \"coloraxis\": {\"colorbar\": {\"outlinewidth\": 0, \"ticks\": \"\"}}, \"colorscale\": {\"diverging\": [[0, \"#8e0152\"], [0.1, \"#c51b7d\"], [0.2, \"#de77ae\"], [0.3, \"#f1b6da\"], [0.4, \"#fde0ef\"], [0.5, \"#f7f7f7\"], [0.6, \"#e6f5d0\"], [0.7, \"#b8e186\"], [0.8, \"#7fbc41\"], [0.9, \"#4d9221\"], [1, \"#276419\"]], \"sequential\": [[0.0, \"#0d0887\"], [0.1111111111111111, \"#46039f\"], [0.2222222222222222, \"#7201a8\"], [0.3333333333333333, \"#9c179e\"], [0.4444444444444444, \"#bd3786\"], [0.5555555555555556, \"#d8576b\"], [0.6666666666666666, \"#ed7953\"], [0.7777777777777778, \"#fb9f3a\"], [0.8888888888888888, \"#fdca26\"], [1.0, \"#f0f921\"]], \"sequentialminus\": [[0.0, \"#0d0887\"], [0.1111111111111111, \"#46039f\"], [0.2222222222222222, \"#7201a8\"], [0.3333333333333333, \"#9c179e\"], [0.4444444444444444, \"#bd3786\"], [0.5555555555555556, \"#d8576b\"], [0.6666666666666666, \"#ed7953\"], [0.7777777777777778, \"#fb9f3a\"], [0.8888888888888888, \"#fdca26\"], [1.0, \"#f0f921\"]]}, \"colorway\": [\"#636efa\", \"#EF553B\", \"#00cc96\", \"#ab63fa\", \"#FFA15A\", \"#19d3f3\", \"#FF6692\", \"#B6E880\", \"#FF97FF\", \"#FECB52\"], \"font\": {\"color\": \"#2a3f5f\"}, \"geo\": {\"bgcolor\": \"white\", \"lakecolor\": \"white\", \"landcolor\": \"#E5ECF6\", \"showlakes\": true, \"showland\": true, \"subunitcolor\": \"white\"}, \"hoverlabel\": {\"align\": \"left\"}, \"hovermode\": \"closest\", \"mapbox\": {\"style\": \"light\"}, \"paper_bgcolor\": \"white\", \"plot_bgcolor\": \"#E5ECF6\", \"polar\": {\"angularaxis\": {\"gridcolor\": \"white\", \"linecolor\": \"white\", \"ticks\": \"\"}, \"bgcolor\": \"#E5ECF6\", \"radialaxis\": {\"gridcolor\": \"white\", \"linecolor\": \"white\", \"ticks\": \"\"}}, \"scene\": {\"xaxis\": {\"backgroundcolor\": \"#E5ECF6\", \"gridcolor\": \"white\", \"gridwidth\": 2, \"linecolor\": \"white\", \"showbackground\": true, \"ticks\": \"\", \"zerolinecolor\": \"white\"}, \"yaxis\": {\"backgroundcolor\": \"#E5ECF6\", \"gridcolor\": \"white\", \"gridwidth\": 2, \"linecolor\": \"white\", \"showbackground\": true, \"ticks\": \"\", \"zerolinecolor\": \"white\"}, \"zaxis\": {\"backgroundcolor\": \"#E5ECF6\", \"gridcolor\": \"white\", \"gridwidth\": 2, \"linecolor\": \"white\", \"showbackground\": true, \"ticks\": \"\", \"zerolinecolor\": \"white\"}}, \"shapedefaults\": {\"line\": {\"color\": \"#2a3f5f\"}}, \"ternary\": {\"aaxis\": {\"gridcolor\": \"white\", \"linecolor\": \"white\", \"ticks\": \"\"}, \"baxis\": {\"gridcolor\": \"white\", \"linecolor\": \"white\", \"ticks\": \"\"}, \"bgcolor\": \"#E5ECF6\", \"caxis\": {\"gridcolor\": \"white\", \"linecolor\": \"white\", \"ticks\": \"\"}}, \"title\": {\"x\": 0.05}, \"xaxis\": {\"automargin\": true, \"gridcolor\": \"white\", \"linecolor\": \"white\", \"ticks\": \"\", \"title\": {\"standoff\": 15}, \"zerolinecolor\": \"white\", \"zerolinewidth\": 2}, \"yaxis\": {\"automargin\": true, \"gridcolor\": \"white\", \"linecolor\": \"white\", \"ticks\": \"\", \"title\": {\"standoff\": 15}, \"zerolinecolor\": \"white\", \"zerolinewidth\": 2}}}, \"xaxis\": {\"anchor\": \"y\", \"domain\": [0.0, 0.31999999999999995], \"title\": {\"text\": \"EnvironmentalAttitude\"}}, \"xaxis2\": {\"anchor\": \"y2\", \"domain\": [0.33999999999999997, 0.6599999999999999], \"matches\": \"x\", \"title\": {\"text\": \"EnvironmentalAttitude\"}}, \"xaxis3\": {\"anchor\": \"y3\", \"domain\": [0.6799999999999999, 0.9999999999999999], \"matches\": \"x\", \"title\": {\"text\": \"EnvironmentalAttitude\"}}, \"yaxis\": {\"anchor\": \"x\", \"domain\": [0.0, 1.0], \"title\": {\"text\": \"EVChoice\"}}, \"yaxis2\": {\"anchor\": \"x2\", \"domain\": [0.0, 1.0], \"matches\": \"y\", \"showticklabels\": false}, \"yaxis3\": {\"anchor\": \"x3\", \"domain\": [0.0, 1.0], \"matches\": \"y\", \"showticklabels\": false}},\n",
       "                        {\"responsive\": true}\n",
       "                    ).then(function(){\n",
       "                            \n",
       "var gd = document.getElementById('fbfabb6c-862b-46d1-b328-83b270f8e433');\n",
       "var x = new MutationObserver(function (mutations, observer) {{\n",
       "        var display = window.getComputedStyle(gd).display;\n",
       "        if (!display || display === 'none') {{\n",
       "            console.log([gd, 'removed!']);\n",
       "            Plotly.purge(gd);\n",
       "            observer.disconnect();\n",
       "        }}\n",
       "}});\n",
       "\n",
       "// Listen for the removal of the full notebook cells\n",
       "var notebookContainer = gd.closest('#notebook-container');\n",
       "if (notebookContainer) {{\n",
       "    x.observe(notebookContainer, {childList: true});\n",
       "}}\n",
       "\n",
       "// Listen for the clearing of the current output cell\n",
       "var outputEl = gd.closest('.output');\n",
       "if (outputEl) {{\n",
       "    x.observe(outputEl, {childList: true});\n",
       "}}\n",
       "\n",
       "                        })\n",
       "                };\n",
       "                });\n",
       "            </script>\n",
       "        </div>"
      ]
     },
     "metadata": {},
     "output_type": "display_data"
    }
   ],
   "source": [
    "#print plot with plotly express\n",
    "fig = px.scatter(df, x=\"EnvironmentalAttitude\", y=\"EVChoice\", color=\"Sex\", marginal_y=\"violin\",marginal_x=\"box\")\n",
    "fig.show()\n",
    "\n",
    "fig2 = px.scatter(df, x=\"EnvironmentalAttitude\", y=\"EVChoice\", color=\"Attitude\", facet_col=\"Sex\",color_continuous_scale=px.colors.sequential.Viridis, render_mode=\"webgl\")\n",
    "fig2.show()"
   ]
  },
  {
   "cell_type": "code",
   "execution_count": 167,
   "metadata": {},
   "outputs": [
    {
     "data": {
      "text/plain": [
       "LinearRegression(copy_X=True, fit_intercept=True, n_jobs=None, normalize=False)"
      ]
     },
     "execution_count": 167,
     "metadata": {},
     "output_type": "execute_result"
    }
   ],
   "source": [
    "reg = linear_model.LinearRegression()\n",
    "reg.fit(df[['RelativeAdvantage','Complexity','Compatibility']],df.Attitude)"
   ]
  },
  {
   "cell_type": "code",
   "execution_count": 168,
   "metadata": {},
   "outputs": [
    {
     "name": "stdout",
     "output_type": "stream",
     "text": [
      "[0.15501959 0.3561445  0.0315453 ]\n",
      "1.4435697291670242\n",
      "[3.20153675 3.25309551]\n"
     ]
    }
   ],
   "source": [
    "print(reg.coef_)\n",
    "print(reg.intercept_)\n",
    "print(reg.predict([[5.6,2.1,4.5],[5.8,2.14,4.7]]))"
   ]
  },
  {
   "cell_type": "code",
   "execution_count": null,
   "metadata": {},
   "outputs": [],
   "source": []
  }
 ],
 "metadata": {
  "kernelspec": {
   "display_name": "Python 3",
   "language": "python",
   "name": "python3"
  },
  "language_info": {
   "codemirror_mode": {
    "name": "ipython",
    "version": 3
   },
   "file_extension": ".py",
   "mimetype": "text/x-python",
   "name": "python",
   "nbconvert_exporter": "python",
   "pygments_lexer": "ipython3",
   "version": "3.7.4"
  }
 },
 "nbformat": 4,
 "nbformat_minor": 2
}

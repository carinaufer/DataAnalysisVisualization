{
 "cells": [
  {
   "cell_type": "code",
   "execution_count": 55,
   "metadata": {},
   "outputs": [
    {
     "name": "stdout",
     "output_type": "stream",
     "text": [
      "Please enter the path of the CSV file/Users/lukas/lukas/lthoma/Linguistik/19_WS_Computation/Presentation/DataAnalysisVisualization-master/Dataset_AnaVis.csv\n"
     ]
    }
   ],
   "source": [
    "import pandas as pd\n",
    "import numpy as np\n",
    "from sklearn.linear_model import LinearRegression\n",
    "import matplotlib.pyplot as plt\n",
    "import plotly.graph_objects as go\n",
    "import plotly.express as px\n",
    "\n",
    "\n",
    "#import csv file\n",
    "pth = input('Please enter the path of the CSV file')\n",
    "df = pd.read_csv(pth, delimiter=';', decimal=',',engine='python')\n",
    "df.head() #show first 6 lines\n",
    "dataTypeSeries = df.dtypes #variable for datytpyes\n",
    "#print(dataTypeSeries) #show datatypes\n",
    "df.dropna(inplace = True) #drop rows with missing values in the set direct\n",
    "df.head()\n",
    "npdf = df.to_numpy(copy=True)\n",
    "\n"
   ]
  },
  {
   "cell_type": "markdown",
   "metadata": {},
   "source": [
    "/Users/lukas/lukas/lthoma/Linguistik/19_WS_Computation/Presentation/DataAnalysisVisualization-master/Dataset_AnaVis.csv"
   ]
  },
  {
   "cell_type": "code",
   "execution_count": 56,
   "metadata": {
    "scrolled": true
   },
   "outputs": [],
   "source": [
    "#cast to correct datatype\n",
    "df['Sex'] = df['Sex'].astype('Int64')\n",
    "df['Group'] = df['Group'].astype('Int64')\n",
    "df['Age'] = df['Age'].astype('Int64')\n",
    "df['RelativeAdvantage'] = df['RelativeAdvantage'].astype('Float64')\n",
    "df['Complexity'] = df['Complexity'].astype('Float64')\n",
    "df['Compatibility'] = df['Compatibility'].astype('Float64')\n",
    "df['Attitude'] = df['Attitude'].astype('Float64')\n",
    "df['SubjectiveNormPeers'] = df['SubjectiveNormPeers'].astype('Float64')\n",
    "df['SubjectiveNormSociety'] = df['SubjectiveNormSociety'].astype('Float64')\n",
    "df['SubjectiveNormMedia'] = df['SubjectiveNormMedia'].astype('Float64')\n",
    "df['SubjectiveNormTotal'] = df['SubjectiveNormTotal'].astype('Float64')\n",
    "df['PerceivedMoralNorm'] = df['PerceivedMoralNorm'].astype('Float64')\n",
    "df['EnvironmentalAttitude'] = df['EnvironmentalAttitude'].astype('Float64')\n",
    "df['SelfEfficacy'] = df['SelfEfficacy'].astype('Float64')\n",
    "df['PurchaseInterest'] = df['PurchaseInterest'].astype('Float64')\n",
    "df['EVChoice'] = df['EVChoice'].astype('Int64')\n",
    "dataTypeSeries = df.dtypes #check result\n",
    "#print(dataTypeSeries)"
   ]
  },
  {
   "cell_type": "code",
   "execution_count": 59,
   "metadata": {},
   "outputs": [
    {
     "data": {
      "image/png": "[encoded data removed]",
      "text/plain": [
       "<Figure size 432x288 with 1 Axes>"
      ]
     },
     "metadata": {
      "needs_background": "light"
     },
     "output_type": "display_data"
    }
   ],
   "source": [
    "x = npdf[:,2].reshape(-1, 1)\n",
    "y = npdf[:,3].reshape(-1, 1)\n",
    "#print(x)\n",
    "#print('______________')\n",
    "#print(y)\n",
    "lr = LinearRegression()\n",
    "lr.fit(x,y)\n",
    "y_pred = lr.predict(x)\n",
    "plt.scatter(x, y)\n",
    "plt.plot(x, y_pred, color='red')\n",
    "plt.show()"
   ]
  },
  {
   "cell_type": "code",
   "execution_count": 58,
   "metadata": {},
   "outputs": [
    {
     "data": {
      "application/vnd.plotly.v1+json": {
       "config": {
        "plotlyServerURL": "https://plot.ly"
       },
       "data": [
        {
         "hoverlabel": {
          "namelength": 0
         },
         "hovertemplate": "EnvironmentalAttitude=%{x}<br>EVChoice=%{y}<br>Sex=%{marker.color}",
         "legendgroup": "",
         "marker": {
          "color": [
           2,
           2,
           2,
           1,
           1,
           2,
           1,
           2,
           2,
           1,
           2,
           2,
           2,
           2,
           2,
           2,
           2,
           2,
           1,
           1,
           1,
           1,
           2,
           2,
           1,
           2,
           1,
           1,
           1,
           1,
           2,
           2,
           2,
           1,
           2,
           2,
           1,
           1,
           2,
           2,
           2,
           1,
           1,
           1,
           1,
           1,
           1,
           2,
           1,
           1,
           2,
           2,
           2,
           2,
           1,
           2,
           2,
           2,
           1,
           1,
           1,
           2,
           2,
           1,
           2,
           1,
           1,
           1,
           1,
           2,
           1,
           2,
           1,
           2,
           1,
           1,
           1,
           1,
           1,
           2,
           1,
           1,
           1,
           1,
           1,
           2,
           1,
           1,
           2,
           2,
           1,
           1,
           1,
           2,
           2,
           2,
           2,
           2,
           2,
           1,
           1,
           1,
           2,
           1,
           1,
           2,
           1,
           2,
           1,
           1,
           1,
           1,
           1,
           1,
           1,
           1,
           1,
           1,
           1,
           1,
           2,
           2,
           2,
           1,
           1,
           2,
           2,
           1,
           1,
           1,
           1,
           1,
           1,
           2,
           1,
           1,
           2,
           2,
           2,
           1,
           2,
           1,
           1,
           2,
           2,
           2,
           2,
           1,
           2,
           2,
           1,
           1,
           2,
           2,
           2,
           2,
           1,
           2,
           1,
           2,
           1,
           2,
           2,
           2,
           1,
           2,
           3,
           2,
           2,
           1,
           1,
           1,
           2,
           2,
           2,
           2,
           2,
           1,
           2,
           1,
           2,
           2,
           1,
           2,
           2,
           1,
           2,
           1,
           1,
           1,
           2,
           2,
           3,
           2,
           1,
           1,
           3,
           2,
           1,
           1,
           2,
           2,
           2,
           2,
           1,
           1,
           2,
           2,
           2,
           1,
           1,
           1,
           1,
           2,
           1,
           2,
           2,
           2,
           1,
           2,
           3,
           1,
           2,
           1,
           2,
           2,
           1,
           2,
           2,
           1
          ],
          "coloraxis": "coloraxis",
          "symbol": "circle"
         },
         "mode": "markers",
         "name": "",
         "showlegend": false,
         "type": "scatter",
         "x": [
          5.5,
          7,
          6.75,
          6.75,
          7,
          6.25,
          7,
          6,
          4,
          6.75,
          5.5,
          5,
          3.75,
          6.5,
          5.5,
          7,
          5.5,
          7,
          7,
          5,
          7,
          6.25,
          3,
          6.25,
          6.75,
          7,
          5.75,
          6,
          5.25,
          6.25,
          7,
          5.25,
          5.25,
          6.75,
          7,
          7,
          6,
          6.25,
          4.5,
          6.25,
          4.75,
          4.25,
          6,
          7,
          7,
          7,
          5,
          5.75,
          6.5,
          7,
          4.5,
          5.5,
          4.25,
          6.25,
          6.25,
          6,
          2.25,
          6.25,
          7,
          6.75,
          5.25,
          4.25,
          6.5,
          6.5,
          5,
          6.75,
          7,
          6.25,
          5.25,
          7,
          7,
          7,
          6.25,
          4.25,
          7,
          6.75,
          6.5,
          5.25,
          6,
          6.5,
          3.75,
          6.25,
          6,
          7,
          6.25,
          3,
          5.75,
          6.75,
          7,
          7,
          5.25,
          6.25,
          5.5,
          5.5,
          5.5,
          6.25,
          7,
          4.75,
          6.5,
          1.25,
          6.5,
          5.5,
          6.75,
          7,
          7,
          7,
          4,
          6.5,
          7,
          6.25,
          7,
          5.5,
          7,
          4.25,
          7,
          5.5,
          5.25,
          6.75,
          6,
          4,
          5.25,
          6.5,
          4.25,
          5.5,
          7,
          4.75,
          5,
          6.25,
          5.5,
          6.75,
          6,
          6,
          7,
          2.5,
          7,
          3.25,
          5.75,
          7,
          5,
          5,
          5.75,
          7,
          3.75,
          6.75,
          4.25,
          7,
          3,
          7,
          3.75,
          3.75,
          7,
          4.25,
          6,
          6.75,
          7,
          6.5,
          6.25,
          5,
          6,
          6.5,
          5.75,
          7,
          5.5,
          7,
          5.75,
          5,
          3.25,
          5,
          5,
          5.25,
          5,
          5.25,
          4,
          5.5,
          5.25,
          1,
          7,
          6.5,
          6.75,
          6.25,
          6,
          6.25,
          4.25,
          3.5,
          1.75,
          6.5,
          4.25,
          5.75,
          6.25,
          5,
          4,
          3.75,
          7,
          6.75,
          7,
          6,
          7,
          5.5,
          6.5,
          5,
          5.5,
          6,
          7,
          5.5,
          7,
          6.75,
          7,
          6.5,
          5.75,
          3.5,
          6.75,
          7,
          7,
          3.5,
          7,
          4,
          6.25,
          5.5,
          4.75,
          4.75,
          6,
          6.25,
          2.5,
          7,
          6.5,
          6,
          6.5,
          6.75,
          7,
          2.5
         ],
         "xaxis": "x",
         "y": [
          0,
          16,
          19,
          19,
          19,
          19,
          19,
          10,
          10,
          10,
          13,
          3,
          4,
          19,
          8,
          19,
          19,
          13,
          11,
          15,
          13,
          5,
          19,
          19,
          6,
          19,
          19,
          6,
          17,
          10,
          19,
          19,
          19,
          14,
          19,
          18,
          8,
          16,
          18,
          19,
          7,
          6,
          8,
          19,
          16,
          18,
          9,
          19,
          13,
          19,
          10,
          15,
          2,
          8,
          19,
          9,
          0,
          15,
          17,
          19,
          19,
          13,
          7,
          19,
          17,
          5,
          19,
          18,
          19,
          16,
          19,
          18,
          19,
          16,
          3,
          11,
          14,
          19,
          7,
          19,
          19,
          10,
          19,
          2,
          16,
          8,
          7,
          9,
          0,
          4,
          19,
          1,
          13,
          13,
          0,
          9,
          19,
          17,
          18,
          18,
          17,
          0,
          15,
          19,
          19,
          19,
          12,
          14,
          19,
          19,
          17,
          19,
          16,
          11,
          18,
          13,
          18,
          19,
          16,
          17,
          13,
          6,
          12,
          13,
          15,
          18,
          16,
          19,
          17,
          17,
          16,
          19,
          14,
          6,
          19,
          19,
          19,
          19,
          7,
          11,
          19,
          19,
          19,
          19,
          6,
          19,
          18,
          10,
          19,
          19,
          19,
          19,
          12,
          19,
          17,
          19,
          19,
          14,
          18,
          19,
          18,
          19,
          13,
          3,
          14,
          19,
          10,
          16,
          14,
          19,
          17,
          18,
          11,
          10,
          15,
          15,
          19,
          15,
          15,
          18,
          15,
          3,
          10,
          19,
          0,
          19,
          12,
          15,
          19,
          18,
          8,
          19,
          19,
          19,
          16,
          14,
          19,
          14,
          13,
          19,
          19,
          13,
          7,
          16,
          16,
          16,
          15,
          19,
          11,
          7,
          19,
          18,
          19,
          12,
          12,
          14,
          15,
          18,
          17,
          14,
          6,
          15,
          18,
          19,
          19,
          19,
          19,
          19,
          19,
          18
         ],
         "yaxis": "y"
        },
        {
         "alignmentgroup": "True",
         "hoverlabel": {
          "namelength": 0
         },
         "hovertemplate": "EnvironmentalAttitude=%{x}",
         "legendgroup": "",
         "marker": {
          "color": "#0d0887",
          "symbol": "circle"
         },
         "name": "",
         "notched": true,
         "offsetgroup": "",
         "showlegend": false,
         "type": "box",
         "x": [
          5.5,
          7,
          6.75,
          6.75,
          7,
          6.25,
          7,
          6,
          4,
          6.75,
          5.5,
          5,
          3.75,
          6.5,
          5.5,
          7,
          5.5,
          7,
          7,
          5,
          7,
          6.25,
          3,
          6.25,
          6.75,
          7,
          5.75,
          6,
          5.25,
          6.25,
          7,
          5.25,
          5.25,
          6.75,
          7,
          7,
          6,
          6.25,
          4.5,
          6.25,
          4.75,
          4.25,
          6,
          7,
          7,
          7,
          5,
          5.75,
          6.5,
          7,
          4.5,
          5.5,
          4.25,
          6.25,
          6.25,
          6,
          2.25,
          6.25,
          7,
          6.75,
          5.25,
          4.25,
          6.5,
          6.5,
          5,
          6.75,
          7,
          6.25,
          5.25,
          7,
          7,
          7,
          6.25,
          4.25,
          7,
          6.75,
          6.5,
          5.25,
          6,
          6.5,
          3.75,
          6.25,
          6,
          7,
          6.25,
          3,
          5.75,
          6.75,
          7,
          7,
          5.25,
          6.25,
          5.5,
          5.5,
          5.5,
          6.25,
          7,
          4.75,
          6.5,
          1.25,
          6.5,
          5.5,
          6.75,
          7,
          7,
          7,
          4,
          6.5,
          7,
          6.25,
          7,
          5.5,
          7,
          4.25,
          7,
          5.5,
          5.25,
          6.75,
          6,
          4,
          5.25,
          6.5,
          4.25,
          5.5,
          7,
          4.75,
          5,
          6.25,
          5.5,
          6.75,
          6,
          6,
          7,
          2.5,
          7,
          3.25,
          5.75,
          7,
          5,
          5,
          5.75,
          7,
          3.75,
          6.75,
          4.25,
          7,
          3,
          7,
          3.75,
          3.75,
          7,
          4.25,
          6,
          6.75,
          7,
          6.5,
          6.25,
          5,
          6,
          6.5,
          5.75,
          7,
          5.5,
          7,
          5.75,
          5,
          3.25,
          5,
          5,
          5.25,
          5,
          5.25,
          4,
          5.5,
          5.25,
          1,
          7,
          6.5,
          6.75,
          6.25,
          6,
          6.25,
          4.25,
          3.5,
          1.75,
          6.5,
          4.25,
          5.75,
          6.25,
          5,
          4,
          3.75,
          7,
          6.75,
          7,
          6,
          7,
          5.5,
          6.5,
          5,
          5.5,
          6,
          7,
          5.5,
          7,
          6.75,
          7,
          6.5,
          5.75,
          3.5,
          6.75,
          7,
          7,
          3.5,
          7,
          4,
          6.25,
          5.5,
          4.75,
          4.75,
          6,
          6.25,
          2.5,
          7,
          6.5,
          6,
          6.5,
          6.75,
          7,
          2.5
         ],
         "xaxis": "x3",
         "yaxis": "y3"
        },
        {
         "alignmentgroup": "True",
         "hoverlabel": {
          "namelength": 0
         },
         "hovertemplate": "EVChoice=%{y}",
         "legendgroup": "",
         "marker": {
          "color": "#0d0887",
          "symbol": "circle"
         },
         "name": "",
         "offsetgroup": "",
         "scalegroup": "y",
         "showlegend": false,
         "type": "violin",
         "xaxis": "x2",
         "y": [
          0,
          16,
          19,
          19,
          19,
          19,
          19,
          10,
          10,
          10,
          13,
          3,
          4,
          19,
          8,
          19,
          19,
          13,
          11,
          15,
          13,
          5,
          19,
          19,
          6,
          19,
          19,
          6,
          17,
          10,
          19,
          19,
          19,
          14,
          19,
          18,
          8,
          16,
          18,
          19,
          7,
          6,
          8,
          19,
          16,
          18,
          9,
          19,
          13,
          19,
          10,
          15,
          2,
          8,
          19,
          9,
          0,
          15,
          17,
          19,
          19,
          13,
          7,
          19,
          17,
          5,
          19,
          18,
          19,
          16,
          19,
          18,
          19,
          16,
          3,
          11,
          14,
          19,
          7,
          19,
          19,
          10,
          19,
          2,
          16,
          8,
          7,
          9,
          0,
          4,
          19,
          1,
          13,
          13,
          0,
          9,
          19,
          17,
          18,
          18,
          17,
          0,
          15,
          19,
          19,
          19,
          12,
          14,
          19,
          19,
          17,
          19,
          16,
          11,
          18,
          13,
          18,
          19,
          16,
          17,
          13,
          6,
          12,
          13,
          15,
          18,
          16,
          19,
          17,
          17,
          16,
          19,
          14,
          6,
          19,
          19,
          19,
          19,
          7,
          11,
          19,
          19,
          19,
          19,
          6,
          19,
          18,
          10,
          19,
          19,
          19,
          19,
          12,
          19,
          17,
          19,
          19,
          14,
          18,
          19,
          18,
          19,
          13,
          3,
          14,
          19,
          10,
          16,
          14,
          19,
          17,
          18,
          11,
          10,
          15,
          15,
          19,
          15,
          15,
          18,
          15,
          3,
          10,
          19,
          0,
          19,
          12,
          15,
          19,
          18,
          8,
          19,
          19,
          19,
          16,
          14,
          19,
          14,
          13,
          19,
          19,
          13,
          7,
          16,
          16,
          16,
          15,
          19,
          11,
          7,
          19,
          18,
          19,
          12,
          12,
          14,
          15,
          18,
          17,
          14,
          6,
          15,
          18,
          19,
          19,
          19,
          19,
          19,
          19,
          18
         ],
         "yaxis": "y2"
        }
       ],
       "layout": {
        "coloraxis": {
         "colorbar": {
          "title": {
           "text": "Sex"
          }
         },
         "colorscale": [
          [
           0,
           "#0d0887"
          ],
          [
           0.1111111111111111,
           "#46039f"
          ],
          [
           0.2222222222222222,
           "#7201a8"
          ],
          [
           0.3333333333333333,
           "#9c179e"
          ],
          [
           0.4444444444444444,
           "#bd3786"
          ],
          [
           0.5555555555555556,
           "#d8576b"
          ],
          [
           0.6666666666666666,
           "#ed7953"
          ],
          [
           0.7777777777777778,
           "#fb9f3a"
          ],
          [
           0.8888888888888888,
           "#fdca26"
          ],
          [
           1,
           "#f0f921"
          ]
         ]
        },
        "legend": {
         "tracegroupgap": 0
        },
        "margin": {
         "t": 60
        },
        "template": {
         "data": {
          "bar": [
           {
            "error_x": {
             "color": "#2a3f5f"
            },
            "error_y": {
             "color": "#2a3f5f"
            },
            "marker": {
             "line": {
              "color": "#E5ECF6",
              "width": 0.5
             }
            },
            "type": "bar"
           }
          ],
          "barpolar": [
           {
            "marker": {
             "line": {
              "color": "#E5ECF6",
              "width": 0.5
             }
            },
            "type": "barpolar"
           }
          ],
          "carpet": [
           {
            "aaxis": {
             "endlinecolor": "#2a3f5f",
             "gridcolor": "white",
             "linecolor": "white",
             "minorgridcolor": "white",
             "startlinecolor": "#2a3f5f"
            },
            "baxis": {
             "endlinecolor": "#2a3f5f",
             "gridcolor": "white",
             "linecolor": "white",
             "minorgridcolor": "white",
             "startlinecolor": "#2a3f5f"
            },
            "type": "carpet"
           }
          ],
          "choropleth": [
           {
            "colorbar": {
             "outlinewidth": 0,
             "ticks": ""
            },
            "type": "choropleth"
           }
          ],
          "contour": [
           {
            "colorbar": {
             "outlinewidth": 0,
             "ticks": ""
            },
            "colorscale": [
             [
              0,
              "#0d0887"
             ],
             [
              0.1111111111111111,
              "#46039f"
             ],
             [
              0.2222222222222222,
              "#7201a8"
             ],
             [
              0.3333333333333333,
              "#9c179e"
             ],
             [
              0.4444444444444444,
              "#bd3786"
             ],
             [
              0.5555555555555556,
              "#d8576b"
             ],
             [
              0.6666666666666666,
              "#ed7953"
             ],
             [
              0.7777777777777778,
              "#fb9f3a"
             ],
             [
              0.8888888888888888,
              "#fdca26"
             ],
             [
              1,
              "#f0f921"
             ]
            ],
            "type": "contour"
           }
          ],
          "contourcarpet": [
           {
            "colorbar": {
             "outlinewidth": 0,
             "ticks": ""
            },
            "type": "contourcarpet"
           }
          ],
          "heatmap": [
           {
            "colorbar": {
             "outlinewidth": 0,
             "ticks": ""
            },
            "colorscale": [
             [
              0,
              "#0d0887"
             ],
             [
              0.1111111111111111,
              "#46039f"
             ],
             [
              0.2222222222222222,
              "#7201a8"
             ],
             [
              0.3333333333333333,
              "#9c179e"
             ],
             [
              0.4444444444444444,
              "#bd3786"
             ],
             [
              0.5555555555555556,
              "#d8576b"
             ],
             [
              0.6666666666666666,
              "#ed7953"
             ],
             [
              0.7777777777777778,
              "#fb9f3a"
             ],
             [
              0.8888888888888888,
              "#fdca26"
             ],
             [
              1,
              "#f0f921"
             ]
            ],
            "type": "heatmap"
           }
          ],
          "heatmapgl": [
           {
            "colorbar": {
             "outlinewidth": 0,
             "ticks": ""
            },
            "colorscale": [
             [
              0,
              "#0d0887"
             ],
             [
              0.1111111111111111,
              "#46039f"
             ],
             [
              0.2222222222222222,
              "#7201a8"
             ],
             [
              0.3333333333333333,
              "#9c179e"
             ],
             [
              0.4444444444444444,
              "#bd3786"
             ],
             [
              0.5555555555555556,
              "#d8576b"
             ],
             [
              0.6666666666666666,
              "#ed7953"
             ],
             [
              0.7777777777777778,
              "#fb9f3a"
             ],
             [
              0.8888888888888888,
              "#fdca26"
             ],
             [
              1,
              "#f0f921"
             ]
            ],
            "type": "heatmapgl"
           }
          ],
          "histogram": [
           {
            "marker": {
             "colorbar": {
              "outlinewidth": 0,
              "ticks": ""
             }
            },
            "type": "histogram"
           }
          ],
          "histogram2d": [
           {
            "colorbar": {
             "outlinewidth": 0,
             "ticks": ""
            },
            "colorscale": [
             [
              0,
              "#0d0887"
             ],
             [
              0.1111111111111111,
              "#46039f"
             ],
             [
              0.2222222222222222,
              "#7201a8"
             ],
             [
              0.3333333333333333,
              "#9c179e"
             ],
             [
              0.4444444444444444,
              "#bd3786"
             ],
             [
              0.5555555555555556,
              "#d8576b"
             ],
             [
              0.6666666666666666,
              "#ed7953"
             ],
             [
              0.7777777777777778,
              "#fb9f3a"
             ],
             [
              0.8888888888888888,
              "#fdca26"
             ],
             [
              1,
              "#f0f921"
             ]
            ],
            "type": "histogram2d"
           }
          ],
          "histogram2dcontour": [
           {
            "colorbar": {
             "outlinewidth": 0,
             "ticks": ""
            },
            "colorscale": [
             [
              0,
              "#0d0887"
             ],
             [
              0.1111111111111111,
              "#46039f"
             ],
             [
              0.2222222222222222,
              "#7201a8"
             ],
             [
              0.3333333333333333,
              "#9c179e"
             ],
             [
              0.4444444444444444,
              "#bd3786"
             ],
             [
              0.5555555555555556,
              "#d8576b"
             ],
             [
              0.6666666666666666,
              "#ed7953"
             ],
             [
              0.7777777777777778,
              "#fb9f3a"
             ],
             [
              0.8888888888888888,
              "#fdca26"
             ],
             [
              1,
              "#f0f921"
             ]
            ],
            "type": "histogram2dcontour"
           }
          ],
          "mesh3d": [
           {
            "colorbar": {
             "outlinewidth": 0,
             "ticks": ""
            },
            "type": "mesh3d"
           }
          ],
          "parcoords": [
           {
            "line": {
             "colorbar": {
              "outlinewidth": 0,
              "ticks": ""
             }
            },
            "type": "parcoords"
           }
          ],
          "pie": [
           {
            "automargin": true,
            "type": "pie"
           }
          ],
          "scatter": [
           {
            "marker": {
             "colorbar": {
              "outlinewidth": 0,
              "ticks": ""
             }
            },
            "type": "scatter"
           }
          ],
          "scatter3d": [
           {
            "line": {
             "colorbar": {
              "outlinewidth": 0,
              "ticks": ""
             }
            },
            "marker": {
             "colorbar": {
              "outlinewidth": 0,
              "ticks": ""
             }
            },
            "type": "scatter3d"
           }
          ],
          "scattercarpet": [
           {
            "marker": {
             "colorbar": {
              "outlinewidth": 0,
              "ticks": ""
             }
            },
            "type": "scattercarpet"
           }
          ],
          "scattergeo": [
           {
            "marker": {
             "colorbar": {
              "outlinewidth": 0,
              "ticks": ""
             }
            },
            "type": "scattergeo"
           }
          ],
          "scattergl": [
           {
            "marker": {
             "colorbar": {
              "outlinewidth": 0,
              "ticks": ""
             }
            },
            "type": "scattergl"
           }
          ],
          "scattermapbox": [
           {
            "marker": {
             "colorbar": {
              "outlinewidth": 0,
              "ticks": ""
             }
            },
            "type": "scattermapbox"
           }
          ],
          "scatterpolar": [
           {
            "marker": {
             "colorbar": {
              "outlinewidth": 0,
              "ticks": ""
             }
            },
            "type": "scatterpolar"
           }
          ],
          "scatterpolargl": [
           {
            "marker": {
             "colorbar": {
              "outlinewidth": 0,
              "ticks": ""
             }
            },
            "type": "scatterpolargl"
           }
          ],
          "scatterternary": [
           {
            "marker": {
             "colorbar": {
              "outlinewidth": 0,
              "ticks": ""
             }
            },
            "type": "scatterternary"
           }
          ],
          "surface": [
           {
            "colorbar": {
             "outlinewidth": 0,
             "ticks": ""
            },
            "colorscale": [
             [
              0,
              "#0d0887"
             ],
             [
              0.1111111111111111,
              "#46039f"
             ],
             [
              0.2222222222222222,
              "#7201a8"
             ],
             [
              0.3333333333333333,
              "#9c179e"
             ],
             [
              0.4444444444444444,
              "#bd3786"
             ],
             [
              0.5555555555555556,
              "#d8576b"
             ],
             [
              0.6666666666666666,
              "#ed7953"
             ],
             [
              0.7777777777777778,
              "#fb9f3a"
             ],
             [
              0.8888888888888888,
              "#fdca26"
             ],
             [
              1,
              "#f0f921"
             ]
            ],
            "type": "surface"
           }
          ],
          "table": [
           {
            "cells": {
             "fill": {
              "color": "#EBF0F8"
             },
             "line": {
              "color": "white"
             }
            },
            "header": {
             "fill": {
              "color": "#C8D4E3"
             },
             "line": {
              "color": "white"
             }
            },
            "type": "table"
           }
          ]
         },
         "layout": {
          "annotationdefaults": {
           "arrowcolor": "#2a3f5f",
           "arrowhead": 0,
           "arrowwidth": 1
          },
          "coloraxis": {
           "colorbar": {
            "outlinewidth": 0,
            "ticks": ""
           }
          },
          "colorscale": {
           "diverging": [
            [
             0,
             "#8e0152"
            ],
            [
             0.1,
             "#c51b7d"
            ],
            [
             0.2,
             "#de77ae"
            ],
            [
             0.3,
             "#f1b6da"
            ],
            [
             0.4,
             "#fde0ef"
            ],
            [
             0.5,
             "#f7f7f7"
            ],
            [
             0.6,
             "#e6f5d0"
            ],
            [
             0.7,
             "#b8e186"
            ],
            [
             0.8,
             "#7fbc41"
            ],
            [
             0.9,
             "#4d9221"
            ],
            [
             1,
             "#276419"
            ]
           ],
           "sequential": [
            [
             0,
             "#0d0887"
            ],
            [
             0.1111111111111111,
             "#46039f"
            ],
            [
             0.2222222222222222,
             "#7201a8"
            ],
            [
             0.3333333333333333,
             "#9c179e"
            ],
            [
             0.4444444444444444,
             "#bd3786"
            ],
            [
             0.5555555555555556,
             "#d8576b"
            ],
            [
             0.6666666666666666,
             "#ed7953"
            ],
            [
             0.7777777777777778,
             "#fb9f3a"
            ],
            [
             0.8888888888888888,
             "#fdca26"
            ],
            [
             1,
             "#f0f921"
            ]
           ],
           "sequentialminus": [
            [
             0,
             "#0d0887"
            ],
            [
             0.1111111111111111,
             "#46039f"
            ],
            [
             0.2222222222222222,
             "#7201a8"
            ],
            [
             0.3333333333333333,
             "#9c179e"
            ],
            [
             0.4444444444444444,
             "#bd3786"
            ],
            [
             0.5555555555555556,
             "#d8576b"
            ],
            [
             0.6666666666666666,
             "#ed7953"
            ],
            [
             0.7777777777777778,
             "#fb9f3a"
            ],
            [
             0.8888888888888888,
             "#fdca26"
            ],
            [
             1,
             "#f0f921"
            ]
           ]
          },
          "colorway": [
           "#636efa",
           "#EF553B",
           "#00cc96",
           "#ab63fa",
           "#FFA15A",
           "#19d3f3",
           "#FF6692",
           "#B6E880",
           "#FF97FF",
           "#FECB52"
          ],
          "font": {
           "color": "#2a3f5f"
          },
          "geo": {
           "bgcolor": "white",
           "lakecolor": "white",
           "landcolor": "#E5ECF6",
           "showlakes": true,
           "showland": true,
           "subunitcolor": "white"
          },
          "hoverlabel": {
           "align": "left"
          },
          "hovermode": "closest",
          "mapbox": {
           "style": "light"
          },
          "paper_bgcolor": "white",
          "plot_bgcolor": "#E5ECF6",
          "polar": {
           "angularaxis": {
            "gridcolor": "white",
            "linecolor": "white",
            "ticks": ""
           },
           "bgcolor": "#E5ECF6",
           "radialaxis": {
            "gridcolor": "white",
            "linecolor": "white",
            "ticks": ""
           }
          },
          "scene": {
           "xaxis": {
            "backgroundcolor": "#E5ECF6",
            "gridcolor": "white",
            "gridwidth": 2,
            "linecolor": "white",
            "showbackground": true,
            "ticks": "",
            "zerolinecolor": "white"
           },
           "yaxis": {
            "backgroundcolor": "#E5ECF6",
            "gridcolor": "white",
            "gridwidth": 2,
            "linecolor": "white",
            "showbackground": true,
            "ticks": "",
            "zerolinecolor": "white"
           },
           "zaxis": {
            "backgroundcolor": "#E5ECF6",
            "gridcolor": "white",
            "gridwidth": 2,
            "linecolor": "white",
            "showbackground": true,
            "ticks": "",
            "zerolinecolor": "white"
           }
          },
          "shapedefaults": {
           "line": {
            "color": "#2a3f5f"
           }
          },
          "ternary": {
           "aaxis": {
            "gridcolor": "white",
            "linecolor": "white",
            "ticks": ""
           },
           "baxis": {
            "gridcolor": "white",
            "linecolor": "white",
            "ticks": ""
           },
           "bgcolor": "#E5ECF6",
           "caxis": {
            "gridcolor": "white",
            "linecolor": "white",
            "ticks": ""
           }
          },
          "title": {
           "x": 0.05
          },
          "xaxis": {
           "automargin": true,
           "gridcolor": "white",
           "linecolor": "white",
           "ticks": "",
           "title": {
            "standoff": 15
           },
           "zerolinecolor": "white",
           "zerolinewidth": 2
          },
          "yaxis": {
           "automargin": true,
           "gridcolor": "white",
           "linecolor": "white",
           "ticks": "",
           "title": {
            "standoff": 15
           },
           "zerolinecolor": "white",
           "zerolinewidth": 2
          }
         }
        },
        "xaxis": {
         "anchor": "y",
         "domain": [
          0,
          0.7363
         ],
         "title": {
          "text": "EnvironmentalAttitude"
         }
        },
        "xaxis2": {
         "anchor": "y2",
         "domain": [
          0.7413,
          1
         ],
         "matches": "x2",
         "showgrid": false,
         "showline": false,
         "showticklabels": false,
         "ticks": ""
        },
        "xaxis3": {
         "anchor": "y3",
         "domain": [
          0,
          0.7363
         ],
         "matches": "x",
         "showgrid": true,
         "showticklabels": false
        },
        "xaxis4": {
         "anchor": "y4",
         "domain": [
          0.7413,
          1
         ],
         "matches": "x2",
         "showgrid": false,
         "showline": false,
         "showticklabels": false,
         "ticks": ""
        },
        "yaxis": {
         "anchor": "x",
         "domain": [
          0,
          0.7326
         ],
         "title": {
          "text": "EVChoice"
         }
        },
        "yaxis2": {
         "anchor": "x2",
         "domain": [
          0,
          0.7326
         ],
         "matches": "y",
         "showgrid": true,
         "showticklabels": false
        },
        "yaxis3": {
         "anchor": "x3",
         "domain": [
          0.7426,
          1
         ],
         "matches": "y3",
         "showgrid": false,
         "showline": false,
         "showticklabels": false,
         "ticks": ""
        },
        "yaxis4": {
         "anchor": "x4",
         "domain": [
          0.7426,
          1
         ],
         "matches": "y3",
         "showgrid": true,
         "showline": false,
         "showticklabels": false,
         "ticks": ""
        }
       }
      },
      "text/html": [
       "<div>\n",
       "        \n",
       "        \n",
       "            <div id=\"6f44b48e-0713-4c52-b922-99698289fe06\" class=\"plotly-graph-div\" style=\"height:525px; width:100%;\"></div>\n",
       "            <script type=\"text/javascript\">\n",
       "                require([\"plotly\"], function(Plotly) {\n",
       "                    window.PLOTLYENV=window.PLOTLYENV || {};\n",
       "                    \n",
       "                if (document.getElementById(\"6f44b48e-0713-4c52-b922-99698289fe06\")) {\n",
       "                    Plotly.newPlot(\n",
       "                        '6f44b48e-0713-4c52-b922-99698289fe06',\n",
       "                        [{\"hoverlabel\": {\"namelength\": 0}, \"hovertemplate\": \"EnvironmentalAttitude=%{x}<br>EVChoice=%{y}<br>Sex=%{marker.color}\", \"legendgroup\": \"\", \"marker\": {\"color\": [2, 2, 2, 1, 1, 2, 1, 2, 2, 1, 2, 2, 2, 2, 2, 2, 2, 2, 1, 1, 1, 1, 2, 2, 1, 2, 1, 1, 1, 1, 2, 2, 2, 1, 2, 2, 1, 1, 2, 2, 2, 1, 1, 1, 1, 1, 1, 2, 1, 1, 2, 2, 2, 2, 1, 2, 2, 2, 1, 1, 1, 2, 2, 1, 2, 1, 1, 1, 1, 2, 1, 2, 1, 2, 1, 1, 1, 1, 1, 2, 1, 1, 1, 1, 1, 2, 1, 1, 2, 2, 1, 1, 1, 2, 2, 2, 2, 2, 2, 1, 1, 1, 2, 1, 1, 2, 1, 2, 1, 1, 1, 1, 1, 1, 1, 1, 1, 1, 1, 1, 2, 2, 2, 1, 1, 2, 2, 1, 1, 1, 1, 1, 1, 2, 1, 1, 2, 2, 2, 1, 2, 1, 1, 2, 2, 2, 2, 1, 2, 2, 1, 1, 2, 2, 2, 2, 1, 2, 1, 2, 1, 2, 2, 2, 1, 2, 3, 2, 2, 1, 1, 1, 2, 2, 2, 2, 2, 1, 2, 1, 2, 2, 1, 2, 2, 1, 2, 1, 1, 1, 2, 2, 3, 2, 1, 1, 3, 2, 1, 1, 2, 2, 2, 2, 1, 1, 2, 2, 2, 1, 1, 1, 1, 2, 1, 2, 2, 2, 1, 2, 3, 1, 2, 1, 2, 2, 1, 2, 2, 1], \"coloraxis\": \"coloraxis\", \"symbol\": \"circle\"}, \"mode\": \"markers\", \"name\": \"\", \"showlegend\": false, \"type\": \"scatter\", \"x\": [5.5, 7.0, 6.75, 6.75, 7.0, 6.25, 7.0, 6.0, 4.0, 6.75, 5.5, 5.0, 3.75, 6.5, 5.5, 7.0, 5.5, 7.0, 7.0, 5.0, 7.0, 6.25, 3.0, 6.25, 6.75, 7.0, 5.75, 6.0, 5.25, 6.25, 7.0, 5.25, 5.25, 6.75, 7.0, 7.0, 6.0, 6.25, 4.5, 6.25, 4.75, 4.25, 6.0, 7.0, 7.0, 7.0, 5.0, 5.75, 6.5, 7.0, 4.5, 5.5, 4.25, 6.25, 6.25, 6.0, 2.25, 6.25, 7.0, 6.75, 5.25, 4.25, 6.5, 6.5, 5.0, 6.75, 7.0, 6.25, 5.25, 7.0, 7.0, 7.0, 6.25, 4.25, 7.0, 6.75, 6.5, 5.25, 6.0, 6.5, 3.75, 6.25, 6.0, 7.0, 6.25, 3.0, 5.75, 6.75, 7.0, 7.0, 5.25, 6.25, 5.5, 5.5, 5.5, 6.25, 7.0, 4.75, 6.5, 1.25, 6.5, 5.5, 6.75, 7.0, 7.0, 7.0, 4.0, 6.5, 7.0, 6.25, 7.0, 5.5, 7.0, 4.25, 7.0, 5.5, 5.25, 6.75, 6.0, 4.0, 5.25, 6.5, 4.25, 5.5, 7.0, 4.75, 5.0, 6.25, 5.5, 6.75, 6.0, 6.0, 7.0, 2.5, 7.0, 3.25, 5.75, 7.0, 5.0, 5.0, 5.75, 7.0, 3.75, 6.75, 4.25, 7.0, 3.0, 7.0, 3.75, 3.75, 7.0, 4.25, 6.0, 6.75, 7.0, 6.5, 6.25, 5.0, 6.0, 6.5, 5.75, 7.0, 5.5, 7.0, 5.75, 5.0, 3.25, 5.0, 5.0, 5.25, 5.0, 5.25, 4.0, 5.5, 5.25, 1.0, 7.0, 6.5, 6.75, 6.25, 6.0, 6.25, 4.25, 3.5, 1.75, 6.5, 4.25, 5.75, 6.25, 5.0, 4.0, 3.75, 7.0, 6.75, 7.0, 6.0, 7.0, 5.5, 6.5, 5.0, 5.5, 6.0, 7.0, 5.5, 7.0, 6.75, 7.0, 6.5, 5.75, 3.5, 6.75, 7.0, 7.0, 3.5, 7.0, 4.0, 6.25, 5.5, 4.75, 4.75, 6.0, 6.25, 2.5, 7.0, 6.5, 6.0, 6.5, 6.75, 7.0, 2.5], \"xaxis\": \"x\", \"y\": [0, 16, 19, 19, 19, 19, 19, 10, 10, 10, 13, 3, 4, 19, 8, 19, 19, 13, 11, 15, 13, 5, 19, 19, 6, 19, 19, 6, 17, 10, 19, 19, 19, 14, 19, 18, 8, 16, 18, 19, 7, 6, 8, 19, 16, 18, 9, 19, 13, 19, 10, 15, 2, 8, 19, 9, 0, 15, 17, 19, 19, 13, 7, 19, 17, 5, 19, 18, 19, 16, 19, 18, 19, 16, 3, 11, 14, 19, 7, 19, 19, 10, 19, 2, 16, 8, 7, 9, 0, 4, 19, 1, 13, 13, 0, 9, 19, 17, 18, 18, 17, 0, 15, 19, 19, 19, 12, 14, 19, 19, 17, 19, 16, 11, 18, 13, 18, 19, 16, 17, 13, 6, 12, 13, 15, 18, 16, 19, 17, 17, 16, 19, 14, 6, 19, 19, 19, 19, 7, 11, 19, 19, 19, 19, 6, 19, 18, 10, 19, 19, 19, 19, 12, 19, 17, 19, 19, 14, 18, 19, 18, 19, 13, 3, 14, 19, 10, 16, 14, 19, 17, 18, 11, 10, 15, 15, 19, 15, 15, 18, 15, 3, 10, 19, 0, 19, 12, 15, 19, 18, 8, 19, 19, 19, 16, 14, 19, 14, 13, 19, 19, 13, 7, 16, 16, 16, 15, 19, 11, 7, 19, 18, 19, 12, 12, 14, 15, 18, 17, 14, 6, 15, 18, 19, 19, 19, 19, 19, 19, 18], \"yaxis\": \"y\"}, {\"alignmentgroup\": \"True\", \"hoverlabel\": {\"namelength\": 0}, \"hovertemplate\": \"EnvironmentalAttitude=%{x}\", \"legendgroup\": \"\", \"marker\": {\"color\": \"#0d0887\", \"symbol\": \"circle\"}, \"name\": \"\", \"notched\": true, \"offsetgroup\": \"\", \"showlegend\": false, \"type\": \"box\", \"x\": [5.5, 7.0, 6.75, 6.75, 7.0, 6.25, 7.0, 6.0, 4.0, 6.75, 5.5, 5.0, 3.75, 6.5, 5.5, 7.0, 5.5, 7.0, 7.0, 5.0, 7.0, 6.25, 3.0, 6.25, 6.75, 7.0, 5.75, 6.0, 5.25, 6.25, 7.0, 5.25, 5.25, 6.75, 7.0, 7.0, 6.0, 6.25, 4.5, 6.25, 4.75, 4.25, 6.0, 7.0, 7.0, 7.0, 5.0, 5.75, 6.5, 7.0, 4.5, 5.5, 4.25, 6.25, 6.25, 6.0, 2.25, 6.25, 7.0, 6.75, 5.25, 4.25, 6.5, 6.5, 5.0, 6.75, 7.0, 6.25, 5.25, 7.0, 7.0, 7.0, 6.25, 4.25, 7.0, 6.75, 6.5, 5.25, 6.0, 6.5, 3.75, 6.25, 6.0, 7.0, 6.25, 3.0, 5.75, 6.75, 7.0, 7.0, 5.25, 6.25, 5.5, 5.5, 5.5, 6.25, 7.0, 4.75, 6.5, 1.25, 6.5, 5.5, 6.75, 7.0, 7.0, 7.0, 4.0, 6.5, 7.0, 6.25, 7.0, 5.5, 7.0, 4.25, 7.0, 5.5, 5.25, 6.75, 6.0, 4.0, 5.25, 6.5, 4.25, 5.5, 7.0, 4.75, 5.0, 6.25, 5.5, 6.75, 6.0, 6.0, 7.0, 2.5, 7.0, 3.25, 5.75, 7.0, 5.0, 5.0, 5.75, 7.0, 3.75, 6.75, 4.25, 7.0, 3.0, 7.0, 3.75, 3.75, 7.0, 4.25, 6.0, 6.75, 7.0, 6.5, 6.25, 5.0, 6.0, 6.5, 5.75, 7.0, 5.5, 7.0, 5.75, 5.0, 3.25, 5.0, 5.0, 5.25, 5.0, 5.25, 4.0, 5.5, 5.25, 1.0, 7.0, 6.5, 6.75, 6.25, 6.0, 6.25, 4.25, 3.5, 1.75, 6.5, 4.25, 5.75, 6.25, 5.0, 4.0, 3.75, 7.0, 6.75, 7.0, 6.0, 7.0, 5.5, 6.5, 5.0, 5.5, 6.0, 7.0, 5.5, 7.0, 6.75, 7.0, 6.5, 5.75, 3.5, 6.75, 7.0, 7.0, 3.5, 7.0, 4.0, 6.25, 5.5, 4.75, 4.75, 6.0, 6.25, 2.5, 7.0, 6.5, 6.0, 6.5, 6.75, 7.0, 2.5], \"xaxis\": \"x3\", \"yaxis\": \"y3\"}, {\"alignmentgroup\": \"True\", \"hoverlabel\": {\"namelength\": 0}, \"hovertemplate\": \"EVChoice=%{y}\", \"legendgroup\": \"\", \"marker\": {\"color\": \"#0d0887\", \"symbol\": \"circle\"}, \"name\": \"\", \"offsetgroup\": \"\", \"scalegroup\": \"y\", \"showlegend\": false, \"type\": \"violin\", \"xaxis\": \"x2\", \"y\": [0, 16, 19, 19, 19, 19, 19, 10, 10, 10, 13, 3, 4, 19, 8, 19, 19, 13, 11, 15, 13, 5, 19, 19, 6, 19, 19, 6, 17, 10, 19, 19, 19, 14, 19, 18, 8, 16, 18, 19, 7, 6, 8, 19, 16, 18, 9, 19, 13, 19, 10, 15, 2, 8, 19, 9, 0, 15, 17, 19, 19, 13, 7, 19, 17, 5, 19, 18, 19, 16, 19, 18, 19, 16, 3, 11, 14, 19, 7, 19, 19, 10, 19, 2, 16, 8, 7, 9, 0, 4, 19, 1, 13, 13, 0, 9, 19, 17, 18, 18, 17, 0, 15, 19, 19, 19, 12, 14, 19, 19, 17, 19, 16, 11, 18, 13, 18, 19, 16, 17, 13, 6, 12, 13, 15, 18, 16, 19, 17, 17, 16, 19, 14, 6, 19, 19, 19, 19, 7, 11, 19, 19, 19, 19, 6, 19, 18, 10, 19, 19, 19, 19, 12, 19, 17, 19, 19, 14, 18, 19, 18, 19, 13, 3, 14, 19, 10, 16, 14, 19, 17, 18, 11, 10, 15, 15, 19, 15, 15, 18, 15, 3, 10, 19, 0, 19, 12, 15, 19, 18, 8, 19, 19, 19, 16, 14, 19, 14, 13, 19, 19, 13, 7, 16, 16, 16, 15, 19, 11, 7, 19, 18, 19, 12, 12, 14, 15, 18, 17, 14, 6, 15, 18, 19, 19, 19, 19, 19, 19, 18], \"yaxis\": \"y2\"}],\n",
       "                        {\"coloraxis\": {\"colorbar\": {\"title\": {\"text\": \"Sex\"}}, \"colorscale\": [[0.0, \"#0d0887\"], [0.1111111111111111, \"#46039f\"], [0.2222222222222222, \"#7201a8\"], [0.3333333333333333, \"#9c179e\"], [0.4444444444444444, \"#bd3786\"], [0.5555555555555556, \"#d8576b\"], [0.6666666666666666, \"#ed7953\"], [0.7777777777777778, \"#fb9f3a\"], [0.8888888888888888, \"#fdca26\"], [1.0, \"#f0f921\"]]}, \"legend\": {\"tracegroupgap\": 0}, \"margin\": {\"t\": 60}, \"template\": {\"data\": {\"bar\": [{\"error_x\": {\"color\": \"#2a3f5f\"}, \"error_y\": {\"color\": \"#2a3f5f\"}, \"marker\": {\"line\": {\"color\": \"#E5ECF6\", \"width\": 0.5}}, \"type\": \"bar\"}], \"barpolar\": [{\"marker\": {\"line\": {\"color\": \"#E5ECF6\", \"width\": 0.5}}, \"type\": \"barpolar\"}], \"carpet\": [{\"aaxis\": {\"endlinecolor\": \"#2a3f5f\", \"gridcolor\": \"white\", \"linecolor\": \"white\", \"minorgridcolor\": \"white\", \"startlinecolor\": \"#2a3f5f\"}, \"baxis\": {\"endlinecolor\": \"#2a3f5f\", \"gridcolor\": \"white\", \"linecolor\": \"white\", \"minorgridcolor\": \"white\", \"startlinecolor\": \"#2a3f5f\"}, \"type\": \"carpet\"}], \"choropleth\": [{\"colorbar\": {\"outlinewidth\": 0, \"ticks\": \"\"}, \"type\": \"choropleth\"}], \"contour\": [{\"colorbar\": {\"outlinewidth\": 0, \"ticks\": \"\"}, \"colorscale\": [[0.0, \"#0d0887\"], [0.1111111111111111, \"#46039f\"], [0.2222222222222222, \"#7201a8\"], [0.3333333333333333, \"#9c179e\"], [0.4444444444444444, \"#bd3786\"], [0.5555555555555556, \"#d8576b\"], [0.6666666666666666, \"#ed7953\"], [0.7777777777777778, \"#fb9f3a\"], [0.8888888888888888, \"#fdca26\"], [1.0, \"#f0f921\"]], \"type\": \"contour\"}], \"contourcarpet\": [{\"colorbar\": {\"outlinewidth\": 0, \"ticks\": \"\"}, \"type\": \"contourcarpet\"}], \"heatmap\": [{\"colorbar\": {\"outlinewidth\": 0, \"ticks\": \"\"}, \"colorscale\": [[0.0, \"#0d0887\"], [0.1111111111111111, \"#46039f\"], [0.2222222222222222, \"#7201a8\"], [0.3333333333333333, \"#9c179e\"], [0.4444444444444444, \"#bd3786\"], [0.5555555555555556, \"#d8576b\"], [0.6666666666666666, \"#ed7953\"], [0.7777777777777778, \"#fb9f3a\"], [0.8888888888888888, \"#fdca26\"], [1.0, \"#f0f921\"]], \"type\": \"heatmap\"}], \"heatmapgl\": [{\"colorbar\": {\"outlinewidth\": 0, \"ticks\": \"\"}, \"colorscale\": [[0.0, \"#0d0887\"], [0.1111111111111111, \"#46039f\"], [0.2222222222222222, \"#7201a8\"], [0.3333333333333333, \"#9c179e\"], [0.4444444444444444, \"#bd3786\"], [0.5555555555555556, \"#d8576b\"], [0.6666666666666666, \"#ed7953\"], [0.7777777777777778, \"#fb9f3a\"], [0.8888888888888888, \"#fdca26\"], [1.0, \"#f0f921\"]], \"type\": \"heatmapgl\"}], \"histogram\": [{\"marker\": {\"colorbar\": {\"outlinewidth\": 0, \"ticks\": \"\"}}, \"type\": \"histogram\"}], \"histogram2d\": [{\"colorbar\": {\"outlinewidth\": 0, \"ticks\": \"\"}, \"colorscale\": [[0.0, \"#0d0887\"], [0.1111111111111111, \"#46039f\"], [0.2222222222222222, \"#7201a8\"], [0.3333333333333333, \"#9c179e\"], [0.4444444444444444, \"#bd3786\"], [0.5555555555555556, \"#d8576b\"], [0.6666666666666666, \"#ed7953\"], [0.7777777777777778, \"#fb9f3a\"], [0.8888888888888888, \"#fdca26\"], [1.0, \"#f0f921\"]], \"type\": \"histogram2d\"}], \"histogram2dcontour\": [{\"colorbar\": {\"outlinewidth\": 0, \"ticks\": \"\"}, \"colorscale\": [[0.0, \"#0d0887\"], [0.1111111111111111, \"#46039f\"], [0.2222222222222222, \"#7201a8\"], [0.3333333333333333, \"#9c179e\"], [0.4444444444444444, \"#bd3786\"], [0.5555555555555556, \"#d8576b\"], [0.6666666666666666, \"#ed7953\"], [0.7777777777777778, \"#fb9f3a\"], [0.8888888888888888, \"#fdca26\"], [1.0, \"#f0f921\"]], \"type\": \"histogram2dcontour\"}], \"mesh3d\": [{\"colorbar\": {\"outlinewidth\": 0, \"ticks\": \"\"}, \"type\": \"mesh3d\"}], \"parcoords\": [{\"line\": {\"colorbar\": {\"outlinewidth\": 0, \"ticks\": \"\"}}, \"type\": \"parcoords\"}], \"pie\": [{\"automargin\": true, \"type\": \"pie\"}], \"scatter\": [{\"marker\": {\"colorbar\": {\"outlinewidth\": 0, \"ticks\": \"\"}}, \"type\": \"scatter\"}], \"scatter3d\": [{\"line\": {\"colorbar\": {\"outlinewidth\": 0, \"ticks\": \"\"}}, \"marker\": {\"colorbar\": {\"outlinewidth\": 0, \"ticks\": \"\"}}, \"type\": \"scatter3d\"}], \"scattercarpet\": [{\"marker\": {\"colorbar\": {\"outlinewidth\": 0, \"ticks\": \"\"}}, \"type\": \"scattercarpet\"}], \"scattergeo\": [{\"marker\": {\"colorbar\": {\"outlinewidth\": 0, \"ticks\": \"\"}}, \"type\": \"scattergeo\"}], \"scattergl\": [{\"marker\": {\"colorbar\": {\"outlinewidth\": 0, \"ticks\": \"\"}}, \"type\": \"scattergl\"}], \"scattermapbox\": [{\"marker\": {\"colorbar\": {\"outlinewidth\": 0, \"ticks\": \"\"}}, \"type\": \"scattermapbox\"}], \"scatterpolar\": [{\"marker\": {\"colorbar\": {\"outlinewidth\": 0, \"ticks\": \"\"}}, \"type\": \"scatterpolar\"}], \"scatterpolargl\": [{\"marker\": {\"colorbar\": {\"outlinewidth\": 0, \"ticks\": \"\"}}, \"type\": \"scatterpolargl\"}], \"scatterternary\": [{\"marker\": {\"colorbar\": {\"outlinewidth\": 0, \"ticks\": \"\"}}, \"type\": \"scatterternary\"}], \"surface\": [{\"colorbar\": {\"outlinewidth\": 0, \"ticks\": \"\"}, \"colorscale\": [[0.0, \"#0d0887\"], [0.1111111111111111, \"#46039f\"], [0.2222222222222222, \"#7201a8\"], [0.3333333333333333, \"#9c179e\"], [0.4444444444444444, \"#bd3786\"], [0.5555555555555556, \"#d8576b\"], [0.6666666666666666, \"#ed7953\"], [0.7777777777777778, \"#fb9f3a\"], [0.8888888888888888, \"#fdca26\"], [1.0, \"#f0f921\"]], \"type\": \"surface\"}], \"table\": [{\"cells\": {\"fill\": {\"color\": \"#EBF0F8\"}, \"line\": {\"color\": \"white\"}}, \"header\": {\"fill\": {\"color\": \"#C8D4E3\"}, \"line\": {\"color\": \"white\"}}, \"type\": \"table\"}]}, \"layout\": {\"annotationdefaults\": {\"arrowcolor\": \"#2a3f5f\", \"arrowhead\": 0, \"arrowwidth\": 1}, \"coloraxis\": {\"colorbar\": {\"outlinewidth\": 0, \"ticks\": \"\"}}, \"colorscale\": {\"diverging\": [[0, \"#8e0152\"], [0.1, \"#c51b7d\"], [0.2, \"#de77ae\"], [0.3, \"#f1b6da\"], [0.4, \"#fde0ef\"], [0.5, \"#f7f7f7\"], [0.6, \"#e6f5d0\"], [0.7, \"#b8e186\"], [0.8, \"#7fbc41\"], [0.9, \"#4d9221\"], [1, \"#276419\"]], \"sequential\": [[0.0, \"#0d0887\"], [0.1111111111111111, \"#46039f\"], [0.2222222222222222, \"#7201a8\"], [0.3333333333333333, \"#9c179e\"], [0.4444444444444444, \"#bd3786\"], [0.5555555555555556, \"#d8576b\"], [0.6666666666666666, \"#ed7953\"], [0.7777777777777778, \"#fb9f3a\"], [0.8888888888888888, \"#fdca26\"], [1.0, \"#f0f921\"]], \"sequentialminus\": [[0.0, \"#0d0887\"], [0.1111111111111111, \"#46039f\"], [0.2222222222222222, \"#7201a8\"], [0.3333333333333333, \"#9c179e\"], [0.4444444444444444, \"#bd3786\"], [0.5555555555555556, \"#d8576b\"], [0.6666666666666666, \"#ed7953\"], [0.7777777777777778, \"#fb9f3a\"], [0.8888888888888888, \"#fdca26\"], [1.0, \"#f0f921\"]]}, \"colorway\": [\"#636efa\", \"#EF553B\", \"#00cc96\", \"#ab63fa\", \"#FFA15A\", \"#19d3f3\", \"#FF6692\", \"#B6E880\", \"#FF97FF\", \"#FECB52\"], \"font\": {\"color\": \"#2a3f5f\"}, \"geo\": {\"bgcolor\": \"white\", \"lakecolor\": \"white\", \"landcolor\": \"#E5ECF6\", \"showlakes\": true, \"showland\": true, \"subunitcolor\": \"white\"}, \"hoverlabel\": {\"align\": \"left\"}, \"hovermode\": \"closest\", \"mapbox\": {\"style\": \"light\"}, \"paper_bgcolor\": \"white\", \"plot_bgcolor\": \"#E5ECF6\", \"polar\": {\"angularaxis\": {\"gridcolor\": \"white\", \"linecolor\": \"white\", \"ticks\": \"\"}, \"bgcolor\": \"#E5ECF6\", \"radialaxis\": {\"gridcolor\": \"white\", \"linecolor\": \"white\", \"ticks\": \"\"}}, \"scene\": {\"xaxis\": {\"backgroundcolor\": \"#E5ECF6\", \"gridcolor\": \"white\", \"gridwidth\": 2, \"linecolor\": \"white\", \"showbackground\": true, \"ticks\": \"\", \"zerolinecolor\": \"white\"}, \"yaxis\": {\"backgroundcolor\": \"#E5ECF6\", \"gridcolor\": \"white\", \"gridwidth\": 2, \"linecolor\": \"white\", \"showbackground\": true, \"ticks\": \"\", \"zerolinecolor\": \"white\"}, \"zaxis\": {\"backgroundcolor\": \"#E5ECF6\", \"gridcolor\": \"white\", \"gridwidth\": 2, \"linecolor\": \"white\", \"showbackground\": true, \"ticks\": \"\", \"zerolinecolor\": \"white\"}}, \"shapedefaults\": {\"line\": {\"color\": \"#2a3f5f\"}}, \"ternary\": {\"aaxis\": {\"gridcolor\": \"white\", \"linecolor\": \"white\", \"ticks\": \"\"}, \"baxis\": {\"gridcolor\": \"white\", \"linecolor\": \"white\", \"ticks\": \"\"}, \"bgcolor\": \"#E5ECF6\", \"caxis\": {\"gridcolor\": \"white\", \"linecolor\": \"white\", \"ticks\": \"\"}}, \"title\": {\"x\": 0.05}, \"xaxis\": {\"automargin\": true, \"gridcolor\": \"white\", \"linecolor\": \"white\", \"ticks\": \"\", \"title\": {\"standoff\": 15}, \"zerolinecolor\": \"white\", \"zerolinewidth\": 2}, \"yaxis\": {\"automargin\": true, \"gridcolor\": \"white\", \"linecolor\": \"white\", \"ticks\": \"\", \"title\": {\"standoff\": 15}, \"zerolinecolor\": \"white\", \"zerolinewidth\": 2}}}, \"xaxis\": {\"anchor\": \"y\", \"domain\": [0.0, 0.7363], \"title\": {\"text\": \"EnvironmentalAttitude\"}}, \"xaxis2\": {\"anchor\": \"y2\", \"domain\": [0.7413, 1.0], \"matches\": \"x2\", \"showgrid\": false, \"showline\": false, \"showticklabels\": false, \"ticks\": \"\"}, \"xaxis3\": {\"anchor\": \"y3\", \"domain\": [0.0, 0.7363], \"matches\": \"x\", \"showgrid\": true, \"showticklabels\": false}, \"xaxis4\": {\"anchor\": \"y4\", \"domain\": [0.7413, 1.0], \"matches\": \"x2\", \"showgrid\": false, \"showline\": false, \"showticklabels\": false, \"ticks\": \"\"}, \"yaxis\": {\"anchor\": \"x\", \"domain\": [0.0, 0.7326], \"title\": {\"text\": \"EVChoice\"}}, \"yaxis2\": {\"anchor\": \"x2\", \"domain\": [0.0, 0.7326], \"matches\": \"y\", \"showgrid\": true, \"showticklabels\": false}, \"yaxis3\": {\"anchor\": \"x3\", \"domain\": [0.7426, 1.0], \"matches\": \"y3\", \"showgrid\": false, \"showline\": false, \"showticklabels\": false, \"ticks\": \"\"}, \"yaxis4\": {\"anchor\": \"x4\", \"domain\": [0.7426, 1.0], \"matches\": \"y3\", \"showgrid\": true, \"showline\": false, \"showticklabels\": false, \"ticks\": \"\"}},\n",
       "                        {\"responsive\": true}\n",
       "                    ).then(function(){\n",
       "                            \n",
       "var gd = document.getElementById('6f44b48e-0713-4c52-b922-99698289fe06');\n",
       "var x = new MutationObserver(function (mutations, observer) {{\n",
       "        var display = window.getComputedStyle(gd).display;\n",
       "        if (!display || display === 'none') {{\n",
       "            console.log([gd, 'removed!']);\n",
       "            Plotly.purge(gd);\n",
       "            observer.disconnect();\n",
       "        }}\n",
       "}});\n",
       "\n",
       "// Listen for the removal of the full notebook cells\n",
       "var notebookContainer = gd.closest('#notebook-container');\n",
       "if (notebookContainer) {{\n",
       "    x.observe(notebookContainer, {childList: true});\n",
       "}}\n",
       "\n",
       "// Listen for the clearing of the current output cell\n",
       "var outputEl = gd.closest('.output');\n",
       "if (outputEl) {{\n",
       "    x.observe(outputEl, {childList: true});\n",
       "}}\n",
       "\n",
       "                        })\n",
       "                };\n",
       "                });\n",
       "            </script>\n",
       "        </div>"
      ]
     },
     "metadata": {},
     "output_type": "display_data"
    },
    {
     "data": {
      "application/vnd.plotly.v1+json": {
       "config": {
        "plotlyServerURL": "https://plot.ly"
       },
       "data": [
        {
         "hoverlabel": {
          "namelength": 0
         },
         "hovertemplate": "Sex=2<br>EnvironmentalAttitude=%{x}<br>EVChoice=%{y}<br>Attitude=%{marker.color}",
         "legendgroup": "",
         "marker": {
          "color": [
           3.56,
           3.78,
           4.89,
           4.89,
           3.89,
           3.33,
           3.44,
           2,
           4.67,
           4.78,
           3.44,
           5,
           4.67,
           3.44,
           5,
           5,
           4.22,
           4.33,
           5,
           4,
           4.67,
           4.89,
           4.56,
           4.33,
           2.89,
           4.67,
           3.78,
           4.11,
           2.56,
           4,
           4.22,
           1.78,
           3.78,
           3.78,
           4.78,
           2.11,
           4.33,
           4.67,
           2.11,
           5,
           4.67,
           3.22,
           4.67,
           3,
           5,
           4,
           4,
           4.11,
           4.11,
           4.44,
           4.89,
           4.67,
           4.78,
           3.78,
           3.44,
           4.67,
           4.44,
           3.33,
           3.78,
           4.67,
           3.67,
           4.22,
           5,
           2.56,
           4.44,
           2.33,
           5,
           4.56,
           4.44,
           4.78,
           5,
           5,
           3.78,
           4.56,
           3.89,
           3.89,
           3.11,
           3.67,
           3.78,
           5,
           4.44,
           1.78,
           5,
           3,
           5,
           5,
           4.11,
           2.78,
           3.33,
           1.89,
           4.22,
           2.44,
           4.56,
           3.33,
           5,
           4.56,
           3.89,
           4.33,
           4.67,
           3.67,
           4.22,
           3.44,
           3.11,
           4,
           4.33,
           2.22,
           3.44,
           4,
           4.11,
           5,
           4.56,
           5
          ],
          "coloraxis": "coloraxis",
          "symbol": "circle"
         },
         "mode": "markers",
         "name": "",
         "showlegend": false,
         "type": "scattergl",
         "x": [
          5.5,
          7,
          6.75,
          6.25,
          6,
          4,
          5.5,
          5,
          3.75,
          6.5,
          5.5,
          7,
          5.5,
          7,
          3,
          6.25,
          7,
          7,
          5.25,
          5.25,
          7,
          7,
          4.5,
          6.25,
          4.75,
          5.75,
          4.5,
          5.5,
          4.25,
          6.25,
          6,
          2.25,
          6.25,
          4.25,
          6.5,
          5,
          7,
          7,
          4.25,
          6.5,
          3,
          7,
          7,
          5.5,
          5.5,
          6.25,
          7,
          4.75,
          6.5,
          6.75,
          7,
          6.5,
          5.25,
          6.5,
          4.25,
          4.75,
          5,
          2.5,
          5.75,
          7,
          5,
          5.75,
          6.75,
          4.25,
          7,
          3,
          3.75,
          3.75,
          6,
          6.75,
          7,
          6.5,
          5,
          6.5,
          7,
          5.5,
          7,
          5,
          5,
          5,
          4,
          5.5,
          5.25,
          1,
          7,
          6.75,
          6,
          6.25,
          3.5,
          1.75,
          4.25,
          4,
          3.75,
          6.75,
          5.5,
          5.5,
          6,
          7,
          5.5,
          7,
          6.5,
          5.75,
          3.5,
          4,
          6.25,
          5.5,
          4.75,
          2.5,
          6.5,
          6,
          6.75,
          7
         ],
         "xaxis": "x",
         "y": [
          0,
          16,
          19,
          19,
          10,
          10,
          13,
          3,
          4,
          19,
          8,
          19,
          19,
          13,
          19,
          19,
          19,
          19,
          19,
          19,
          19,
          18,
          18,
          19,
          7,
          19,
          10,
          15,
          2,
          8,
          9,
          0,
          15,
          13,
          7,
          17,
          16,
          18,
          16,
          19,
          8,
          0,
          4,
          13,
          0,
          9,
          19,
          17,
          18,
          15,
          19,
          14,
          13,
          6,
          12,
          18,
          16,
          6,
          19,
          19,
          7,
          19,
          19,
          6,
          19,
          18,
          19,
          19,
          12,
          19,
          17,
          19,
          14,
          19,
          19,
          13,
          3,
          19,
          16,
          14,
          11,
          10,
          15,
          15,
          19,
          15,
          15,
          3,
          19,
          0,
          12,
          8,
          19,
          19,
          14,
          19,
          13,
          7,
          16,
          15,
          19,
          11,
          12,
          14,
          15,
          18,
          14,
          18,
          19,
          19,
          19,
          19
         ],
         "yaxis": "y"
        },
        {
         "hoverlabel": {
          "namelength": 0
         },
         "hovertemplate": "Sex=1<br>EnvironmentalAttitude=%{x}<br>EVChoice=%{y}<br>Attitude=%{marker.color}",
         "legendgroup": "",
         "marker": {
          "color": [
           4.89,
           4.89,
           5,
           4.89,
           3.67,
           3.67,
           4.22,
           3.33,
           3.67,
           3.44,
           4.22,
           3.89,
           4.33,
           3.89,
           4,
           4.56,
           3.56,
           4,
           5,
           4.78,
           3.11,
           4.67,
           3.78,
           4.78,
           5,
           4.78,
           4.56,
           3.89,
           4.44,
           4.33,
           5,
           4.11,
           4.44,
           4,
           4.11,
           4.22,
           4.56,
           4.67,
           2.89,
           4.33,
           2.89,
           5,
           1.11,
           4.89,
           3.89,
           4,
           2.33,
           2.44,
           4.33,
           3.89,
           4.11,
           3.89,
           4.11,
           4.89,
           3.22,
           3.44,
           4.89,
           4.89,
           4.89,
           4.44,
           2.78,
           3.33,
           4.89,
           3.78,
           3.56,
           4.78,
           4.78,
           3.56,
           4.11,
           3.78,
           3.78,
           4.56,
           4.33,
           4,
           4.44,
           4,
           4.78,
           3.67,
           3.56,
           3.56,
           4.11,
           5,
           4.89,
           3.56,
           3.67,
           3.78,
           4.33,
           4.33,
           4,
           4.56,
           4.44,
           3.67,
           4,
           3.67,
           4,
           4.33,
           4.33,
           4.89,
           4.89,
           2.89,
           4.33,
           3.89,
           4.89,
           4.67,
           3.78,
           4,
           4.78,
           4.78,
           3.22,
           4.33,
           4.67,
           4.56,
           4.44,
           3.33
          ],
          "coloraxis": "coloraxis",
          "symbol": "circle"
         },
         "mode": "markers",
         "name": "",
         "showlegend": false,
         "type": "scattergl",
         "x": [
          6.75,
          7,
          7,
          6.75,
          7,
          5,
          7,
          6.25,
          6.75,
          5.75,
          6,
          5.25,
          6.25,
          6.75,
          6,
          6.25,
          4.25,
          6,
          7,
          7,
          7,
          5,
          6.5,
          7,
          6.25,
          7,
          6.75,
          5.25,
          6.5,
          6.75,
          7,
          6.25,
          5.25,
          7,
          6.25,
          7,
          6.75,
          6.5,
          5.25,
          6,
          3.75,
          6.25,
          6,
          7,
          6.25,
          5.75,
          6.75,
          5.25,
          6.25,
          5.5,
          1.25,
          6.5,
          5.5,
          7,
          7,
          4,
          7,
          6.25,
          7,
          5.5,
          7,
          4.25,
          7,
          5.5,
          5.25,
          6.75,
          6,
          4,
          5.5,
          7,
          6.25,
          5.5,
          6.75,
          6,
          6,
          7,
          7,
          3.25,
          5,
          7,
          3.75,
          7,
          7,
          4.25,
          6.25,
          6,
          5.75,
          5.75,
          5.25,
          5,
          5.25,
          6.5,
          6.25,
          4.25,
          6.5,
          5.75,
          6.25,
          5,
          7,
          6,
          6.5,
          5,
          7,
          6.75,
          3.5,
          6.75,
          7,
          7,
          7,
          4.75,
          6.25,
          7,
          6.5,
          2.5
         ],
         "xaxis": "x2",
         "y": [
          19,
          19,
          19,
          10,
          11,
          15,
          13,
          5,
          6,
          19,
          6,
          17,
          10,
          14,
          8,
          16,
          6,
          8,
          19,
          16,
          18,
          9,
          13,
          19,
          19,
          17,
          19,
          19,
          19,
          5,
          19,
          18,
          19,
          19,
          19,
          3,
          11,
          14,
          19,
          7,
          19,
          10,
          19,
          2,
          16,
          7,
          9,
          19,
          1,
          13,
          18,
          17,
          0,
          19,
          19,
          12,
          19,
          19,
          17,
          19,
          16,
          11,
          18,
          13,
          18,
          19,
          16,
          17,
          13,
          15,
          19,
          17,
          17,
          16,
          19,
          14,
          19,
          19,
          11,
          19,
          19,
          10,
          19,
          19,
          19,
          18,
          18,
          14,
          19,
          17,
          18,
          15,
          18,
          10,
          19,
          15,
          19,
          18,
          16,
          14,
          13,
          19,
          16,
          16,
          7,
          19,
          18,
          19,
          12,
          17,
          15,
          19,
          19,
          18
         ],
         "yaxis": "y2"
        },
        {
         "hoverlabel": {
          "namelength": 0
         },
         "hovertemplate": "Sex=3<br>EnvironmentalAttitude=%{x}<br>EVChoice=%{y}<br>Attitude=%{marker.color}",
         "legendgroup": "",
         "marker": {
          "color": [
           3.33,
           3,
           5,
           2.56
          ],
          "coloraxis": "coloraxis",
          "symbol": "circle"
         },
         "mode": "markers",
         "name": "",
         "showlegend": false,
         "type": "scattergl",
         "x": [
          3.25,
          7,
          7,
          6
         ],
         "xaxis": "x3",
         "y": [
          10,
          19,
          19,
          6
         ],
         "yaxis": "y3"
        }
       ],
       "layout": {
        "annotations": [
         {
          "font": {},
          "showarrow": false,
          "text": "Sex=2",
          "x": 0.15999999999999998,
          "xanchor": "center",
          "xref": "paper",
          "y": 1,
          "yanchor": "bottom",
          "yref": "paper"
         },
         {
          "font": {},
          "showarrow": false,
          "text": "Sex=1",
          "x": 0.49999999999999994,
          "xanchor": "center",
          "xref": "paper",
          "y": 1,
          "yanchor": "bottom",
          "yref": "paper"
         },
         {
          "font": {},
          "showarrow": false,
          "text": "Sex=3",
          "x": 0.8399999999999999,
          "xanchor": "center",
          "xref": "paper",
          "y": 1,
          "yanchor": "bottom",
          "yref": "paper"
         }
        ],
        "coloraxis": {
         "colorbar": {
          "title": {
           "text": "Attitude"
          }
         },
         "colorscale": [
          [
           0,
           "#440154"
          ],
          [
           0.1111111111111111,
           "#482878"
          ],
          [
           0.2222222222222222,
           "#3e4989"
          ],
          [
           0.3333333333333333,
           "#31688e"
          ],
          [
           0.4444444444444444,
           "#26828e"
          ],
          [
           0.5555555555555556,
           "#1f9e89"
          ],
          [
           0.6666666666666666,
           "#35b779"
          ],
          [
           0.7777777777777778,
           "#6ece58"
          ],
          [
           0.8888888888888888,
           "#b5de2b"
          ],
          [
           1,
           "#fde725"
          ]
         ]
        },
        "legend": {
         "tracegroupgap": 0
        },
        "margin": {
         "t": 60
        },
        "template": {
         "data": {
          "bar": [
           {
            "error_x": {
             "color": "#2a3f5f"
            },
            "error_y": {
             "color": "#2a3f5f"
            },
            "marker": {
             "line": {
              "color": "#E5ECF6",
              "width": 0.5
             }
            },
            "type": "bar"
           }
          ],
          "barpolar": [
           {
            "marker": {
             "line": {
              "color": "#E5ECF6",
              "width": 0.5
             }
            },
            "type": "barpolar"
           }
          ],
          "carpet": [
           {
            "aaxis": {
             "endlinecolor": "#2a3f5f",
             "gridcolor": "white",
             "linecolor": "white",
             "minorgridcolor": "white",
             "startlinecolor": "#2a3f5f"
            },
            "baxis": {
             "endlinecolor": "#2a3f5f",
             "gridcolor": "white",
             "linecolor": "white",
             "minorgridcolor": "white",
             "startlinecolor": "#2a3f5f"
            },
            "type": "carpet"
           }
          ],
          "choropleth": [
           {
            "colorbar": {
             "outlinewidth": 0,
             "ticks": ""
            },
            "type": "choropleth"
           }
          ],
          "contour": [
           {
            "colorbar": {
             "outlinewidth": 0,
             "ticks": ""
            },
            "colorscale": [
             [
              0,
              "#0d0887"
             ],
             [
              0.1111111111111111,
              "#46039f"
             ],
             [
              0.2222222222222222,
              "#7201a8"
             ],
             [
              0.3333333333333333,
              "#9c179e"
             ],
             [
              0.4444444444444444,
              "#bd3786"
             ],
             [
              0.5555555555555556,
              "#d8576b"
             ],
             [
              0.6666666666666666,
              "#ed7953"
             ],
             [
              0.7777777777777778,
              "#fb9f3a"
             ],
             [
              0.8888888888888888,
              "#fdca26"
             ],
             [
              1,
              "#f0f921"
             ]
            ],
            "type": "contour"
           }
          ],
          "contourcarpet": [
           {
            "colorbar": {
             "outlinewidth": 0,
             "ticks": ""
            },
            "type": "contourcarpet"
           }
          ],
          "heatmap": [
           {
            "colorbar": {
             "outlinewidth": 0,
             "ticks": ""
            },
            "colorscale": [
             [
              0,
              "#0d0887"
             ],
             [
              0.1111111111111111,
              "#46039f"
             ],
             [
              0.2222222222222222,
              "#7201a8"
             ],
             [
              0.3333333333333333,
              "#9c179e"
             ],
             [
              0.4444444444444444,
              "#bd3786"
             ],
             [
              0.5555555555555556,
              "#d8576b"
             ],
             [
              0.6666666666666666,
              "#ed7953"
             ],
             [
              0.7777777777777778,
              "#fb9f3a"
             ],
             [
              0.8888888888888888,
              "#fdca26"
             ],
             [
              1,
              "#f0f921"
             ]
            ],
            "type": "heatmap"
           }
          ],
          "heatmapgl": [
           {
            "colorbar": {
             "outlinewidth": 0,
             "ticks": ""
            },
            "colorscale": [
             [
              0,
              "#0d0887"
             ],
             [
              0.1111111111111111,
              "#46039f"
             ],
             [
              0.2222222222222222,
              "#7201a8"
             ],
             [
              0.3333333333333333,
              "#9c179e"
             ],
             [
              0.4444444444444444,
              "#bd3786"
             ],
             [
              0.5555555555555556,
              "#d8576b"
             ],
             [
              0.6666666666666666,
              "#ed7953"
             ],
             [
              0.7777777777777778,
              "#fb9f3a"
             ],
             [
              0.8888888888888888,
              "#fdca26"
             ],
             [
              1,
              "#f0f921"
             ]
            ],
            "type": "heatmapgl"
           }
          ],
          "histogram": [
           {
            "marker": {
             "colorbar": {
              "outlinewidth": 0,
              "ticks": ""
             }
            },
            "type": "histogram"
           }
          ],
          "histogram2d": [
           {
            "colorbar": {
             "outlinewidth": 0,
             "ticks": ""
            },
            "colorscale": [
             [
              0,
              "#0d0887"
             ],
             [
              0.1111111111111111,
              "#46039f"
             ],
             [
              0.2222222222222222,
              "#7201a8"
             ],
             [
              0.3333333333333333,
              "#9c179e"
             ],
             [
              0.4444444444444444,
              "#bd3786"
             ],
             [
              0.5555555555555556,
              "#d8576b"
             ],
             [
              0.6666666666666666,
              "#ed7953"
             ],
             [
              0.7777777777777778,
              "#fb9f3a"
             ],
             [
              0.8888888888888888,
              "#fdca26"
             ],
             [
              1,
              "#f0f921"
             ]
            ],
            "type": "histogram2d"
           }
          ],
          "histogram2dcontour": [
           {
            "colorbar": {
             "outlinewidth": 0,
             "ticks": ""
            },
            "colorscale": [
             [
              0,
              "#0d0887"
             ],
             [
              0.1111111111111111,
              "#46039f"
             ],
             [
              0.2222222222222222,
              "#7201a8"
             ],
             [
              0.3333333333333333,
              "#9c179e"
             ],
             [
              0.4444444444444444,
              "#bd3786"
             ],
             [
              0.5555555555555556,
              "#d8576b"
             ],
             [
              0.6666666666666666,
              "#ed7953"
             ],
             [
              0.7777777777777778,
              "#fb9f3a"
             ],
             [
              0.8888888888888888,
              "#fdca26"
             ],
             [
              1,
              "#f0f921"
             ]
            ],
            "type": "histogram2dcontour"
           }
          ],
          "mesh3d": [
           {
            "colorbar": {
             "outlinewidth": 0,
             "ticks": ""
            },
            "type": "mesh3d"
           }
          ],
          "parcoords": [
           {
            "line": {
             "colorbar": {
              "outlinewidth": 0,
              "ticks": ""
             }
            },
            "type": "parcoords"
           }
          ],
          "pie": [
           {
            "automargin": true,
            "type": "pie"
           }
          ],
          "scatter": [
           {
            "marker": {
             "colorbar": {
              "outlinewidth": 0,
              "ticks": ""
             }
            },
            "type": "scatter"
           }
          ],
          "scatter3d": [
           {
            "line": {
             "colorbar": {
              "outlinewidth": 0,
              "ticks": ""
             }
            },
            "marker": {
             "colorbar": {
              "outlinewidth": 0,
              "ticks": ""
             }
            },
            "type": "scatter3d"
           }
          ],
          "scattercarpet": [
           {
            "marker": {
             "colorbar": {
              "outlinewidth": 0,
              "ticks": ""
             }
            },
            "type": "scattercarpet"
           }
          ],
          "scattergeo": [
           {
            "marker": {
             "colorbar": {
              "outlinewidth": 0,
              "ticks": ""
             }
            },
            "type": "scattergeo"
           }
          ],
          "scattergl": [
           {
            "marker": {
             "colorbar": {
              "outlinewidth": 0,
              "ticks": ""
             }
            },
            "type": "scattergl"
           }
          ],
          "scattermapbox": [
           {
            "marker": {
             "colorbar": {
              "outlinewidth": 0,
              "ticks": ""
             }
            },
            "type": "scattermapbox"
           }
          ],
          "scatterpolar": [
           {
            "marker": {
             "colorbar": {
              "outlinewidth": 0,
              "ticks": ""
             }
            },
            "type": "scatterpolar"
           }
          ],
          "scatterpolargl": [
           {
            "marker": {
             "colorbar": {
              "outlinewidth": 0,
              "ticks": ""
             }
            },
            "type": "scatterpolargl"
           }
          ],
          "scatterternary": [
           {
            "marker": {
             "colorbar": {
              "outlinewidth": 0,
              "ticks": ""
             }
            },
            "type": "scatterternary"
           }
          ],
          "surface": [
           {
            "colorbar": {
             "outlinewidth": 0,
             "ticks": ""
            },
            "colorscale": [
             [
              0,
              "#0d0887"
             ],
             [
              0.1111111111111111,
              "#46039f"
             ],
             [
              0.2222222222222222,
              "#7201a8"
             ],
             [
              0.3333333333333333,
              "#9c179e"
             ],
             [
              0.4444444444444444,
              "#bd3786"
             ],
             [
              0.5555555555555556,
              "#d8576b"
             ],
             [
              0.6666666666666666,
              "#ed7953"
             ],
             [
              0.7777777777777778,
              "#fb9f3a"
             ],
             [
              0.8888888888888888,
              "#fdca26"
             ],
             [
              1,
              "#f0f921"
             ]
            ],
            "type": "surface"
           }
          ],
          "table": [
           {
            "cells": {
             "fill": {
              "color": "#EBF0F8"
             },
             "line": {
              "color": "white"
             }
            },
            "header": {
             "fill": {
              "color": "#C8D4E3"
             },
             "line": {
              "color": "white"
             }
            },
            "type": "table"
           }
          ]
         },
         "layout": {
          "annotationdefaults": {
           "arrowcolor": "#2a3f5f",
           "arrowhead": 0,
           "arrowwidth": 1
          },
          "coloraxis": {
           "colorbar": {
            "outlinewidth": 0,
            "ticks": ""
           }
          },
          "colorscale": {
           "diverging": [
            [
             0,
             "#8e0152"
            ],
            [
             0.1,
             "#c51b7d"
            ],
            [
             0.2,
             "#de77ae"
            ],
            [
             0.3,
             "#f1b6da"
            ],
            [
             0.4,
             "#fde0ef"
            ],
            [
             0.5,
             "#f7f7f7"
            ],
            [
             0.6,
             "#e6f5d0"
            ],
            [
             0.7,
             "#b8e186"
            ],
            [
             0.8,
             "#7fbc41"
            ],
            [
             0.9,
             "#4d9221"
            ],
            [
             1,
             "#276419"
            ]
           ],
           "sequential": [
            [
             0,
             "#0d0887"
            ],
            [
             0.1111111111111111,
             "#46039f"
            ],
            [
             0.2222222222222222,
             "#7201a8"
            ],
            [
             0.3333333333333333,
             "#9c179e"
            ],
            [
             0.4444444444444444,
             "#bd3786"
            ],
            [
             0.5555555555555556,
             "#d8576b"
            ],
            [
             0.6666666666666666,
             "#ed7953"
            ],
            [
             0.7777777777777778,
             "#fb9f3a"
            ],
            [
             0.8888888888888888,
             "#fdca26"
            ],
            [
             1,
             "#f0f921"
            ]
           ],
           "sequentialminus": [
            [
             0,
             "#0d0887"
            ],
            [
             0.1111111111111111,
             "#46039f"
            ],
            [
             0.2222222222222222,
             "#7201a8"
            ],
            [
             0.3333333333333333,
             "#9c179e"
            ],
            [
             0.4444444444444444,
             "#bd3786"
            ],
            [
             0.5555555555555556,
             "#d8576b"
            ],
            [
             0.6666666666666666,
             "#ed7953"
            ],
            [
             0.7777777777777778,
             "#fb9f3a"
            ],
            [
             0.8888888888888888,
             "#fdca26"
            ],
            [
             1,
             "#f0f921"
            ]
           ]
          },
          "colorway": [
           "#636efa",
           "#EF553B",
           "#00cc96",
           "#ab63fa",
           "#FFA15A",
           "#19d3f3",
           "#FF6692",
           "#B6E880",
           "#FF97FF",
           "#FECB52"
          ],
          "font": {
           "color": "#2a3f5f"
          },
          "geo": {
           "bgcolor": "white",
           "lakecolor": "white",
           "landcolor": "#E5ECF6",
           "showlakes": true,
           "showland": true,
           "subunitcolor": "white"
          },
          "hoverlabel": {
           "align": "left"
          },
          "hovermode": "closest",
          "mapbox": {
           "style": "light"
          },
          "paper_bgcolor": "white",
          "plot_bgcolor": "#E5ECF6",
          "polar": {
           "angularaxis": {
            "gridcolor": "white",
            "linecolor": "white",
            "ticks": ""
           },
           "bgcolor": "#E5ECF6",
           "radialaxis": {
            "gridcolor": "white",
            "linecolor": "white",
            "ticks": ""
           }
          },
          "scene": {
           "xaxis": {
            "backgroundcolor": "#E5ECF6",
            "gridcolor": "white",
            "gridwidth": 2,
            "linecolor": "white",
            "showbackground": true,
            "ticks": "",
            "zerolinecolor": "white"
           },
           "yaxis": {
            "backgroundcolor": "#E5ECF6",
            "gridcolor": "white",
            "gridwidth": 2,
            "linecolor": "white",
            "showbackground": true,
            "ticks": "",
            "zerolinecolor": "white"
           },
           "zaxis": {
            "backgroundcolor": "#E5ECF6",
            "gridcolor": "white",
            "gridwidth": 2,
            "linecolor": "white",
            "showbackground": true,
            "ticks": "",
            "zerolinecolor": "white"
           }
          },
          "shapedefaults": {
           "line": {
            "color": "#2a3f5f"
           }
          },
          "ternary": {
           "aaxis": {
            "gridcolor": "white",
            "linecolor": "white",
            "ticks": ""
           },
           "baxis": {
            "gridcolor": "white",
            "linecolor": "white",
            "ticks": ""
           },
           "bgcolor": "#E5ECF6",
           "caxis": {
            "gridcolor": "white",
            "linecolor": "white",
            "ticks": ""
           }
          },
          "title": {
           "x": 0.05
          },
          "xaxis": {
           "automargin": true,
           "gridcolor": "white",
           "linecolor": "white",
           "ticks": "",
           "title": {
            "standoff": 15
           },
           "zerolinecolor": "white",
           "zerolinewidth": 2
          },
          "yaxis": {
           "automargin": true,
           "gridcolor": "white",
           "linecolor": "white",
           "ticks": "",
           "title": {
            "standoff": 15
           },
           "zerolinecolor": "white",
           "zerolinewidth": 2
          }
         }
        },
        "xaxis": {
         "anchor": "y",
         "domain": [
          0,
          0.31999999999999995
         ],
         "title": {
          "text": "EnvironmentalAttitude"
         }
        },
        "xaxis2": {
         "anchor": "y2",
         "domain": [
          0.33999999999999997,
          0.6599999999999999
         ],
         "matches": "x",
         "title": {
          "text": "EnvironmentalAttitude"
         }
        },
        "xaxis3": {
         "anchor": "y3",
         "domain": [
          0.6799999999999999,
          0.9999999999999999
         ],
         "matches": "x",
         "title": {
          "text": "EnvironmentalAttitude"
         }
        },
        "yaxis": {
         "anchor": "x",
         "domain": [
          0,
          1
         ],
         "title": {
          "text": "EVChoice"
         }
        },
        "yaxis2": {
         "anchor": "x2",
         "domain": [
          0,
          1
         ],
         "matches": "y",
         "showticklabels": false
        },
        "yaxis3": {
         "anchor": "x3",
         "domain": [
          0,
          1
         ],
         "matches": "y",
         "showticklabels": false
        }
       }
      },
      "text/html": [
       "<div>\n",
       "        \n",
       "        \n",
       "            <div id=\"4bac4658-5c58-4d64-96ad-75f05195d5d4\" class=\"plotly-graph-div\" style=\"height:525px; width:100%;\"></div>\n",
       "            <script type=\"text/javascript\">\n",
       "                require([\"plotly\"], function(Plotly) {\n",
       "                    window.PLOTLYENV=window.PLOTLYENV || {};\n",
       "                    \n",
       "                if (document.getElementById(\"4bac4658-5c58-4d64-96ad-75f05195d5d4\")) {\n",
       "                    Plotly.newPlot(\n",
       "                        '4bac4658-5c58-4d64-96ad-75f05195d5d4',\n",
       "                        [{\"hoverlabel\": {\"namelength\": 0}, \"hovertemplate\": \"Sex=2<br>EnvironmentalAttitude=%{x}<br>EVChoice=%{y}<br>Attitude=%{marker.color}\", \"legendgroup\": \"\", \"marker\": {\"color\": [3.56, 3.78, 4.89, 4.89, 3.89, 3.33, 3.44, 2.0, 4.67, 4.78, 3.44, 5.0, 4.67, 3.44, 5.0, 5.0, 4.22, 4.33, 5.0, 4.0, 4.67, 4.89, 4.56, 4.33, 2.89, 4.67, 3.78, 4.11, 2.56, 4.0, 4.22, 1.78, 3.78, 3.78, 4.78, 2.11, 4.33, 4.67, 2.11, 5.0, 4.67, 3.22, 4.67, 3.0, 5.0, 4.0, 4.0, 4.11, 4.11, 4.44, 4.89, 4.67, 4.78, 3.78, 3.44, 4.67, 4.44, 3.33, 3.78, 4.67, 3.67, 4.22, 5.0, 2.56, 4.44, 2.33, 5.0, 4.56, 4.44, 4.78, 5.0, 5.0, 3.78, 4.56, 3.89, 3.89, 3.11, 3.67, 3.78, 5.0, 4.44, 1.78, 5.0, 3.0, 5.0, 5.0, 4.11, 2.78, 3.33, 1.89, 4.22, 2.44, 4.56, 3.33, 5.0, 4.56, 3.89, 4.33, 4.67, 3.67, 4.22, 3.44, 3.11, 4.0, 4.33, 2.22, 3.44, 4.0, 4.11, 5.0, 4.56, 5.0], \"coloraxis\": \"coloraxis\", \"symbol\": \"circle\"}, \"mode\": \"markers\", \"name\": \"\", \"showlegend\": false, \"type\": \"scattergl\", \"x\": [5.5, 7.0, 6.75, 6.25, 6.0, 4.0, 5.5, 5.0, 3.75, 6.5, 5.5, 7.0, 5.5, 7.0, 3.0, 6.25, 7.0, 7.0, 5.25, 5.25, 7.0, 7.0, 4.5, 6.25, 4.75, 5.75, 4.5, 5.5, 4.25, 6.25, 6.0, 2.25, 6.25, 4.25, 6.5, 5.0, 7.0, 7.0, 4.25, 6.5, 3.0, 7.0, 7.0, 5.5, 5.5, 6.25, 7.0, 4.75, 6.5, 6.75, 7.0, 6.5, 5.25, 6.5, 4.25, 4.75, 5.0, 2.5, 5.75, 7.0, 5.0, 5.75, 6.75, 4.25, 7.0, 3.0, 3.75, 3.75, 6.0, 6.75, 7.0, 6.5, 5.0, 6.5, 7.0, 5.5, 7.0, 5.0, 5.0, 5.0, 4.0, 5.5, 5.25, 1.0, 7.0, 6.75, 6.0, 6.25, 3.5, 1.75, 4.25, 4.0, 3.75, 6.75, 5.5, 5.5, 6.0, 7.0, 5.5, 7.0, 6.5, 5.75, 3.5, 4.0, 6.25, 5.5, 4.75, 2.5, 6.5, 6.0, 6.75, 7.0], \"xaxis\": \"x\", \"y\": [0, 16, 19, 19, 10, 10, 13, 3, 4, 19, 8, 19, 19, 13, 19, 19, 19, 19, 19, 19, 19, 18, 18, 19, 7, 19, 10, 15, 2, 8, 9, 0, 15, 13, 7, 17, 16, 18, 16, 19, 8, 0, 4, 13, 0, 9, 19, 17, 18, 15, 19, 14, 13, 6, 12, 18, 16, 6, 19, 19, 7, 19, 19, 6, 19, 18, 19, 19, 12, 19, 17, 19, 14, 19, 19, 13, 3, 19, 16, 14, 11, 10, 15, 15, 19, 15, 15, 3, 19, 0, 12, 8, 19, 19, 14, 19, 13, 7, 16, 15, 19, 11, 12, 14, 15, 18, 14, 18, 19, 19, 19, 19], \"yaxis\": \"y\"}, {\"hoverlabel\": {\"namelength\": 0}, \"hovertemplate\": \"Sex=1<br>EnvironmentalAttitude=%{x}<br>EVChoice=%{y}<br>Attitude=%{marker.color}\", \"legendgroup\": \"\", \"marker\": {\"color\": [4.89, 4.89, 5.0, 4.89, 3.67, 3.67, 4.22, 3.33, 3.67, 3.44, 4.22, 3.89, 4.33, 3.89, 4.0, 4.56, 3.56, 4.0, 5.0, 4.78, 3.11, 4.67, 3.78, 4.78, 5.0, 4.78, 4.56, 3.89, 4.44, 4.33, 5.0, 4.11, 4.44, 4.0, 4.11, 4.22, 4.56, 4.67, 2.89, 4.33, 2.89, 5.0, 1.11, 4.89, 3.89, 4.0, 2.33, 2.44, 4.33, 3.89, 4.11, 3.89, 4.11, 4.89, 3.22, 3.44, 4.89, 4.89, 4.89, 4.44, 2.78, 3.33, 4.89, 3.78, 3.56, 4.78, 4.78, 3.56, 4.11, 3.78, 3.78, 4.56, 4.33, 4.0, 4.44, 4.0, 4.78, 3.67, 3.56, 3.56, 4.11, 5.0, 4.89, 3.56, 3.67, 3.78, 4.33, 4.33, 4.0, 4.56, 4.44, 3.67, 4.0, 3.67, 4.0, 4.33, 4.33, 4.89, 4.89, 2.89, 4.33, 3.89, 4.89, 4.67, 3.78, 4.0, 4.78, 4.78, 3.22, 4.33, 4.67, 4.56, 4.44, 3.33], \"coloraxis\": \"coloraxis\", \"symbol\": \"circle\"}, \"mode\": \"markers\", \"name\": \"\", \"showlegend\": false, \"type\": \"scattergl\", \"x\": [6.75, 7.0, 7.0, 6.75, 7.0, 5.0, 7.0, 6.25, 6.75, 5.75, 6.0, 5.25, 6.25, 6.75, 6.0, 6.25, 4.25, 6.0, 7.0, 7.0, 7.0, 5.0, 6.5, 7.0, 6.25, 7.0, 6.75, 5.25, 6.5, 6.75, 7.0, 6.25, 5.25, 7.0, 6.25, 7.0, 6.75, 6.5, 5.25, 6.0, 3.75, 6.25, 6.0, 7.0, 6.25, 5.75, 6.75, 5.25, 6.25, 5.5, 1.25, 6.5, 5.5, 7.0, 7.0, 4.0, 7.0, 6.25, 7.0, 5.5, 7.0, 4.25, 7.0, 5.5, 5.25, 6.75, 6.0, 4.0, 5.5, 7.0, 6.25, 5.5, 6.75, 6.0, 6.0, 7.0, 7.0, 3.25, 5.0, 7.0, 3.75, 7.0, 7.0, 4.25, 6.25, 6.0, 5.75, 5.75, 5.25, 5.0, 5.25, 6.5, 6.25, 4.25, 6.5, 5.75, 6.25, 5.0, 7.0, 6.0, 6.5, 5.0, 7.0, 6.75, 3.5, 6.75, 7.0, 7.0, 7.0, 4.75, 6.25, 7.0, 6.5, 2.5], \"xaxis\": \"x2\", \"y\": [19, 19, 19, 10, 11, 15, 13, 5, 6, 19, 6, 17, 10, 14, 8, 16, 6, 8, 19, 16, 18, 9, 13, 19, 19, 17, 19, 19, 19, 5, 19, 18, 19, 19, 19, 3, 11, 14, 19, 7, 19, 10, 19, 2, 16, 7, 9, 19, 1, 13, 18, 17, 0, 19, 19, 12, 19, 19, 17, 19, 16, 11, 18, 13, 18, 19, 16, 17, 13, 15, 19, 17, 17, 16, 19, 14, 19, 19, 11, 19, 19, 10, 19, 19, 19, 18, 18, 14, 19, 17, 18, 15, 18, 10, 19, 15, 19, 18, 16, 14, 13, 19, 16, 16, 7, 19, 18, 19, 12, 17, 15, 19, 19, 18], \"yaxis\": \"y2\"}, {\"hoverlabel\": {\"namelength\": 0}, \"hovertemplate\": \"Sex=3<br>EnvironmentalAttitude=%{x}<br>EVChoice=%{y}<br>Attitude=%{marker.color}\", \"legendgroup\": \"\", \"marker\": {\"color\": [3.33, 3.0, 5.0, 2.56], \"coloraxis\": \"coloraxis\", \"symbol\": \"circle\"}, \"mode\": \"markers\", \"name\": \"\", \"showlegend\": false, \"type\": \"scattergl\", \"x\": [3.25, 7.0, 7.0, 6.0], \"xaxis\": \"x3\", \"y\": [10, 19, 19, 6], \"yaxis\": \"y3\"}],\n",
       "                        {\"annotations\": [{\"font\": {}, \"showarrow\": false, \"text\": \"Sex=2\", \"x\": 0.15999999999999998, \"xanchor\": \"center\", \"xref\": \"paper\", \"y\": 1.0, \"yanchor\": \"bottom\", \"yref\": \"paper\"}, {\"font\": {}, \"showarrow\": false, \"text\": \"Sex=1\", \"x\": 0.49999999999999994, \"xanchor\": \"center\", \"xref\": \"paper\", \"y\": 1.0, \"yanchor\": \"bottom\", \"yref\": \"paper\"}, {\"font\": {}, \"showarrow\": false, \"text\": \"Sex=3\", \"x\": 0.8399999999999999, \"xanchor\": \"center\", \"xref\": \"paper\", \"y\": 1.0, \"yanchor\": \"bottom\", \"yref\": \"paper\"}], \"coloraxis\": {\"colorbar\": {\"title\": {\"text\": \"Attitude\"}}, \"colorscale\": [[0.0, \"#440154\"], [0.1111111111111111, \"#482878\"], [0.2222222222222222, \"#3e4989\"], [0.3333333333333333, \"#31688e\"], [0.4444444444444444, \"#26828e\"], [0.5555555555555556, \"#1f9e89\"], [0.6666666666666666, \"#35b779\"], [0.7777777777777778, \"#6ece58\"], [0.8888888888888888, \"#b5de2b\"], [1.0, \"#fde725\"]]}, \"legend\": {\"tracegroupgap\": 0}, \"margin\": {\"t\": 60}, \"template\": {\"data\": {\"bar\": [{\"error_x\": {\"color\": \"#2a3f5f\"}, \"error_y\": {\"color\": \"#2a3f5f\"}, \"marker\": {\"line\": {\"color\": \"#E5ECF6\", \"width\": 0.5}}, \"type\": \"bar\"}], \"barpolar\": [{\"marker\": {\"line\": {\"color\": \"#E5ECF6\", \"width\": 0.5}}, \"type\": \"barpolar\"}], \"carpet\": [{\"aaxis\": {\"endlinecolor\": \"#2a3f5f\", \"gridcolor\": \"white\", \"linecolor\": \"white\", \"minorgridcolor\": \"white\", \"startlinecolor\": \"#2a3f5f\"}, \"baxis\": {\"endlinecolor\": \"#2a3f5f\", \"gridcolor\": \"white\", \"linecolor\": \"white\", \"minorgridcolor\": \"white\", \"startlinecolor\": \"#2a3f5f\"}, \"type\": \"carpet\"}], \"choropleth\": [{\"colorbar\": {\"outlinewidth\": 0, \"ticks\": \"\"}, \"type\": \"choropleth\"}], \"contour\": [{\"colorbar\": {\"outlinewidth\": 0, \"ticks\": \"\"}, \"colorscale\": [[0.0, \"#0d0887\"], [0.1111111111111111, \"#46039f\"], [0.2222222222222222, \"#7201a8\"], [0.3333333333333333, \"#9c179e\"], [0.4444444444444444, \"#bd3786\"], [0.5555555555555556, \"#d8576b\"], [0.6666666666666666, \"#ed7953\"], [0.7777777777777778, \"#fb9f3a\"], [0.8888888888888888, \"#fdca26\"], [1.0, \"#f0f921\"]], \"type\": \"contour\"}], \"contourcarpet\": [{\"colorbar\": {\"outlinewidth\": 0, \"ticks\": \"\"}, \"type\": \"contourcarpet\"}], \"heatmap\": [{\"colorbar\": {\"outlinewidth\": 0, \"ticks\": \"\"}, \"colorscale\": [[0.0, \"#0d0887\"], [0.1111111111111111, \"#46039f\"], [0.2222222222222222, \"#7201a8\"], [0.3333333333333333, \"#9c179e\"], [0.4444444444444444, \"#bd3786\"], [0.5555555555555556, \"#d8576b\"], [0.6666666666666666, \"#ed7953\"], [0.7777777777777778, \"#fb9f3a\"], [0.8888888888888888, \"#fdca26\"], [1.0, \"#f0f921\"]], \"type\": \"heatmap\"}], \"heatmapgl\": [{\"colorbar\": {\"outlinewidth\": 0, \"ticks\": \"\"}, \"colorscale\": [[0.0, \"#0d0887\"], [0.1111111111111111, \"#46039f\"], [0.2222222222222222, \"#7201a8\"], [0.3333333333333333, \"#9c179e\"], [0.4444444444444444, \"#bd3786\"], [0.5555555555555556, \"#d8576b\"], [0.6666666666666666, \"#ed7953\"], [0.7777777777777778, \"#fb9f3a\"], [0.8888888888888888, \"#fdca26\"], [1.0, \"#f0f921\"]], \"type\": \"heatmapgl\"}], \"histogram\": [{\"marker\": {\"colorbar\": {\"outlinewidth\": 0, \"ticks\": \"\"}}, \"type\": \"histogram\"}], \"histogram2d\": [{\"colorbar\": {\"outlinewidth\": 0, \"ticks\": \"\"}, \"colorscale\": [[0.0, \"#0d0887\"], [0.1111111111111111, \"#46039f\"], [0.2222222222222222, \"#7201a8\"], [0.3333333333333333, \"#9c179e\"], [0.4444444444444444, \"#bd3786\"], [0.5555555555555556, \"#d8576b\"], [0.6666666666666666, \"#ed7953\"], [0.7777777777777778, \"#fb9f3a\"], [0.8888888888888888, \"#fdca26\"], [1.0, \"#f0f921\"]], \"type\": \"histogram2d\"}], \"histogram2dcontour\": [{\"colorbar\": {\"outlinewidth\": 0, \"ticks\": \"\"}, \"colorscale\": [[0.0, \"#0d0887\"], [0.1111111111111111, \"#46039f\"], [0.2222222222222222, \"#7201a8\"], [0.3333333333333333, \"#9c179e\"], [0.4444444444444444, \"#bd3786\"], [0.5555555555555556, \"#d8576b\"], [0.6666666666666666, \"#ed7953\"], [0.7777777777777778, \"#fb9f3a\"], [0.8888888888888888, \"#fdca26\"], [1.0, \"#f0f921\"]], \"type\": \"histogram2dcontour\"}], \"mesh3d\": [{\"colorbar\": {\"outlinewidth\": 0, \"ticks\": \"\"}, \"type\": \"mesh3d\"}], \"parcoords\": [{\"line\": {\"colorbar\": {\"outlinewidth\": 0, \"ticks\": \"\"}}, \"type\": \"parcoords\"}], \"pie\": [{\"automargin\": true, \"type\": \"pie\"}], \"scatter\": [{\"marker\": {\"colorbar\": {\"outlinewidth\": 0, \"ticks\": \"\"}}, \"type\": \"scatter\"}], \"scatter3d\": [{\"line\": {\"colorbar\": {\"outlinewidth\": 0, \"ticks\": \"\"}}, \"marker\": {\"colorbar\": {\"outlinewidth\": 0, \"ticks\": \"\"}}, \"type\": \"scatter3d\"}], \"scattercarpet\": [{\"marker\": {\"colorbar\": {\"outlinewidth\": 0, \"ticks\": \"\"}}, \"type\": \"scattercarpet\"}], \"scattergeo\": [{\"marker\": {\"colorbar\": {\"outlinewidth\": 0, \"ticks\": \"\"}}, \"type\": \"scattergeo\"}], \"scattergl\": [{\"marker\": {\"colorbar\": {\"outlinewidth\": 0, \"ticks\": \"\"}}, \"type\": \"scattergl\"}], \"scattermapbox\": [{\"marker\": {\"colorbar\": {\"outlinewidth\": 0, \"ticks\": \"\"}}, \"type\": \"scattermapbox\"}], \"scatterpolar\": [{\"marker\": {\"colorbar\": {\"outlinewidth\": 0, \"ticks\": \"\"}}, \"type\": \"scatterpolar\"}], \"scatterpolargl\": [{\"marker\": {\"colorbar\": {\"outlinewidth\": 0, \"ticks\": \"\"}}, \"type\": \"scatterpolargl\"}], \"scatterternary\": [{\"marker\": {\"colorbar\": {\"outlinewidth\": 0, \"ticks\": \"\"}}, \"type\": \"scatterternary\"}], \"surface\": [{\"colorbar\": {\"outlinewidth\": 0, \"ticks\": \"\"}, \"colorscale\": [[0.0, \"#0d0887\"], [0.1111111111111111, \"#46039f\"], [0.2222222222222222, \"#7201a8\"], [0.3333333333333333, \"#9c179e\"], [0.4444444444444444, \"#bd3786\"], [0.5555555555555556, \"#d8576b\"], [0.6666666666666666, \"#ed7953\"], [0.7777777777777778, \"#fb9f3a\"], [0.8888888888888888, \"#fdca26\"], [1.0, \"#f0f921\"]], \"type\": \"surface\"}], \"table\": [{\"cells\": {\"fill\": {\"color\": \"#EBF0F8\"}, \"line\": {\"color\": \"white\"}}, \"header\": {\"fill\": {\"color\": \"#C8D4E3\"}, \"line\": {\"color\": \"white\"}}, \"type\": \"table\"}]}, \"layout\": {\"annotationdefaults\": {\"arrowcolor\": \"#2a3f5f\", \"arrowhead\": 0, \"arrowwidth\": 1}, \"coloraxis\": {\"colorbar\": {\"outlinewidth\": 0, \"ticks\": \"\"}}, \"colorscale\": {\"diverging\": [[0, \"#8e0152\"], [0.1, \"#c51b7d\"], [0.2, \"#de77ae\"], [0.3, \"#f1b6da\"], [0.4, \"#fde0ef\"], [0.5, \"#f7f7f7\"], [0.6, \"#e6f5d0\"], [0.7, \"#b8e186\"], [0.8, \"#7fbc41\"], [0.9, \"#4d9221\"], [1, \"#276419\"]], \"sequential\": [[0.0, \"#0d0887\"], [0.1111111111111111, \"#46039f\"], [0.2222222222222222, \"#7201a8\"], [0.3333333333333333, \"#9c179e\"], [0.4444444444444444, \"#bd3786\"], [0.5555555555555556, \"#d8576b\"], [0.6666666666666666, \"#ed7953\"], [0.7777777777777778, \"#fb9f3a\"], [0.8888888888888888, \"#fdca26\"], [1.0, \"#f0f921\"]], \"sequentialminus\": [[0.0, \"#0d0887\"], [0.1111111111111111, \"#46039f\"], [0.2222222222222222, \"#7201a8\"], [0.3333333333333333, \"#9c179e\"], [0.4444444444444444, \"#bd3786\"], [0.5555555555555556, \"#d8576b\"], [0.6666666666666666, \"#ed7953\"], [0.7777777777777778, \"#fb9f3a\"], [0.8888888888888888, \"#fdca26\"], [1.0, \"#f0f921\"]]}, \"colorway\": [\"#636efa\", \"#EF553B\", \"#00cc96\", \"#ab63fa\", \"#FFA15A\", \"#19d3f3\", \"#FF6692\", \"#B6E880\", \"#FF97FF\", \"#FECB52\"], \"font\": {\"color\": \"#2a3f5f\"}, \"geo\": {\"bgcolor\": \"white\", \"lakecolor\": \"white\", \"landcolor\": \"#E5ECF6\", \"showlakes\": true, \"showland\": true, \"subunitcolor\": \"white\"}, \"hoverlabel\": {\"align\": \"left\"}, \"hovermode\": \"closest\", \"mapbox\": {\"style\": \"light\"}, \"paper_bgcolor\": \"white\", \"plot_bgcolor\": \"#E5ECF6\", \"polar\": {\"angularaxis\": {\"gridcolor\": \"white\", \"linecolor\": \"white\", \"ticks\": \"\"}, \"bgcolor\": \"#E5ECF6\", \"radialaxis\": {\"gridcolor\": \"white\", \"linecolor\": \"white\", \"ticks\": \"\"}}, \"scene\": {\"xaxis\": {\"backgroundcolor\": \"#E5ECF6\", \"gridcolor\": \"white\", \"gridwidth\": 2, \"linecolor\": \"white\", \"showbackground\": true, \"ticks\": \"\", \"zerolinecolor\": \"white\"}, \"yaxis\": {\"backgroundcolor\": \"#E5ECF6\", \"gridcolor\": \"white\", \"gridwidth\": 2, \"linecolor\": \"white\", \"showbackground\": true, \"ticks\": \"\", \"zerolinecolor\": \"white\"}, \"zaxis\": {\"backgroundcolor\": \"#E5ECF6\", \"gridcolor\": \"white\", \"gridwidth\": 2, \"linecolor\": \"white\", \"showbackground\": true, \"ticks\": \"\", \"zerolinecolor\": \"white\"}}, \"shapedefaults\": {\"line\": {\"color\": \"#2a3f5f\"}}, \"ternary\": {\"aaxis\": {\"gridcolor\": \"white\", \"linecolor\": \"white\", \"ticks\": \"\"}, \"baxis\": {\"gridcolor\": \"white\", \"linecolor\": \"white\", \"ticks\": \"\"}, \"bgcolor\": \"#E5ECF6\", \"caxis\": {\"gridcolor\": \"white\", \"linecolor\": \"white\", \"ticks\": \"\"}}, \"title\": {\"x\": 0.05}, \"xaxis\": {\"automargin\": true, \"gridcolor\": \"white\", \"linecolor\": \"white\", \"ticks\": \"\", \"title\": {\"standoff\": 15}, \"zerolinecolor\": \"white\", \"zerolinewidth\": 2}, \"yaxis\": {\"automargin\": true, \"gridcolor\": \"white\", \"linecolor\": \"white\", \"ticks\": \"\", \"title\": {\"standoff\": 15}, \"zerolinecolor\": \"white\", \"zerolinewidth\": 2}}}, \"xaxis\": {\"anchor\": \"y\", \"domain\": [0.0, 0.31999999999999995], \"title\": {\"text\": \"EnvironmentalAttitude\"}}, \"xaxis2\": {\"anchor\": \"y2\", \"domain\": [0.33999999999999997, 0.6599999999999999], \"matches\": \"x\", \"title\": {\"text\": \"EnvironmentalAttitude\"}}, \"xaxis3\": {\"anchor\": \"y3\", \"domain\": [0.6799999999999999, 0.9999999999999999], \"matches\": \"x\", \"title\": {\"text\": \"EnvironmentalAttitude\"}}, \"yaxis\": {\"anchor\": \"x\", \"domain\": [0.0, 1.0], \"title\": {\"text\": \"EVChoice\"}}, \"yaxis2\": {\"anchor\": \"x2\", \"domain\": [0.0, 1.0], \"matches\": \"y\", \"showticklabels\": false}, \"yaxis3\": {\"anchor\": \"x3\", \"domain\": [0.0, 1.0], \"matches\": \"y\", \"showticklabels\": false}},\n",
       "                        {\"responsive\": true}\n",
       "                    ).then(function(){\n",
       "                            \n",
       "var gd = document.getElementById('4bac4658-5c58-4d64-96ad-75f05195d5d4');\n",
       "var x = new MutationObserver(function (mutations, observer) {{\n",
       "        var display = window.getComputedStyle(gd).display;\n",
       "        if (!display || display === 'none') {{\n",
       "            console.log([gd, 'removed!']);\n",
       "            Plotly.purge(gd);\n",
       "            observer.disconnect();\n",
       "        }}\n",
       "}});\n",
       "\n",
       "// Listen for the removal of the full notebook cells\n",
       "var notebookContainer = gd.closest('#notebook-container');\n",
       "if (notebookContainer) {{\n",
       "    x.observe(notebookContainer, {childList: true});\n",
       "}}\n",
       "\n",
       "// Listen for the clearing of the current output cell\n",
       "var outputEl = gd.closest('.output');\n",
       "if (outputEl) {{\n",
       "    x.observe(outputEl, {childList: true});\n",
       "}}\n",
       "\n",
       "                        })\n",
       "                };\n",
       "                });\n",
       "            </script>\n",
       "        </div>"
      ]
     },
     "metadata": {},
     "output_type": "display_data"
    }
   ],
   "source": [
    "#print plot with plotly express\n",
    "fig = px.scatter(df, x=\"EnvironmentalAttitude\", y=\"EVChoice\", color=\"Sex\", marginal_y=\"violin\",marginal_x=\"box\")\n",
    "fig.show()\n",
    "\n",
    "fig2 = px.scatter(df, x=\"EnvironmentalAttitude\", y=\"EVChoice\", color=\"Attitude\", facet_col=\"Sex\",color_continuous_scale=px.colors.sequential.Viridis, render_mode=\"webgl\")\n",
    "fig2.show()"
   ]
  },
  {
   "cell_type": "code",
   "execution_count": null,
   "metadata": {},
   "outputs": [],
   "source": []
  }
 ],
 "metadata": {
  "kernelspec": {
   "display_name": "Python 3",
   "language": "python",
   "name": "python3"
  },
  "language_info": {
   "codemirror_mode": {
    "name": "ipython",
    "version": 3
   },
   "file_extension": ".py",
   "mimetype": "text/x-python",
   "name": "python",
   "nbconvert_exporter": "python",
   "pygments_lexer": "ipython3",
   "version": "3.7.4"
  }
 },
 "nbformat": 4,
 "nbformat_minor": 2
}

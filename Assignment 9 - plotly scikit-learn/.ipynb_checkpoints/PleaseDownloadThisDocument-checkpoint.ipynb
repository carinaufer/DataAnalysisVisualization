{
 "cells": [
  {
   "cell_type": "markdown",
   "metadata": {},
   "source": [
    "<h2 style=\"color:green\" align=\"center\">Data Analysis and Visualization with scikit learn and plotly</h2>\n",
    "\n"
   ]
  },
  {
   "cell_type": "markdown",
   "metadata": {},
   "source": [
    "**Double click and paste here the name of the path of the CSV file on your computer:**\n",
    "\n",
    "/Users/yourname/documents/master/programming/DataAnalysisVisualization/Dataset_AnaVis.csv"
   ]
  },
  {
   "cell_type": "markdown",
   "metadata": {},
   "source": [
    "**First:** make sure that all necessary libraries are installed in order that you can import them.\n",
    " <ol>\n",
    "  <li>Start Anaconda</li>\n",
    "  <li>Go to Environment</li>\n",
    "  <li>Select 'All' from dropdown top left</li>\n",
    "  <li>Search for pandas, numpy, scikit-learn, plotly (pandas & numpy should alreday be there)</li>\n",
    "  <li>If no ticke --> tick library and click 'Apply'</li>\n",
    "</ol> \n",
    "\n",
    "\n",
    "<h4 style=\"color:green\" >Ready to start importing the libs and our data</h4>\n"
   ]
  },
  {
   "cell_type": "markdown",
   "metadata": {},
   "source": [
    "<img src=\"Explanation1.png\"><img src=\"Explanation3.png\">"
   ]
  },
  {
   "cell_type": "code",
   "execution_count": null,
   "metadata": {
    "scrolled": true
   },
   "outputs": [],
   "source": [
    "import pandas as pd\n",
    "import numpy as np\n",
    "from sklearn import linear_model\n",
    "from sklearn.linear_model import LinearRegression\n",
    "import matplotlib.pyplot as plt\n",
    "import plotly.graph_objects as go\n",
    "import plotly.express as px\n",
    "# from plotly.offline import iplot (for offline graphics, not needed today)\n",
    "\n",
    "\n",
    "# Import CSV file by asking for imput path. \n",
    "# The CSV file should be saved in the same folder as this file and is called Dataset_AnaVis. Please enter 'Dataset_AnaVis.csv' or the whole path of your file when asked\n",
    "pth = input('Please enter the path of the CSV file')\n",
    "\n",
    "# specify structure of CSV  and import it as a pandas dataframe\n",
    "df = pd.read_csv(pth, delimiter=';', decimal=',',engine='python')\n",
    "\n",
    "df.head() # show first 6 lines\n",
    "\n"
   ]
  },
  {
   "cell_type": "markdown",
   "metadata": {},
   "source": [
    "<h3 style='color:green'>1. Short introduction: meaning of variables</h3>\n",
    "Just to give very short information of the data: Study on adoption of electrical vehicles as an innovation where one group was given additional information about electric vehicles (EV) (Group = 1) whereas the other group was given no information (Group = 2).\n",
    "<br></br>Note: Please be aware that this is the raw data, no outlier were excluded\n",
    "\n",
    "The empirical data are based on questionnairs on the **theorey of planned behavior (Ajzen, 1985)** shown below, and the **diffusion of innovation theory (Rogers & Shoemaker, 1971)** shown below and a behavioral paradigm on vehicle choice was executed.\n",
    "<img src=\"TPB_modified.png\" style='height:198px;width:300px'>\n",
    "<div style='font-size:10px'>Soure: https://www.researchgate.net/figure/Innovation-Diffusion-Theory-IDT-Rogers-1983_fig1_315416994 \\n<div>\n",
    "    <br></br>\n",
    "<img src=\"IDT_Rogers.png\" style='height:198px;width:300px'>\n",
    "<div style='font-size:10px'>Soure: https://www.researchgate.net/figure/A-modified-version-of-the-theory-of-planned-behaviour_fig2_241054757\\n<div>\n"
   ]
  },
  {
   "cell_type": "markdown",
   "metadata": {},
   "source": [
    "We need to delete cells with missing values (NA / NaN) because they are not well handled"
   ]
  },
  {
   "cell_type": "code",
   "execution_count": null,
   "metadata": {},
   "outputs": [],
   "source": [
    "df.dropna(inplace = True) #drop rows with missing values in the set directly\n",
    "df.head()"
   ]
  },
  {
   "cell_type": "markdown",
   "metadata": {},
   "source": [
    "Let's look on the datatypes of the imported variables "
   ]
  },
  {
   "cell_type": "code",
   "execution_count": null,
   "metadata": {},
   "outputs": [],
   "source": [
    "dataTypeSeries = df.dtypes #variable for datytpyes\n",
    "print(dataTypeSeries)"
   ]
  },
  {
   "cell_type": "markdown",
   "metadata": {},
   "source": [
    "If not the expected datatype, cast the variables to the right datatype to ensure numeric is treated as numeric / string as object (in case of df)"
   ]
  },
  {
   "cell_type": "code",
   "execution_count": null,
   "metadata": {
    "scrolled": true
   },
   "outputs": [],
   "source": [
    "#cast to correct datatype (for example sex as int), as we do not have big numbers Int32 / Float32 will be enough\n",
    "df['Sex'] = df['Sex'].astype('Int32')\n",
    "df['Group'] = df['Group'].astype('Int32')\n",
    "df['Age'] = df['Age'].astype('Int32')\n",
    "df['RelativeAdvantage'] = df['RelativeAdvantage'].astype('Float32')\n",
    "df['Complexity'] = df['Complexity'].astype('Float32')\n",
    "df['Compatibility'] = df['Compatibility'].astype('Float32')\n",
    "df['Attitude'] = df['Attitude'].astype('Float32')\n",
    "df['SubjectiveNormPeers'] = df['SubjectiveNormPeers'].astype('Float32')\n",
    "df['SubjectiveNormSociety'] = df['SubjectiveNormSociety'].astype('Float32')\n",
    "df['SubjectiveNormMedia'] = df['SubjectiveNormMedia'].astype('Float32')\n",
    "df['SubjectiveNormTotal'] = df['SubjectiveNormTotal'].astype('Float32')\n",
    "df['PerceivedMoralNorm'] = df['PerceivedMoralNorm'].astype('Float32')\n",
    "df['EnvironmentalAttitude'] = df['EnvironmentalAttitude'].astype('Float32')\n",
    "df['SelfEfficacy'] = df['SelfEfficacy'].astype('Float32')\n",
    "df['PurchaseInterest'] = df['PurchaseIntention'].astype('Float32')\n",
    "df['EVChoice'] = df['EVChoice'].astype('Int32')\n",
    "\n",
    "dataTypeSeries = df.dtypes #check result\n",
    "print(dataTypeSeries)\n"
   ]
  },
  {
   "cell_type": "markdown",
   "metadata": {},
   "source": [
    "### 2. Let's explore the data a little bit:\n",
    "\n",
    "\n"
   ]
  },
  {
   "cell_type": "code",
   "execution_count": null,
   "metadata": {},
   "outputs": [],
   "source": [
    "# Histogram of the age distribution\n",
    "figAge = px.histogram(df,x='Age', histfunc = 'sum')\n",
    "figAge.show() #show the figure directly \n",
    "\n",
    "\n",
    "# Displays environmental attitude along the age distribtuion\n",
    "figAgeEnv = px.scatter(df, x='Age', y='EnvironmentalAttitude')\n",
    "figAgeEnv.show()\n",
    "# also possible to show the plot in an html file\n",
    "# figAgeEnv.write_html('figAgeEnv.html', auto_open = True)\n",
    "\n",
    "# Environmental attitude in relation to attitude towards EV\n",
    "figPurchase = px.scatter(df, x='EnvironmentalAttitude', y='PurchaseIntention')\n",
    "figPurchase.show()\n",
    "\n",
    "\n"
   ]
  },
  {
   "cell_type": "code",
   "execution_count": null,
   "metadata": {},
   "outputs": [],
   "source": [
    "# it is possible to add a trendline for numerical data predicing with ordinary least squares\n",
    "figPurchase = px.scatter(df, x='EnvironmentalAttitude', y='PurchaseIntention', trendline='ols')\n",
    "figPurchase.show()\n",
    "\n"
   ]
  },
  {
   "cell_type": "markdown",
   "metadata": {},
   "source": [
    "<h3> 3. Let's do some theoretically based plotting</h3>"
   ]
  },
  {
   "cell_type": "code",
   "execution_count": null,
   "metadata": {},
   "outputs": [],
   "source": [
    "figRA = px.scatter(df, x='RelativeAdvantage', y='Attitude', trendline='ols')\n",
    "figRA.show()\n",
    "\n",
    "figComp = px.scatter(df, x='Complexity', y='Attitude', trendline='ols')\n",
    "figComp.show()\n",
    "\n",
    "#figCom = px.scatter(df, x='Compatibility', y='Attitude', trendline='ols', marginal_y='violin', marginal_x='violin')\n",
    "#figCom.show()\n",
    "\n",
    "# show different plots with same y-variable in one diagramm: first initiate single plots and stack together\n",
    "# trace1 = go.Scatter(x=df.RelativeAdvantage, y=df.Attitude, mode='markers', name='Relative Advantage')\n",
    "# trace2 = go.Scatter(x=df.Compatibility, y=df.Attitude, mode='markers', name='Compatibility')\n",
    "# trace3 = go.Scatter(x=df.Complexity, y=df.Attitude, mode='markers', name='Complexity')\n",
    "# figStacked = go.Figure([trace1, trace2, trace3])\n",
    "# figStacked.show()"
   ]
  },
  {
   "cell_type": "code",
   "execution_count": null,
   "metadata": {},
   "outputs": [],
   "source": [
    "# Compatibility predicting Attitude, grouped by group (1 = no info / 2 = info)\n",
    "figRA2 = px.scatter(df, x='Compatibility', y='Attitude', facet_col='Group', color='RelativeAdvantage', trendline='ols')\n",
    "figRA2.show()\n",
    "\n",
    "# perceived behavioral control predicitng purchase intention like in the theory of planned behavior\n",
    "# figAttiChoice = px.scatter(df, x='PerceivedBehavioralControl', y=\"PurchaseIntention\", color='Group', trendline='ols')\n",
    "# figAttiChoice.show()"
   ]
  },
  {
   "cell_type": "code",
   "execution_count": null,
   "metadata": {},
   "outputs": [],
   "source": [
    "# behavioral component electric vehicle choice depending on attitude / environmental attitide / subjective norm media\n",
    "figAttEV = px.histogram(df, x='Attitude', y=\"EVChoice\", histfunc='sum', color='Group')\n",
    "figAttEV.show()\n",
    "\n",
    "figEnvEV = px.histogram(df, x='EnvironmentalAttitude', y=\"EVChoice\", histfunc='sum', color='Group')\n",
    "figEnvEV.show()\n",
    "\n",
    "figNorm = px.histogram(df, x='SubjectiveNormMedia', y=\"EVChoice\", histfunc='sum', color='Group')\n",
    "figNorm.show()"
   ]
  },
  {
   "cell_type": "markdown",
   "metadata": {},
   "source": [
    "\n",
    "<h3> 4. Just some more data exploration<h3>\n"
   ]
  },
  {
   "cell_type": "code",
   "execution_count": null,
   "metadata": {},
   "outputs": [],
   "source": [
    "fig3 = px.scatter(df, x=\"EnvironmentalAttitude\", y=\"EVChoice\")\n",
    "fig3.show()\n",
    "\n",
    "fig4 = px.scatter(df, x=\"EnvironmentalAttitude\", y=\"EVChoice\", color=\"Sex\")\n",
    "fig4.show()\n",
    "\n",
    "fig5 = px.scatter(df, x=\"EnvironmentalAttitude\", y=\"EVChoice\", color=\"Sex\", marginal_y=\"violin\",marginal_x=\"box\")\n",
    "fig5.show()\n"
   ]
  },
  {
   "cell_type": "markdown",
   "metadata": {},
   "source": [
    "<h3> 4. Data analysis with scikit learn</h3>\n",
    "    \n",
    "<text>First we will explore linear regression:</text>\n",
    "We will need to transform our pandas dataframe to a numpy moredimensional array "
   ]
  },
  {
   "cell_type": "code",
   "execution_count": null,
   "metadata": {},
   "outputs": [],
   "source": [
    "npdf = df.to_numpy(copy=True)\n",
    "x = npdf[:,13].reshape(-1, 1)\n",
    "y = npdf[:,17].reshape(-1, 1)\n",
    "#print(x)\n",
    "#print('______________')\n",
    "#print(y)\n",
    "\n",
    "# apply linear regression to the data: predictor= column 13 (perceived behavioral control) predicting column 17 purchase intention\n",
    "lr = LinearRegression()\n",
    "lr.fit(x,y)\n",
    "y_pred = lr.predict(x)\n",
    "\n",
    "\n",
    "# plot with mathplotlib that looks not so nice\n",
    "plt.scatter(x, y)\n",
    "plt.plot(x, y_pred, color='red')\n",
    "plt.show()\n",
    "\n"
   ]
  },
  {
   "cell_type": "markdown",
   "metadata": {},
   "source": [
    "<h3> 5. Plot the linear regression with plotly</h3>"
   ]
  },
  {
   "cell_type": "code",
   "execution_count": null,
   "metadata": {},
   "outputs": [],
   "source": [
    "# we want to plot the data with plotly\n",
    "\n",
    "# we need to reshape the dimensions of our output data in oder to feed plotly with it\n",
    "y_pred_list = []\n",
    "x_list = []\n",
    "for i in range(x.shape[0]):\n",
    "    y_pred_list.append(y_pred[i,0])\n",
    "    x_list.append(x[i,0])\n",
    "    \n",
    "# create a dataframe of reshaped output columns\n",
    "d = {'X': x_list, 'Y Prediction': y_pred_list}\n",
    "df2= pd.DataFrame(data=d)\n",
    "df2\n",
    "\n",
    "# plot it with plotly\n",
    "fig = px.scatter(df2, x='X', y='Y Prediction',trendline='ols')\n",
    "fig.show()\n"
   ]
  },
  {
   "cell_type": "markdown",
   "metadata": {},
   "source": [
    "<h3> 6. Multiple regression predicting attitude with innovation properties</h3>"
   ]
  },
  {
   "cell_type": "code",
   "execution_count": null,
   "metadata": {},
   "outputs": [],
   "source": [
    "# initialize regression\n",
    "reg = linear_model.LinearRegression()\n",
    "\n",
    "# fill in parameters for the regression (predictors and criterion)\n",
    "reg.fit(df[['RelativeAdvantage','Complexity','Compatibility']],df.Attitude)"
   ]
  },
  {
   "cell_type": "code",
   "execution_count": null,
   "metadata": {},
   "outputs": [],
   "source": [
    "# show results and predict an attitude based on RA, Com, Compa\n",
    "\n",
    "print(reg.coef_)\n",
    "print(reg.intercept_)\n",
    "print(reg.predict([[5.6,2.1,4.5],[5.8,2.14,4.7]]))"
   ]
  },
  {
   "cell_type": "code",
   "execution_count": null,
   "metadata": {},
   "outputs": [],
   "source": []
  }
 ],
 "metadata": {
  "kernelspec": {
   "display_name": "Python 3",
   "language": "python",
   "name": "python3"
  },
  "language_info": {
   "codemirror_mode": {
    "name": "ipython",
    "version": 3
   },
   "file_extension": ".py",
   "mimetype": "text/x-python",
   "name": "python",
   "nbconvert_exporter": "python",
   "pygments_lexer": "ipython3",
   "version": "3.7.4"
  }
 },
 "nbformat": 4,
 "nbformat_minor": 2
}
